{
  "cells": [
    {
      "cell_type": "markdown",
      "metadata": {
        "id": "uG2gZSoSJD5C"
      },
      "source": [
        "# Accurate Integer Mathematics in Transformers - Analyse the Model\n",
        "\n",
        "This CoLab analyses a Transformer model that performs integer addition, subtraction and multiplication e.g. 133357+182243=+0315600, 123450-345670=-0123230 and 000345*000823=+283935. Each digit is a separate token. For 6 digit questions, the model is given 14 \"question\" (input) tokens, and must then predict the corresponding 8 \"answer\" (output) tokens."
      ]
    },
    {
      "cell_type": "markdown",
      "metadata": {
        "id": "FzkGrSqHJKqN"
      },
      "source": [
        "## Tips for using the Colab\n",
        " * You can run and alter the code in this CoLab notebook yourself in Google CoLab ( https://colab.research.google.com/ ).\n",
        " * To run the notebook, in Google CoLab, **you will need to** go to Runtime > Change Runtime Type and select GPU as the hardware accelerator.\n",
        " * Some graphs are interactive!\n",
        " * Use the table of contents pane in the sidebar to navigate.\n",
        " * Collapse irrelevant sections with the dropdown arrows.\n",
        " * Search the page using the search in the sidebar, not CTRL+F."
      ]
    },
    {
      "cell_type": "markdown",
      "metadata": {
        "id": "pTd3nmsMJV5T"
      },
      "source": [
        "# Part 0A: Import libraries\n",
        "Imports standard libraries. Don't bother reading."
      ]
    },
    {
      "cell_type": "code",
      "execution_count": 1,
      "metadata": {
        "colab": {
          "base_uri": "https://localhost:8080/"
        },
        "id": "cCdmr6-_Jkzi",
        "outputId": "62b7a014-60b6-4650-c7a9-4a6847b9bdbe"
      },
      "outputs": [
        {
          "output_type": "stream",
          "name": "stdout",
          "text": [
            "Running as a Colab notebook\n",
            "Requirement already satisfied: matplotlib in /usr/local/lib/python3.10/dist-packages (3.7.1)\n",
            "Requirement already satisfied: contourpy>=1.0.1 in /usr/local/lib/python3.10/dist-packages (from matplotlib) (1.2.0)\n",
            "Requirement already satisfied: cycler>=0.10 in /usr/local/lib/python3.10/dist-packages (from matplotlib) (0.12.1)\n",
            "Requirement already satisfied: fonttools>=4.22.0 in /usr/local/lib/python3.10/dist-packages (from matplotlib) (4.49.0)\n",
            "Requirement already satisfied: kiwisolver>=1.0.1 in /usr/local/lib/python3.10/dist-packages (from matplotlib) (1.4.5)\n",
            "Requirement already satisfied: numpy>=1.20 in /usr/local/lib/python3.10/dist-packages (from matplotlib) (1.25.2)\n",
            "Requirement already satisfied: packaging>=20.0 in /usr/local/lib/python3.10/dist-packages (from matplotlib) (24.0)\n",
            "Requirement already satisfied: pillow>=6.2.0 in /usr/local/lib/python3.10/dist-packages (from matplotlib) (9.4.0)\n",
            "Requirement already satisfied: pyparsing>=2.3.1 in /usr/local/lib/python3.10/dist-packages (from matplotlib) (3.1.2)\n",
            "Requirement already satisfied: python-dateutil>=2.7 in /usr/local/lib/python3.10/dist-packages (from matplotlib) (2.8.2)\n",
            "Requirement already satisfied: six>=1.5 in /usr/local/lib/python3.10/dist-packages (from python-dateutil>=2.7->matplotlib) (1.16.0)\n",
            "Collecting kaleido\n",
            "  Downloading kaleido-0.2.1-py2.py3-none-manylinux1_x86_64.whl (79.9 MB)\n",
            "\u001b[2K     \u001b[90m━━━━━━━━━━━━━━━━━━━━━━━━━━━━━━━━━━━━━━━━\u001b[0m \u001b[32m79.9/79.9 MB\u001b[0m \u001b[31m8.2 MB/s\u001b[0m eta \u001b[36m0:00:00\u001b[0m\n",
            "\u001b[?25hInstalling collected packages: kaleido\n",
            "Successfully installed kaleido-0.2.1\n",
            "Collecting transformer_lens\n",
            "  Downloading transformer_lens-1.14.0-py3-none-any.whl (122 kB)\n",
            "\u001b[2K     \u001b[90m━━━━━━━━━━━━━━━━━━━━━━━━━━━━━━━━━━━━━━━━\u001b[0m \u001b[32m122.9/122.9 kB\u001b[0m \u001b[31m4.4 MB/s\u001b[0m eta \u001b[36m0:00:00\u001b[0m\n",
            "\u001b[?25hCollecting accelerate>=0.23.0 (from transformer_lens)\n",
            "  Downloading accelerate-0.28.0-py3-none-any.whl (290 kB)\n",
            "\u001b[2K     \u001b[90m━━━━━━━━━━━━━━━━━━━━━━━━━━━━━━━━━━━━━━━━\u001b[0m \u001b[32m290.1/290.1 kB\u001b[0m \u001b[31m13.1 MB/s\u001b[0m eta \u001b[36m0:00:00\u001b[0m\n",
            "\u001b[?25hCollecting beartype<0.15.0,>=0.14.1 (from transformer_lens)\n",
            "  Downloading beartype-0.14.1-py3-none-any.whl (739 kB)\n",
            "\u001b[2K     \u001b[90m━━━━━━━━━━━━━━━━━━━━━━━━━━━━━━━━━━━━━━━━\u001b[0m \u001b[32m739.7/739.7 kB\u001b[0m \u001b[31m16.6 MB/s\u001b[0m eta \u001b[36m0:00:00\u001b[0m\n",
            "\u001b[?25hCollecting better-abc<0.0.4,>=0.0.3 (from transformer_lens)\n",
            "  Downloading better_abc-0.0.3-py3-none-any.whl (3.5 kB)\n",
            "Collecting datasets>=2.7.1 (from transformer_lens)\n",
            "  Downloading datasets-2.18.0-py3-none-any.whl (510 kB)\n",
            "\u001b[2K     \u001b[90m━━━━━━━━━━━━━━━━━━━━━━━━━━━━━━━━━━━━━━━━\u001b[0m \u001b[32m510.5/510.5 kB\u001b[0m \u001b[31m17.6 MB/s\u001b[0m eta \u001b[36m0:00:00\u001b[0m\n",
            "\u001b[?25hCollecting einops>=0.6.0 (from transformer_lens)\n",
            "  Downloading einops-0.7.0-py3-none-any.whl (44 kB)\n",
            "\u001b[2K     \u001b[90m━━━━━━━━━━━━━━━━━━━━━━━━━━━━━━━━━━━━━━━━\u001b[0m \u001b[32m44.6/44.6 kB\u001b[0m \u001b[31m7.2 MB/s\u001b[0m eta \u001b[36m0:00:00\u001b[0m\n",
            "\u001b[?25hCollecting fancy-einsum>=0.0.3 (from transformer_lens)\n",
            "  Downloading fancy_einsum-0.0.3-py3-none-any.whl (6.2 kB)\n",
            "Collecting jaxtyping>=0.2.11 (from transformer_lens)\n",
            "  Downloading jaxtyping-0.2.28-py3-none-any.whl (40 kB)\n",
            "\u001b[2K     \u001b[90m━━━━━━━━━━━━━━━━━━━━━━━━━━━━━━━━━━━━━━━━\u001b[0m \u001b[32m40.7/40.7 kB\u001b[0m \u001b[31m6.3 MB/s\u001b[0m eta \u001b[36m0:00:00\u001b[0m\n",
            "\u001b[?25hRequirement already satisfied: numpy>=1.24 in /usr/local/lib/python3.10/dist-packages (from transformer_lens) (1.25.2)\n",
            "Requirement already satisfied: pandas>=1.1.5 in /usr/local/lib/python3.10/dist-packages (from transformer_lens) (1.5.3)\n",
            "Requirement already satisfied: rich>=12.6.0 in /usr/local/lib/python3.10/dist-packages (from transformer_lens) (13.7.1)\n",
            "Requirement already satisfied: torch!=2.0,!=2.1.0,>=1.10 in /usr/local/lib/python3.10/dist-packages (from transformer_lens) (2.2.1+cu121)\n",
            "Requirement already satisfied: tqdm>=4.64.1 in /usr/local/lib/python3.10/dist-packages (from transformer_lens) (4.66.2)\n",
            "Requirement already satisfied: transformers>=4.34 in /usr/local/lib/python3.10/dist-packages (from transformer_lens) (4.38.2)\n",
            "Requirement already satisfied: typing-extensions in /usr/local/lib/python3.10/dist-packages (from transformer_lens) (4.10.0)\n",
            "Collecting wandb>=0.13.5 (from transformer_lens)\n",
            "  Downloading wandb-0.16.4-py3-none-any.whl (2.2 MB)\n",
            "\u001b[2K     \u001b[90m━━━━━━━━━━━━━━━━━━━━━━━━━━━━━━━━━━━━━━━━\u001b[0m \u001b[32m2.2/2.2 MB\u001b[0m \u001b[31m26.9 MB/s\u001b[0m eta \u001b[36m0:00:00\u001b[0m\n",
            "\u001b[?25hRequirement already satisfied: packaging>=20.0 in /usr/local/lib/python3.10/dist-packages (from accelerate>=0.23.0->transformer_lens) (24.0)\n",
            "Requirement already satisfied: psutil in /usr/local/lib/python3.10/dist-packages (from accelerate>=0.23.0->transformer_lens) (5.9.5)\n",
            "Requirement already satisfied: pyyaml in /usr/local/lib/python3.10/dist-packages (from accelerate>=0.23.0->transformer_lens) (6.0.1)\n",
            "Requirement already satisfied: huggingface-hub in /usr/local/lib/python3.10/dist-packages (from accelerate>=0.23.0->transformer_lens) (0.20.3)\n",
            "Requirement already satisfied: safetensors>=0.3.1 in /usr/local/lib/python3.10/dist-packages (from accelerate>=0.23.0->transformer_lens) (0.4.2)\n",
            "Requirement already satisfied: filelock in /usr/local/lib/python3.10/dist-packages (from datasets>=2.7.1->transformer_lens) (3.13.1)\n",
            "Requirement already satisfied: pyarrow>=12.0.0 in /usr/local/lib/python3.10/dist-packages (from datasets>=2.7.1->transformer_lens) (14.0.2)\n",
            "Requirement already satisfied: pyarrow-hotfix in /usr/local/lib/python3.10/dist-packages (from datasets>=2.7.1->transformer_lens) (0.6)\n",
            "Collecting dill<0.3.9,>=0.3.0 (from datasets>=2.7.1->transformer_lens)\n",
            "  Downloading dill-0.3.8-py3-none-any.whl (116 kB)\n",
            "\u001b[2K     \u001b[90m━━━━━━━━━━━━━━━━━━━━━━━━━━━━━━━━━━━━━━━━\u001b[0m \u001b[32m116.3/116.3 kB\u001b[0m \u001b[31m19.4 MB/s\u001b[0m eta \u001b[36m0:00:00\u001b[0m\n",
            "\u001b[?25hRequirement already satisfied: requests>=2.19.0 in /usr/local/lib/python3.10/dist-packages (from datasets>=2.7.1->transformer_lens) (2.31.0)\n",
            "Collecting xxhash (from datasets>=2.7.1->transformer_lens)\n",
            "  Downloading xxhash-3.4.1-cp310-cp310-manylinux_2_17_x86_64.manylinux2014_x86_64.whl (194 kB)\n",
            "\u001b[2K     \u001b[90m━━━━━━━━━━━━━━━━━━━━━━━━━━━━━━━━━━━━━━━━\u001b[0m \u001b[32m194.1/194.1 kB\u001b[0m \u001b[31m29.3 MB/s\u001b[0m eta \u001b[36m0:00:00\u001b[0m\n",
            "\u001b[?25hCollecting multiprocess (from datasets>=2.7.1->transformer_lens)\n",
            "  Downloading multiprocess-0.70.16-py310-none-any.whl (134 kB)\n",
            "\u001b[2K     \u001b[90m━━━━━━━━━━━━━━━━━━━━━━━━━━━━━━━━━━━━━━━━\u001b[0m \u001b[32m134.8/134.8 kB\u001b[0m \u001b[31m21.6 MB/s\u001b[0m eta \u001b[36m0:00:00\u001b[0m\n",
            "\u001b[?25hRequirement already satisfied: fsspec[http]<=2024.2.0,>=2023.1.0 in /usr/local/lib/python3.10/dist-packages (from datasets>=2.7.1->transformer_lens) (2023.6.0)\n",
            "Requirement already satisfied: aiohttp in /usr/local/lib/python3.10/dist-packages (from datasets>=2.7.1->transformer_lens) (3.9.3)\n",
            "Collecting typeguard==2.13.3 (from jaxtyping>=0.2.11->transformer_lens)\n",
            "  Downloading typeguard-2.13.3-py3-none-any.whl (17 kB)\n",
            "Requirement already satisfied: python-dateutil>=2.8.1 in /usr/local/lib/python3.10/dist-packages (from pandas>=1.1.5->transformer_lens) (2.8.2)\n",
            "Requirement already satisfied: pytz>=2020.1 in /usr/local/lib/python3.10/dist-packages (from pandas>=1.1.5->transformer_lens) (2023.4)\n",
            "Requirement already satisfied: markdown-it-py>=2.2.0 in /usr/local/lib/python3.10/dist-packages (from rich>=12.6.0->transformer_lens) (3.0.0)\n",
            "Requirement already satisfied: pygments<3.0.0,>=2.13.0 in /usr/local/lib/python3.10/dist-packages (from rich>=12.6.0->transformer_lens) (2.16.1)\n",
            "Requirement already satisfied: sympy in /usr/local/lib/python3.10/dist-packages (from torch!=2.0,!=2.1.0,>=1.10->transformer_lens) (1.12)\n",
            "Requirement already satisfied: networkx in /usr/local/lib/python3.10/dist-packages (from torch!=2.0,!=2.1.0,>=1.10->transformer_lens) (3.2.1)\n",
            "Requirement already satisfied: jinja2 in /usr/local/lib/python3.10/dist-packages (from torch!=2.0,!=2.1.0,>=1.10->transformer_lens) (3.1.3)\n",
            "Collecting nvidia-cuda-nvrtc-cu12==12.1.105 (from torch!=2.0,!=2.1.0,>=1.10->transformer_lens)\n",
            "  Downloading nvidia_cuda_nvrtc_cu12-12.1.105-py3-none-manylinux1_x86_64.whl (23.7 MB)\n",
            "\u001b[2K     \u001b[90m━━━━━━━━━━━━━━━━━━━━━━━━━━━━━━━━━━━━━━━━\u001b[0m \u001b[32m23.7/23.7 MB\u001b[0m \u001b[31m62.8 MB/s\u001b[0m eta \u001b[36m0:00:00\u001b[0m\n",
            "\u001b[?25hCollecting nvidia-cuda-runtime-cu12==12.1.105 (from torch!=2.0,!=2.1.0,>=1.10->transformer_lens)\n",
            "  Downloading nvidia_cuda_runtime_cu12-12.1.105-py3-none-manylinux1_x86_64.whl (823 kB)\n",
            "\u001b[2K     \u001b[90m━━━━━━━━━━━━━━━━━━━━━━━━━━━━━━━━━━━━━━━━\u001b[0m \u001b[32m823.6/823.6 kB\u001b[0m \u001b[31m66.9 MB/s\u001b[0m eta \u001b[36m0:00:00\u001b[0m\n",
            "\u001b[?25hCollecting nvidia-cuda-cupti-cu12==12.1.105 (from torch!=2.0,!=2.1.0,>=1.10->transformer_lens)\n",
            "  Downloading nvidia_cuda_cupti_cu12-12.1.105-py3-none-manylinux1_x86_64.whl (14.1 MB)\n",
            "\u001b[2K     \u001b[90m━━━━━━━━━━━━━━━━━━━━━━━━━━━━━━━━━━━━━━━━\u001b[0m \u001b[32m14.1/14.1 MB\u001b[0m \u001b[31m88.6 MB/s\u001b[0m eta \u001b[36m0:00:00\u001b[0m\n",
            "\u001b[?25hCollecting nvidia-cudnn-cu12==8.9.2.26 (from torch!=2.0,!=2.1.0,>=1.10->transformer_lens)\n",
            "  Downloading nvidia_cudnn_cu12-8.9.2.26-py3-none-manylinux1_x86_64.whl (731.7 MB)\n",
            "\u001b[2K     \u001b[90m━━━━━━━━━━━━━━━━━━━━━━━━━━━━━━━━━━━━━━━━\u001b[0m \u001b[32m731.7/731.7 MB\u001b[0m \u001b[31m2.4 MB/s\u001b[0m eta \u001b[36m0:00:00\u001b[0m\n",
            "\u001b[?25hCollecting nvidia-cublas-cu12==12.1.3.1 (from torch!=2.0,!=2.1.0,>=1.10->transformer_lens)\n",
            "  Downloading nvidia_cublas_cu12-12.1.3.1-py3-none-manylinux1_x86_64.whl (410.6 MB)\n",
            "\u001b[2K     \u001b[90m━━━━━━━━━━━━━━━━━━━━━━━━━━━━━━━━━━━━━━━━\u001b[0m \u001b[32m410.6/410.6 MB\u001b[0m \u001b[31m2.0 MB/s\u001b[0m eta \u001b[36m0:00:00\u001b[0m\n",
            "\u001b[?25hCollecting nvidia-cufft-cu12==11.0.2.54 (from torch!=2.0,!=2.1.0,>=1.10->transformer_lens)\n",
            "  Downloading nvidia_cufft_cu12-11.0.2.54-py3-none-manylinux1_x86_64.whl (121.6 MB)\n",
            "\u001b[2K     \u001b[90m━━━━━━━━━━━━━━━━━━━━━━━━━━━━━━━━━━━━━━━━\u001b[0m \u001b[32m121.6/121.6 MB\u001b[0m \u001b[31m8.2 MB/s\u001b[0m eta \u001b[36m0:00:00\u001b[0m\n",
            "\u001b[?25hCollecting nvidia-curand-cu12==10.3.2.106 (from torch!=2.0,!=2.1.0,>=1.10->transformer_lens)\n",
            "  Downloading nvidia_curand_cu12-10.3.2.106-py3-none-manylinux1_x86_64.whl (56.5 MB)\n",
            "\u001b[2K     \u001b[90m━━━━━━━━━━━━━━━━━━━━━━━━━━━━━━━━━━━━━━━━\u001b[0m \u001b[32m56.5/56.5 MB\u001b[0m \u001b[31m12.1 MB/s\u001b[0m eta \u001b[36m0:00:00\u001b[0m\n",
            "\u001b[?25hCollecting nvidia-cusolver-cu12==11.4.5.107 (from torch!=2.0,!=2.1.0,>=1.10->transformer_lens)\n",
            "  Downloading nvidia_cusolver_cu12-11.4.5.107-py3-none-manylinux1_x86_64.whl (124.2 MB)\n",
            "\u001b[2K     \u001b[90m━━━━━━━━━━━━━━━━━━━━━━━━━━━━━━━━━━━━━━━━\u001b[0m \u001b[32m124.2/124.2 MB\u001b[0m \u001b[31m8.4 MB/s\u001b[0m eta \u001b[36m0:00:00\u001b[0m\n",
            "\u001b[?25hCollecting nvidia-cusparse-cu12==12.1.0.106 (from torch!=2.0,!=2.1.0,>=1.10->transformer_lens)\n",
            "  Downloading nvidia_cusparse_cu12-12.1.0.106-py3-none-manylinux1_x86_64.whl (196.0 MB)\n",
            "\u001b[2K     \u001b[90m━━━━━━━━━━━━━━━━━━━━━━━━━━━━━━━━━━━━━━━━\u001b[0m \u001b[32m196.0/196.0 MB\u001b[0m \u001b[31m6.8 MB/s\u001b[0m eta \u001b[36m0:00:00\u001b[0m\n",
            "\u001b[?25hCollecting nvidia-nccl-cu12==2.19.3 (from torch!=2.0,!=2.1.0,>=1.10->transformer_lens)\n",
            "  Downloading nvidia_nccl_cu12-2.19.3-py3-none-manylinux1_x86_64.whl (166.0 MB)\n",
            "\u001b[2K     \u001b[90m━━━━━━━━━━━━━━━━━━━━━━━━━━━━━━━━━━━━━━━━\u001b[0m \u001b[32m166.0/166.0 MB\u001b[0m \u001b[31m2.2 MB/s\u001b[0m eta \u001b[36m0:00:00\u001b[0m\n",
            "\u001b[?25hCollecting nvidia-nvtx-cu12==12.1.105 (from torch!=2.0,!=2.1.0,>=1.10->transformer_lens)\n",
            "  Downloading nvidia_nvtx_cu12-12.1.105-py3-none-manylinux1_x86_64.whl (99 kB)\n",
            "\u001b[2K     \u001b[90m━━━━━━━━━━━━━━━━━━━━━━━━━━━━━━━━━━━━━━━━\u001b[0m \u001b[32m99.1/99.1 kB\u001b[0m \u001b[31m14.2 MB/s\u001b[0m eta \u001b[36m0:00:00\u001b[0m\n",
            "\u001b[?25hRequirement already satisfied: triton==2.2.0 in /usr/local/lib/python3.10/dist-packages (from torch!=2.0,!=2.1.0,>=1.10->transformer_lens) (2.2.0)\n",
            "Collecting nvidia-nvjitlink-cu12 (from nvidia-cusolver-cu12==11.4.5.107->torch!=2.0,!=2.1.0,>=1.10->transformer_lens)\n",
            "  Downloading nvidia_nvjitlink_cu12-12.4.99-py3-none-manylinux2014_x86_64.whl (21.1 MB)\n",
            "\u001b[2K     \u001b[90m━━━━━━━━━━━━━━━━━━━━━━━━━━━━━━━━━━━━━━━━\u001b[0m \u001b[32m21.1/21.1 MB\u001b[0m \u001b[31m79.7 MB/s\u001b[0m eta \u001b[36m0:00:00\u001b[0m\n",
            "\u001b[?25hRequirement already satisfied: regex!=2019.12.17 in /usr/local/lib/python3.10/dist-packages (from transformers>=4.34->transformer_lens) (2023.12.25)\n",
            "Requirement already satisfied: tokenizers<0.19,>=0.14 in /usr/local/lib/python3.10/dist-packages (from transformers>=4.34->transformer_lens) (0.15.2)\n",
            "Requirement already satisfied: Click!=8.0.0,>=7.1 in /usr/local/lib/python3.10/dist-packages (from wandb>=0.13.5->transformer_lens) (8.1.7)\n",
            "Collecting GitPython!=3.1.29,>=1.0.0 (from wandb>=0.13.5->transformer_lens)\n",
            "  Downloading GitPython-3.1.42-py3-none-any.whl (195 kB)\n",
            "\u001b[2K     \u001b[90m━━━━━━━━━━━━━━━━━━━━━━━━━━━━━━━━━━━━━━━━\u001b[0m \u001b[32m195.4/195.4 kB\u001b[0m \u001b[31m27.7 MB/s\u001b[0m eta \u001b[36m0:00:00\u001b[0m\n",
            "\u001b[?25hCollecting sentry-sdk>=1.0.0 (from wandb>=0.13.5->transformer_lens)\n",
            "  Downloading sentry_sdk-1.42.0-py2.py3-none-any.whl (263 kB)\n",
            "\u001b[2K     \u001b[90m━━━━━━━━━━━━━━━━━━━━━━━━━━━━━━━━━━━━━━━━\u001b[0m \u001b[32m263.5/263.5 kB\u001b[0m \u001b[31m34.6 MB/s\u001b[0m eta \u001b[36m0:00:00\u001b[0m\n",
            "\u001b[?25hCollecting docker-pycreds>=0.4.0 (from wandb>=0.13.5->transformer_lens)\n",
            "  Downloading docker_pycreds-0.4.0-py2.py3-none-any.whl (9.0 kB)\n",
            "Collecting setproctitle (from wandb>=0.13.5->transformer_lens)\n",
            "  Downloading setproctitle-1.3.3-cp310-cp310-manylinux_2_5_x86_64.manylinux1_x86_64.manylinux_2_17_x86_64.manylinux2014_x86_64.whl (30 kB)\n",
            "Requirement already satisfied: setuptools in /usr/local/lib/python3.10/dist-packages (from wandb>=0.13.5->transformer_lens) (67.7.2)\n",
            "Requirement already satisfied: appdirs>=1.4.3 in /usr/local/lib/python3.10/dist-packages (from wandb>=0.13.5->transformer_lens) (1.4.4)\n",
            "Requirement already satisfied: protobuf!=4.21.0,<5,>=3.19.0 in /usr/local/lib/python3.10/dist-packages (from wandb>=0.13.5->transformer_lens) (3.20.3)\n",
            "Requirement already satisfied: six>=1.4.0 in /usr/local/lib/python3.10/dist-packages (from docker-pycreds>=0.4.0->wandb>=0.13.5->transformer_lens) (1.16.0)\n",
            "Requirement already satisfied: aiosignal>=1.1.2 in /usr/local/lib/python3.10/dist-packages (from aiohttp->datasets>=2.7.1->transformer_lens) (1.3.1)\n",
            "Requirement already satisfied: attrs>=17.3.0 in /usr/local/lib/python3.10/dist-packages (from aiohttp->datasets>=2.7.1->transformer_lens) (23.2.0)\n",
            "Requirement already satisfied: frozenlist>=1.1.1 in /usr/local/lib/python3.10/dist-packages (from aiohttp->datasets>=2.7.1->transformer_lens) (1.4.1)\n",
            "Requirement already satisfied: multidict<7.0,>=4.5 in /usr/local/lib/python3.10/dist-packages (from aiohttp->datasets>=2.7.1->transformer_lens) (6.0.5)\n",
            "Requirement already satisfied: yarl<2.0,>=1.0 in /usr/local/lib/python3.10/dist-packages (from aiohttp->datasets>=2.7.1->transformer_lens) (1.9.4)\n",
            "Requirement already satisfied: async-timeout<5.0,>=4.0 in /usr/local/lib/python3.10/dist-packages (from aiohttp->datasets>=2.7.1->transformer_lens) (4.0.3)\n",
            "Collecting gitdb<5,>=4.0.1 (from GitPython!=3.1.29,>=1.0.0->wandb>=0.13.5->transformer_lens)\n",
            "  Downloading gitdb-4.0.11-py3-none-any.whl (62 kB)\n",
            "\u001b[2K     \u001b[90m━━━━━━━━━━━━━━━━━━━━━━━━━━━━━━━━━━━━━━━━\u001b[0m \u001b[32m62.7/62.7 kB\u001b[0m \u001b[31m9.4 MB/s\u001b[0m eta \u001b[36m0:00:00\u001b[0m\n",
            "\u001b[?25hRequirement already satisfied: mdurl~=0.1 in /usr/local/lib/python3.10/dist-packages (from markdown-it-py>=2.2.0->rich>=12.6.0->transformer_lens) (0.1.2)\n",
            "Requirement already satisfied: charset-normalizer<4,>=2 in /usr/local/lib/python3.10/dist-packages (from requests>=2.19.0->datasets>=2.7.1->transformer_lens) (3.3.2)\n",
            "Requirement already satisfied: idna<4,>=2.5 in /usr/local/lib/python3.10/dist-packages (from requests>=2.19.0->datasets>=2.7.1->transformer_lens) (3.6)\n",
            "Requirement already satisfied: urllib3<3,>=1.21.1 in /usr/local/lib/python3.10/dist-packages (from requests>=2.19.0->datasets>=2.7.1->transformer_lens) (2.0.7)\n",
            "Requirement already satisfied: certifi>=2017.4.17 in /usr/local/lib/python3.10/dist-packages (from requests>=2.19.0->datasets>=2.7.1->transformer_lens) (2024.2.2)\n",
            "Requirement already satisfied: MarkupSafe>=2.0 in /usr/local/lib/python3.10/dist-packages (from jinja2->torch!=2.0,!=2.1.0,>=1.10->transformer_lens) (2.1.5)\n",
            "Requirement already satisfied: mpmath>=0.19 in /usr/local/lib/python3.10/dist-packages (from sympy->torch!=2.0,!=2.1.0,>=1.10->transformer_lens) (1.3.0)\n",
            "Collecting smmap<6,>=3.0.1 (from gitdb<5,>=4.0.1->GitPython!=3.1.29,>=1.0.0->wandb>=0.13.5->transformer_lens)\n",
            "  Downloading smmap-5.0.1-py3-none-any.whl (24 kB)\n",
            "Installing collected packages: better-abc, xxhash, typeguard, smmap, setproctitle, sentry-sdk, nvidia-nvtx-cu12, nvidia-nvjitlink-cu12, nvidia-nccl-cu12, nvidia-curand-cu12, nvidia-cufft-cu12, nvidia-cuda-runtime-cu12, nvidia-cuda-nvrtc-cu12, nvidia-cuda-cupti-cu12, nvidia-cublas-cu12, fancy-einsum, einops, docker-pycreds, dill, beartype, nvidia-cusparse-cu12, nvidia-cudnn-cu12, multiprocess, jaxtyping, gitdb, nvidia-cusolver-cu12, GitPython, wandb, datasets, accelerate, transformer_lens\n",
            "Successfully installed GitPython-3.1.42 accelerate-0.28.0 beartype-0.14.1 better-abc-0.0.3 datasets-2.18.0 dill-0.3.8 docker-pycreds-0.4.0 einops-0.7.0 fancy-einsum-0.0.3 gitdb-4.0.11 jaxtyping-0.2.28 multiprocess-0.70.16 nvidia-cublas-cu12-12.1.3.1 nvidia-cuda-cupti-cu12-12.1.105 nvidia-cuda-nvrtc-cu12-12.1.105 nvidia-cuda-runtime-cu12-12.1.105 nvidia-cudnn-cu12-8.9.2.26 nvidia-cufft-cu12-11.0.2.54 nvidia-curand-cu12-10.3.2.106 nvidia-cusolver-cu12-11.4.5.107 nvidia-cusparse-cu12-12.1.0.106 nvidia-nccl-cu12-2.19.3 nvidia-nvjitlink-cu12-12.4.99 nvidia-nvtx-cu12-12.1.105 sentry-sdk-1.42.0 setproctitle-1.3.3 smmap-5.0.1 transformer_lens-1.14.0 typeguard-2.13.3 wandb-0.16.4 xxhash-3.4.1\n",
            "Collecting torchtyping\n",
            "  Downloading torchtyping-0.1.4-py3-none-any.whl (17 kB)\n",
            "Requirement already satisfied: torch>=1.7.0 in /usr/local/lib/python3.10/dist-packages (from torchtyping) (2.2.1+cu121)\n",
            "Requirement already satisfied: typeguard>=2.11.1 in /usr/local/lib/python3.10/dist-packages (from torchtyping) (2.13.3)\n",
            "Requirement already satisfied: filelock in /usr/local/lib/python3.10/dist-packages (from torch>=1.7.0->torchtyping) (3.13.1)\n",
            "Requirement already satisfied: typing-extensions>=4.8.0 in /usr/local/lib/python3.10/dist-packages (from torch>=1.7.0->torchtyping) (4.10.0)\n",
            "Requirement already satisfied: sympy in /usr/local/lib/python3.10/dist-packages (from torch>=1.7.0->torchtyping) (1.12)\n",
            "Requirement already satisfied: networkx in /usr/local/lib/python3.10/dist-packages (from torch>=1.7.0->torchtyping) (3.2.1)\n",
            "Requirement already satisfied: jinja2 in /usr/local/lib/python3.10/dist-packages (from torch>=1.7.0->torchtyping) (3.1.3)\n",
            "Requirement already satisfied: fsspec in /usr/local/lib/python3.10/dist-packages (from torch>=1.7.0->torchtyping) (2023.6.0)\n",
            "Requirement already satisfied: nvidia-cuda-nvrtc-cu12==12.1.105 in /usr/local/lib/python3.10/dist-packages (from torch>=1.7.0->torchtyping) (12.1.105)\n",
            "Requirement already satisfied: nvidia-cuda-runtime-cu12==12.1.105 in /usr/local/lib/python3.10/dist-packages (from torch>=1.7.0->torchtyping) (12.1.105)\n",
            "Requirement already satisfied: nvidia-cuda-cupti-cu12==12.1.105 in /usr/local/lib/python3.10/dist-packages (from torch>=1.7.0->torchtyping) (12.1.105)\n",
            "Requirement already satisfied: nvidia-cudnn-cu12==8.9.2.26 in /usr/local/lib/python3.10/dist-packages (from torch>=1.7.0->torchtyping) (8.9.2.26)\n",
            "Requirement already satisfied: nvidia-cublas-cu12==12.1.3.1 in /usr/local/lib/python3.10/dist-packages (from torch>=1.7.0->torchtyping) (12.1.3.1)\n",
            "Requirement already satisfied: nvidia-cufft-cu12==11.0.2.54 in /usr/local/lib/python3.10/dist-packages (from torch>=1.7.0->torchtyping) (11.0.2.54)\n",
            "Requirement already satisfied: nvidia-curand-cu12==10.3.2.106 in /usr/local/lib/python3.10/dist-packages (from torch>=1.7.0->torchtyping) (10.3.2.106)\n",
            "Requirement already satisfied: nvidia-cusolver-cu12==11.4.5.107 in /usr/local/lib/python3.10/dist-packages (from torch>=1.7.0->torchtyping) (11.4.5.107)\n",
            "Requirement already satisfied: nvidia-cusparse-cu12==12.1.0.106 in /usr/local/lib/python3.10/dist-packages (from torch>=1.7.0->torchtyping) (12.1.0.106)\n",
            "Requirement already satisfied: nvidia-nccl-cu12==2.19.3 in /usr/local/lib/python3.10/dist-packages (from torch>=1.7.0->torchtyping) (2.19.3)\n",
            "Requirement already satisfied: nvidia-nvtx-cu12==12.1.105 in /usr/local/lib/python3.10/dist-packages (from torch>=1.7.0->torchtyping) (12.1.105)\n",
            "Requirement already satisfied: triton==2.2.0 in /usr/local/lib/python3.10/dist-packages (from torch>=1.7.0->torchtyping) (2.2.0)\n",
            "Requirement already satisfied: nvidia-nvjitlink-cu12 in /usr/local/lib/python3.10/dist-packages (from nvidia-cusolver-cu12==11.4.5.107->torch>=1.7.0->torchtyping) (12.4.99)\n",
            "Requirement already satisfied: MarkupSafe>=2.0 in /usr/local/lib/python3.10/dist-packages (from jinja2->torch>=1.7.0->torchtyping) (2.1.5)\n",
            "Requirement already satisfied: mpmath>=0.19 in /usr/local/lib/python3.10/dist-packages (from sympy->torch>=1.7.0->torchtyping) (1.3.0)\n",
            "Installing collected packages: torchtyping\n",
            "Successfully installed torchtyping-0.1.4\n",
            "Requirement already satisfied: transformers in /usr/local/lib/python3.10/dist-packages (4.38.2)\n",
            "Requirement already satisfied: filelock in /usr/local/lib/python3.10/dist-packages (from transformers) (3.13.1)\n",
            "Requirement already satisfied: huggingface-hub<1.0,>=0.19.3 in /usr/local/lib/python3.10/dist-packages (from transformers) (0.20.3)\n",
            "Requirement already satisfied: numpy>=1.17 in /usr/local/lib/python3.10/dist-packages (from transformers) (1.25.2)\n",
            "Requirement already satisfied: packaging>=20.0 in /usr/local/lib/python3.10/dist-packages (from transformers) (24.0)\n",
            "Requirement already satisfied: pyyaml>=5.1 in /usr/local/lib/python3.10/dist-packages (from transformers) (6.0.1)\n",
            "Requirement already satisfied: regex!=2019.12.17 in /usr/local/lib/python3.10/dist-packages (from transformers) (2023.12.25)\n",
            "Requirement already satisfied: requests in /usr/local/lib/python3.10/dist-packages (from transformers) (2.31.0)\n",
            "Requirement already satisfied: tokenizers<0.19,>=0.14 in /usr/local/lib/python3.10/dist-packages (from transformers) (0.15.2)\n",
            "Requirement already satisfied: safetensors>=0.4.1 in /usr/local/lib/python3.10/dist-packages (from transformers) (0.4.2)\n",
            "Requirement already satisfied: tqdm>=4.27 in /usr/local/lib/python3.10/dist-packages (from transformers) (4.66.2)\n",
            "Requirement already satisfied: fsspec>=2023.5.0 in /usr/local/lib/python3.10/dist-packages (from huggingface-hub<1.0,>=0.19.3->transformers) (2023.6.0)\n",
            "Requirement already satisfied: typing-extensions>=3.7.4.3 in /usr/local/lib/python3.10/dist-packages (from huggingface-hub<1.0,>=0.19.3->transformers) (4.10.0)\n",
            "Requirement already satisfied: charset-normalizer<4,>=2 in /usr/local/lib/python3.10/dist-packages (from requests->transformers) (3.3.2)\n",
            "Requirement already satisfied: idna<4,>=2.5 in /usr/local/lib/python3.10/dist-packages (from requests->transformers) (3.6)\n",
            "Requirement already satisfied: urllib3<3,>=1.21.1 in /usr/local/lib/python3.10/dist-packages (from requests->transformers) (2.0.7)\n",
            "Requirement already satisfied: certifi>=2017.4.17 in /usr/local/lib/python3.10/dist-packages (from requests->transformers) (2024.2.2)\n",
            "Requirement already satisfied: numpy in /usr/local/lib/python3.10/dist-packages (1.25.2)\n",
            "Requirement already satisfied: scikit-learn in /usr/local/lib/python3.10/dist-packages (1.2.2)\n",
            "Requirement already satisfied: numpy>=1.17.3 in /usr/local/lib/python3.10/dist-packages (from scikit-learn) (1.25.2)\n",
            "Requirement already satisfied: scipy>=1.3.2 in /usr/local/lib/python3.10/dist-packages (from scikit-learn) (1.11.4)\n",
            "Requirement already satisfied: joblib>=1.1.1 in /usr/local/lib/python3.10/dist-packages (from scikit-learn) (1.3.2)\n",
            "Requirement already satisfied: threadpoolctl>=2.0.0 in /usr/local/lib/python3.10/dist-packages (from scikit-learn) (3.3.0)\n"
          ]
        }
      ],
      "source": [
        "DEVELOPMENT_MODE = True\n",
        "try:\n",
        "    import google.colab\n",
        "    IN_COLAB = True\n",
        "    print(\"Running as a Colab notebook\")\n",
        "\n",
        "    !pip install matplotlib\n",
        "\n",
        "    !pip install kaleido\n",
        "    !pip install transformer_lens\n",
        "    !pip install torchtyping\n",
        "    !pip install transformers\n",
        "\n",
        "    !pip install numpy\n",
        "    !pip install scikit-learn\n",
        "\n",
        "except:\n",
        "    IN_COLAB = False\n",
        "    print(\"Running as a Jupyter notebook - intended for development only!\")\n",
        "    from IPython import get_ipython\n",
        "\n",
        "    ipython = get_ipython()\n",
        "    # Code to automatically update the HookedTransformer code as its edited without restarting the kernel\n",
        "    ipython.magic(\"load_ext autoreload\")\n",
        "    ipython.magic(\"autoreload 2\")"
      ]
    },
    {
      "cell_type": "code",
      "execution_count": 2,
      "metadata": {
        "colab": {
          "base_uri": "https://localhost:8080/"
        },
        "id": "Up2QLAZLJnG9",
        "outputId": "ac6ea407-f82b-4205-b9e4-62559f9ba9dc"
      },
      "outputs": [
        {
          "output_type": "stream",
          "name": "stdout",
          "text": [
            "Using renderer: colab\n"
          ]
        }
      ],
      "source": [
        "# Plotly needs a different renderer for VSCode/Notebooks vs Colab argh\n",
        "import kaleido\n",
        "import plotly.io as pio\n",
        "\n",
        "if IN_COLAB or not DEVELOPMENT_MODE:\n",
        "    pio.renderers.default = \"colab\"\n",
        "else:\n",
        "    pio.renderers.default = \"notebook_connected\"\n",
        "print(f\"Using renderer: {pio.renderers.default}\")"
      ]
    },
    {
      "cell_type": "code",
      "execution_count": 3,
      "metadata": {
        "id": "ve-TndERJoaJ"
      },
      "outputs": [],
      "source": [
        "pio.templates['plotly'].layout.xaxis.title.font.size = 20\n",
        "pio.templates['plotly'].layout.yaxis.title.font.size = 20\n",
        "pio.templates['plotly'].layout.title.font.size = 30"
      ]
    },
    {
      "cell_type": "code",
      "execution_count": 4,
      "metadata": {
        "id": "_6zOEFryJqGN"
      },
      "outputs": [],
      "source": [
        "import json\n",
        "import torch\n",
        "import torch.nn.functional as F\n",
        "import numpy as np\n",
        "import random\n",
        "import itertools\n",
        "import re\n",
        "from enum import Enum"
      ]
    },
    {
      "cell_type": "code",
      "execution_count": 5,
      "metadata": {
        "id": "d6TE7A9SxySA"
      },
      "outputs": [],
      "source": [
        "import matplotlib.pyplot as plt\n",
        "import matplotlib.colors as mcolors\n",
        "import textwrap"
      ]
    },
    {
      "cell_type": "code",
      "execution_count": 6,
      "metadata": {
        "id": "f8VQ4e0QJsIB"
      },
      "outputs": [],
      "source": [
        "import transformer_lens\n",
        "import transformer_lens.utils as utils\n",
        "from transformer_lens.hook_points import (\n",
        "    HookedRootModule,\n",
        "    HookPoint,\n",
        ")  # Hooking utilities\n",
        "from transformer_lens import HookedTransformer, HookedTransformerConfig, FactoredMatrix, ActivationCache\n"
      ]
    },
    {
      "cell_type": "code",
      "execution_count": 7,
      "metadata": {
        "id": "gUt2mMzFj7eA"
      },
      "outputs": [],
      "source": [
        "# Import Principal Component Analysis (PCA) library\n",
        "use_pca = True\n",
        "try:\n",
        "  from sklearn.decomposition import PCA\n",
        "except Exception as e:\n",
        "  print(\"pca import failed with exception:\", e)\n",
        "  use_pca = False\n",
        "\n",
        "  # Sometimes version conflicts means the PCA library does not import. This workaround partially fixes the issue\n",
        "  !pip install --upgrade numpy\n",
        "  !pip install --upgrade scikit-learn\n",
        "\n",
        "  # To complete workaround, now select menu option \"Runtime > Restart session and run all\".\n",
        "  stop"
      ]
    },
    {
      "cell_type": "markdown",
      "metadata": {
        "id": "kQlQPB78lJnc"
      },
      "source": [
        "# Part 0C: Import verified_transformers library\n",
        "\n",
        "Refer https://github.com/PhilipQuirke/verified_transformers/blob/main/README.md"
      ]
    },
    {
      "cell_type": "code",
      "execution_count": 8,
      "metadata": {
        "colab": {
          "base_uri": "https://localhost:8080/"
        },
        "id": "_2P3cndolKDM",
        "outputId": "09b89c69-6b79-4f89-e3f3-c7107b9be5f2"
      },
      "outputs": [
        {
          "output_type": "stream",
          "name": "stdout",
          "text": [
            "Collecting git+https://github.com/PhilipQuirke/verified_transformers.git\n",
            "  Cloning https://github.com/PhilipQuirke/verified_transformers.git to /tmp/pip-req-build-dyqt_hay\n",
            "  Running command git clone --filter=blob:none --quiet https://github.com/PhilipQuirke/verified_transformers.git /tmp/pip-req-build-dyqt_hay\n",
            "  Resolved https://github.com/PhilipQuirke/verified_transformers.git to commit 0889961298ef708eb40a7f9dbc3321cfbb1639f1\n",
            "  Preparing metadata (setup.py) ... \u001b[?25l\u001b[?25hdone\n",
            "Requirement already satisfied: numpy>=1.18.1 in /usr/local/lib/python3.10/dist-packages (from QuantaTools==0.1) (1.25.2)\n",
            "Building wheels for collected packages: QuantaTools\n",
            "  Building wheel for QuantaTools (setup.py) ... \u001b[?25l\u001b[?25hdone\n",
            "  Created wheel for QuantaTools: filename=QuantaTools-0.1-py3-none-any.whl size=37765 sha256=879a3259b825a97151914f4847cbea8f33427eb941aa66698a499bd8c4ec6942\n",
            "  Stored in directory: /tmp/pip-ephem-wheel-cache-30g9chry/wheels/08/5c/b6/f02e46eb3b254e4572204214b92209ffbe2d0d4a5a61d3adb1\n",
            "Successfully built QuantaTools\n",
            "Installing collected packages: QuantaTools\n",
            "Successfully installed QuantaTools-0.1\n"
          ]
        }
      ],
      "source": [
        "!pip install --upgrade git+https://github.com/PhilipQuirke/verified_transformers.git\n",
        "from QuantaTools import ( token_to_char, tokens_to_string, logits_to_tokens_loss, loss_fn,\n",
        "  position_name, NodeLocation, UsefulNode, UsefulNodeList, str_to_node_location, answer_name )\n",
        "\n",
        "from QuantaTools import ( QuantaFilter, QuantaType, NO_IMPACT_TAG,\n",
        "  FilterNode, FilterAnd, FilterOr, FilterHead, FilterNeuron, FilterContains, FilterPosition, FilterAttention, FilterImpact, FilterPCA, FilterAlgo, filter_nodes,\n",
        "  get_answer_impact, get_quanta_impact, calc_quanta_map, get_quanta_fail_perc, get_quanta_attention, get_quanta_binary, test_questions_and_add_node_attention_tags )\n",
        "\n",
        "from QuantaTools import ( acfg, a_put_resid_post_hook, a_set_ablate_hooks, a_calc_mean_values, a_predict_questions, a_run_attention_intervention, search_and_tag )\n",
        "\n",
        "from QuantaTools import ( MathsConfig, MathsTokens, MathsBehavior, MathsAlgorithm, set_maths_vocabulary, set_maths_question_meanings,\n",
        "  int_to_answer_str, get_maths_min_complexity, maths_data_generator, maths_data_generator_core, make_maths_questions_and_answers,\n",
        "  make_maths_test_questions_and_answers, test_maths_questions_by_complexity, test_maths_questions_by_impact, test_maths_questions_and_add_useful_node_tags,\n",
        "  TRICASE_QUESTIONS, make_maths_tricase_questions )"
      ]
    },
    {
      "cell_type": "markdown",
      "metadata": {
        "id": "aQNjIosyX9Y-"
      },
      "source": [
        "# Part 1A: Configuration: Detailed"
      ]
    },
    {
      "cell_type": "code",
      "execution_count": 9,
      "metadata": {
        "id": "HmjGdFcdJat3"
      },
      "outputs": [],
      "source": [
        "# Main configuration class for main model creation and training.\n",
        "# Derived from MathsConfig > UsefulConfig > ModelConfig\n",
        "# Singleton class instance\n",
        "cfg = MathsConfig()"
      ]
    },
    {
      "cell_type": "markdown",
      "metadata": {
        "id": "ldGPkaokJQM5"
      },
      "source": [
        "# Part 1B: Configuration: Summary\n",
        "\n",
        "Which existing model do we want to analyse?\n",
        "\n",
        "The existing model weightings created by the sister Colab [VerifiedArithmeticTrain](https://github.com/PhilipQuirke/transformer-maths/blob/main/assets/VerifiedArithmeticTrain.ipynb) are loaded from HuggingFace."
      ]
    },
    {
      "cell_type": "code",
      "execution_count": 10,
      "metadata": {
        "id": "O1DXZQ2E6yAi"
      },
      "outputs": [],
      "source": [
        "# Which existing model do we want to analyse?\n",
        "# cfg.model_name = \"\" # Use configuration specified in Part 1A\n",
        "# cfg.model_name = \"add_d5_l1_h3_t30K\"  # 5 digit addition model. Inaccurate as only has one layer. Can predict S0, S1 and S2 complexity questions\n",
        "# cfg.model_name = \"add_d5_l2_h3_t15K\"  # 5 digit addition model\n",
        "cfg.model_name = \"add_d6_l2_h3_t15K\"  # 6 digit addition model\n",
        "# cfg.model_name = \"sub_d6_l2_h3_t30K\"  # 6 digit subtraction model\n",
        "# cfg.model_name = \"mix_d6_l3_h4_t40K\"  # 6 digit addition and subtraction model. AvgFinalLoss=8e-09\n",
        "# cfg.model_name = \"ins1_mix_d6_l3_h4_t40K\"  # 6 digit addition / subtraction model. Initialise with addition model. Handles 1m Qs for Add and Sub\n",
        "# cfg.model_name = \"ins2_mix_d6_l4_h4_t40K\"  # 6 digit addition / subtraction model. Initialised with addition model. Reset useful heads every 100 epochs. AvgFinalLoss=7e-09. Fails 1m Qs\n",
        "# cfg.model_name = \"ins3_mix_d6_l4_h3_t40K\"  # 6 digit addition / subtraction model. Initialised with addition model. Reset useful heads & MLPs every 100 epochs. AvgFinalLoss=2.6e-06. Fails 1m Qs"
      ]
    },
    {
      "cell_type": "markdown",
      "metadata": {
        "id": "F_IIpX2H2tNe"
      },
      "source": [
        "# Part 1C: Configuration: Input and Output file names\n",
        "\n"
      ]
    },
    {
      "cell_type": "code",
      "execution_count": 11,
      "metadata": {
        "id": "B5BiELcf53ms"
      },
      "outputs": [],
      "source": [
        "if cfg.model_name != \"\":\n",
        "  # Update cfg member data n_digits, n_layers, n_heads, n_training_steps from model_name\n",
        "  cfg.parse_model_name()\n",
        "\n",
        "  cfg.perc_sub = 0\n",
        "  if cfg.model_name.startswith(\"sub_\") :\n",
        "    cfg.perc_sub = 100\n",
        "\n",
        "  elif cfg.model_name == \"mix_d6_l3_h4_t40K\" :\n",
        "    cfg.batch_size = 256\n",
        "    cfg.perc_sub = 66 # Train on 66% subtraction and 33% addition question batches\n",
        "\n",
        "  elif cfg.model_name == \"ins1_mix_d6_l3_h4_t40K\" :\n",
        "    cfg.batch_size = 256\n",
        "    cfg.perc_sub = 80 # Train on 80% subtraction and 20% addition question batches\n",
        "    # Initialise with add_d6_l2_h3_t15K.pth.\n",
        "\n",
        "  elif cfg.model_name == \"ins2_mix_d6_l4_h4_t40K\" :\n",
        "    cfg.batch_size = 256\n",
        "    cfg.perc_sub = 80 # Train on 80% subtraction and 20% addition question batches\n",
        "    # Initialise with add_d6_l2_h3_t15K.pth. Train & reset useful heads every 100 epochs\n",
        "\n",
        "  elif cfg.model_name == \"ins3_mix_d6_l4_h3_t40K\" :\n",
        "    cfg.batch_size = 256\n",
        "    cfg.perc_sub = 80 # Train on 80% subtraction and 20% addition question batches\n",
        "    # Initialise with add_d6_l2_h3_t15K.pth. Trained & reset useful heads & MLPs every 100 epochs"
      ]
    },
    {
      "cell_type": "code",
      "execution_count": 12,
      "metadata": {
        "colab": {
          "base_uri": "https://localhost:8080/"
        },
        "id": "n0DJkn5l2gq3",
        "outputId": "ea3ae72e-972a-4559-8a81-f71dda0c58e7"
      },
      "outputs": [
        {
          "output_type": "stream",
          "name": "stdout",
          "text": [
            "%Mult= 0 %Sub= 0 %Add= 100 File add_d6_l2_h3_t15K_s372001\n",
            "Main model will be read from HuggingLab file add_d6_l2_h3_t15K_s372001.pth\n",
            "Main model behavior analysis tags will save to Colab temporary file add_d6_l2_h3_t15K_s372001_behavior.json\n",
            "Main model algorithm analysis tags will save to Colab temporary file add_d6_l2_h3_t15K_s372001_algorithm.json\n"
          ]
        }
      ],
      "source": [
        "main_fname = cfg.file_config_prefix()\n",
        "main_fname_pth = main_fname + '.pth'\n",
        "main_fname_behavior_json = main_fname + '_behavior.json'\n",
        "main_fname_algorithm_json = main_fname + '_algorithm.json'\n",
        "\n",
        "def print_config():\n",
        "  print(\"%Mult=\", cfg.perc_mult, \"%Sub=\", cfg.perc_sub, \"%Add=\", cfg.perc_add(), \"File\", main_fname)\n",
        "\n",
        "print_config()\n",
        "print('Main model will be read from HuggingLab file', main_fname_pth)\n",
        "print('Main model behavior analysis tags will save to Colab temporary file', main_fname_behavior_json)\n",
        "print('Main model algorithm analysis tags will save to Colab temporary file', main_fname_algorithm_json)"
      ]
    },
    {
      "cell_type": "markdown",
      "metadata": {
        "id": "P8RfHXneJw6n"
      },
      "source": [
        "# Part 3A: Set Up: Vocabulary / Embedding / Unembedding\n",
        "\n",
        "  "
      ]
    },
    {
      "cell_type": "code",
      "execution_count": 13,
      "metadata": {
        "colab": {
          "base_uri": "https://localhost:8080/"
        },
        "id": "WeObQk2kzAv7",
        "outputId": "1e0ccf02-beb4-464b-bf0c-c253560cf0d8"
      },
      "outputs": [
        {
          "output_type": "stream",
          "name": "stdout",
          "text": [
            "['D5', 'D4', 'D3', 'D2', 'D1', 'D0', 'Op', \"D'5\", \"D'4\", \"D'3\", \"D'2\", \"D'1\", \"D'0\", '=', 'A7', 'A6', 'A5', 'A4', 'A3', 'A2', 'A1', 'A0']\n"
          ]
        }
      ],
      "source": [
        "set_maths_vocabulary(cfg)\n",
        "set_maths_question_meanings(cfg)\n",
        "print(cfg.token_position_meanings)"
      ]
    },
    {
      "cell_type": "markdown",
      "metadata": {
        "id": "tz6rUaYvjOcE"
      },
      "source": [
        "# Part 3B: Set Up: Create model"
      ]
    },
    {
      "cell_type": "code",
      "execution_count": 14,
      "metadata": {
        "id": "lA16Nb2PJ7MB"
      },
      "outputs": [],
      "source": [
        "# Transformer creation\n",
        "\n",
        "# Structure is documented at https://neelnanda-io.github.io/TransformerLens/transformer_lens.html#transformer_lens.HookedTransformerConfig.HookedTransformerConfig\n",
        "ht_cfg = HookedTransformerConfig(\n",
        "    n_layers = cfg.n_layers,\n",
        "    n_heads = cfg.n_heads,\n",
        "    d_model = cfg.d_model,\n",
        "    d_head = cfg.d_head,\n",
        "    d_mlp = cfg.d_mlp(),\n",
        "    act_fn = cfg.act_fn,\n",
        "    normalization_type = 'LN',\n",
        "    d_vocab = cfg.d_vocab,\n",
        "    d_vocab_out = cfg.d_vocab,\n",
        "    n_ctx = cfg.n_ctx(),\n",
        "    init_weights = True,\n",
        "    device = \"cuda\",\n",
        "    seed = cfg.training_seed,\n",
        ")\n",
        "\n",
        "cfg.main_model = HookedTransformer(ht_cfg)"
      ]
    },
    {
      "cell_type": "markdown",
      "metadata": {
        "id": "ZHiJhch4KCej"
      },
      "source": [
        "# Part 4: Set Up: Loss Function & Data Generator\n",
        "This maths loss function and data generator are imported from QuantaTools as logits_to_tokens_loss, loss_fn, maths_data_generator_core and maths_data_generator."
      ]
    },
    {
      "cell_type": "code",
      "execution_count": 15,
      "metadata": {
        "id": "BqzljhQ4KJU5"
      },
      "outputs": [],
      "source": [
        "# Define \"iterator\" maths \"questions\" data generator function. Invoked using next().\n",
        "ds = maths_data_generator( cfg )"
      ]
    },
    {
      "cell_type": "code",
      "execution_count": 16,
      "metadata": {
        "colab": {
          "base_uri": "https://localhost:8080/"
        },
        "id": "YtmioT1THbJA",
        "outputId": "4cc81bd5-8fb6-4dc9-9c12-c8c5a59eb220"
      },
      "outputs": [
        {
          "output_type": "stream",
          "name": "stdout",
          "text": [
            "tensor([[ 4,  9,  7,  0,  1,  8, 10,  5,  6,  2,  1,  0,  3, 12, 10,  8,  9,  4,\n",
            "          0,  8,  7,  9],\n",
            "        [ 9,  2,  8,  9,  9,  4, 10,  5,  5,  9,  6,  2,  1, 12, 10,  8,  5,  1,\n",
            "          1,  3,  8,  5],\n",
            "        [ 5,  8,  9,  8,  9,  3, 10,  8,  1,  1,  9,  9,  8, 12, 10,  8,  5,  9,\n",
            "          8,  1,  0,  9]], device='cuda:0')\n"
          ]
        }
      ],
      "source": [
        "# Generate sample data generator (unit test)\n",
        "print(next(ds)[:3,:])"
      ]
    },
    {
      "cell_type": "markdown",
      "metadata": {
        "id": "-KJhCxFtNKfm"
      },
      "source": [
        "# Part 5: Set Up: Load Model from HuggingFace"
      ]
    },
    {
      "cell_type": "code",
      "execution_count": 17,
      "metadata": {
        "colab": {
          "base_uri": "https://localhost:8080/",
          "height": 0,
          "referenced_widgets": [
            "e033890c0e0747d9844973ba80c1e259",
            "13eef863be314a399805740ab5b75925",
            "7e5bba78b0df45b4974727b81927eca1",
            "f5df73eb116a49b58090655b1584e2fe",
            "a74ded83f0bc417cafb611f3549cfb99",
            "541de521a19942668c75c0d88fc4ec13",
            "56a67172030a4474a377bdf486c00e00",
            "0e9e65e0084f4ffeaa9beaccf5abacf4",
            "e0dddc768a474bd7a6e4f1a66d5205cf",
            "22745fa44d014e2fb82fd0730d7cf169",
            "42c66b3d82ab40a38b05b6fe0d10ad13"
          ]
        },
        "id": "fRMkB_8GNRc0",
        "outputId": "03ed8af3-c3e7-4a7a-8eb5-bda3ea7abef7"
      },
      "outputs": [
        {
          "output_type": "stream",
          "name": "stdout",
          "text": [
            "Loading model from HuggingFace PhilipQuirke/VerifiedArithmetic add_d6_l2_h3_t15K_s372001.pth\n"
          ]
        },
        {
          "output_type": "display_data",
          "data": {
            "text/plain": [
              "add_d6_l2_h3_t15K_s372001.pth:   0%|          | 0.00/25.2M [00:00<?, ?B/s]"
            ],
            "application/vnd.jupyter.widget-view+json": {
              "version_major": 2,
              "version_minor": 0,
              "model_id": "e033890c0e0747d9844973ba80c1e259"
            }
          },
          "metadata": {}
        },
        {
          "output_type": "execute_result",
          "data": {
            "text/plain": [
              "HookedTransformer(\n",
              "  (embed): Embed()\n",
              "  (hook_embed): HookPoint()\n",
              "  (pos_embed): PosEmbed()\n",
              "  (hook_pos_embed): HookPoint()\n",
              "  (blocks): ModuleList(\n",
              "    (0-1): 2 x TransformerBlock(\n",
              "      (ln1): LayerNorm(\n",
              "        (hook_scale): HookPoint()\n",
              "        (hook_normalized): HookPoint()\n",
              "      )\n",
              "      (ln2): LayerNorm(\n",
              "        (hook_scale): HookPoint()\n",
              "        (hook_normalized): HookPoint()\n",
              "      )\n",
              "      (attn): Attention(\n",
              "        (hook_k): HookPoint()\n",
              "        (hook_q): HookPoint()\n",
              "        (hook_v): HookPoint()\n",
              "        (hook_z): HookPoint()\n",
              "        (hook_attn_scores): HookPoint()\n",
              "        (hook_pattern): HookPoint()\n",
              "        (hook_result): HookPoint()\n",
              "      )\n",
              "      (mlp): MLP(\n",
              "        (hook_pre): HookPoint()\n",
              "        (hook_post): HookPoint()\n",
              "      )\n",
              "      (hook_attn_in): HookPoint()\n",
              "      (hook_q_input): HookPoint()\n",
              "      (hook_k_input): HookPoint()\n",
              "      (hook_v_input): HookPoint()\n",
              "      (hook_mlp_in): HookPoint()\n",
              "      (hook_attn_out): HookPoint()\n",
              "      (hook_mlp_out): HookPoint()\n",
              "      (hook_resid_pre): HookPoint()\n",
              "      (hook_resid_mid): HookPoint()\n",
              "      (hook_resid_post): HookPoint()\n",
              "    )\n",
              "  )\n",
              "  (ln_final): LayerNorm(\n",
              "    (hook_scale): HookPoint()\n",
              "    (hook_normalized): HookPoint()\n",
              "  )\n",
              "  (unembed): Unembed()\n",
              ")"
            ]
          },
          "metadata": {},
          "execution_count": 17
        }
      ],
      "source": [
        "main_repo_name=\"PhilipQuirke/VerifiedArithmetic\"\n",
        "print(\"Loading model from HuggingFace\", main_repo_name, main_fname_pth)\n",
        "\n",
        "cfg.main_model.load_state_dict(utils.download_file_from_hf(repo_name=main_repo_name, file_name=main_fname_pth, force_is_torch=True))\n",
        "cfg.main_model.eval()"
      ]
    },
    {
      "cell_type": "markdown",
      "metadata": {
        "id": "I-yFKiDllqEf"
      },
      "source": [
        "# Part 7A: Set Up: Create sample maths questions\n",
        "\n",
        "Create a batch of manually-curated mathematics test questions, and cache some sample model prediction outputs."
      ]
    },
    {
      "cell_type": "code",
      "execution_count": 18,
      "metadata": {
        "colab": {
          "base_uri": "https://localhost:8080/"
        },
        "id": "eiK-0P44gvfS",
        "outputId": "84d9b070-f03f-4bd4-a02e-38a43bab538b"
      },
      "outputs": [
        {
          "output_type": "stream",
          "name": "stdout",
          "text": [
            "ActivationCache with keys ['hook_embed', 'hook_pos_embed', 'blocks.0.hook_resid_pre', 'blocks.0.ln1.hook_scale', 'blocks.0.ln1.hook_normalized', 'blocks.0.attn.hook_q', 'blocks.0.attn.hook_k', 'blocks.0.attn.hook_v', 'blocks.0.attn.hook_attn_scores', 'blocks.0.attn.hook_pattern', 'blocks.0.attn.hook_z', 'blocks.0.attn.hook_result', 'blocks.0.hook_attn_out', 'blocks.0.hook_resid_mid', 'blocks.0.ln2.hook_scale', 'blocks.0.ln2.hook_normalized', 'blocks.0.mlp.hook_pre', 'blocks.0.mlp.hook_post', 'blocks.0.hook_mlp_out', 'blocks.0.hook_resid_post', 'blocks.1.hook_resid_pre', 'blocks.1.ln1.hook_scale', 'blocks.1.ln1.hook_normalized', 'blocks.1.attn.hook_q', 'blocks.1.attn.hook_k', 'blocks.1.attn.hook_v', 'blocks.1.attn.hook_attn_scores', 'blocks.1.attn.hook_pattern', 'blocks.1.attn.hook_z', 'blocks.1.attn.hook_result', 'blocks.1.hook_attn_out', 'blocks.1.hook_resid_mid', 'blocks.1.ln2.hook_scale', 'blocks.1.ln2.hook_normalized', 'blocks.1.mlp.hook_pre', 'blocks.1.mlp.hook_post', 'blocks.1.hook_mlp_out', 'blocks.1.hook_resid_post', 'ln_final.hook_scale', 'ln_final.hook_normalized']\n",
            "Sample Mean Loss 14.689647383354544\n",
            "Sample blocks.0.attn.hook_z torch.Size([640, 22, 3, 170])\n",
            "Mean blocks.0.attn.hook_z torch.Size([1, 22, 3, 170])\n",
            "Sample blocks.0.hook_resid_post torch.Size([640, 22, 510])\n",
            "Mean blocks.0.hook_resid_post torch.Size([1, 22, 510])\n",
            "Sample blocks.0.mlp.hook_post torch.Size([640, 22, 2040])\n",
            "Mean blocks.0.mlp.hook_post torch.Size([1, 22, 2040])\n"
          ]
        }
      ],
      "source": [
        "varied_questions = make_maths_test_questions_and_answers(cfg)\n",
        "\n",
        "a_set_ablate_hooks(cfg)\n",
        "a_calc_mean_values(cfg, varied_questions)"
      ]
    },
    {
      "cell_type": "markdown",
      "metadata": {
        "id": "D6FwJW0tv4Nf"
      },
      "source": [
        "# Part 7B: Results: Can the model correctly predict sample questions?\n",
        "\n",
        "Ask the model to predict the varied_questions (without intervention) to see if the model gets them all right. Categorise answers by complexity"
      ]
    },
    {
      "cell_type": "code",
      "execution_count": 19,
      "metadata": {
        "colab": {
          "base_uri": "https://localhost:8080/"
        },
        "id": "E56siA_QKe0W",
        "outputId": "5919afd9-86c1-4d38-c118-0f74bc68df84"
      },
      "outputs": [
        {
          "output_type": "stream",
          "name": "stdout",
          "text": [
            "Group Math.Add.S2: Success Rate = 14.45% (25 good, 148 bad)\n",
            "Group Math.Add.S1: Success Rate = 18.48% (39 good, 172 bad)\n",
            "Group Math.Add.S4: Success Rate = 25.00% (8 good, 24 bad)\n",
            "Group Math.Add.S3: Success Rate = 11.39% (9 good, 70 bad)\n",
            "Group Math.Add.S0: Success Rate = 30.58% (37 good, 84 bad)\n",
            "Group Math.Add.S5: Success Rate = 41.67% (10 good, 14 bad)\n",
            "Varied_questions prediction success rate = 20.00% (128 good, 512 bad)\n",
            "WARNING: Model is not fully accurate as it got 512 questions wrong.\n",
            "RESOLUTION: Understand these failures. Enrich the training data to provide more examples. Retrain the model.\n",
            "INTERIM: Have reduced 'varied_questions' size from 640 to 128 so can continue.\n"
          ]
        }
      ],
      "source": [
        "# Test maths question prediction accuracy on the sample questions provided.\n",
        "# Does NOT use acfg.* or UsefulInfo.* information\n",
        "# Used to estimate the accuracy of the model's predictions.\n",
        "# Returns a reduced set of questions - removing questions that the model failed to answer.\n",
        "varied_questions = test_maths_questions_by_complexity(cfg, acfg, varied_questions)"
      ]
    },
    {
      "cell_type": "markdown",
      "metadata": {
        "id": "2PjaQvhhayUL"
      },
      "source": [
        "# Part 9 : Results: Can the model do 1 million questions without error?\n",
        "\n",
        "If the model passes this test, this is evidence (not proof) that the model is fully accurate. There may be very rare edge cases (say 1 in ten million) that did not appear in the test questions. Even if you believe you know all the edge cases, and have enriched the training data to contain them, you may not have thought of all edge cases, so this is not proof.\n",
        "\n",
        "If the model fails this test:\n",
        "- Add a few of the failures into the \"test questions\" in part 6C\n",
        "- Understand the \"use case(s)\" driving these failures\n",
        "- Alter the Training CoLab data_generator_core to enrich the training data with examples if these use case(s) and retrain the model.  \n",
        "\n",
        "Takes ~25 mins to run (successfully) for ins_mix_d6_l3_h4_t40K_seed372001"
      ]
    },
    {
      "cell_type": "code",
      "execution_count": 20,
      "metadata": {
        "id": "ZMYZTv5HUp5F"
      },
      "outputs": [],
      "source": [
        "def one_million_questions_core():\n",
        "  global ds\n",
        "\n",
        "  acfg.verbose = False\n",
        "\n",
        "  cfg.analysis_seed = 345621 # Randomly chosen\n",
        "  ds = maths_data_generator() # Re-initialise the data generator\n",
        "\n",
        "  the_successes = 0\n",
        "  the_fails = 0\n",
        "\n",
        "  num_batches = 1000000//cfg.batch_size\n",
        "  for epoch in range(num_batches):\n",
        "      tokens = next(ds)\n",
        "\n",
        "      the_fails = test_maths_questions_by_impact(cfg, acfg, tokens, 0, False)\n",
        "\n",
        "      if the_fails> 0:\n",
        "        break\n",
        "\n",
        "      the_successes = the_successes + cfg.batch_size\n",
        "\n",
        "      if epoch % 100 == 0:\n",
        "          print(\"Batch\", epoch, \"of\", num_batches, \"#Successes=\", the_successes)\n",
        "\n",
        "  print(\"successes\", the_successes, \"num_fails\", the_fails)\n",
        "  if the_fails > 0:\n",
        "    \"WARNING: Model is not fully accurate. It failed the 1M Q test\""
      ]
    },
    {
      "cell_type": "code",
      "execution_count": 21,
      "metadata": {
        "id": "znsauYqjaxok"
      },
      "outputs": [],
      "source": [
        "def one_million_questions():\n",
        "  store_perc_sub = cfg.perc_sub\n",
        "  store_perc_mult = cfg.perc_mult\n",
        "\n",
        "  print_config()\n",
        "  print()\n",
        "\n",
        "  if cfg.perc_add() > 0:\n",
        "    print(\"Addition:\")\n",
        "    cfg.perc_sub = 0\n",
        "    cfg.perc_mult = 0\n",
        "    one_million_questions_core()\n",
        "\n",
        "  if store_perc_sub > 0:\n",
        "    print(\"Subtraction:\")\n",
        "    cfg.perc_sub = 100\n",
        "    cfg.perc_mult = 0\n",
        "    one_million_questions_core()\n",
        "    print()\n",
        "\n",
        "  cfg.perc_sub = store_perc_sub\n",
        "  cfg.perc_mult = store_perc_mult\n",
        "\n",
        "\n",
        "# Takes ~25 minutes to run\n",
        "# one_million_questions()"
      ]
    },
    {
      "cell_type": "markdown",
      "metadata": {
        "id": "nXBYdxj-jLZc"
      },
      "source": [
        "# Part 10: Set Up: Which token positions are used by the model?\n",
        "\n",
        "Here we ablate all heads in each (question and answer) token position (overriding the model memory aka residual stream) and see if the model's prediction loss increases. If loss increases the token position is used by the algorithm. Unused token positions can be excluded from further analysis.\n",
        "\n",
        "Used to calculate the UsefulInfo.useful_positions. This is (question and answer) **token-position level** information.  "
      ]
    },
    {
      "cell_type": "code",
      "execution_count": 22,
      "metadata": {
        "id": "CGL57MRBLdUh"
      },
      "outputs": [],
      "source": [
        "num_failures_list = []\n",
        "if cfg.n_digits >= 5 :\n",
        "\n",
        "  num_questions = varied_questions.shape[0]\n",
        "\n",
        "  for position in range(cfg.n_ctx()):\n",
        "    # Test accuracy of model in predicting question answers. Ablates all nodes at acfg.ablate_position\n",
        "    # Does NOT use UsefulInfo.* information. Used to populate UsefulInfo.useful_positions\n",
        "    num_fails = test_maths_questions_by_impact(cfg, acfg, varied_questions, position, True)\n",
        "\n",
        "    num_failures_list += [num_fails] if num_fails > 0 else \".\"\n",
        "\n",
        "    if num_fails > 0:\n",
        "      cfg.add_useful_position(position)"
      ]
    },
    {
      "cell_type": "code",
      "execution_count": 23,
      "metadata": {
        "id": "-mIY_13gOiqn"
      },
      "outputs": [],
      "source": [
        "def save_plt_to_file( full_title ):\n",
        "  if cfg.graph_file_suffix > \"\":\n",
        "    filename = cfg.file_config_prefix() + full_title + '.' + cfg.graph_file_suffix\n",
        "    filename = filename.replace(\" \", \"\").replace(\",\", \"\").replace(\":\", \"\").replace(\"-\", \"\")\n",
        "    plt.savefig(filename, bbox_inches='tight', pad_inches=0)"
      ]
    },
    {
      "cell_type": "markdown",
      "metadata": {
        "id": "ZmsGWUbILYin"
      },
      "source": [
        "# Part 11: Results: Which token positions are used by the model?\n",
        "\n",
        "Which token positions are is used in the model's predictions? Unused token positions can be excluded from further analysis.\n",
        "\n",
        "\n"
      ]
    },
    {
      "cell_type": "code",
      "execution_count": 24,
      "metadata": {
        "id": "gpRp5YMmLe1y",
        "colab": {
          "base_uri": "https://localhost:8080/",
          "height": 183
        },
        "outputId": "92612bcb-c18b-4ced-a329-26e6dec6fa27"
      },
      "outputs": [
        {
          "output_type": "stream",
          "name": "stdout",
          "text": [
            "%Mult= 0 %Sub= 0 %Add= 100 File add_d6_l2_h3_t15K_s372001\n",
            "num_questions= 128\n",
            "useful_positions= [11, 12, 13, 14, 15, 16, 17, 18, 19, 20]\n",
            "\n"
          ]
        },
        {
          "output_type": "display_data",
          "data": {
            "text/plain": [
              "<Figure size 1600x100 with 1 Axes>"
            ],
            "image/png": "[encoded data removed]"
          },
          "metadata": {}
        }
      ],
      "source": [
        "print_config()\n",
        "print(\"num_questions=\", num_questions)\n",
        "print(\"useful_positions=\", cfg.useful_positions )\n",
        "print()\n",
        "\n",
        "cfg.calc_position_failures_map(num_failures_list, 16)\n",
        "save_plt_to_file(\"Failures When Position Ablated\")\n",
        "plt.show()"
      ]
    },
    {
      "cell_type": "markdown",
      "metadata": {
        "id": "904WBkTOLg_5"
      },
      "source": [
        "# Part 12A: Set Up: Which nodes are used by the model?\n",
        "\n",
        "Here we ablate each (attention head and MLP neuron) node in each (question and answer) token position see if the model's prediction loss increases. If loss increases then the \"node + token position\" is used by the algorithm. Unused node+positions can be excluded from further analysis.\n",
        "\n",
        "Used to calculate the UsefulInfo.useful_node_location. This is (question and answer) **node+position level** information.\n"
      ]
    },
    {
      "cell_type": "code",
      "execution_count": 25,
      "metadata": {
        "id": "f2EnisO6MMGQ"
      },
      "outputs": [],
      "source": [
        "def u_head_attn_hook_z(value, hook):\n",
        "  # print( \"In u_head_attn_hook_z\", value.shape) # Get [1, 22, 3, 170] = ???, cfg.n_ctx, cfg.n_heads, cfg.d_head\n",
        "  position = acfg.ablate_node_locations[0].position\n",
        "  head = acfg.ablate_node_locations[0].num\n",
        "\n",
        "  # Mean ablate. Copy the mean resid post values in position N to all the batch questions\n",
        "  value[:,position,head,:] = acfg.mean_attn_z[:,position,head,:].clone()\n",
        "\n",
        "\n",
        "# Ablating each head in each layer in each position and seeing if the loss increases shows which position+layer+head are used by the algorithm.\n",
        "def u_head_perform_all(questions):\n",
        "  for position in cfg.useful_positions:\n",
        "    for layer in range(cfg.n_layers):\n",
        "      for attn_head in range(cfg.n_heads):\n",
        "        the_hook = [(acfg.l_attn_hook_z_name[layer], u_head_attn_hook_z)]\n",
        "        # test accuracy of model in predicting question answers. Ablates at node-level. Adds node tags\n",
        "        node_location = NodeLocation(position, layer, True, attn_head)\n",
        "        #print( node_location.name())\n",
        "        # Test accuracy of model in predicting question answers, when a single node is ablated.\n",
        "        # Adds nodes to Useful.useful_nodes and adds tags to those nodes.\n",
        "        test_maths_questions_and_add_useful_node_tags(cfg, acfg, node_location, questions, the_hook)\n",
        "        #print( node_location.name(), cfg.useful_nodes.get_node(node_location).tags)"
      ]
    },
    {
      "cell_type": "code",
      "execution_count": 26,
      "metadata": {
        "id": "qOxNc9SAMGRH"
      },
      "outputs": [],
      "source": [
        "def u_mlp_hook_post(value, hook):\n",
        "  # print( \"In u_mlp_hook_post\", value.shape) # Get [1099, 22, 2040] = num_questions, cfg.n_ctx, cfg.d_mlp (# neurons)\n",
        "  position = acfg.ablate_node_locations[0].position\n",
        "\n",
        "  # Mean ablate. Copy the mean resid post values in the MLP layer\n",
        "  value[:,position,:] =  acfg.mean_mlp_hook_post[:,position,:].clone()\n",
        "  #PQR When we do slices the MLP never fails?? Why??\n",
        "  #slice_size = cfg.d_mlp // cfg.mlp_slices()\n",
        "  #start_index = acfg.num * slice_size\n",
        "  #end_index = start_index + slice_size\n",
        "  #print (\"PQR\", cfg.mlp_slices(), slice_size, start_index, end_index)\n",
        "  #value[:,acfg.ablate_position,start_index:end_index] = acfg.mean_mlp_hook_post[:,acfg.ablate_position,start_index:end_index].clone()\n",
        "\n",
        "\n",
        "# Ablating the MLP in each layer in each position and seeing if the loss increases shows which layer+MLP are used by the algorithm.\n",
        "def u_mlp_perform_all(questions):\n",
        "  for position in cfg.useful_positions:\n",
        "    for layer in range(cfg.n_layers):\n",
        "      for num in range(cfg.mlp_slices()):\n",
        "        the_hook = [(acfg.l_mlp_hook_post_name[layer], u_mlp_hook_post)]\n",
        "        # test accuracy of model in predicting question answers. Ablates at node-level. Adds node tags\n",
        "        node_location = NodeLocation(position, layer, False, num)\n",
        "        #print( node_location.name())\n",
        "        # Test accuracy of model in predicting question answers, when a single node is ablated.\n",
        "        # Adds nodes to Useful.useful_nodes and adds tags to those nodes.\n",
        "        test_maths_questions_and_add_useful_node_tags(cfg, acfg, node_location, questions, the_hook)\n",
        "        #thenode = cfg.useful_nodes.get_node(node_location)\n",
        "        #if thenode != None:\n",
        "          #print( node_location.name(), thenode.tags)"
      ]
    },
    {
      "cell_type": "code",
      "execution_count": 27,
      "metadata": {
        "id": "as9ot9RMMTAi"
      },
      "outputs": [],
      "source": [
        "acfg.verbose = False\n",
        "cfg.useful_nodes = UsefulNodeList()\n",
        "u_mlp_perform_all(varied_questions)\n",
        "u_head_perform_all(varied_questions)\n",
        "test_questions_and_add_node_attention_tags(cfg, varied_questions)\n",
        "cfg.useful_nodes.sort_nodes()"
      ]
    },
    {
      "cell_type": "markdown",
      "source": [
        "# Part 12B: Results: Which nodes are used by the model?\n",
        "\n",
        "Here are the (attention head and MLP neuron) node in each (question and answer) token position used by the model during predictions."
      ],
      "metadata": {
        "id": "Rw-Wteh-JBd6"
      }
    },
    {
      "cell_type": "code",
      "source": [
        "cfg.useful_nodes.print_node_tags()"
      ],
      "metadata": {
        "colab": {
          "base_uri": "https://localhost:8080/"
        },
        "id": "yhEWUt7yJBuh",
        "outputId": "4e53bb0e-67b5-48a1-88e3-410fb80a7b86"
      },
      "execution_count": 28,
      "outputs": [
        {
          "output_type": "stream",
          "name": "stdout",
          "text": [
            "P11L0M0 ['Fail%:7', 'Impact:A543', 'Math.Add:S234']\n",
            "P11L0H0 ['Fail%:7', 'Impact:A4', 'Math.Add:S2', 'Attn:P3=54', 'Attn:P10=45']\n",
            "P11L0H1 ['Fail%:9', 'Impact:A543', 'Math.Add:S234', 'Attn:P4=63', 'Attn:P11=32']\n",
            "P12L0M0 ['Fail%:24', 'Impact:A54', 'Math.Add:S12345']\n",
            "P12L0H0 ['Fail%:3', 'Impact:A4', 'Math.Add:S1', 'Attn:P2=51', 'Attn:P9=43']\n",
            "P13L0M0 ['Fail%:21', 'Impact:A54321', 'Math.Add:S12345']\n",
            "P13L0H1 ['Fail%:21', 'Impact:A54321', 'Math.Add:S12345', 'Attn:P5=69', 'Attn:P12=29']\n",
            "P14L0M0 ['Fail%:4', 'Impact:A6', 'Math.Add:S1']\n",
            "P14L0H0 ['Fail%:3', 'Impact:A6', 'Math.Add:S2', 'Attn:P1=52', 'Attn:P8=47']\n",
            "P14L0H2 ['Fail%:17', 'Impact:A6', 'Math.Add:S145', 'Attn:P7=50', 'Attn:P0=50']\n",
            "P15L0M0 ['Fail%:21', 'Impact:A5', 'Math.Add:S01245']\n",
            "P15L0H0 ['Fail%:29', 'Impact:A5', 'Math.Add:S1234', 'Attn:P1=53', 'Attn:P8=45']\n",
            "P15L0H1 ['Fail%:15', 'Impact:A5', 'Math.Add:S145', 'Attn:P7=35', 'Attn:P0=32', 'Attn:P15=24', 'Attn:P13=2']\n",
            "P15L0H2 ['Fail%:92', 'Impact:A5', 'Math.Add:S012345', 'Attn:P0=46', 'Attn:P7=46', 'Attn:P14=1']\n",
            "P15L1M0 ['Fail%:18', 'Impact:A5', 'Math.Add:S01245']\n",
            "P15L1H1 ['Fail%:4', 'Impact:A5', 'Math.Add:S45', 'Attn:P15=38', 'Attn:P14=13', 'Attn:P13=8', 'Attn:P6=6']\n",
            "P16L0M0 ['Fail%:75', 'Impact:A4', 'Math.Add:S01234']\n",
            "P16L0H0 ['Fail%:4', 'Impact:A4', 'Math.Add:S1', 'Attn:P2=51', 'Attn:P9=44']\n",
            "P16L0H1 ['Fail%:13', 'Impact:A4', 'Math.Add:S01234', 'Attn:P1=46', 'Attn:P8=42', 'Attn:P6=3', 'Attn:P14=3']\n",
            "P16L0H2 ['Fail%:63', 'Impact:A4', 'Math.Add:S01234', 'Attn:P8=46', 'Attn:P1=45', 'Attn:P14=1', 'Attn:P6=1']\n",
            "P16L1M0 ['Fail%:42', 'Impact:A4', 'Math.Add:S012345']\n",
            "P16L1H1 ['Fail%:13', 'Impact:A4', 'Math.Add:S1234', 'Attn:P12=24', 'Attn:P11=17', 'Attn:P16=15', 'Attn:P13=12']\n",
            "P17L0M0 ['Fail%:69', 'Impact:A3', 'Math.Add:S0123']\n",
            "P17L0H0 ['Fail%:7', 'Impact:A3', 'Math.Add:S12', 'Attn:P3=54', 'Attn:P10=45']\n",
            "P17L0H1 ['Fail%:13', 'Impact:A3', 'Math.Add:S123', 'Attn:P9=44', 'Attn:P2=43', 'Attn:P14=4', 'Attn:P6=3']\n",
            "P17L0H2 ['Fail%:36', 'Impact:A3', 'Math.Add:S0123', 'Attn:P9=47', 'Attn:P2=47']\n",
            "P17L1M0 ['Fail%:23', 'Impact:A3', 'Math.Add:S0123']\n",
            "P17L1H1 ['Fail%:0', 'Impact:A3', 'Math.Add:S4', 'Attn:P13=21', 'Attn:P11=18', 'Attn:P17=10', 'Attn:P5=9']\n",
            "P18L0M0 ['Fail%:68', 'Impact:A2', 'Math.Add:S012']\n",
            "P18L0H0 ['Fail%:2', 'Impact:A2', 'Math.Add:S1', 'Attn:P4=61', 'Attn:P11=37']\n",
            "P18L0H1 ['Fail%:3', 'Impact:A2', 'Math.Add:S12', 'Attn:P3=48', 'Attn:P10=42', 'Attn:P14=3', 'Attn:P6=1']\n",
            "P18L0H2 ['Fail%:28', 'Impact:A2', 'Math.Add:S012', 'Attn:P10=51', 'Attn:P3=45']\n",
            "P18L1M0 ['Fail%:23', 'Impact:A2', 'Math.Add:S012']\n",
            "P19L0M0 ['Fail%:82', 'Impact:A1', 'Math.Add:S012345']\n",
            "P19L0H0 ['Fail%:15', 'Impact:A1', 'Math.Add:S12345', 'Attn:P5=64', 'Attn:P12=32']\n",
            "P19L0H1 ['Fail%:6', 'Impact:A1', 'Math.Add:S1234', 'Attn:P4=47', 'Attn:P11=42', 'Attn:P14=4', 'Attn:P6=2']\n",
            "P19L0H2 ['Fail%:29', 'Impact:A1', 'Math.Add:S0123', 'Attn:P11=50', 'Attn:P4=47']\n",
            "P19L1M0 ['Fail%:25', 'Impact:A1', 'Math.Add:S0123']\n",
            "P19L1H2 ['Fail%:0', 'Impact:A1', 'Math.Add:S1', 'Attn:P19=45', 'Attn:P5=7', 'Attn:P13=6', 'Attn:P7=4']\n",
            "P20L0M0 ['Fail%:93', 'Impact:A0', 'Math.Add:S012345']\n",
            "P20L0H1 ['Fail%:8', 'Impact:A0', 'Math.Add:S12345', 'Attn:P5=33', 'Attn:P12=29', 'Attn:P14=25', 'Attn:P6=6']\n",
            "P20L0H2 ['Fail%:39', 'Impact:A0', 'Math.Add:S012345', 'Attn:P12=45', 'Attn:P5=45', 'Attn:P14=2', 'Attn:P6=1']\n",
            "P20L1M0 ['Fail%:68', 'Impact:A0', 'Math.Add:S01234']\n"
          ]
        }
      ]
    },
    {
      "cell_type": "markdown",
      "metadata": {
        "id": "3BmQHiLALp-3"
      },
      "source": [
        " # Part 13: Set up: Show and save Quanta map\n",
        "\n",
        " Using the UsefulNodes and filtering their tags, show a 2D map of the nodes and the tag minor versions."
      ]
    },
    {
      "cell_type": "code",
      "execution_count": 29,
      "metadata": {
        "id": "emcB0_CpYTaJ"
      },
      "outputs": [],
      "source": [
        "def show_quanta_map( title, standard_quanta, shades, filters : FilterNode, major_tag : str, minor_tag : str, get_node_details, base_fontsize = 10, max_width = 10 ):\n",
        "\n",
        "  test_nodes = cfg.useful_nodes if filters == None else filter_nodes(cfg.useful_nodes, filters)\n",
        "\n",
        "  ax1, quanta_results = calc_quanta_map(cfg, standard_quanta, shades, test_nodes, major_tag, minor_tag, get_node_details, base_fontsize, max_width )\n",
        "\n",
        "  if cfg.graph_file_suffix > \"\":\n",
        "    print(\"Saving quanta map:\", title)\n",
        "    save_plt_to_file(title)\n",
        "  else:\n",
        "    ax1.set_title(cfg.file_config_prefix() + ' ' + title + ' ({} nodes)'.format(len(quanta_results)))\n",
        "\n",
        "  # Show plot\n",
        "  plt.show()"
      ]
    },
    {
      "cell_type": "markdown",
      "metadata": {
        "id": "VpkyhHRoMOSw"
      },
      "source": [
        "# Part 16A: Results: Show failure percentage map\n",
        "\n",
        "Show the percentage failure rate (incorrect prediction) when individual Attention Heads and MLPs are ablated.\n",
        "\n",
        "A cell containing \"< 1\" may add some risk to the accuracy of the overall analysis process. Check to see if this represents a new use case. Improve the test data set to contain more instances of this (new or existing) use case."
      ]
    },
    {
      "cell_type": "code",
      "execution_count": 30,
      "metadata": {
        "id": "vQ28dx5YLs0P",
        "colab": {
          "base_uri": "https://localhost:8080/",
          "height": 431
        },
        "outputId": "31965a77-978d-410a-99ff-58cb30d823a1"
      },
      "outputs": [
        {
          "output_type": "stream",
          "name": "stdout",
          "text": [
            "Saving quanta map: Failure Frequency Behavior Per Node\n"
          ]
        },
        {
          "output_type": "display_data",
          "data": {
            "text/plain": [
              "<Figure size 666.667x466.667 with 1 Axes>"
            ],
            "image/png": "[encoded data removed]"
          },
          "metadata": {}
        }
      ],
      "source": [
        "show_quanta_map( \"Failure Frequency Behavior Per Node\", True, 10, None, QuantaType.FAIL, \"\", get_quanta_fail_perc, 9)"
      ]
    },
    {
      "cell_type": "markdown",
      "metadata": {
        "id": "IifmtnLoTCN5"
      },
      "source": [
        "# Part 16B - Show answer impact behavior map\n",
        "\n",
        "Show the purpose of each useful cell by impact on the answer digits A0 to A5.\n"
      ]
    },
    {
      "cell_type": "code",
      "execution_count": 31,
      "metadata": {
        "id": "6K9PyCKYTUzX",
        "colab": {
          "base_uri": "https://localhost:8080/",
          "height": 431
        },
        "outputId": "fa5c3550-886a-4ec0-90e0-9c0928ec4290"
      },
      "outputs": [
        {
          "output_type": "stream",
          "name": "stdout",
          "text": [
            "Saving quanta map: Answer Impact Behavior Per Node\n"
          ]
        },
        {
          "output_type": "display_data",
          "data": {
            "text/plain": [
              "<Figure size 666.667x466.667 with 1 Axes>"
            ],
            "image/png": "[encoded data removed]"
          },
          "metadata": {}
        }
      ],
      "source": [
        "show_quanta_map( \"Answer Impact Behavior Per Node\", True, cfg.num_answer_positions, None, QuantaType.IMPACT, \"\", get_quanta_impact, 9, 6)"
      ]
    },
    {
      "cell_type": "markdown",
      "metadata": {
        "id": "avCfaCT1Puhz"
      },
      "source": [
        "# Part 16C: Result: Show attention map\n",
        "\n",
        "Show attention quanta of useful heads"
      ]
    },
    {
      "cell_type": "code",
      "execution_count": 32,
      "metadata": {
        "id": "NTGoEWHgvFH6",
        "colab": {
          "base_uri": "https://localhost:8080/",
          "height": 328
        },
        "outputId": "0a8e2554-6bd3-4620-808a-a442d8658e02"
      },
      "outputs": [
        {
          "output_type": "stream",
          "name": "stdout",
          "text": [
            "Saving quanta map: Attention Behavior Per Head\n"
          ]
        },
        {
          "output_type": "display_data",
          "data": {
            "text/plain": [
              "<Figure size 666.667x333.333 with 1 Axes>"
            ],
            "image/png": "[encoded data removed]"
          },
          "metadata": {}
        }
      ],
      "source": [
        "# Only maps attention heads, not MLP layers\n",
        "show_quanta_map( \"Attention Behavior Per Head\", True, 10, None, QuantaType.ATTENTION, \"\", get_quanta_attention, 10, 6)"
      ]
    },
    {
      "cell_type": "markdown",
      "metadata": {
        "id": "v7-99ZxDOrbF"
      },
      "source": [
        "# Part 16C - Show question complexity map\n",
        "\n",
        "Show the \"minimum\" addition purpose of each useful cell by S0 to S5 quanta.\n",
        "Show the \"minimum\" subtraction purpose of each useful cell by M0 to M5 quanta"
      ]
    },
    {
      "cell_type": "code",
      "execution_count": 33,
      "metadata": {
        "id": "OyoErRoCA-pz",
        "colab": {
          "base_uri": "https://localhost:8080/",
          "height": 431
        },
        "outputId": "10f2b1c3-93f0-4263-b896-d122dedbf1e3"
      },
      "outputs": [
        {
          "output_type": "stream",
          "name": "stdout",
          "text": [
            "Saving quanta map: Addition Min-Complexity Behavior Per Node\n"
          ]
        },
        {
          "output_type": "display_data",
          "data": {
            "text/plain": [
              "<Figure size 666.667x466.667 with 1 Axes>"
            ],
            "image/png": "[encoded data removed]"
          },
          "metadata": {}
        }
      ],
      "source": [
        "if cfg.perc_add() > 0:\n",
        "  show_quanta_map( \"Addition Min-Complexity Behavior Per Node\", False, 6, None, QuantaType.MATH_ADD, \"\", get_maths_min_complexity)"
      ]
    },
    {
      "cell_type": "code",
      "execution_count": 34,
      "metadata": {
        "id": "CMZzbjxUBQGE"
      },
      "outputs": [],
      "source": [
        "if cfg.perc_sub > 0:\n",
        "  show_quanta_map( \"Subtraction Min-Complexity Behavior Per Node\", False, 4, None, QuantaType.MATH_SUB, \"\", get_maths_min_complexity)"
      ]
    },
    {
      "cell_type": "markdown",
      "metadata": {
        "id": "fHSY3blNMe7I"
      },
      "source": [
        "#Part 19A: Set Up: Calc and graph PCA decomposition.\n"
      ]
    },
    {
      "cell_type": "code",
      "execution_count": 35,
      "metadata": {
        "id": "iKc1kj-ZUeCo"
      },
      "outputs": [],
      "source": [
        "# Create a cache of sample maths questions based on the T8, T9, T10 categorisation in cfg.tricase_questions_dict\n",
        "make_maths_tricase_questions(cfg)\n",
        "\n",
        "def pca_evr_0_percent(pca):\n",
        "  return int(round(pca.explained_variance_ratio_[0]*100,0))"
      ]
    },
    {
      "cell_type": "code",
      "execution_count": 36,
      "metadata": {
        "id": "SWCPgoQZMjgc"
      },
      "outputs": [],
      "source": [
        "# Calculate one Principal Component Analysis\n",
        "def calc_pca_for_an(node_location, operation, answer_digit):\n",
        "  assert node_location.is_head == True\n",
        "\n",
        "  try:\n",
        "    t_questions = cfg.tricase_questions_dict[(answer_digit, operation)]\n",
        "\n",
        "    _, the_cache = cfg.main_model.run_with_cache(t_questions)\n",
        "\n",
        "    # Gather attention patterns for all the (randomly chosen) questions\n",
        "    attention_outputs = []\n",
        "    for i in range(len(t_questions)):\n",
        "\n",
        "      # Output of individual heads, without final bias\n",
        "      attention_cache=the_cache[\"result\", node_location.layer, \"attn\"] # Output of individual heads, without final bias\n",
        "      attention_output=attention_cache[i]  # Shape [n_ctx, n_head, d_model]\n",
        "      attention_outputs.append(attention_output[node_location.position, node_location.num, :])\n",
        "\n",
        "    attn_outputs = torch.stack(attention_outputs, dim=0).cpu()\n",
        "\n",
        "    pca = PCA(n_components=6)\n",
        "    pca.fit(attn_outputs)\n",
        "    pca_attn_outputs = pca.transform(attn_outputs)\n",
        "\n",
        "    title = node_location.name() + ', A'+str(answer_digit) + ', EVR[0]=' + str(pca_evr_0_percent(pca)) + '%'\n",
        "\n",
        "    return pca, pca_attn_outputs, title\n",
        "  except Exception as e:\n",
        "    print( \"calc_pca_for_an Failed:\" + node_location.name() + \" \" + token_to_char(cfg, operation) + \" \" + answer_name(answer_digit), e)\n",
        "    return None, None, None"
      ]
    },
    {
      "cell_type": "code",
      "execution_count": 37,
      "metadata": {
        "id": "cZ_f5TUmqYBX"
      },
      "outputs": [],
      "source": [
        "# Plot the PCA of PnLnHn's attention pattern, using T8, T9, T10 questions that differ in the An digit\n",
        "def plot_pca_for_an(ax, pca_attn_outputs, title):\n",
        "  ax.scatter(pca_attn_outputs[:TRICASE_QUESTIONS, 0], pca_attn_outputs[:TRICASE_QUESTIONS, 1], color='red', label='T8 (0-8)') # t8 questions\n",
        "  ax.scatter(pca_attn_outputs[TRICASE_QUESTIONS:2*TRICASE_QUESTIONS, 0], pca_attn_outputs[TRICASE_QUESTIONS:2*TRICASE_QUESTIONS, 1], color='green', label='T9') # t9 questions\n",
        "  ax.scatter(pca_attn_outputs[2*TRICASE_QUESTIONS:, 0], pca_attn_outputs[2*TRICASE_QUESTIONS:, 1], color='blue', label='T10 (10-18)') # t10 questions\n",
        "  if title != \"\" :\n",
        "    ax.set_title(title)"
      ]
    },
    {
      "cell_type": "code",
      "execution_count": 38,
      "metadata": {
        "id": "NaRu2ZEaSRNW"
      },
      "outputs": [],
      "source": [
        "def pca_op_tag(the_digit, operation, strong):\n",
        "  return answer_name(the_digit)  + \".\" + (MathsBehavior.PCA_ADD_TAG if operation == MathsTokens.PLUS else MathsBehavior.PCA_SUB_TAG) + ( \"\" if strong else \".Weak\")"
      ]
    },
    {
      "cell_type": "code",
      "execution_count": 39,
      "metadata": {
        "id": "Zk2K3y7pMlQr"
      },
      "outputs": [],
      "source": [
        "def manual_node_pca(ax, position, layer, num, operation, answer_digit):\n",
        "\n",
        "  node_location = NodeLocation(position, layer, True, num)\n",
        "  pca, pca_attn_outputs, title = calc_pca_for_an(node_location, operation, answer_digit)\n",
        "  plot_pca_for_an(ax, pca_attn_outputs, title)\n",
        "\n",
        "  # Add the strong PCA tag to node PCA:A5.TR\n",
        "  cfg.add_useful_node_tag( node_location, QuantaType.PCA, pca_op_tag(answer_digit, operation, True) )\n",
        "\n",
        "\n",
        "def auto_node_pca(ax, index, node_location, operation, answer_digit, perc_threshold):\n",
        "\n",
        "  pca, pca_attn_outputs, title = calc_pca_for_an(node_location, operation, answer_digit)\n",
        "  if pca is not None:\n",
        "    perc = pca_evr_0_percent(pca)\n",
        "    if perc > perc_threshold:\n",
        "      plot_pca_for_an(ax, pca_attn_outputs, title)\n",
        "\n",
        "      # Add the weak PCA tag to node PCA:A5.TR.Weak\n",
        "      cfg.add_useful_node_tag( node_location, QuantaType.PCA, pca_op_tag(answer_digit, operation, False) )\n",
        "      return True\n",
        "\n",
        "  return False"
      ]
    },
    {
      "cell_type": "code",
      "execution_count": 40,
      "metadata": {
        "id": "sBQ1XWg_oJne"
      },
      "outputs": [],
      "source": [
        "def manual_nodes_pca(op, nodes):\n",
        "  print(\"Manual PCA tags for\", cfg.model_name, \"with operation\", token_to_char(cfg, op))\n",
        "\n",
        "  cols = 4\n",
        "  rows = 1 + (len(nodes)+1) // cols\n",
        "\n",
        "  fig, axs = plt.subplots(rows, cols)\n",
        "  fig.set_figheight(rows*2 + 1)\n",
        "  fig.set_figwidth(10)\n",
        "\n",
        "  index = 0\n",
        "  for node in nodes:\n",
        "    manual_node_pca(axs[index // cols, index % cols], node[0], node[1], node[2], op, node[3])\n",
        "    index += 1\n",
        "\n",
        "  # Remove any graphs we dont need (except last one)\n",
        "  while index < rows * cols - 1:\n",
        "    ax = axs[index // cols, index % cols]\n",
        "    ax.remove()\n",
        "    index += 1\n",
        "\n",
        "  # Replace last graph with the legend\n",
        "  lines_labels = [axs[0,0].get_legend_handles_labels()]\n",
        "  lines, labels = [sum(lol, []) for lol in zip(*lines_labels)]\n",
        "  axs[rows-1, cols-1].legend(lines, labels)\n",
        "  axs[rows-1, cols-1].axis('off') # Now, to hide the last subplot\n",
        "\n",
        "  plt.tight_layout()\n",
        "  save_plt_to_file('Pca Tr')\n",
        "  plt.show()"
      ]
    },
    {
      "cell_type": "markdown",
      "metadata": {
        "id": "Rbiau9foMp3h"
      },
      "source": [
        "#Part 19B: Results: Manual interpretation of PCA results\n",
        "\n",
        "If an attention head and an answer digit An gives an interpretable response (2 or 3 distinct output clusters) on 3 groups of questions aligned to T8, T9 and T10 definitions, then plot the response and add a QuantaType.PCA tag\n",
        "\n"
      ]
    },
    {
      "cell_type": "code",
      "execution_count": 41,
      "metadata": {
        "id": "AhTlzqNr6qN5"
      },
      "outputs": [],
      "source": [
        "cfg.useful_nodes.reset_node_tags(QuantaType.PCA)"
      ]
    },
    {
      "cell_type": "code",
      "execution_count": 42,
      "metadata": {
        "id": "HQ5fS3XNMs8e",
        "colab": {
          "base_uri": "https://localhost:8080/",
          "height": 0
        },
        "outputId": "3d887c52-239c-4ca1-a21c-54e27a7795a5"
      },
      "outputs": [
        {
          "output_type": "stream",
          "name": "stdout",
          "text": [
            "Manual PCA tags for add_d6_l2_h3_t15K with operation +\n"
          ]
        },
        {
          "output_type": "display_data",
          "data": {
            "text/plain": [
              "<Figure size 1000x900 with 15 Axes>"
            ],
            "image/png": "[encoded data removed]"
          },
          "metadata": {}
        }
      ],
      "source": [
        "# Plot all attention heads with the clearest An selected\n",
        "if use_pca:\n",
        "\n",
        "  if cfg.model_name == \"add_d5_l1_h3_t30K\" :\n",
        "    manual_nodes_pca(MathsTokens.PLUS,\n",
        "      [[ 12, 0, 0, 4 ],\n",
        "      [ 12, 0, 2, 3 ],\n",
        "      [ 13, 0, 0, 3 ],\n",
        "      [ 13, 0, 2, 2 ],\n",
        "      [ 14, 0, 0, 2 ],\n",
        "      [ 14, 0, 2, 1 ],\n",
        "      [ 15, 0, 0, 1 ],\n",
        "      [ 15, 0, 2, 0 ],\n",
        "      [ 16, 0, 0, 0 ]])\n",
        "\n",
        "  if cfg.model_name == \"add_d5_l2_h3_t15K\" :\n",
        "    manual_nodes_pca(MathsTokens.PLUS,\n",
        "      [[10, 0, 0, 2 ],\n",
        "      [ 12, 0, 0, 3 ],\n",
        "      [ 12, 1, 0, 3 ],\n",
        "      [ 12, 1, 1, 4 ],\n",
        "      [ 12, 1, 2, 4 ],\n",
        "      [ 13, 0, 0, 0 ],\n",
        "      [ 13, 0, 0, 3 ],\n",
        "      [ 13, 1, 2, 2 ],\n",
        "      [ 14, 0, 0, 0 ],\n",
        "      [ 14, 0, 0, 2 ],\n",
        "      [ 14, 1, 2, 2 ],\n",
        "      [ 15, 0, 0, 1 ],\n",
        "      [ 15, 0, 0, 0 ],\n",
        "      [ 15, 1, 1, 1 ],\n",
        "      [ 16, 0, 0, 0 ]])\n",
        "\n",
        "  if cfg.model_name == \"add_d6_l2_h3_t15K\" :\n",
        "    manual_nodes_pca(MathsTokens.PLUS,\n",
        "      [[11, 0, 0, 2 ],\n",
        "      [ 12, 0, 0, 3 ],\n",
        "      [ 13, 0, 0, 1 ],\n",
        "      [ 14, 0, 0, 4 ],\n",
        "      [ 14, 1, 1, 4 ],\n",
        "      [ 15, 0, 0, 4 ],\n",
        "      [ 15, 1, 1, 4 ],\n",
        "      [ 16, 0, 0, 3 ],\n",
        "      [ 16, 1, 1, 3 ],\n",
        "      [ 17, 0, 0, 2 ],\n",
        "      [ 17, 1, 1, 2 ],\n",
        "      [ 18, 0, 0, 0 ],\n",
        "      [ 18, 0, 0, 1 ],\n",
        "      [ 19, 0, 0, 0 ]])\n",
        "\n",
        "  if cfg.model_name == \"sub_d6_l2_h3_t30K\" :\n",
        "    manual_nodes_pca(MathsTokens.MINUS,\n",
        "      [[14, 0, 1, 0 ],\n",
        "      [ 15, 0, 0, 5 ],\n",
        "      [ 15, 1, 1, 0 ],\n",
        "      [ 15, 1, 1, 1 ],\n",
        "      [ 15, 1, 1, 2 ],\n",
        "      [ 15, 1, 1, 3 ],\n",
        "      [ 15, 1, 1, 4 ],\n",
        "      [ 15, 1, 2, 0 ],\n",
        "      [ 15, 1, 2, 1 ],\n",
        "      [ 15, 1, 2, 2 ],\n",
        "      [ 15, 1, 2, 3 ],\n",
        "      [ 16, 0, 0, 0 ],\n",
        "      [ 16, 0, 0, 1 ],\n",
        "      [ 16, 0, 0, 2 ],\n",
        "      [ 16, 0, 0, 3 ],\n",
        "      [ 16, 0, 0, 4 ],\n",
        "      [ 16, 0, 0, 5 ],\n",
        "      [ 16, 1, 0, 4 ],\n",
        "      [ 16, 1, 1, 0 ],\n",
        "      [ 16, 1, 1, 1 ],\n",
        "      [ 16, 1, 1, 2 ],\n",
        "      [ 16, 1, 1, 3 ],\n",
        "      [ 16, 1, 1, 4 ],\n",
        "      [ 16, 1, 2, 0 ],\n",
        "      [ 16, 1, 2, 1 ],\n",
        "      [ 16, 1, 2, 2 ],\n",
        "      [ 16, 1, 2, 3 ],\n",
        "      [ 16, 1, 2, 4 ],\n",
        "      [ 16, 1, 2, 5 ],\n",
        "      [ 17, 0, 0, 0 ],\n",
        "      [ 17, 0, 0, 1 ],\n",
        "      [ 17, 0, 0, 2 ],\n",
        "      [ 17, 0, 0, 3 ],\n",
        "      [ 17, 1, 0, 3 ],\n",
        "      [ 17, 1, 0, 4 ],\n",
        "      [ 17, 1, 2, 0 ],\n",
        "      [ 17, 1, 2, 4 ],\n",
        "      [ 18, 0, 0, 0 ],\n",
        "      [ 18, 0, 0, 1 ],\n",
        "      [ 18, 0, 0, 2 ],\n",
        "      [ 18, 0, 2, 0 ],\n",
        "      [ 18, 1, 2, 3 ],\n",
        "      [ 19, 0, 0, 0 ],\n",
        "      [ 19, 1, 2, 2 ],\n",
        "      [ 20, 0, 0, 0 ],\n",
        "      [ 18, 0, 2, 0 ],\n",
        "\t    [ 18, 0, 2, 0 ]])\n",
        "\n",
        "  if cfg.model_name == \"mix_d6_l3_h4_t40K\" : # TBC\n",
        "    manual_nodes_pca(MathsTokens.PLUS,\n",
        "      [[ 8, 0, 0, 4 ],\n",
        "      [  9, 0, 1, 3 ],\n",
        "      [ 10, 0, 1, 2 ],\n",
        "      [ 10, 0, 1, 3 ],\n",
        "      [ 11, 0, 1, 1 ],\n",
        "      [ 11, 0, 1, 2 ],\n",
        "      [ 12, 0, 0, 0 ],\n",
        "      [ 13, 0, 1, 4 ],\n",
        "      [ 13, 1, 1, 0 ],\n",
        "      [ 13, 1, 1, 1 ],\n",
        "      [ 13, 1, 1, 2 ],\n",
        "      [ 13, 1, 1, 3 ],\n",
        "      [ 13, 1, 2, 3 ],\n",
        "      [ 13, 1, 2, 5 ],\n",
        "      [ 14, 0, 1, 0 ],\n",
        "      [ 15, 0, 0, 0 ],\n",
        "      [ 15, 0, 0, 1 ],\n",
        "      [ 15, 0, 0, 2 ],\n",
        "      [ 15, 0, 0, 3 ],\n",
        "      [ 15, 0, 0, 4 ],\n",
        "      [ 15, 0, 0, 5 ],\n",
        "      [ 15, 1, 0, 0 ],\n",
        "      [ 15, 1, 0, 1 ],\n",
        "      [ 15, 1, 0, 2 ],\n",
        "      [ 15, 1, 0, 3 ],\n",
        "      [ 15, 1, 0, 4 ]])\n",
        "\n",
        "  if cfg.model_name == \"ins1_mix_d6_l3_h4_t40K\" :\n",
        "    manual_nodes_pca(MathsTokens.PLUS,\n",
        "      [[13, 1, 3, 1 ],\n",
        "      [ 14, 1, 2, 0 ],\n",
        "      [ 14, 1, 2, 2 ],\n",
        "      [ 14, 1, 3, 4 ],\n",
        "      [ 15, 0, 3, 5 ],\n",
        "      [ 15, 1, 2, 2 ],\n",
        "      [ 15, 1, 3, 4 ],\n",
        "      [ 16, 0, 3, 4 ],\n",
        "      [ 16, 1, 2, 0 ],\n",
        "      [ 16, 1, 2, 1 ],\n",
        "      [ 16, 1, 2, 2 ],\n",
        "      [ 16, 1, 3, 2 ],\n",
        "      [ 17, 0, 3, 3 ],\n",
        "      [ 17, 1, 2, 2 ],\n",
        "      [ 17, 1, 3, 2 ],\n",
        "      [ 18, 0, 3, 2 ],\n",
        "      [ 18, 1, 3, 1 ],\n",
        "      [ 19, 0, 3, 1 ],\n",
        "      [ 19, 2, 0, 0 ],\n",
        "      [ 19, 2, 1, 0 ],\n",
        "      [ 20, 0, 0, 0 ],\n",
        "      [ 20, 0, 3, 0 ]])\n",
        "\n",
        "else:\n",
        "  print( \"PCA library failed to import. So PCA not done\")"
      ]
    },
    {
      "cell_type": "markdown",
      "metadata": {
        "id": "jIu3Pr9CMx3l"
      },
      "source": [
        "#Part 19C: Results: Automatic interpetation of PCA results\n",
        "\n",
        "Part 19B is manual and selective. This part is automatic. It tests nodes not included in Part 19B, where this first (single) principal component explains 66% or more of the node. It adds a QuantaType.PCA \"weak\" tag"
      ]
    },
    {
      "cell_type": "code",
      "execution_count": 43,
      "metadata": {
        "id": "H4FFdqy-79A1"
      },
      "outputs": [],
      "source": [
        "def auto_find_pca_node(node, op, perc_threshold):\n",
        "  fig, axs = plt.subplots(2, 4) # Allow up to 8 graphs\n",
        "  fig.set_figheight(4)\n",
        "  fig.set_figwidth(10)\n",
        "\n",
        "  index = 0\n",
        "  for answer_digit in range(cfg.n_digits+1):\n",
        "    ax = axs[index // 4, index % 4]\n",
        "    if auto_node_pca(ax, index, node, op, answer_digit, perc_threshold):\n",
        "      index += 1\n",
        "\n",
        "  # Remove any graphs we dont need after all\n",
        "  while index < 2 * 4:\n",
        "    ax = axs[index // 4, index % 4]\n",
        "    ax.remove()\n",
        "    index += 1\n",
        "\n",
        "  plt.tight_layout()\n",
        "  plt.show()"
      ]
    },
    {
      "cell_type": "code",
      "execution_count": 44,
      "metadata": {
        "id": "vdfpkXmAMzg4",
        "colab": {
          "base_uri": "https://localhost:8080/",
          "height": 0
        },
        "outputId": "c5ab7322-438f-4d60-e819-eaf00d105ec4"
      },
      "outputs": [
        {
          "output_type": "stream",
          "name": "stdout",
          "text": [
            "Automatic (weak) PCA tags for add_d6_l2_h3_t15K with operation +\n",
            "Doing PCA on node P11L0H1\n",
            "calc_pca_for_an Failed:P11L0H1 + A6 (6, 10)\n"
          ]
        },
        {
          "output_type": "display_data",
          "data": {
            "text/plain": [
              "<Figure size 1000x400 with 0 Axes>"
            ]
          },
          "metadata": {}
        },
        {
          "output_type": "stream",
          "name": "stdout",
          "text": [
            "Doing PCA on node P13L0H1\n",
            "calc_pca_for_an Failed:P13L0H1 + A6 (6, 10)\n"
          ]
        },
        {
          "output_type": "display_data",
          "data": {
            "text/plain": [
              "<Figure size 1000x400 with 0 Axes>"
            ]
          },
          "metadata": {}
        },
        {
          "output_type": "stream",
          "name": "stdout",
          "text": [
            "Doing PCA on node P14L0H2\n",
            "calc_pca_for_an Failed:P14L0H2 + A6 (6, 10)\n"
          ]
        },
        {
          "output_type": "display_data",
          "data": {
            "text/plain": [
              "<Figure size 1000x400 with 3 Axes>"
            ],
            "image/png": "[encoded data removed]"
          },
          "metadata": {}
        },
        {
          "output_type": "stream",
          "name": "stdout",
          "text": [
            "Doing PCA on node P15L0H1\n",
            "calc_pca_for_an Failed:P15L0H1 + A6 (6, 10)\n"
          ]
        },
        {
          "output_type": "display_data",
          "data": {
            "text/plain": [
              "<Figure size 1000x400 with 0 Axes>"
            ]
          },
          "metadata": {}
        },
        {
          "output_type": "stream",
          "name": "stdout",
          "text": [
            "Doing PCA on node P15L0H2\n",
            "calc_pca_for_an Failed:P15L0H2 + A6 (6, 10)\n"
          ]
        },
        {
          "output_type": "display_data",
          "data": {
            "text/plain": [
              "<Figure size 1000x400 with 0 Axes>"
            ]
          },
          "metadata": {}
        },
        {
          "output_type": "stream",
          "name": "stdout",
          "text": [
            "Doing PCA on node P16L0H1\n",
            "calc_pca_for_an Failed:P16L0H1 + A6 (6, 10)\n"
          ]
        },
        {
          "output_type": "display_data",
          "data": {
            "text/plain": [
              "<Figure size 1000x400 with 0 Axes>"
            ]
          },
          "metadata": {}
        },
        {
          "output_type": "stream",
          "name": "stdout",
          "text": [
            "Doing PCA on node P16L0H2\n",
            "calc_pca_for_an Failed:P16L0H2 + A6 (6, 10)\n"
          ]
        },
        {
          "output_type": "display_data",
          "data": {
            "text/plain": [
              "<Figure size 1000x400 with 0 Axes>"
            ]
          },
          "metadata": {}
        },
        {
          "output_type": "stream",
          "name": "stdout",
          "text": [
            "Doing PCA on node P17L0H1\n",
            "calc_pca_for_an Failed:P17L0H1 + A6 (6, 10)\n"
          ]
        },
        {
          "output_type": "display_data",
          "data": {
            "text/plain": [
              "<Figure size 1000x400 with 0 Axes>"
            ]
          },
          "metadata": {}
        },
        {
          "output_type": "stream",
          "name": "stdout",
          "text": [
            "Doing PCA on node P17L0H2\n",
            "calc_pca_for_an Failed:P17L0H2 + A6 (6, 10)\n"
          ]
        },
        {
          "output_type": "display_data",
          "data": {
            "text/plain": [
              "<Figure size 1000x400 with 0 Axes>"
            ]
          },
          "metadata": {}
        },
        {
          "output_type": "stream",
          "name": "stdout",
          "text": [
            "Doing PCA on node P18L0H1\n",
            "calc_pca_for_an Failed:P18L0H1 + A6 (6, 10)\n"
          ]
        },
        {
          "output_type": "display_data",
          "data": {
            "text/plain": [
              "<Figure size 1000x400 with 0 Axes>"
            ]
          },
          "metadata": {}
        },
        {
          "output_type": "stream",
          "name": "stdout",
          "text": [
            "Doing PCA on node P18L0H2\n",
            "calc_pca_for_an Failed:P18L0H2 + A6 (6, 10)\n"
          ]
        },
        {
          "output_type": "display_data",
          "data": {
            "text/plain": [
              "<Figure size 1000x400 with 0 Axes>"
            ]
          },
          "metadata": {}
        },
        {
          "output_type": "stream",
          "name": "stdout",
          "text": [
            "Doing PCA on node P19L0H1\n",
            "calc_pca_for_an Failed:P19L0H1 + A6 (6, 10)\n"
          ]
        },
        {
          "output_type": "display_data",
          "data": {
            "text/plain": [
              "<Figure size 1000x400 with 0 Axes>"
            ]
          },
          "metadata": {}
        },
        {
          "output_type": "stream",
          "name": "stdout",
          "text": [
            "Doing PCA on node P19L0H2\n",
            "calc_pca_for_an Failed:P19L0H2 + A6 (6, 10)\n"
          ]
        },
        {
          "output_type": "display_data",
          "data": {
            "text/plain": [
              "<Figure size 1000x400 with 0 Axes>"
            ]
          },
          "metadata": {}
        },
        {
          "output_type": "stream",
          "name": "stdout",
          "text": [
            "Doing PCA on node P19L1H2\n",
            "calc_pca_for_an Failed:P19L1H2 + A6 (6, 10)\n"
          ]
        },
        {
          "output_type": "display_data",
          "data": {
            "text/plain": [
              "<Figure size 1000x400 with 1 Axes>"
            ],
            "image/png": "[encoded data removed]"
          },
          "metadata": {}
        },
        {
          "output_type": "stream",
          "name": "stdout",
          "text": [
            "Doing PCA on node P20L0H1\n",
            "calc_pca_for_an Failed:P20L0H1 + A6 (6, 10)\n"
          ]
        },
        {
          "output_type": "display_data",
          "data": {
            "text/plain": [
              "<Figure size 1000x400 with 0 Axes>"
            ]
          },
          "metadata": {}
        },
        {
          "output_type": "stream",
          "name": "stdout",
          "text": [
            "Doing PCA on node P20L0H2\n",
            "calc_pca_for_an Failed:P20L0H2 + A6 (6, 10)\n"
          ]
        },
        {
          "output_type": "display_data",
          "data": {
            "text/plain": [
              "<Figure size 1000x400 with 0 Axes>"
            ]
          },
          "metadata": {}
        }
      ],
      "source": [
        "def auto_find_pca(op):\n",
        "  print(\"Automatic (weak) PCA tags for\", cfg.model_name, \"with operation\", token_to_char(cfg, op))\n",
        "  perc_threshold = 75\n",
        "\n",
        "  for node in cfg.useful_nodes.nodes:\n",
        "\n",
        "    # Exclude nodes with a (manual) PCA tag - for any answer digit(s)). Exclude MLP neurons.\n",
        "    minor_tag_prefix = MathsBehavior.PCA_ADD_TAG if op == MathsTokens.PLUS else MathsBehavior.PCA_SUB_TAG\n",
        "    if node.is_head and not node.contains_tag(QuantaType.PCA, minor_tag_prefix):\n",
        "      print( \"Doing PCA on node\", node.name())\n",
        "\n",
        "      auto_find_pca_node(node, op, perc_threshold)\n",
        "\n",
        "\n",
        "if use_pca:\n",
        "  if cfg.perc_add() > 0:\n",
        "    auto_find_pca(MathsTokens.PLUS)\n",
        "  if cfg.perc_sub > 0:\n",
        "    auto_find_pca(MathsTokens.MINUS)"
      ]
    },
    {
      "cell_type": "markdown",
      "metadata": {
        "id": "jFcCpfmKwlAH"
      },
      "source": [
        "# Part 20A: Results: Show useful nodes and behaviour tags"
      ]
    },
    {
      "cell_type": "code",
      "execution_count": 45,
      "metadata": {
        "id": "vbzIaqmtwmkH",
        "colab": {
          "base_uri": "https://localhost:8080/"
        },
        "outputId": "ee4c0d5e-1a2f-4a52-93be-42caaed9fcb3"
      },
      "outputs": [
        {
          "output_type": "stream",
          "name": "stdout",
          "text": [
            "P11L0M0 ['Fail%:7', 'Impact:A543', 'Math.Add:S234']\n",
            "P11L0H0 ['Fail%:7', 'Impact:A4', 'Math.Add:S2', 'Attn:P3=54', 'Attn:P10=45', 'PCA:A2.PA']\n",
            "P11L0H1 ['Fail%:9', 'Impact:A543', 'Math.Add:S234', 'Attn:P4=63', 'Attn:P11=32']\n",
            "P12L0M0 ['Fail%:24', 'Impact:A54', 'Math.Add:S12345']\n",
            "P12L0H0 ['Fail%:3', 'Impact:A4', 'Math.Add:S1', 'Attn:P2=51', 'Attn:P9=43', 'PCA:A3.PA']\n",
            "P13L0M0 ['Fail%:21', 'Impact:A54321', 'Math.Add:S12345']\n",
            "P13L0H0 ['PCA:A1.PA']\n",
            "P13L0H1 ['Fail%:21', 'Impact:A54321', 'Math.Add:S12345', 'Attn:P5=69', 'Attn:P12=29']\n",
            "P14L0M0 ['Fail%:4', 'Impact:A6', 'Math.Add:S1']\n",
            "P14L0H0 ['Fail%:3', 'Impact:A6', 'Math.Add:S2', 'Attn:P1=52', 'Attn:P8=47', 'PCA:A4.PA']\n",
            "P14L0H2 ['Fail%:17', 'Impact:A6', 'Math.Add:S145', 'Attn:P7=50', 'Attn:P0=50', 'PCA:A0.PA.Weak', 'PCA:A3.PA.Weak', 'PCA:A4.PA.Weak']\n",
            "P14L1H1 ['PCA:A4.PA']\n",
            "P15L0M0 ['Fail%:21', 'Impact:A5', 'Math.Add:S01245']\n",
            "P15L0H0 ['Fail%:29', 'Impact:A5', 'Math.Add:S1234', 'Attn:P1=53', 'Attn:P8=45', 'PCA:A4.PA']\n",
            "P15L0H1 ['Fail%:15', 'Impact:A5', 'Math.Add:S145', 'Attn:P7=35', 'Attn:P0=32', 'Attn:P15=24', 'Attn:P13=2']\n",
            "P15L0H2 ['Fail%:92', 'Impact:A5', 'Math.Add:S012345', 'Attn:P0=46', 'Attn:P7=46', 'Attn:P14=1']\n",
            "P15L1M0 ['Fail%:18', 'Impact:A5', 'Math.Add:S01245']\n",
            "P15L1H1 ['Fail%:4', 'Impact:A5', 'Math.Add:S45', 'Attn:P15=38', 'Attn:P14=13', 'Attn:P13=8', 'Attn:P6=6', 'PCA:A4.PA']\n",
            "P16L0M0 ['Fail%:75', 'Impact:A4', 'Math.Add:S01234']\n",
            "P16L0H0 ['Fail%:4', 'Impact:A4', 'Math.Add:S1', 'Attn:P2=51', 'Attn:P9=44', 'PCA:A3.PA']\n",
            "P16L0H1 ['Fail%:13', 'Impact:A4', 'Math.Add:S01234', 'Attn:P1=46', 'Attn:P8=42', 'Attn:P6=3', 'Attn:P14=3']\n",
            "P16L0H2 ['Fail%:63', 'Impact:A4', 'Math.Add:S01234', 'Attn:P8=46', 'Attn:P1=45', 'Attn:P14=1', 'Attn:P6=1']\n",
            "P16L1M0 ['Fail%:42', 'Impact:A4', 'Math.Add:S012345']\n",
            "P16L1H1 ['Fail%:13', 'Impact:A4', 'Math.Add:S1234', 'Attn:P12=24', 'Attn:P11=17', 'Attn:P16=15', 'Attn:P13=12', 'PCA:A3.PA']\n",
            "P17L0M0 ['Fail%:69', 'Impact:A3', 'Math.Add:S0123']\n",
            "P17L0H0 ['Fail%:7', 'Impact:A3', 'Math.Add:S12', 'Attn:P3=54', 'Attn:P10=45', 'PCA:A2.PA']\n",
            "P17L0H1 ['Fail%:13', 'Impact:A3', 'Math.Add:S123', 'Attn:P9=44', 'Attn:P2=43', 'Attn:P14=4', 'Attn:P6=3']\n",
            "P17L0H2 ['Fail%:36', 'Impact:A3', 'Math.Add:S0123', 'Attn:P9=47', 'Attn:P2=47']\n",
            "P17L1M0 ['Fail%:23', 'Impact:A3', 'Math.Add:S0123']\n",
            "P17L1H1 ['Fail%:0', 'Impact:A3', 'Math.Add:S4', 'Attn:P13=21', 'Attn:P11=18', 'Attn:P17=10', 'Attn:P5=9', 'PCA:A2.PA']\n",
            "P18L0M0 ['Fail%:68', 'Impact:A2', 'Math.Add:S012']\n",
            "P18L0H0 ['Fail%:2', 'Impact:A2', 'Math.Add:S1', 'Attn:P4=61', 'Attn:P11=37', 'PCA:A0.PA', 'PCA:A1.PA']\n",
            "P18L0H1 ['Fail%:3', 'Impact:A2', 'Math.Add:S12', 'Attn:P3=48', 'Attn:P10=42', 'Attn:P14=3', 'Attn:P6=1']\n",
            "P18L0H2 ['Fail%:28', 'Impact:A2', 'Math.Add:S012', 'Attn:P10=51', 'Attn:P3=45']\n",
            "P18L1M0 ['Fail%:23', 'Impact:A2', 'Math.Add:S012']\n",
            "P19L0M0 ['Fail%:82', 'Impact:A1', 'Math.Add:S012345']\n",
            "P19L0H0 ['Fail%:15', 'Impact:A1', 'Math.Add:S12345', 'Attn:P5=64', 'Attn:P12=32', 'PCA:A0.PA']\n",
            "P19L0H1 ['Fail%:6', 'Impact:A1', 'Math.Add:S1234', 'Attn:P4=47', 'Attn:P11=42', 'Attn:P14=4', 'Attn:P6=2']\n",
            "P19L0H2 ['Fail%:29', 'Impact:A1', 'Math.Add:S0123', 'Attn:P11=50', 'Attn:P4=47']\n",
            "P19L1M0 ['Fail%:25', 'Impact:A1', 'Math.Add:S0123']\n",
            "P19L1H2 ['Fail%:0', 'Impact:A1', 'Math.Add:S1', 'Attn:P19=45', 'Attn:P5=7', 'Attn:P13=6', 'Attn:P7=4', 'PCA:A0.PA.Weak']\n",
            "P20L0M0 ['Fail%:93', 'Impact:A0', 'Math.Add:S012345']\n",
            "P20L0H1 ['Fail%:8', 'Impact:A0', 'Math.Add:S12345', 'Attn:P5=33', 'Attn:P12=29', 'Attn:P14=25', 'Attn:P6=6']\n",
            "P20L0H2 ['Fail%:39', 'Impact:A0', 'Math.Add:S012345', 'Attn:P12=45', 'Attn:P5=45', 'Attn:P14=2', 'Attn:P6=1']\n",
            "P20L1M0 ['Fail%:68', 'Impact:A0', 'Math.Add:S01234']\n"
          ]
        }
      ],
      "source": [
        "cfg.useful_nodes.sort_nodes()\n",
        "cfg.useful_nodes.print_node_tags()"
      ]
    },
    {
      "cell_type": "markdown",
      "metadata": {
        "id": "IVkOJRmPvPms"
      },
      "source": [
        "# Part 20B: Results: Save useful nodes and behaviour tags to json file"
      ]
    },
    {
      "cell_type": "code",
      "execution_count": 46,
      "metadata": {
        "id": "naD2eCZevOsi",
        "colab": {
          "base_uri": "https://localhost:8080/"
        },
        "outputId": "d214d77c-7270-4719-a367-69fe50d65d0d"
      },
      "outputs": [
        {
          "output_type": "stream",
          "name": "stdout",
          "text": [
            "Saving useful node list with behavior tags: add_d6_l2_h3_t15K_s372001_behavior.json\n"
          ]
        }
      ],
      "source": [
        "# Serialize and save the useful nodes list to a temporary CoLab file in JSON format\n",
        "print( \"Saving useful node list with behavior tags:\", main_fname_behavior_json)\n",
        "cfg.useful_nodes.save_nodes(main_fname_behavior_json)"
      ]
    },
    {
      "cell_type": "markdown",
      "metadata": {
        "id": "bL9HjPDwSrwD"
      },
      "source": [
        "# Part 21A : Set up: Interchange Interventions\n",
        "\n",
        "Here we prove that model nodes perform specified calculations. If all the calculations in an algorithm hypothesis are found to exist in a model instance, this provides evidence for the hypothesis.   \n",
        "\n",
        "**Automatic searches** for node purposes are preferred, as they applicable to several models, and survive (non-sigificant, node-reordering) changes to the model after training. When a node purpose is detected, this is documented as a tag on the node.\n",
        "\n",
        "**Manually written tests** of node purposes, specific to a single model instance are also supported."
      ]
    },
    {
      "cell_type": "code",
      "execution_count": 101,
      "metadata": {
        "id": "Jk0gVCF9Gr5D"
      },
      "outputs": [],
      "source": [
        "def run_intervention_core(node_locations, store_question, clean_question, operation, expected_answer_impact, expected_answer_int, strong):\n",
        "  assert(len(node_locations) > 0)\n",
        "  assert(store_question[0] < + 10 ** cfg.n_digits)\n",
        "  assert(store_question[1] > - 10 ** cfg.n_digits)\n",
        "  assert(store_question[0] < + 10 ** cfg.n_digits)\n",
        "  assert(store_question[1] > - 10 ** cfg.n_digits)\n",
        "  assert(clean_question[0] < + 10 ** cfg.n_digits)\n",
        "  assert(clean_question[1] > - 10 ** cfg.n_digits)\n",
        "  assert(clean_question[0] < + 10 ** cfg.n_digits)\n",
        "  assert(clean_question[1] > - 10 ** cfg.n_digits)\n",
        "\n",
        "  # Calculate the test (clean) question answer e.g. \"+006671\"\n",
        "  clean_answer_int = clean_question[0]+clean_question[1] if operation == MathsTokens.PLUS else clean_question[0]-clean_question[1]\n",
        "  clean_answer_str = int_to_answer_str(cfg, clean_answer_int)\n",
        "  expected_answer_str = int_to_answer_str(cfg, expected_answer_int)\n",
        "\n",
        "  # Matrices of tokens\n",
        "  store_question_and_answer = make_maths_questions_and_answers(cfg, acfg.operation, \"\", \"\", [store_question])\n",
        "  clean_question_and_answer = make_maths_questions_and_answers(cfg, acfg.operation, \"\", \"\", [clean_question])\n",
        "\n",
        "  acfg.reset_intervention(expected_answer_str, expected_answer_impact, operation)\n",
        "  acfg.ablate_node_locations = node_locations\n",
        "\n",
        "  run_description = a_run_attention_intervention(cfg, store_question_and_answer, clean_question_and_answer, clean_answer_str)\n",
        "\n",
        "  return \"Intervening on \" + acfg.node_names() + \", \" + (\"Strong\" if strong else \"Weak\") + \", Node[0]=\" + acfg.ablate_node_locations[0].name() + \", \" + run_description\n",
        "\n",
        "\n",
        "# Run an intervention where we have a precise expectation of the intervention impact\n",
        "def run_strong_intervention(node_locations, store_question, clean_question, operation, expected_answer_impact, expected_answer_int):\n",
        "\n",
        "  # These are the actual model prediction outputs (while applying our node-level intervention).\n",
        "  description = run_intervention_core(node_locations, store_question, clean_question, operation, expected_answer_impact, expected_answer_int, True)\n",
        "\n",
        "  answer_success = (acfg.intervened_answer == acfg.expected_answer)\n",
        "  impact_success = (acfg.intervened_impact == acfg.expected_impact)\n",
        "  success = answer_success and impact_success\n",
        "\n",
        "  if acfg.show_test_failures and not success:\n",
        "    print(\"Failed: \" + description)\n",
        "\n",
        "  return success, answer_success, impact_success\n",
        "\n",
        "\n",
        "# Run an intervention where we expect the intervention to have a non-zero impact and we cant precisely predict the answer\n",
        "def run_weak_intervention(node_locations, store_question, clean_question, operation):\n",
        "\n",
        "  # Calculate the test (clean) question answer e.g. \"+006671\"\n",
        "  expected_answer_int = clean_question[0]+clean_question[1] if operation == MathsTokens.PLUS else clean_question[0]-clean_question[1]\n",
        "\n",
        "  description = run_intervention_core(node_locations, store_question, clean_question, operation, NO_IMPACT_TAG, expected_answer_int, False)\n",
        "\n",
        "  success = not ((acfg.intervened_answer == acfg.expected_answer) or (acfg.intervened_impact == NO_IMPACT_TAG))\n",
        "\n",
        "  if acfg.show_test_failures and not success:\n",
        "    print(\"Failed: Intervention had no impact on the answer\", description)\n",
        "\n",
        "  return success"
      ]
    },
    {
      "cell_type": "code",
      "execution_count": 102,
      "metadata": {
        "id": "J3RvmrLcKy0w"
      },
      "outputs": [],
      "source": [
        "def repeat_digit(digit):\n",
        "    return int(str(digit) * cfg.n_digits)\n",
        "\n",
        "\n",
        "# unit test\n",
        "if cfg.n_digits == 6:\n",
        "  assert repeat_digit(4) == 444444"
      ]
    },
    {
      "cell_type": "code",
      "execution_count": 103,
      "metadata": {
        "id": "P_ucys_1txG-"
      },
      "outputs": [],
      "source": [
        "def succeed_test(node_locations, alter_digit, strong):\n",
        "  print( \"Test confirmed\", node_locations[0].name(), node_locations[1].name() if len(node_locations)>1 else \"\", \"\" if strong else \"Weak\")\n",
        "  return True"
      ]
    },
    {
      "cell_type": "code",
      "execution_count": 104,
      "metadata": {
        "id": "lyVYckFtV-RV"
      },
      "outputs": [],
      "source": [
        "cfg.useful_nodes.reset_node_tags(QuantaType.ALGO)"
      ]
    },
    {
      "cell_type": "markdown",
      "metadata": {
        "id": "Fgg43Sqe8oF1"
      },
      "source": [
        "# Part 21B: Automated An.US search\n",
        "\n",
        "The addition Use Sum 9 (US) operation is a simple task. Search for An.US tasks."
      ]
    },
    {
      "cell_type": "code",
      "execution_count": 105,
      "metadata": {
        "id": "Fq9WJSHHGN0Q"
      },
      "outputs": [],
      "source": [
        "def add_us_tag(impact_digit):\n",
        "  return answer_name(impact_digit-1)  + \".\" + MathsAlgorithm.ADD_US_TAG"
      ]
    },
    {
      "cell_type": "code",
      "execution_count": 106,
      "metadata": {
        "id": "5xeffLN6eqIq"
      },
      "outputs": [],
      "source": [
        "# These rules are prerequisites for (not proof of) an Addition UseSum9 node\n",
        "def add_us_prereqs(position, impact_digit):\n",
        "  return FilterAnd(\n",
        "    FilterHead(),\n",
        "    FilterPosition(position_name(position)),\n",
        "    FilterAttention(cfg.dn_to_position_name(impact_digit-2)), # Attends to Dn-2\n",
        "    FilterAttention(cfg.ddn_to_position_name(impact_digit-2)), # Attends to D'n-2\n",
        "    FilterImpact(answer_name(impact_digit)))"
      ]
    },
    {
      "cell_type": "code",
      "execution_count": 107,
      "metadata": {
        "id": "G8y-7JQX8oSP"
      },
      "outputs": [],
      "source": [
        "def add_us_test(node_locations, alter_digit, strong):\n",
        "  if alter_digit < 2 or alter_digit > cfg.n_digits:\n",
        "    acfg.reset_intervention()\n",
        "    return False\n",
        "\n",
        "  intervention_impact = answer_name(alter_digit)\n",
        "\n",
        "  # 25222 + 44444 = 69666. Has no Dn-2.MC but has Dn-1.US so not a US case\n",
        "  store_question = [repeat_digit(2), repeat_digit(4)]\n",
        "  store_question[0] += (5-2) * 10 ** (alter_digit - 1)\n",
        "\n",
        "  # 34633 + 55555 = 90188. Has Dn-2.MC and Dn-1.US so is a US case\n",
        "  clean_question = [repeat_digit(3), repeat_digit(5)]\n",
        "  clean_question[0] += (4-3) * 10 ** (alter_digit - 1)\n",
        "  clean_question[0] += (6-3) * 10 ** (alter_digit - 2)\n",
        "\n",
        "  # When we intervene we expect answer 80188\n",
        "  intervened_answer = clean_question[0] + clean_question[1] - 10 ** (alter_digit)\n",
        "\n",
        "\n",
        "  # Unit test\n",
        "  if cfg.n_digits == 5 and alter_digit == 4:\n",
        "    assert store_question[0] == 25222\n",
        "    assert clean_question[0] == 34633\n",
        "    assert clean_question[0] + clean_question[1] == 90188\n",
        "    assert intervened_answer == 80188\n",
        "\n",
        "\n",
        "  success, _, _ = run_strong_intervention(node_locations, store_question, clean_question, MathsTokens.PLUS, intervention_impact, intervened_answer)\n",
        "\n",
        "  if success:\n",
        "    print( \"Test confirmed\", acfg.node_names(), \"perform D\"+str(alter_digit)+\".US impacting \"+intervention_impact+\" accuracy.\", \"\" if strong else \"Weak\")\n",
        "\n",
        "  return success"
      ]
    },
    {
      "cell_type": "code",
      "execution_count": 108,
      "metadata": {
        "id": "nUYf20mk8zls",
        "colab": {
          "base_uri": "https://localhost:8080/"
        },
        "outputId": "9b02effe-139e-41dc-8a61-38eb8aa7e2f4"
      },
      "outputs": [
        {
          "output_type": "stream",
          "name": "stdout",
          "text": [
            "Test confirmed P11L0H0 perform D4.US impacting A4 accuracy. \n",
            "Test confirmed P14L0H0 perform D6.US impacting A6 accuracy. \n",
            "Ran 2 intervention test(s). Added 2 tag(s)\n"
          ]
        }
      ],
      "source": [
        "search_and_tag( cfg, acfg, add_us_prereqs, add_us_test, add_us_tag, False, False)"
      ]
    },
    {
      "cell_type": "markdown",
      "metadata": {
        "id": "Z5DMV3I_25ST"
      },
      "source": [
        "# Part 21C: Automated An.MC search\n",
        "\n",
        "The addition Make Carry (MC) operation is a simple task. Search for An.MC tasks."
      ]
    },
    {
      "cell_type": "code",
      "execution_count": 109,
      "metadata": {
        "id": "YizIdKqven8h"
      },
      "outputs": [],
      "source": [
        "def add_mc_tag(impact_digit):\n",
        "  return answer_name(impact_digit-1)  + \".\" + MathsAlgorithm.ADD_MC_TAG"
      ]
    },
    {
      "cell_type": "code",
      "execution_count": 110,
      "metadata": {
        "id": "HXevYPyteXy1"
      },
      "outputs": [],
      "source": [
        "# These rules are prerequisites for (not proof of) an Addition MakeCarry node\n",
        "def add_mc_prereqs(position, impact_digit):\n",
        "  return FilterAnd(\n",
        "    FilterHead(),\n",
        "    FilterPosition(position_name(position)),\n",
        "    FilterAttention(cfg.dn_to_position_name(impact_digit-1)), # MC is calculated on the next lower-value digit.\n",
        "    FilterAttention(cfg.ddn_to_position_name(impact_digit-1)), # MC is calculated on the next lower-value digit.\n",
        "    FilterImpact(answer_name(impact_digit)))"
      ]
    },
    {
      "cell_type": "code",
      "execution_count": 111,
      "metadata": {
        "id": "wJBYT0hF3R_u"
      },
      "outputs": [],
      "source": [
        "def add_mc_test(node_locations, impact_digit, strong):\n",
        "  alter_digit = impact_digit - 1\n",
        "\n",
        "  if alter_digit < 0 or alter_digit >= cfg.n_digits:\n",
        "    acfg.reset_intervention()\n",
        "    return False\n",
        "\n",
        "  intervention_impact = answer_name(impact_digit)\n",
        "\n",
        "  # 222222 + 666966 = 889188. Has Dn.MC\n",
        "  store_question = [repeat_digit(2), repeat_digit(6)]\n",
        "  store_question[1] += (9 - 6) * (10 ** alter_digit)\n",
        "\n",
        "  # 333333 + 555555 = 888888. No Dn.MC\n",
        "  clean_question = [repeat_digit(3), repeat_digit(5)]\n",
        "\n",
        "  # When we intervene we expect answer 889888\n",
        "  intervened_answer = clean_question[0] + clean_question[1] + 10 ** (alter_digit+1)\n",
        "\n",
        "  success, _, _ = run_strong_intervention(node_locations, store_question, clean_question, MathsTokens.PLUS, intervention_impact, intervened_answer)\n",
        "\n",
        "  if success:\n",
        "    print( \"Test confirmed\", acfg.node_names(), \"perform D\"+str(alter_digit)+\".MC impacting \"+intervention_impact+\" accuracy.\", \"\" if strong else \"Weak\")\n",
        "\n",
        "  return success"
      ]
    },
    {
      "cell_type": "code",
      "execution_count": 112,
      "metadata": {
        "id": "xvS1eOReZUq1",
        "colab": {
          "base_uri": "https://localhost:8080/"
        },
        "outputId": "6aa2c3a4-0b0a-48ba-dcc7-08769e578b0a"
      },
      "outputs": [
        {
          "output_type": "stream",
          "name": "stdout",
          "text": [
            "Test confirmed P19L0H0 perform D0.MC impacting A1 accuracy. \n",
            "Test confirmed P18L0H0 perform D1.MC impacting A2 accuracy. \n",
            "Test confirmed P17L0H0 perform D2.MC impacting A3 accuracy. \n",
            "Failed: Intervening on P12L0H0, Strong, Node[0]=P12L0H0, CleanAnswer: +0888888, ExpectedAnswer/Impact: +0898888/A4, IntervenedAnswer/Impact: +0888888/(none)\n",
            "Test confirmed P16L0H0 perform D3.MC impacting A4 accuracy. \n",
            "Test confirmed P15L0H0 perform D4.MC impacting A5 accuracy. \n",
            "Test confirmed P14L0H2 perform D5.MC impacting A6 accuracy. \n",
            "Ran 7 intervention test(s). Added 6 tag(s)\n"
          ]
        }
      ],
      "source": [
        "search_and_tag( cfg, acfg, add_mc_prereqs, add_mc_test, add_mc_tag, False, False)"
      ]
    },
    {
      "cell_type": "markdown",
      "metadata": {
        "id": "Iosx5zE_macF"
      },
      "source": [
        "# Part 21D: Automated An.BA search\n",
        "\n",
        "The addition Base Add (BA) operation is a simple task. The task may be split/shared over 2 attention heads in the same position. Search for An.BA calculations."
      ]
    },
    {
      "cell_type": "code",
      "execution_count": 113,
      "metadata": {
        "id": "Eq_nczrDdxjy"
      },
      "outputs": [],
      "source": [
        "def add_ba_tag(impact_digit):\n",
        "  return answer_name(impact_digit) + \".\" + MathsAlgorithm.ADD_BA_TAG"
      ]
    },
    {
      "cell_type": "code",
      "execution_count": 114,
      "metadata": {
        "id": "QLXpgGXpWpPp"
      },
      "outputs": [],
      "source": [
        "# These rules are prerequisites for (not proof of) an Addition BaseAdd node\n",
        "def add_ba_prereqs(position, impact_digit):\n",
        "  return FilterAnd(\n",
        "    FilterHead(),\n",
        "    FilterPosition(position_name(position)),\n",
        "    FilterAttention(cfg.dn_to_position_name(impact_digit)), # Attends to Dn\n",
        "    FilterAttention(cfg.ddn_to_position_name(impact_digit)), # Attends to D'n\n",
        "    FilterImpact(answer_name(impact_digit)), # Impacts An\n",
        "    FilterAlgo(add_ba_tag(impact_digit), QuantaFilter.NOT)) # Has not already been flagged as a BA task"
      ]
    },
    {
      "cell_type": "code",
      "execution_count": 115,
      "metadata": {
        "id": "P-Gs5yglncax"
      },
      "outputs": [],
      "source": [
        "def add_ba_test1(alter_digit):\n",
        "  # 222222 + 111111 = 333333. No Dn.MC\n",
        "  store_question = [repeat_digit(2), repeat_digit(1)]\n",
        "\n",
        "  # 555555 + 444444 = 999999. No Dn.MC\n",
        "  clean_question = [repeat_digit(5), repeat_digit(4)]\n",
        "\n",
        "  # When we intervene we expect answer 999399\n",
        "  intervened_answer = clean_question[0] + clean_question[1] + (3-9) * 10 ** alter_digit\n",
        "\n",
        "  return store_question, clean_question, intervened_answer\n",
        "\n",
        "\n",
        "def add_ba_test2(alter_digit):\n",
        "  # 222222 + 666666 = 888888. No Dn.MC\n",
        "  store_question = [repeat_digit(2), repeat_digit(6)]\n",
        "\n",
        "  # 555555 + 111111 = 666666. No Dn.MC\n",
        "  clean_question = [repeat_digit(5), repeat_digit(1)]\n",
        "\n",
        "  # When we intervene we expect answer 666866\n",
        "  intervened_answer = clean_question[0] + clean_question[1] + (8-6) * 10 ** alter_digit\n",
        "\n",
        "  return store_question, clean_question, intervened_answer\n",
        "\n",
        "\n",
        "def add_ba_test(node_locations, alter_digit, strong):\n",
        "  intervention_impact = answer_name(alter_digit)\n",
        "\n",
        "  store_question, clean_question, intervened_answer = add_ba_test1(alter_digit)\n",
        "  success1, answer_success1, impact_success1 = run_strong_intervention(node_locations, store_question, clean_question, MathsTokens.PLUS, intervention_impact, intervened_answer)\n",
        "\n",
        "  store_question, clean_question, intervened_answer = add_ba_test2(alter_digit)\n",
        "  success2, answer_success2, impact_success2 = run_strong_intervention(node_locations, store_question, clean_question, MathsTokens.PLUS, intervention_impact, intervened_answer)\n",
        "\n",
        "  success = (success1 and success2) if strong else (impact_success1 and impact_success2)\n",
        "\n",
        "  if success:\n",
        "    print( \"Test confirmed:\", acfg.node_names(), \"perform D\"+str(alter_digit)+\".BA = (D\"+str(alter_digit)+\" + D'\"+str(alter_digit)+\") % 10 impacting \"+intervention_impact+\" accuracy.\", \"\" if strong else \"Weak\", acfg.intervened_answer)\n",
        "\n",
        "  return success"
      ]
    },
    {
      "cell_type": "code",
      "execution_count": 116,
      "metadata": {
        "id": "AIktdaRL-BfP",
        "colab": {
          "base_uri": "https://localhost:8080/"
        },
        "outputId": "7d6bd53e-a3c2-4a20-ca66-3ff3049cfbda"
      },
      "outputs": [
        {
          "output_type": "stream",
          "name": "stdout",
          "text": [
            "Failed: Intervening on P20L0H1, Strong, Node[0]=P20L0H1, CleanAnswer: +0999999, ExpectedAnswer/Impact: +0999993/A0, IntervenedAnswer/Impact: +0999999/(none)\n",
            "Failed: Intervening on P20L0H1, Strong, Node[0]=P20L0H1, CleanAnswer: +0666666, ExpectedAnswer/Impact: +0666668/A0, IntervenedAnswer/Impact: +0666667/A0, Loss: 0.5989681477802504\n",
            "Failed: Intervening on P20L0H2, Strong, Node[0]=P20L0H2, CleanAnswer: +0999999, ExpectedAnswer/Impact: +0999993/A0, IntervenedAnswer/Impact: +0999996/A0, Loss: 1.160719600862343\n",
            "Failed: Intervening on P20L0H2, Strong, Node[0]=P20L0H2, CleanAnswer: +0666666, ExpectedAnswer/Impact: +0666668/A0, IntervenedAnswer/Impact: +0666667/A0, Loss: 2.0831675525459787\n",
            "Test confirmed: P20L0H1, P20L0H2 perform D0.BA = (D0 + D'0) % 10 impacting A0 accuracy.  +0666668\n",
            "Failed: Intervening on P19L0H1, Strong, Node[0]=P19L0H1, CleanAnswer: +0999999, ExpectedAnswer/Impact: +0999939/A1, IntervenedAnswer/Impact: +0999999/(none)\n",
            "Failed: Intervening on P19L0H1, Strong, Node[0]=P19L0H1, CleanAnswer: +0666666, ExpectedAnswer/Impact: +0666686/A1, IntervenedAnswer/Impact: +0666676/A1, Loss: 1.3455662513109563\n",
            "Failed: Intervening on P19L0H2, Strong, Node[0]=P19L0H2, CleanAnswer: +0999999, ExpectedAnswer/Impact: +0999939/A1, IntervenedAnswer/Impact: +0999969/A1, Loss: 1.227100184552407\n",
            "Failed: Intervening on P19L0H2, Strong, Node[0]=P19L0H2, CleanAnswer: +0666666, ExpectedAnswer/Impact: +0666686/A1, IntervenedAnswer/Impact: +0666676/A1, Loss: 1.4838741160773066\n",
            "Test confirmed: P19L0H1, P19L0H2 perform D1.BA = (D1 + D'1) % 10 impacting A1 accuracy.  +0666686\n",
            "Failed: Intervening on P18L0H1, Strong, Node[0]=P18L0H1, CleanAnswer: +0999999, ExpectedAnswer/Impact: +0999399/A2, IntervenedAnswer/Impact: +0999999/(none)\n",
            "Failed: Intervening on P18L0H1, Strong, Node[0]=P18L0H1, CleanAnswer: +0666666, ExpectedAnswer/Impact: +0666866/A2, IntervenedAnswer/Impact: +0666766/A2, Loss: 1.2296926662516794\n",
            "Failed: Intervening on P18L0H2, Strong, Node[0]=P18L0H2, CleanAnswer: +0999999, ExpectedAnswer/Impact: +0999399/A2, IntervenedAnswer/Impact: +0999699/A2, Loss: 0.7371621659326987\n",
            "Failed: Intervening on P18L0H2, Strong, Node[0]=P18L0H2, CleanAnswer: +0666666, ExpectedAnswer/Impact: +0666866/A2, IntervenedAnswer/Impact: +0666766/A2, Loss: 1.6216516404971486\n",
            "Test confirmed: P18L0H1, P18L0H2 perform D2.BA = (D2 + D'2) % 10 impacting A2 accuracy.  +0666866\n",
            "Failed: Intervening on P17L0H1, Strong, Node[0]=P17L0H1, CleanAnswer: +0999999, ExpectedAnswer/Impact: +0993999/A3, IntervenedAnswer/Impact: +0999999/(none)\n",
            "Failed: Intervening on P17L0H1, Strong, Node[0]=P17L0H1, CleanAnswer: +0666666, ExpectedAnswer/Impact: +0668666/A3, IntervenedAnswer/Impact: +0667666/A3, Loss: 1.2049863651788941\n",
            "Failed: Intervening on P17L0H2, Strong, Node[0]=P17L0H2, CleanAnswer: +0999999, ExpectedAnswer/Impact: +0993999/A3, IntervenedAnswer/Impact: +0996999/A3, Loss: 0.89608405534526\n",
            "Failed: Intervening on P17L0H2, Strong, Node[0]=P17L0H2, CleanAnswer: +0666666, ExpectedAnswer/Impact: +0668666/A3, IntervenedAnswer/Impact: +0667666/A3, Loss: 1.662914915063274\n",
            "Test confirmed: P17L0H1, P17L0H2 perform D3.BA = (D3 + D'3) % 10 impacting A3 accuracy.  +0668666\n",
            "Failed: Intervening on P16L0H1, Strong, Node[0]=P16L0H1, CleanAnswer: +0999999, ExpectedAnswer/Impact: +0939999/A4, IntervenedAnswer/Impact: +0999999/(none)\n",
            "Failed: Intervening on P16L0H1, Strong, Node[0]=P16L0H1, CleanAnswer: +0666666, ExpectedAnswer/Impact: +0686666/A4, IntervenedAnswer/Impact: +0676666/A4, Loss: 1.23512277070008\n",
            "Failed: Intervening on P16L0H2, Strong, Node[0]=P16L0H2, CleanAnswer: +0999999, ExpectedAnswer/Impact: +0939999/A4, IntervenedAnswer/Impact: +0969999/A4, Loss: 0.9087755925341093\n",
            "Failed: Intervening on P16L0H2, Strong, Node[0]=P16L0H2, CleanAnswer: +0666666, ExpectedAnswer/Impact: +0686666/A4, IntervenedAnswer/Impact: +0676666/A4, Loss: 1.7204105497790314\n",
            "Test confirmed: P16L0H1, P16L0H2 perform D4.BA = (D4 + D'4) % 10 impacting A4 accuracy.  +0686666\n",
            "Failed: Intervening on P15L0H1, Strong, Node[0]=P15L0H1, CleanAnswer: +0999999, ExpectedAnswer/Impact: +0399999/A5, IntervenedAnswer/Impact: +0999999/(none)\n",
            "Failed: Intervening on P15L0H1, Strong, Node[0]=P15L0H1, CleanAnswer: +0666666, ExpectedAnswer/Impact: +0866666/A5, IntervenedAnswer/Impact: +0766666/A5, Loss: 1.0468085217323992\n",
            "Failed: Intervening on P15L0H2, Strong, Node[0]=P15L0H2, CleanAnswer: +0999999, ExpectedAnswer/Impact: +0399999/A5, IntervenedAnswer/Impact: +0699999/A5, Loss: 1.2807094859540775\n",
            "Failed: Intervening on P15L0H2, Strong, Node[0]=P15L0H2, CleanAnswer: +0666666, ExpectedAnswer/Impact: +0866666/A5, IntervenedAnswer/Impact: +0766666/A5, Loss: 1.7907869985142044\n",
            "Test confirmed: P15L0H1, P15L0H2 perform D5.BA = (D5 + D'5) % 10 impacting A5 accuracy.  +0866666\n",
            "Ran 36 intervention test(s). Added 12 tag(s)\n"
          ]
        }
      ],
      "source": [
        "#cfg.useful_nodes.reset_node_tags(QuantaType.ALGO)\n",
        "#acfg.show_test_failures = True\n",
        "search_and_tag( cfg, acfg, add_ba_prereqs, add_ba_test, add_ba_tag, True, True )"
      ]
    },
    {
      "cell_type": "markdown",
      "metadata": {
        "id": "ThzFD1FxBXg8"
      },
      "source": [
        "# Part 21E: Automated Dn.C search\n",
        "\n",
        "Search for D0.C to D5.C with impact \"A65432\" to \"A65\" in early tokens.\n",
        "\n",
        "A0 and A1 are too simple to need Dn.C values so they are excluded from the answer impact."
      ]
    },
    {
      "cell_type": "code",
      "execution_count": 117,
      "metadata": {
        "id": "p0aF8E-bd736"
      },
      "outputs": [],
      "source": [
        "def add_tc_tag(focus_digit):\n",
        "  return \"D\" + str(focus_digit) + \".\" + MathsAlgorithm.ADD_TC_TAG"
      ]
    },
    {
      "cell_type": "code",
      "execution_count": 118,
      "metadata": {
        "id": "gV8sqYs7dCcj"
      },
      "outputs": [],
      "source": [
        "# These rules are prerequisites for (not proof of) an Addition Dn.C node\n",
        "def add_tc_prereqs(position, focus_digit):\n",
        "  return FilterAnd(\n",
        "    FilterHead(),\n",
        "    FilterPosition(position_name(position)),\n",
        "    FilterAttention(cfg.dn_to_position_name(focus_digit)), # Attends to Dn\n",
        "    FilterAttention(cfg.ddn_to_position_name(focus_digit)), # Attends to D'n\n",
        "    FilterPCA(MathsBehavior.PCA_ADD_TAG, QuantaFilter.CONTAINS)) # Node PCA is interpretable (bigram or trigram output) with respect to T8,T9,T10"
      ]
    },
    {
      "cell_type": "code",
      "execution_count": 119,
      "metadata": {
        "id": "N-bcEooQBp2v"
      },
      "outputs": [],
      "source": [
        "def add_tc_test(node_locations, focus_digit, strong):\n",
        "  # 222222 + 777977 = 1000188. Has Dn.MC\n",
        "  store_question = [repeat_digit(2), repeat_digit(7)]\n",
        "  store_question[1] += (9 - 7) * (10 ** focus_digit)\n",
        "\n",
        "  # 333333 + 666666 = 999999. No Dn.MC\n",
        "  clean_question = [repeat_digit(3), repeat_digit(6)]\n",
        "\n",
        "  success = run_weak_intervention(node_locations, store_question, clean_question, MathsTokens.PLUS)\n",
        "\n",
        "  if success:\n",
        "    description = acfg.node_names() + \" perform D\"+str(focus_digit)+\".C = TriCase(D\"+str(focus_digit)+\" + D'\"+str(focus_digit)+\")\"\n",
        "    print(\"Test confirmed\", description, \"Impact:\", acfg.intervened_impact, \"\" if strong else \"Weak\")\n",
        "\n",
        "  return success"
      ]
    },
    {
      "cell_type": "code",
      "execution_count": 120,
      "metadata": {
        "id": "wFJV4pfWSwHQ",
        "colab": {
          "base_uri": "https://localhost:8080/"
        },
        "outputId": "39b42598-6660-44b4-e570-2ea26e9b0bb7"
      },
      "outputs": [
        {
          "output_type": "stream",
          "name": "stdout",
          "text": [
            "Test confirmed P11L0H0 perform D2.C = TriCase(D2 + D'2) Impact: A6543 \n",
            "Test confirmed P12L0H0 perform D3.C = TriCase(D3 + D'3) Impact: A654 \n",
            "Test confirmed P14L0H0 perform D4.C = TriCase(D4 + D'4) Impact: A6 \n",
            "Test confirmed P14L0H2 perform D5.C = TriCase(D5 + D'5) Impact: A6 \n",
            "Ran 4 intervention test(s). Added 4 tag(s)\n"
          ]
        }
      ],
      "source": [
        "if cfg.n_layers > 1: # Have not seen this task in 1-layer models.\n",
        "  search_and_tag( cfg, acfg, add_tc_prereqs, add_tc_test, add_tc_tag,\n",
        "    False, # Have not seen this task split between nodes.\n",
        "    False,\n",
        "    cfg.n_digits, cfg.num_question_positions) # These occur from the first D'n digit to the first answer digit."
      ]
    },
    {
      "cell_type": "markdown",
      "metadata": {
        "id": "3jOBIUDzRrGz"
      },
      "source": [
        "# Part 21F: Automated An.BS search\n",
        "\n",
        "The subtraction Base Subtraction (BS) operation is a simple task. The task may be split/shared over 2 attention heads in the same position. Search for An.BS calculations."
      ]
    },
    {
      "cell_type": "code",
      "execution_count": 121,
      "metadata": {
        "id": "IE4icd5UR12w"
      },
      "outputs": [],
      "source": [
        "def sub_bs_tag(impact_digit):\n",
        "  return answer_name(impact_digit) + \".\" + MathsAlgorithm.SUB_BS_TAG"
      ]
    },
    {
      "cell_type": "code",
      "execution_count": 122,
      "metadata": {
        "id": "DbeReTw3R8yR"
      },
      "outputs": [],
      "source": [
        "# These rules are prerequisites for (not proof of) a BaseSubtraction node\n",
        "def sub_bs_prereqs(position, impact_digit):\n",
        "  return FilterAnd(\n",
        "    FilterHead(),\n",
        "    FilterPosition(position_name(position)),\n",
        "    FilterAttention(cfg.dn_to_position_name(impact_digit)), # Attends to Dn\n",
        "    FilterAttention(cfg.ddn_to_position_name(impact_digit)), # Attends to D'n\n",
        "    FilterImpact(answer_name(impact_digit)), # Impacts An\n",
        "    FilterAlgo(sub_bs_tag(impact_digit), QuantaFilter.NOT)) # Has not already been flagged as a BS task"
      ]
    },
    {
      "cell_type": "code",
      "execution_count": 123,
      "metadata": {
        "id": "Cxce_IoeSTl4"
      },
      "outputs": [],
      "source": [
        "def sub_bs_test1(alter_digit):\n",
        "  # 333333 - 111111 = 222222. No Dn.BO\n",
        "  store_question = [repeat_digit(3), repeat_digit(1)]\n",
        "\n",
        "  # 999999 - 444444 = 555555. No Dn.BO\n",
        "  clean_question = [repeat_digit(9), repeat_digit(4)]\n",
        "\n",
        "  # When we intervene we expect answer 555255\n",
        "  intervened_answer = clean_question[0] - clean_question[1] + (2-5) * 10 ** alter_digit\n",
        "\n",
        "  return store_question, clean_question, intervened_answer\n",
        "\n",
        "\n",
        "def sub_bs_test2(alter_digit):\n",
        "  # 666666 - 222222 = 444444. No Dn.BO\n",
        "  store_question = [repeat_digit(6), repeat_digit(2)]\n",
        "\n",
        "  # 999999 - 333333 = 666666. No Dn.BO\n",
        "  clean_question = [repeat_digit(9), repeat_digit(3)]\n",
        "\n",
        "  # When we intervene we expect answer 666466\n",
        "  intervened_answer = clean_question[0] - clean_question[1] + (4-6) * 10 ** alter_digit\n",
        "\n",
        "  return store_question, clean_question, intervened_answer\n",
        "\n",
        "\n",
        "def sub_bs_test(node_locations, alter_digit, strong):\n",
        "  intervention_impact = answer_name(alter_digit)\n",
        "\n",
        "  store_question, clean_question, intervened_answer = sub_bs_test1(alter_digit)\n",
        "  success1, answer_success1, impact_success1 = run_strong_intervention(node_locations, store_question, clean_question, MathsTokens.MINUS, intervention_impact, intervened_answer)\n",
        "\n",
        "  store_question, clean_question, intervened_answer = sub_bs_test2(alter_digit)\n",
        "  success2, answer_success2, impact_success2 = run_strong_intervention(node_locations, store_question, clean_question, MathsTokens.MINUS, intervention_impact, intervened_answer)\n",
        "\n",
        "  success = (success1 and success2) if strong else (impact_success1 and impact_success2)\n",
        "\n",
        "  if success:\n",
        "    print( \"Test confirmed:\", acfg.node_names(), \"perform D\"+str(alter_digit)+\".BS = (D\"+str(alter_digit)+\" + D'\"+str(alter_digit)+\") % 10 impacting \"+intervention_impact+\" accuracy.\", \"\" if strong else \"Weak\")\n",
        "\n",
        "  return success"
      ]
    },
    {
      "cell_type": "code",
      "execution_count": 124,
      "metadata": {
        "id": "zKag6sUnVS2N",
        "colab": {
          "base_uri": "https://localhost:8080/"
        },
        "outputId": "2e3ec3c2-18ec-453e-8646-433c58a342fa"
      },
      "outputs": [
        {
          "output_type": "stream",
          "name": "stdout",
          "text": [
            "Failed: Intervening on P20L0H1, Strong, Node[0]=P20L0H1, CleanAnswer: +0555555, ExpectedAnswer/Impact: +0555552/A0, IntervenedAnswer/Impact: +1444443/A6543210\n",
            "Failed: Intervening on P20L0H1, Strong, Node[0]=P20L0H1, CleanAnswer: +0666666, ExpectedAnswer/Impact: +0666664/A0, IntervenedAnswer/Impact: +1333335/A6543210, Loss: 18.65778601356228\n",
            "Failed: Intervening on P20L0H2, Strong, Node[0]=P20L0H2, CleanAnswer: +0555555, ExpectedAnswer/Impact: +0555552/A0, IntervenedAnswer/Impact: +1444444/A6543210, Loss: 16.372420332970115\n",
            "Failed: Intervening on P20L0H2, Strong, Node[0]=P20L0H2, CleanAnswer: +0666666, ExpectedAnswer/Impact: +0666664/A0, IntervenedAnswer/Impact: +1333339/A6543210, Loss: 18.553112483623494\n",
            "Failed: Intervening on P20L0H1, P20L0H2, Strong, Node[0]=P20L0H1, CleanAnswer: +0555555, ExpectedAnswer/Impact: +0555552/A0, IntervenedAnswer/Impact: +1444444/A6543210, Loss: 18.38104514378692\n",
            "Failed: Intervening on P20L0H1, P20L0H2, Strong, Node[0]=P20L0H1, CleanAnswer: +0666666, ExpectedAnswer/Impact: +0666664/A0, IntervenedAnswer/Impact: +1333338/A6543210, Loss: 19.46132353063602\n",
            "Failed: Intervening on P20L0H1, Strong, Node[0]=P20L0H1, CleanAnswer: +0555555, ExpectedAnswer/Impact: +0555552/A0, IntervenedAnswer/Impact: +1444443/A6543210, Loss: 18.113927390016375\n",
            "Failed: Intervening on P20L0H1, Strong, Node[0]=P20L0H1, CleanAnswer: +0666666, ExpectedAnswer/Impact: +0666664/A0, IntervenedAnswer/Impact: +1333335/A6543210, Loss: 18.65778601356228\n",
            "Failed: Intervening on P20L0H2, Strong, Node[0]=P20L0H2, CleanAnswer: +0555555, ExpectedAnswer/Impact: +0555552/A0, IntervenedAnswer/Impact: +1444444/A6543210, Loss: 16.372420332970115\n",
            "Failed: Intervening on P20L0H2, Strong, Node[0]=P20L0H2, CleanAnswer: +0666666, ExpectedAnswer/Impact: +0666664/A0, IntervenedAnswer/Impact: +1333339/A6543210, Loss: 18.553112483623494\n",
            "Failed: Intervening on P20L0H1, P20L0H2, Strong, Node[0]=P20L0H1, CleanAnswer: +0555555, ExpectedAnswer/Impact: +0555552/A0, IntervenedAnswer/Impact: +1444444/A6543210, Loss: 18.38104514378692\n",
            "Failed: Intervening on P20L0H1, P20L0H2, Strong, Node[0]=P20L0H1, CleanAnswer: +0666666, ExpectedAnswer/Impact: +0666664/A0, IntervenedAnswer/Impact: +1333338/A6543210, Loss: 19.46132353063602\n",
            "Failed: Intervening on P19L0H1, Strong, Node[0]=P19L0H1, CleanAnswer: +0555555, ExpectedAnswer/Impact: +0555525/A1, IntervenedAnswer/Impact: +1444443/A6543210, Loss: 17.50649132749347\n",
            "Failed: Intervening on P19L0H1, Strong, Node[0]=P19L0H1, CleanAnswer: +0666666, ExpectedAnswer/Impact: +0666646/A1, IntervenedAnswer/Impact: +1333322/A6543210, Loss: 16.25992509239063\n",
            "Failed: Intervening on P19L0H2, Strong, Node[0]=P19L0H2, CleanAnswer: +0555555, ExpectedAnswer/Impact: +0555525/A1, IntervenedAnswer/Impact: +1444403/A6543210, Loss: 16.54277225351\n",
            "Failed: Intervening on P19L0H2, Strong, Node[0]=P19L0H2, CleanAnswer: +0666666, ExpectedAnswer/Impact: +0666646/A1, IntervenedAnswer/Impact: +1333302/A6543210, Loss: 16.308404047196646\n",
            "Failed: Intervening on P19L0H1, P19L0H2, Strong, Node[0]=P19L0H1, CleanAnswer: +0555555, ExpectedAnswer/Impact: +0555525/A1, IntervenedAnswer/Impact: +1444453/A654320, Loss: 16.378516962788375\n",
            "Failed: Intervening on P19L0H1, P19L0H2, Strong, Node[0]=P19L0H1, CleanAnswer: +0666666, ExpectedAnswer/Impact: +0666646/A1, IntervenedAnswer/Impact: +1333392/A6543210, Loss: 18.83720670545296\n",
            "Failed: Intervening on P19L0H1, Strong, Node[0]=P19L0H1, CleanAnswer: +0555555, ExpectedAnswer/Impact: +0555525/A1, IntervenedAnswer/Impact: +1444443/A6543210, Loss: 17.50649132749347\n",
            "Failed: Intervening on P19L0H1, Strong, Node[0]=P19L0H1, CleanAnswer: +0666666, ExpectedAnswer/Impact: +0666646/A1, IntervenedAnswer/Impact: +1333322/A6543210, Loss: 16.25992509239063\n",
            "Failed: Intervening on P19L0H2, Strong, Node[0]=P19L0H2, CleanAnswer: +0555555, ExpectedAnswer/Impact: +0555525/A1, IntervenedAnswer/Impact: +1444403/A6543210, Loss: 16.54277225351\n",
            "Failed: Intervening on P19L0H2, Strong, Node[0]=P19L0H2, CleanAnswer: +0666666, ExpectedAnswer/Impact: +0666646/A1, IntervenedAnswer/Impact: +1333302/A6543210, Loss: 16.308404047196646\n",
            "Failed: Intervening on P19L0H1, P19L0H2, Strong, Node[0]=P19L0H1, CleanAnswer: +0555555, ExpectedAnswer/Impact: +0555525/A1, IntervenedAnswer/Impact: +1444453/A654320, Loss: 16.378516962788375\n",
            "Failed: Intervening on P19L0H1, P19L0H2, Strong, Node[0]=P19L0H1, CleanAnswer: +0666666, ExpectedAnswer/Impact: +0666646/A1, IntervenedAnswer/Impact: +1333392/A6543210, Loss: 18.83720670545296\n",
            "Failed: Intervening on P18L0H1, Strong, Node[0]=P18L0H1, CleanAnswer: +0555555, ExpectedAnswer/Impact: +0555255/A2, IntervenedAnswer/Impact: +1444443/A6543210, Loss: 17.785502688636385\n",
            "Failed: Intervening on P18L0H1, Strong, Node[0]=P18L0H1, CleanAnswer: +0666666, ExpectedAnswer/Impact: +0666466/A2, IntervenedAnswer/Impact: +1333232/A6543210, Loss: 16.278431908416565\n",
            "Failed: Intervening on P18L0H2, Strong, Node[0]=P18L0H2, CleanAnswer: +0555555, ExpectedAnswer/Impact: +0555255/A2, IntervenedAnswer/Impact: +1444643/A6543210, Loss: 16.8206470246006\n",
            "Failed: Intervening on P18L0H2, Strong, Node[0]=P18L0H2, CleanAnswer: +0666666, ExpectedAnswer/Impact: +0666466/A2, IntervenedAnswer/Impact: +1333032/A6543210, Loss: 16.32996606055218\n",
            "Failed: Intervening on P18L0H1, P18L0H2, Strong, Node[0]=P18L0H1, CleanAnswer: +0555555, ExpectedAnswer/Impact: +0555255/A2, IntervenedAnswer/Impact: +1444543/A654310, Loss: 16.422795754719466\n",
            "Failed: Intervening on P18L0H1, P18L0H2, Strong, Node[0]=P18L0H1, CleanAnswer: +0666666, ExpectedAnswer/Impact: +0666466/A2, IntervenedAnswer/Impact: +1333932/A6543210, Loss: 18.84584663676786\n",
            "Failed: Intervening on P18L0H1, Strong, Node[0]=P18L0H1, CleanAnswer: +0555555, ExpectedAnswer/Impact: +0555255/A2, IntervenedAnswer/Impact: +1444443/A6543210, Loss: 17.785502688636385\n",
            "Failed: Intervening on P18L0H1, Strong, Node[0]=P18L0H1, CleanAnswer: +0666666, ExpectedAnswer/Impact: +0666466/A2, IntervenedAnswer/Impact: +1333232/A6543210, Loss: 16.278431908416565\n",
            "Failed: Intervening on P18L0H2, Strong, Node[0]=P18L0H2, CleanAnswer: +0555555, ExpectedAnswer/Impact: +0555255/A2, IntervenedAnswer/Impact: +1444643/A6543210, Loss: 16.8206470246006\n",
            "Failed: Intervening on P18L0H2, Strong, Node[0]=P18L0H2, CleanAnswer: +0666666, ExpectedAnswer/Impact: +0666466/A2, IntervenedAnswer/Impact: +1333032/A6543210, Loss: 16.32996606055218\n",
            "Failed: Intervening on P18L0H1, P18L0H2, Strong, Node[0]=P18L0H1, CleanAnswer: +0555555, ExpectedAnswer/Impact: +0555255/A2, IntervenedAnswer/Impact: +1444543/A654310, Loss: 16.422795754719466\n",
            "Failed: Intervening on P18L0H1, P18L0H2, Strong, Node[0]=P18L0H1, CleanAnswer: +0666666, ExpectedAnswer/Impact: +0666466/A2, IntervenedAnswer/Impact: +1333932/A6543210, Loss: 18.84584663676786\n",
            "Failed: Intervening on P17L0H1, Strong, Node[0]=P17L0H1, CleanAnswer: +0555555, ExpectedAnswer/Impact: +0552555/A3, IntervenedAnswer/Impact: +1444443/A6543210, Loss: 17.737468375536928\n",
            "Failed: Intervening on P17L0H1, Strong, Node[0]=P17L0H1, CleanAnswer: +0666666, ExpectedAnswer/Impact: +0664666/A3, IntervenedAnswer/Impact: +1332332/A6543210, Loss: 16.25549204388065\n",
            "Failed: Intervening on P17L0H2, Strong, Node[0]=P17L0H2, CleanAnswer: +0555555, ExpectedAnswer/Impact: +0552555/A3, IntervenedAnswer/Impact: +1448443/A6543210, Loss: 16.756118744556225\n",
            "Failed: Intervening on P17L0H2, Strong, Node[0]=P17L0H2, CleanAnswer: +0666666, ExpectedAnswer/Impact: +0664666/A3, IntervenedAnswer/Impact: +1330332/A6543210, Loss: 16.39248190231243\n",
            "Failed: Intervening on P17L0H1, P17L0H2, Strong, Node[0]=P17L0H1, CleanAnswer: +0555555, ExpectedAnswer/Impact: +0552555/A3, IntervenedAnswer/Impact: +1445443/A654210, Loss: 16.380283866483886\n",
            "Failed: Intervening on P17L0H1, P17L0H2, Strong, Node[0]=P17L0H1, CleanAnswer: +0666666, ExpectedAnswer/Impact: +0664666/A3, IntervenedAnswer/Impact: +1339332/A6543210, Loss: 18.889406896324363\n",
            "Failed: Intervening on P17L0H1, Strong, Node[0]=P17L0H1, CleanAnswer: +0555555, ExpectedAnswer/Impact: +0552555/A3, IntervenedAnswer/Impact: +1444443/A6543210, Loss: 17.737468375536928\n",
            "Failed: Intervening on P17L0H1, Strong, Node[0]=P17L0H1, CleanAnswer: +0666666, ExpectedAnswer/Impact: +0664666/A3, IntervenedAnswer/Impact: +1332332/A6543210, Loss: 16.25549204388065\n",
            "Failed: Intervening on P17L0H2, Strong, Node[0]=P17L0H2, CleanAnswer: +0555555, ExpectedAnswer/Impact: +0552555/A3, IntervenedAnswer/Impact: +1448443/A6543210, Loss: 16.756118744556225\n",
            "Failed: Intervening on P17L0H2, Strong, Node[0]=P17L0H2, CleanAnswer: +0666666, ExpectedAnswer/Impact: +0664666/A3, IntervenedAnswer/Impact: +1330332/A6543210, Loss: 16.39248190231243\n",
            "Failed: Intervening on P17L0H1, P17L0H2, Strong, Node[0]=P17L0H1, CleanAnswer: +0555555, ExpectedAnswer/Impact: +0552555/A3, IntervenedAnswer/Impact: +1445443/A654210, Loss: 16.380283866483886\n",
            "Failed: Intervening on P17L0H1, P17L0H2, Strong, Node[0]=P17L0H1, CleanAnswer: +0666666, ExpectedAnswer/Impact: +0664666/A3, IntervenedAnswer/Impact: +1339332/A6543210, Loss: 18.889406896324363\n",
            "Failed: Intervening on P16L0H1, Strong, Node[0]=P16L0H1, CleanAnswer: +0555555, ExpectedAnswer/Impact: +0525555/A4, IntervenedAnswer/Impact: +1444443/A6543210, Loss: 17.92446403904257\n",
            "Failed: Intervening on P16L0H1, Strong, Node[0]=P16L0H1, CleanAnswer: +0666666, ExpectedAnswer/Impact: +0646666/A4, IntervenedAnswer/Impact: +1323332/A6543210, Loss: 16.237526396163837\n",
            "Failed: Intervening on P16L0H2, Strong, Node[0]=P16L0H2, CleanAnswer: +0555555, ExpectedAnswer/Impact: +0525555/A4, IntervenedAnswer/Impact: +1484443/A6543210, Loss: 17.16850765829849\n",
            "Failed: Intervening on P16L0H2, Strong, Node[0]=P16L0H2, CleanAnswer: +0666666, ExpectedAnswer/Impact: +0646666/A4, IntervenedAnswer/Impact: +1303332/A6543210, Loss: 16.03822831340927\n",
            "Failed: Intervening on P16L0H1, P16L0H2, Strong, Node[0]=P16L0H1, CleanAnswer: +0555555, ExpectedAnswer/Impact: +0525555/A4, IntervenedAnswer/Impact: +1454443/A653210, Loss: 16.43046960877834\n",
            "Failed: Intervening on P16L0H1, P16L0H2, Strong, Node[0]=P16L0H1, CleanAnswer: +0666666, ExpectedAnswer/Impact: +0646666/A4, IntervenedAnswer/Impact: +1393332/A6543210, Loss: 18.65032229690418\n",
            "Failed: Intervening on P16L0H1, Strong, Node[0]=P16L0H1, CleanAnswer: +0555555, ExpectedAnswer/Impact: +0525555/A4, IntervenedAnswer/Impact: +1444443/A6543210, Loss: 17.92446403904257\n",
            "Failed: Intervening on P16L0H1, Strong, Node[0]=P16L0H1, CleanAnswer: +0666666, ExpectedAnswer/Impact: +0646666/A4, IntervenedAnswer/Impact: +1323332/A6543210, Loss: 16.237526396163837\n",
            "Failed: Intervening on P16L0H2, Strong, Node[0]=P16L0H2, CleanAnswer: +0555555, ExpectedAnswer/Impact: +0525555/A4, IntervenedAnswer/Impact: +1484443/A6543210, Loss: 17.16850765829849\n",
            "Failed: Intervening on P16L0H2, Strong, Node[0]=P16L0H2, CleanAnswer: +0666666, ExpectedAnswer/Impact: +0646666/A4, IntervenedAnswer/Impact: +1303332/A6543210, Loss: 16.03822831340927\n",
            "Failed: Intervening on P16L0H1, P16L0H2, Strong, Node[0]=P16L0H1, CleanAnswer: +0555555, ExpectedAnswer/Impact: +0525555/A4, IntervenedAnswer/Impact: +1454443/A653210, Loss: 16.43046960877834\n",
            "Failed: Intervening on P16L0H1, P16L0H2, Strong, Node[0]=P16L0H1, CleanAnswer: +0666666, ExpectedAnswer/Impact: +0646666/A4, IntervenedAnswer/Impact: +1393332/A6543210, Loss: 18.65032229690418\n",
            "Failed: Intervening on P15L0H1, Strong, Node[0]=P15L0H1, CleanAnswer: +0555555, ExpectedAnswer/Impact: +0255555/A5, IntervenedAnswer/Impact: +1444443/A6543210, Loss: 18.099499859795802\n",
            "Failed: Intervening on P15L0H1, Strong, Node[0]=P15L0H1, CleanAnswer: +0666666, ExpectedAnswer/Impact: +0466666/A5, IntervenedAnswer/Impact: +1633332/A643210, Loss: 16.657772020226215\n",
            "Failed: Intervening on P15L0H2, Strong, Node[0]=P15L0H2, CleanAnswer: +0555555, ExpectedAnswer/Impact: +0255555/A5, IntervenedAnswer/Impact: +1544443/A643210, Loss: 16.844367980309194\n",
            "Failed: Intervening on P15L0H2, Strong, Node[0]=P15L0H2, CleanAnswer: +0666666, ExpectedAnswer/Impact: +0466666/A5, IntervenedAnswer/Impact: +1933332/A6543210, Loss: 17.59364604805528\n",
            "Failed: Intervening on P15L0H1, P15L0H2, Strong, Node[0]=P15L0H1, CleanAnswer: +0555555, ExpectedAnswer/Impact: +0255555/A5, IntervenedAnswer/Impact: +1544443/A643210, Loss: 16.700592497803473\n",
            "Failed: Intervening on P15L0H1, P15L0H2, Strong, Node[0]=P15L0H1, CleanAnswer: +0666666, ExpectedAnswer/Impact: +0466666/A5, IntervenedAnswer/Impact: +1933332/A6543210, Loss: 19.51247583442526\n",
            "Failed: Intervening on P15L0H1, Strong, Node[0]=P15L0H1, CleanAnswer: +0555555, ExpectedAnswer/Impact: +0255555/A5, IntervenedAnswer/Impact: +1444443/A6543210, Loss: 18.099499859795802\n",
            "Failed: Intervening on P15L0H1, Strong, Node[0]=P15L0H1, CleanAnswer: +0666666, ExpectedAnswer/Impact: +0466666/A5, IntervenedAnswer/Impact: +1633332/A643210, Loss: 16.657772020226215\n",
            "Failed: Intervening on P15L0H2, Strong, Node[0]=P15L0H2, CleanAnswer: +0555555, ExpectedAnswer/Impact: +0255555/A5, IntervenedAnswer/Impact: +1544443/A643210, Loss: 16.844367980309194\n",
            "Failed: Intervening on P15L0H2, Strong, Node[0]=P15L0H2, CleanAnswer: +0666666, ExpectedAnswer/Impact: +0466666/A5, IntervenedAnswer/Impact: +1933332/A6543210, Loss: 17.59364604805528\n",
            "Failed: Intervening on P15L0H1, P15L0H2, Strong, Node[0]=P15L0H1, CleanAnswer: +0555555, ExpectedAnswer/Impact: +0255555/A5, IntervenedAnswer/Impact: +1544443/A643210, Loss: 16.700592497803473\n",
            "Failed: Intervening on P15L0H1, P15L0H2, Strong, Node[0]=P15L0H1, CleanAnswer: +0666666, ExpectedAnswer/Impact: +0466666/A5, IntervenedAnswer/Impact: +1933332/A6543210, Loss: 19.51247583442526\n",
            "Ran 72 intervention test(s). Added 0 tag(s)\n"
          ]
        }
      ],
      "source": [
        "#cfg.useful_nodes.reset_node_tags(QuantaType.ALGO)\n",
        "#acfg.show_test_failures = True\n",
        "search_and_tag( cfg, acfg, sub_bs_prereqs, sub_bs_test, sub_bs_tag, True, True, cfg.num_question_positions )"
      ]
    },
    {
      "cell_type": "markdown",
      "metadata": {
        "id": "nVyItdhmhIn8"
      },
      "source": [
        "# Part 21G: Automated An.BO search\n",
        "\n",
        "The subtraction Borrow One operation is a simple task. Search for An.BO tasks."
      ]
    },
    {
      "cell_type": "code",
      "execution_count": 125,
      "metadata": {
        "id": "6OvVAefqhXVY"
      },
      "outputs": [],
      "source": [
        "def sub_bo_tag(impact_digit):\n",
        "  return answer_name(impact_digit-1)  + \".\" + MathsAlgorithm.SUB_BO_TAG"
      ]
    },
    {
      "cell_type": "code",
      "execution_count": 126,
      "metadata": {
        "id": "mSbkA_vzhfAh"
      },
      "outputs": [],
      "source": [
        "# These rules are prerequisites for (not proof of) an subtraction Borrow One node\n",
        "def sub_bo_prereqs(position, impact_digit):\n",
        "  return FilterAnd(\n",
        "    FilterHead(),\n",
        "    FilterPosition(position_name(position)),\n",
        "    FilterAttention(cfg.dn_to_position_name(impact_digit-1)), # BO is calculated on the next lower-value digit.\n",
        "    FilterAttention(cfg.ddn_to_position_name(impact_digit-1)), # BO is calculated on the next lower-value digit.\n",
        "    FilterImpact(answer_name(impact_digit)))"
      ]
    },
    {
      "cell_type": "code",
      "execution_count": 127,
      "metadata": {
        "id": "Jvbz0EF7iEV-"
      },
      "outputs": [],
      "source": [
        "def sub_bo_test(node_locations, impact_digit, strong):\n",
        "  alter_digit = impact_digit - 1\n",
        "\n",
        "  if alter_digit < 0 or alter_digit >= cfg.n_digits:\n",
        "    acfg.reset_intervention()\n",
        "    return False\n",
        "\n",
        "  intervention_impact = answer_name(impact_digit)\n",
        "\n",
        "  # 222222 - 111311 = 110911. Has Dn.BO\n",
        "  store_question = [repeat_digit(2), repeat_digit(1)]\n",
        "  store_question[1] += (3 - 1) * (10 ** alter_digit)\n",
        "\n",
        "  # 777777 - 444444 = 333333. No Dn.BO\n",
        "  clean_question = [repeat_digit(7), repeat_digit(4)]\n",
        "\n",
        "  # When we intervene we expect answer 332333\n",
        "  intervened_answer = clean_question[0] - clean_question[1] - 10 ** (alter_digit+1)\n",
        "\n",
        "  if cfg.n_digits == 6 and impact_digit == 3:\n",
        "    assert store_question[0] == 222222\n",
        "    assert store_question[1] == 111311\n",
        "    assert store_question[0] - store_question[1] == 110911\n",
        "    assert clean_question[0] == 777777\n",
        "    assert clean_question[1] == 444444\n",
        "    assert clean_question[0] - clean_question[1] == 333333\n",
        "    assert intervened_answer == 332333\n",
        "\n",
        "  success, _, _ = run_strong_intervention(node_locations, store_question, clean_question, MathsTokens.MINUS, intervention_impact, intervened_answer)\n",
        "\n",
        "  if success:\n",
        "    print( \"Test confirmed\", acfg.node_names(), \"perform D\"+str(alter_digit)+\".BO impacting \"+intervention_impact+\" accuracy.\", \"\" if strong else \"Weak\")\n",
        "\n",
        "  return success"
      ]
    },
    {
      "cell_type": "code",
      "execution_count": 128,
      "metadata": {
        "id": "lzjlFwEui7K9",
        "colab": {
          "base_uri": "https://localhost:8080/"
        },
        "outputId": "b204a120-f957-475e-b6ce-14a5f913ca05"
      },
      "outputs": [
        {
          "output_type": "stream",
          "name": "stdout",
          "text": [
            "Failed: Intervening on P19L0H0, Strong, Node[0]=P19L0H0, CleanAnswer: +0333333, ExpectedAnswer/Impact: +0333323/A1, IntervenedAnswer/Impact: +1222211/A6543210, Loss: 18.973285696921007\n",
            "Failed: Intervening on P18L0H0, Strong, Node[0]=P18L0H0, CleanAnswer: +0333333, ExpectedAnswer/Impact: +0333233/A2, IntervenedAnswer/Impact: +1222121/A6543210, Loss: 19.173999937760872\n",
            "Failed: Intervening on P17L0H0, Strong, Node[0]=P17L0H0, CleanAnswer: +0333333, ExpectedAnswer/Impact: +0332333/A3, IntervenedAnswer/Impact: +1221221/A6543210, Loss: 19.09131385165569\n",
            "Failed: Intervening on P12L0H0, Strong, Node[0]=P12L0H0, CleanAnswer: +0333333, ExpectedAnswer/Impact: +0323333/A4, IntervenedAnswer/Impact: +1222221/A6543210, Loss: 18.735490202175704\n",
            "Failed: Intervening on P16L0H0, Strong, Node[0]=P16L0H0, CleanAnswer: +0333333, ExpectedAnswer/Impact: +0323333/A4, IntervenedAnswer/Impact: +1212221/A6543210, Loss: 19.246919752766992\n",
            "Failed: Intervening on P15L0H0, Strong, Node[0]=P15L0H0, CleanAnswer: +0333333, ExpectedAnswer/Impact: +0233333/A5, IntervenedAnswer/Impact: +1122221/A6543210, Loss: 19.2270956360364\n",
            "Failed: Intervening on P14L0H2, Strong, Node[0]=P14L0H2, CleanAnswer: +0333333, ExpectedAnswer/Impact: -0666667/A6, IntervenedAnswer/Impact: +0222221/A543210, Loss: 15.496073749565312\n",
            "Ran 7 intervention test(s). Added 0 tag(s)\n"
          ]
        }
      ],
      "source": [
        "#cfg.useful_nodes.reset_node_tags(QuantaType.ALGO)\n",
        "#acfg.show_test_failures = True\n",
        "search_and_tag( cfg, acfg, sub_bo_prereqs, sub_bo_test, sub_bo_tag, False, False)"
      ]
    },
    {
      "cell_type": "markdown",
      "metadata": {
        "id": "sJo37Qg2ZQpJ"
      },
      "source": [
        "# Part 21H: Automated An.NG search\n",
        "\n",
        "Somes useful nodes are only used in subtraction when D < D' in the D - D' question e.g. negative-answer questions. We claim these nodes are associated somehow with converting D - D' to the mathematically equivalent - ( D' - D )\n",
        "\n",
        "To calculate D'>D, model needs to calculate D'6>D6, ..., D'0>D0 and then combine the results in a cascade D'6>D6 else ... else D'0>D0. We expect to see nodes only used in NG questions, with PCA bigram (or trigram) outputs, attending to these input pairs. The \"else cascade\" is tested later."
      ]
    },
    {
      "cell_type": "code",
      "execution_count": 129,
      "metadata": {
        "id": "uZAVz_dNaMUR"
      },
      "outputs": [],
      "source": [
        "def sub_ng_tag(impact_digit):\n",
        "  return answer_name(impact_digit)  + \".\" + MathsAlgorithm.SUB_NG_TAG"
      ]
    },
    {
      "cell_type": "code",
      "execution_count": 130,
      "metadata": {
        "id": "nScZJkfge-7K"
      },
      "outputs": [],
      "source": [
        "def sub_ng_prereqs(position, impact_digit):\n",
        "  return FilterAnd(\n",
        "    FilterHead(),\n",
        "    FilterPosition(position_name(position)),\n",
        "    FilterImpact(answer_name(impact_digit)), # Impacts An\n",
        "    FilterContains(QuantaType.MATH_SUB, MathsBehavior.SUB_NG_TAG), # Impacts negative-answer questions\n",
        "    # Does not impact positive-answer subtraction questions (of any complexity)\n",
        "    FilterContains(QuantaType.MATH_SUB, MathsBehavior.SUB_S0_TAG, QuantaFilter.NOT),\n",
        "    FilterContains(QuantaType.MATH_SUB, MathsBehavior.SUB_S1_TAG, QuantaFilter.NOT),\n",
        "    FilterContains(QuantaType.MATH_SUB, MathsBehavior.SUB_S2_TAG, QuantaFilter.NOT),\n",
        "    FilterContains(QuantaType.MATH_SUB, MathsBehavior.SUB_S3_TAG, QuantaFilter.NOT),\n",
        "    FilterPCA(MathsBehavior.PCA_SUB_TAG, QuantaFilter.CONTAINS)) # Node PCA is interpretable (bigram or trigram output) with respect to T8,T9,T10"
      ]
    },
    {
      "cell_type": "code",
      "execution_count": 131,
      "metadata": {
        "id": "GNgpXD47pNmM"
      },
      "outputs": [],
      "source": [
        "# Test that if we ablate this node then a negative-answer-subtraction question answer swaps to its positive complement\n",
        "def sub_ng_test(node_locations, focus_digit, strong):\n",
        "  if focus_digit >= cfg.n_digits:\n",
        "    acfg.reset_intervention()\n",
        "    return False\n",
        "\n",
        "  # 555555 - 333333 = 222222. Is a positive-answer-subtraction\n",
        "  store_question = [repeat_digit(5), repeat_digit(3)]\n",
        "\n",
        "  # 444444 - 444644 = -200. Is a negative-answer-subtraction question because of focus_digit\n",
        "  clean_question = [repeat_digit(4), repeat_digit(4)]\n",
        "  clean_question[1] += 2 * (10 ** focus_digit)\n",
        "\n",
        "  success = run_weak_intervention(node_locations, store_question, clean_question, MathsTokens.MINUS)\n",
        "\n",
        "  if success:\n",
        "    description = acfg.node_names() + \" perform A\"+str(focus_digit)+\".NG\"\n",
        "    print(\"Test confirmed\", description, \"Impact:\", acfg.intervened_impact, \"\" if strong else \"Weak\")\n",
        "\n",
        "  return success"
      ]
    },
    {
      "cell_type": "code",
      "execution_count": 132,
      "metadata": {
        "id": "SOJ4J214g3La",
        "colab": {
          "base_uri": "https://localhost:8080/"
        },
        "outputId": "155c68ff-7e35-429d-f6aa-73eb22efb8a4"
      },
      "outputs": [
        {
          "output_type": "stream",
          "name": "stdout",
          "text": [
            "Ran 0 intervention test(s). Added 0 tag(s)\n"
          ]
        }
      ],
      "source": [
        "search_and_tag( cfg, acfg, sub_ng_prereqs, sub_ng_test, sub_ng_tag, False, False )"
      ]
    },
    {
      "cell_type": "markdown",
      "metadata": {
        "id": "Agw7np7gZmgP"
      },
      "source": [
        "# Part 21I: Automated OP search\n",
        "\n",
        "For mixed models that do addition and subtraction the operation token \"+/-\" (in the middle of the question) is key. Find nodes that attend to the question operation."
      ]
    },
    {
      "cell_type": "code",
      "execution_count": 133,
      "metadata": {
        "id": "2XjAoHFCaQ0l"
      },
      "outputs": [],
      "source": [
        "def mix_op_tag(impact_digit):\n",
        "  return \"An.\" + MathsAlgorithm.MIX_OP_TAG # Doesnt depend on impact_digit"
      ]
    },
    {
      "cell_type": "code",
      "execution_count": 134,
      "metadata": {
        "id": "6totKsJ2hjYa"
      },
      "outputs": [],
      "source": [
        "def mix_op_prereqs(position, impact_digit):\n",
        "  return FilterAnd(\n",
        "    FilterHead(),\n",
        "    FilterPosition(position_name(position)),\n",
        "    FilterAttention(cfg.op_position_name()))"
      ]
    },
    {
      "cell_type": "code",
      "execution_count": 135,
      "metadata": {
        "id": "d0s2ZTMLimIR",
        "colab": {
          "base_uri": "https://localhost:8080/"
        },
        "outputId": "a430cc3c-d659-4036-fbcd-4aa5280a2578"
      },
      "outputs": [
        {
          "output_type": "stream",
          "name": "stdout",
          "text": [
            "Test confirmed P15L1H1  \n",
            "Test confirmed P15L1H1  \n",
            "Test confirmed P15L1H1  \n",
            "Test confirmed P15L1H1  \n",
            "Test confirmed P15L1H1  \n",
            "Test confirmed P15L1H1  \n",
            "Test confirmed P15L1H1  \n",
            "Test confirmed P15L1H1  \n",
            "Ran 0 intervention test(s). Added 8 tag(s)\n"
          ]
        }
      ],
      "source": [
        "#cfg.useful_nodes.reset_node_tags(QuantaType.ALGO)\n",
        "#acfg.show_test_failures = True\n",
        "search_and_tag( cfg, acfg, mix_op_prereqs, succeed_test, mix_op_tag, False, False )"
      ]
    },
    {
      "cell_type": "markdown",
      "metadata": {
        "id": "ztfj5n8FjYNt"
      },
      "source": [
        "# Part 21J: Automated SG search\n",
        "\n",
        "For mixed models that do addition and subtraction, and for our subtraction models, the answer sign token \"+/-\" (at the start of the answer) is important. Find nodes that attend to the answer sign token."
      ]
    },
    {
      "cell_type": "code",
      "execution_count": 136,
      "metadata": {
        "id": "3TYyojV8j1TQ"
      },
      "outputs": [],
      "source": [
        "def mix_sg_tag(impact_digit):\n",
        "  return \"An.\" + MathsAlgorithm.MIX_SG_TAG # Doesnt depend on impact_digit"
      ]
    },
    {
      "cell_type": "code",
      "execution_count": 137,
      "metadata": {
        "id": "OWl-vuYSj6Ff"
      },
      "outputs": [],
      "source": [
        "def mix_sg_prereqs(position, impact_digit):\n",
        "  return FilterAnd(\n",
        "    FilterHead(),\n",
        "    FilterPosition(position_name(position)),\n",
        "    FilterAttention(cfg.an_to_position_name(cfg.n_digits+1)))"
      ]
    },
    {
      "cell_type": "code",
      "execution_count": 138,
      "metadata": {
        "id": "8smeZ3vBkIQ3",
        "colab": {
          "base_uri": "https://localhost:8080/"
        },
        "outputId": "2604bb3b-2588-4060-b806-abc6512ecc02"
      },
      "outputs": [
        {
          "output_type": "stream",
          "name": "stdout",
          "text": [
            "Test confirmed P15L0H2  \n",
            "Test confirmed P15L0H2  \n",
            "Test confirmed P15L0H2  \n",
            "Test confirmed P15L0H2  \n",
            "Test confirmed P15L0H2  \n",
            "Test confirmed P15L0H2  \n",
            "Test confirmed P15L0H2  \n",
            "Test confirmed P15L0H2  \n",
            "Ran 0 intervention test(s). Added 8 tag(s)\n"
          ]
        }
      ],
      "source": [
        "#cfg.useful_nodes.reset_node_tags(QuantaType.ALGO)\n",
        "#acfg.show_test_failures = True\n",
        "search_and_tag( cfg, acfg, mix_sg_prereqs, succeed_test, mix_sg_tag, False, False )"
      ]
    },
    {
      "cell_type": "markdown",
      "metadata": {
        "id": "uQLfkdlbVAl_"
      },
      "source": [
        "# Part 22: Show algorithm quanta map\n",
        "\n",
        "Plot the \"algorithm\" tags generated in previous steps as a quanta map. This is an automatically generated partail explanation of the model algorithm."
      ]
    },
    {
      "cell_type": "code",
      "execution_count": 139,
      "metadata": {
        "id": "l9VDbjTAVGrP",
        "colab": {
          "base_uri": "https://localhost:8080/",
          "height": 431
        },
        "outputId": "a6830713-456c-4f8c-df1d-4185b40f0f49"
      },
      "outputs": [
        {
          "output_type": "stream",
          "name": "stdout",
          "text": [
            "Saving quanta map: Algorithm Purpose Per Node\n"
          ]
        },
        {
          "output_type": "display_data",
          "data": {
            "text/plain": [
              "<Figure size 666.667x466.667 with 1 Axes>"
            ],
            "image/png": "[encoded data removed]"
          },
          "metadata": {}
        }
      ],
      "source": [
        "show_quanta_map( \"Algorithm Purpose Per Node\", False, 2, None, QuantaType.ALGO, \"\", get_quanta_binary, 9)"
      ]
    },
    {
      "cell_type": "markdown",
      "metadata": {
        "id": "LQhheXmLTUfc"
      },
      "source": [
        "# Part 23: Save useful nodes with behaviour and algorithm tags to JSON file\n",
        "\n",
        "Show a list of the nodes that have proved useful in calculations, together with data on the nodes behavior and algorithmic purposes.\n",
        "Save the data to a Colab temporary JSON file.\n",
        "\n"
      ]
    },
    {
      "cell_type": "code",
      "execution_count": 140,
      "metadata": {
        "id": "TRW6tiM8hDOB",
        "colab": {
          "base_uri": "https://localhost:8080/"
        },
        "outputId": "631925fc-3a39-4793-8e03-7f40a120dcb8"
      },
      "outputs": [
        {
          "output_type": "stream",
          "name": "stdout",
          "text": [
            "P11L0H0 ['A3.US', 'D2.TC']\n",
            "P12L0H0 ['D3.TC']\n",
            "P14L0H0 ['A5.US', 'D4.TC']\n",
            "P14L0H2 ['A5.MC', 'D5.TC']\n",
            "P15L0H0 ['A4.MC']\n",
            "P15L0H1 ['A5.BA']\n",
            "P15L0H2 ['A5.BA', 'An.SG']\n",
            "P15L1H1 ['An.OP']\n",
            "P16L0H0 ['A3.MC']\n",
            "P16L0H1 ['A4.BA']\n",
            "P16L0H2 ['A4.BA']\n",
            "P17L0H0 ['A2.MC']\n",
            "P17L0H1 ['A3.BA']\n",
            "P17L0H2 ['A3.BA']\n",
            "P18L0H0 ['A1.MC']\n",
            "P18L0H1 ['A2.BA']\n",
            "P18L0H2 ['A2.BA']\n",
            "P19L0H0 ['A0.MC']\n",
            "P19L0H1 ['A1.BA']\n",
            "P19L0H2 ['A1.BA']\n",
            "P20L0H1 ['A0.BA']\n",
            "P20L0H2 ['A0.BA']\n"
          ]
        }
      ],
      "source": [
        "cfg.useful_nodes.print_node_tags(QuantaType.ALGO, \"\", False)"
      ]
    },
    {
      "cell_type": "code",
      "execution_count": 141,
      "metadata": {
        "id": "_ktlEftAOyEd",
        "colab": {
          "base_uri": "https://localhost:8080/"
        },
        "outputId": "992a1586-39ae-40a8-e2ea-8961a3af781f"
      },
      "outputs": [
        {
          "output_type": "stream",
          "name": "stdout",
          "text": [
            "Saving useful node list with algorithm tags: add_d6_l2_h3_t15K_s372001_algorithm.json\n"
          ]
        }
      ],
      "source": [
        "# Serialize and save the useful nodes list with algorithm tags to a temporary CoLab file in JSON format\n",
        "print( \"Saving useful node list with algorithm tags:\", main_fname_algorithm_json)\n",
        "cfg.useful_nodes.save_nodes(main_fname_algorithm_json)"
      ]
    },
    {
      "cell_type": "markdown",
      "metadata": {
        "id": "D74GWTY3aKhm"
      },
      "source": [
        "# Part 25B: Results: Test Algorithm - Addition"
      ]
    },
    {
      "cell_type": "markdown",
      "source": [
        "## Part25B.1 Model add_d5_l1_h3_t30K. Tasks An.BA, An.MC, An.US\n",
        "\n",
        "This 1-layer model cant do all addition questions. This hypothesis mirrors Paper 1. 14/15 heads have purpose assigned. 0/6 neurons have purpose assigned."
      ],
      "metadata": {
        "id": "IxGMji2snxax"
      }
    },
    {
      "cell_type": "code",
      "source": [
        "# For answer digits (excluding Amax), An.BA and An.MC nodes are needed before the answer digit is revealed\n",
        "def test_algo_ba_mc(algo_nodes):\n",
        "  for impact_digit in range(cfg.n_digits):\n",
        "    cfg.test_algo_clause(algo_nodes, FilterAnd(FilterAlgo(add_ba_tag(impact_digit)), FilterPosition(cfg.an_to_position_name(impact_digit+1), QuantaFilter.MUST_BY)))\n",
        "\n",
        "    cfg.test_algo_clause(algo_nodes, FilterAnd(FilterAlgo(add_mc_tag(impact_digit)), FilterPosition(cfg.an_to_position_name(impact_digit+1), QuantaFilter.MUST_BY)))\n",
        "\n",
        "\n",
        "# For answer digits (excluding Amax), An.US nodes are needed before the answer digit is revealed\n",
        "def test_algo_us(algo_nodes):\n",
        "  for impact_digit in range(cfg.n_digits):\n",
        "      cfg.test_algo_clause(algo_nodes, FilterAnd(FilterAlgo(add_us_tag(impact_digit)), FilterPosition(cfg.an_to_position_name(impact_digit+1), QuantaFilter.MUST_BY)))"
      ],
      "metadata": {
        "id": "OYHKHxh-pHUd"
      },
      "execution_count": 142,
      "outputs": []
    },
    {
      "cell_type": "code",
      "source": [
        "if cfg.model_name == \"add_d5_l1_h3_t30K\":\n",
        "\n",
        "  algo_nodes = cfg.start_algorithm_test(acfg)\n",
        "\n",
        "  test_algo_ba_mc(algo_nodes)\n",
        "  test_algo_us(algo_nodes)\n",
        "  cfg.print_algo_clause_results()\n",
        "\n",
        "  cfg.print_algo_purpose_results(algo_nodes)"
      ],
      "metadata": {
        "id": "MC4oY_HNn5_L"
      },
      "execution_count": 143,
      "outputs": []
    },
    {
      "cell_type": "markdown",
      "source": [
        "## Part25B.2 Models add_d5/d6_l2_h3_t15K. Tasks An.BA, An.MC, An.US, Dn.C\n",
        "\n",
        "These 2-layer models can do addition accurately. This hypothesis mirrors Paper 2."
      ],
      "metadata": {
        "id": "dZk-BAE2n5kZ"
      }
    },
    {
      "cell_type": "code",
      "source": [
        "# Before Amax is revealed (as a 0 or 1), there must be a Dn.C node for every digit pair\n",
        "# For each digit (except A0) there must be either an An.US or an Dn.C\n",
        "def test_algo_tc_us(model_nodes):\n",
        "  for impact_digit in range(cfg.n_digits):\n",
        "    early_dnc = FilterAnd(FilterAlgo(add_tc_tag(impact_digit)), FilterPosition(cfg.an_to_position_name(cfg.n_digits+1), QuantaFilter.MUST_BY))\n",
        "    late_dnc = FilterAnd(FilterAlgo(add_tc_tag(impact_digit)), FilterPosition(cfg.an_to_position_name(impact_digit+1), QuantaFilter.MUST_BY))\n",
        "    any_dnus = FilterAnd(FilterAlgo(add_us_tag(impact_digit)), FilterPosition(cfg.an_to_position_name(impact_digit+1), QuantaFilter.MUST_BY))\n",
        "\n",
        "    if cfg.n_layers == 1:\n",
        "      # There must be a Dn.US node for every answer digit except A0\n",
        "      if impact_digit > 0:\n",
        "        cfg.test_algo_clause(model_nodes, any_dnus)\n",
        "    else:\n",
        "      # There must be a Dn.US node or a Dn.C node for every digit except A0\n",
        "      if impact_digit > 0:\n",
        "        cfg.test_algo_clause(model_nodes, FilterOr(any_dnus, late_dnc))\n",
        "\n",
        "      # There must a Dn.C node for every digit before the first 1 or 0 digit is calculated\n",
        "      cfg.test_algo_clause(model_nodes, early_dnc)"
      ],
      "metadata": {
        "id": "SsmPe8rNzzvy"
      },
      "execution_count": 144,
      "outputs": []
    },
    {
      "cell_type": "code",
      "execution_count": 145,
      "metadata": {
        "id": "1cmjOymxluQe",
        "colab": {
          "base_uri": "https://localhost:8080/"
        },
        "outputId": "07b13acd-b584-4685-fe30-5350ed4654c7"
      },
      "outputs": [
        {
          "output_type": "stream",
          "name": "stdout",
          "text": [
            "Varied_questions prediction success rate = 20.00% (128 good, 512 bad)\n",
            "WARNING: Model is not fully accurate as it got 512 questions wrong.\n",
            "\n",
            "Clause valid: P20L0H1, P20L0H2  match  and( must Algorithm A0.BA, must-by P20)\n",
            "Clause invalid: No nodes match  and( must Algorithm A-1.MC, must-by P20)\n",
            "Clause valid: P19L0H1, P19L0H2  match  and( must Algorithm A1.BA, must-by P19)\n",
            "Clause valid: P19L0H0  match  and( must Algorithm A0.MC, must-by P19)\n",
            "Clause valid: P18L0H1, P18L0H2  match  and( must Algorithm A2.BA, must-by P18)\n",
            "Clause valid: P18L0H0  match  and( must Algorithm A1.MC, must-by P18)\n",
            "Clause valid: P17L0H1, P17L0H2  match  and( must Algorithm A3.BA, must-by P17)\n",
            "Clause valid: P17L0H0  match  and( must Algorithm A2.MC, must-by P17)\n",
            "Clause valid: P16L0H1, P16L0H2  match  and( must Algorithm A4.BA, must-by P16)\n",
            "Clause valid: P16L0H0  match  and( must Algorithm A3.MC, must-by P16)\n",
            "Clause valid: P15L0H1, P15L0H2  match  and( must Algorithm A5.BA, must-by P15)\n",
            "Clause valid: P15L0H0  match  and( must Algorithm A4.MC, must-by P15)\n",
            "Clause invalid: No nodes match  and( must Algorithm D0.TC, must-by P14)\n",
            "Clause invalid: No nodes match  or(  and( must Algorithm A0.US, must-by P19),  and( must Algorithm D1.TC, must-by P19))\n",
            "Clause invalid: No nodes match  and( must Algorithm D1.TC, must-by P14)\n",
            "Clause valid: P11L0H0  match  or(  and( must Algorithm A1.US, must-by P18),  and( must Algorithm D2.TC, must-by P18))\n",
            "Clause valid: P11L0H0  match  and( must Algorithm D2.TC, must-by P14)\n",
            "Clause valid: P12L0H0  match  or(  and( must Algorithm A2.US, must-by P17),  and( must Algorithm D3.TC, must-by P17))\n",
            "Clause valid: P12L0H0  match  and( must Algorithm D3.TC, must-by P14)\n",
            "Clause valid: P11L0H0, P14L0H0  match  or(  and( must Algorithm A3.US, must-by P16),  and( must Algorithm D4.TC, must-by P16))\n",
            "Clause valid: P14L0H0  match  and( must Algorithm D4.TC, must-by P14)\n",
            "Clause valid: P14L0H2  match  or(  and( must Algorithm A4.US, must-by P15),  and( must Algorithm D5.TC, must-by P15))\n",
            "Clause valid: P14L0H2  match  and( must Algorithm D5.TC, must-by P14)\n",
            "Overall 19 out of 23 algorithm clauses succeeded\n",
            "\n",
            "22 of 29 useful attention heads (75.86%) have an algorithmic purpose assigned.\n",
            "0 of 16 useful MLP neurons (0.00%) have an algorithmic purpose assigned.\n"
          ]
        }
      ],
      "source": [
        "if cfg.model_name == \"add_d5_l2_h3_t15K\" or cfg.model_name == \"add_d6_l2_h3_t15K\":\n",
        "\n",
        "  algo_nodes = cfg.start_algorithm_test(acfg)\n",
        "\n",
        "  test_algo_ba_mc(algo_nodes)\n",
        "  test_algo_tc_us(algo_nodes)\n",
        "  cfg.print_algo_clause_results()\n",
        "\n",
        "  cfg.print_algo_purpose_results(algo_nodes)"
      ]
    },
    {
      "cell_type": "markdown",
      "source": [
        "# Part 25C: Results: Test Algorithm - Subtraction"
      ],
      "metadata": {
        "id": "PQxhIPzs5K6u"
      }
    },
    {
      "cell_type": "markdown",
      "source": [
        "## Part 2C.1: Model XXX. Tasks BS, BO, SZ\n",
        "\n",
        "This 2-layer model can do subtraction accurately. TBC"
      ],
      "metadata": {
        "id": "ig0eUEDN5XmG"
      }
    },
    {
      "cell_type": "code",
      "source": [
        "# For answer digits (excluding Amax), An.BS and An.BO nodes are needed before the answer digit is revealed\n",
        "def test_algo_bs_bo(algo_nodes):\n",
        "  for impact_digit in range(cfg.n_digits):\n",
        "    cfg.test_algo_clause(algo_nodes, FilterAnd(FilterAlgo(sub_bs_tag(impact_digit)), FilterPosition(cfg.an_to_position_name(impact_digit+1), QuantaFilter.MUST_BY)))\n",
        "\n",
        "    cfg.test_algo_clause(algo_nodes, FilterAnd(FilterAlgo(sub_bo_tag(impact_digit)), FilterPosition(cfg.an_to_position_name(impact_digit+1), QuantaFilter.MUST_BY)))\n",
        "\n",
        "\n",
        "# For answer digits (excluding Amax), An.SZ nodes are needed before the answer digit is revealed\n",
        "def test_algo_sz(algo_nodes):\n",
        "  for impact_digit in range(cfg.n_digits):\n",
        "      pass\n",
        "      #cfg.test_algo_clause(algo_nodes, FilterAnd(FilterAlgo(sub_sz_tag(impact_digit)), FilterPosition(cfg.an_to_position_name(impact_digit+1), QuantaFilter.MUST_BY)))"
      ],
      "metadata": {
        "id": "_51OgGF3QURv"
      },
      "execution_count": 146,
      "outputs": []
    },
    {
      "cell_type": "code",
      "source": [
        "if cfg.model_name == \"sub_d6_l2_h3_t30K\":\n",
        "\n",
        "  algo_nodes = cfg.start_algorithm_test(acfg)\n",
        "\n",
        "  test_algo_bs_bo(algo_nodes)\n",
        "  test_algo_sz(algo_nodes)\n",
        "  cfg.print_algo_clause_results()\n",
        "\n",
        "  cfg.print_algo_purpose_results(algo_nodes)"
      ],
      "metadata": {
        "id": "Axer3RNi6RSG"
      },
      "execution_count": 147,
      "outputs": []
    },
    {
      "cell_type": "markdown",
      "metadata": {
        "id": "nVicHUsAZqTk"
      },
      "source": [
        "## Part 2C.2: Test Algorithm - Subtraction - Negative Answer\n",
        "\n",
        "We claim the model converts subtraction questions D - D' to the mathematically equivalent - ( D' - D ) when D' > D. To do this the model needs to know when D' > D (or equivalently when D' > D).\n",
        "\n",
        "To calculate D'>D, model needs to calculate D'6>D6 else D'5>D5 else D'4>D4 else D'3>D3 else D'2>D2 else D'1>D1 else D'1>D1. We expect to see nodes only used in NG questions, with PCA bigram (or trigram) outputs, attending to these input pairs, evaluated in this order.\n"
      ]
    },
    {
      "cell_type": "code",
      "source": [
        "# For answer digits (excluding Amax), An.NG is needed before the answer digit is revealed\n",
        "def test_algo_ng(algo_nodes):\n",
        "  ng_locations = {}\n",
        "\n",
        "  for impact_digit in range(cfg.n_digits):\n",
        "    # For answer digits (excluding the +/- sign and 0 or 1 Amax), An.NG is calculated before the answer digit is revealed\n",
        "    position = cfg.test_algo_clause(algo_nodes, FilterAnd(FilterAlgo(sub_ng_tag(impact_digit)), FilterPosition(cfg.an_to_position_name(impact_digit), QuantaFilter.MUST_BY)))\n",
        "    ng_locations[impact_digit] = position\n",
        "\n",
        "  # Check that ng_locations[6] < ng_locations[5] < ng_locations[4] < etc\n",
        "  for impact_digit in range(cfg.n_digits):\n",
        "    if impact_digit > 0:\n",
        "      cfg.test_algo_logic(\"NG Ordering for A\" + str(impact_digit), ng_locations[impact_digit] < ng_locations[impact_digit-1])"
      ],
      "metadata": {
        "id": "CDYRKkEwTrN0"
      },
      "execution_count": 148,
      "outputs": []
    },
    {
      "cell_type": "code",
      "execution_count": 149,
      "metadata": {
        "id": "KsDJC1wsa9kr"
      },
      "outputs": [],
      "source": [
        "if cfg.model_name == \"sub_d6_l2_h3_t30K\":\n",
        "\n",
        "  algo_nodes = cfg.start_algorithm_test(acfg)\n",
        "\n",
        "  test_algo_ng(algo_nodes)\n",
        "  cfg.print_algo_clause_results()\n",
        "\n",
        "  cfg.print_algo_purpose_results(algo_nodes)"
      ]
    },
    {
      "cell_type": "markdown",
      "source": [
        "# Part 26: Test Algorithm - Mixed Addition and Subtraction model\n",
        "\n",
        "Our working assumption for models ins1_mix_d6_l3_h4_t40K, ins2_mix_d6_l4_h4_t40K and ins3_mix_d6_l4_h3_t40K is that the model's algorithm is:\n",
        "\n",
        "* H1: Pays attention to the +\\- question operator (using OP task)\n",
        "* If operator is \"+\" then  \n",
        "  * H2: Does addition using BA, MC, US & TC tasks\n",
        "* Else\n",
        "  * H3: Calculates whether D > D' (using NG tasks)\n",
        "  * If D > D' then\n",
        "    * H4: Amax is \"+\"\n",
        "    * H4: Does subtraction using BS, BO, SZ & T?? tasks\n",
        "  * Else\n",
        "    * H5: Amax is =-\"\n",
        "    * H6: Applys D - D' = - (D' - D) transform\n",
        "    * H4: Does subtraction using BS, BO, SZ & T?? tasks\n",
        "    * H6: Applys D - D' = - (D' - D) transform a second time\n",
        "\n",
        "Each of the algorithm sub-tasks H1 to H6 will be validated separately.\n",
        "\n",
        "TBC: H6 seems unlikely. Can it be done as one step?\n",
        "\n",
        "\n",
        "\n",
        "\n",
        "\n",
        "\n",
        "\n",
        "\n",
        "\n",
        "\n"
      ],
      "metadata": {
        "id": "iCkA6qYCq4iS"
      }
    },
    {
      "cell_type": "code",
      "source": [
        "mixed_model = cfg.model_name == \"ins1_mix_d6_l3_h4_t40K\" or cfg.model_name == \"ins2_mix_d6_l4_h4_t40K\" or cfg.model_name == \"ins3_mix_d6_l4_h3_t40K\""
      ],
      "metadata": {
        "id": "Qu6zX8VCMMs4"
      },
      "execution_count": 150,
      "outputs": []
    },
    {
      "cell_type": "markdown",
      "source": [
        "## Part 26.H3 Calculate whether D > D' (using NG tasks)"
      ],
      "metadata": {
        "id": "kgasUyOYMG9E"
      }
    },
    {
      "cell_type": "code",
      "source": [
        "# Only display nodes with the SUB_NG_TAG tag.\n",
        "filters = FilterContains(QuantaType.MATH_SUB, MathsBehavior.SUB_NG_TAG)\n",
        "\n",
        "show_quanta_map( \"Subtraction Behavior NG Nodes\", False, 2, filters, QuantaType.MATH_SUB, \"\", get_maths_min_complexity)\n",
        "show_quanta_map( \"Attention Behavior Per (NG) Head\", True, 10, filters, QuantaType.ATTENTION, \"\", get_quanta_attention, 10, 6)\n",
        "show_quanta_map( \"Algorithm Purpose Per (NG) Node\", False, 2, filters, QuantaType.ALGO, \"\", get_quanta_binary, 9, 10)\n",
        "\n",
        "print(\"NG tagged nodes:\", filter_nodes( cfg.useful_nodes, filters ).get_node_names())"
      ],
      "metadata": {
        "id": "ClNYGvE6Q5T8",
        "colab": {
          "base_uri": "https://localhost:8080/",
          "height": 146
        },
        "outputId": "35169921-a638-47d1-b273-812fdc0c8e15"
      },
      "execution_count": 151,
      "outputs": [
        {
          "output_type": "stream",
          "name": "stdout",
          "text": [
            "Saving quanta map: Subtraction Behavior NG Nodes\n"
          ]
        },
        {
          "output_type": "display_data",
          "data": {
            "text/plain": [
              "<Figure size 0x0 with 1 Axes>"
            ],
            "image/png": "[encoded data removed]"
          },
          "metadata": {}
        },
        {
          "output_type": "stream",
          "name": "stdout",
          "text": [
            "Saving quanta map: Attention Behavior Per (NG) Head\n"
          ]
        },
        {
          "output_type": "display_data",
          "data": {
            "text/plain": [
              "<Figure size 0x0 with 1 Axes>"
            ],
            "image/png": "[encoded data removed]"
          },
          "metadata": {}
        },
        {
          "output_type": "stream",
          "name": "stdout",
          "text": [
            "Saving quanta map: Algorithm Purpose Per (NG) Node\n"
          ]
        },
        {
          "output_type": "display_data",
          "data": {
            "text/plain": [
              "<Figure size 0x0 with 1 Axes>"
            ],
            "image/png": "[encoded data removed]"
          },
          "metadata": {}
        },
        {
          "output_type": "stream",
          "name": "stdout",
          "text": [
            "NG tagged nodes: \n"
          ]
        }
      ]
    },
    {
      "cell_type": "code",
      "source": [
        "if mixed_model:\n",
        "  algo_nodes = cfg.start_algorithm_test(acfg)\n",
        "\n",
        "  test_algo_ng(algo_nodes)\n",
        "  cfg.print_algo_clause_results()\n",
        "\n",
        "  cfg.print_algo_purpose_results(algo_nodes)"
      ],
      "metadata": {
        "id": "2mC4guryMA2k"
      },
      "execution_count": 152,
      "outputs": []
    },
    {
      "cell_type": "markdown",
      "metadata": {
        "id": "6vxyIj1FP2Hq"
      },
      "source": [
        "# Part 30: Unit Test automated searches"
      ]
    },
    {
      "cell_type": "code",
      "execution_count": 153,
      "metadata": {
        "id": "f6g2-mZ5UeJZ"
      },
      "outputs": [],
      "source": [
        "def unit_test_node_tag(node_location_as_str, the_tags ):\n",
        "  node_location = str_to_node_location(node_location_as_str)\n",
        "  node = cfg.useful_nodes.get_node(node_location)\n",
        "  assert node is not None\n",
        "\n",
        "  for the_tag in the_tags:\n",
        "    if not node.contains_tag( QuantaType.ALGO, the_tag):\n",
        "      print( \"Unit test failure: Node\", node.name(), \"does not have expected tag\", the_tag)"
      ]
    },
    {
      "cell_type": "code",
      "execution_count": 154,
      "metadata": {
        "id": "Vr5SN-tuP1yO",
        "colab": {
          "base_uri": "https://localhost:8080/"
        },
        "outputId": "e4b87841-65fc-4687-f2a6-36a30fc503dc"
      },
      "outputs": [
        {
          "output_type": "stream",
          "name": "stdout",
          "text": [
            "add_d6_l2_h3_t15K\n",
            "Unit test failure: Node P14L1H1 does not have expected tag OP\n"
          ]
        }
      ],
      "source": [
        "print(cfg.model_name)\n",
        "\n",
        "if cfg.model_name == 'add_d6_l2_h3_t15K':\n",
        "  unit_test_node_tag('P11L0H0', ['D2.TC'] )\n",
        "  unit_test_node_tag('P12L0H0', ['D3.TC'] )\n",
        "  unit_test_node_tag('P14L0H0', ['A5.US', 'D4.TC'] )\n",
        "  unit_test_node_tag('P14L0H2', ['A5.MC', 'D5.TC'] )\n",
        "  unit_test_node_tag('P14L1H1', ['OP'] )\n",
        "  unit_test_node_tag('P15L0H0', ['A4.MC'] )\n",
        "  unit_test_node_tag('P15L0H1', ['A5.BA'] )\n",
        "  unit_test_node_tag('P15L0H2', ['A5.BA'] )\n",
        "  unit_test_node_tag('P16L0H0', ['A3.MC'] )\n",
        "  unit_test_node_tag('P16L0H1', ['A4.BA'] )\n",
        "  unit_test_node_tag('P16L0H2', ['A4.BA'] )\n",
        "  unit_test_node_tag('P17L0H0', ['A2.MC'] )\n",
        "  unit_test_node_tag('P17L0H1', ['A3.BA'] )\n",
        "  unit_test_node_tag('P17L0H2', ['A3.BA'] )\n",
        "  unit_test_node_tag('P18L0H0', ['A1.MC'] )\n",
        "  unit_test_node_tag('P18L0H1', ['A2.BA'] )\n",
        "  unit_test_node_tag('P18L0H2', ['A2.BA'] )\n",
        "  unit_test_node_tag('P19L0H0', ['A0.MC'] )\n",
        "  unit_test_node_tag('P19L0H1', ['A1.BA'] )\n",
        "  unit_test_node_tag('P19L0H2', ['A1.BA'] )\n",
        "  unit_test_node_tag('P20L0H1', ['A0.BA'] )\n",
        "  unit_test_node_tag('P20L0H2', ['A0.BA'] )\n",
        "\n",
        "if cfg.model_name == 'mix_d6_l3_h4_t40K':\n",
        "  unit_test_node_tag('P8L0H1', ['OP'] )\n",
        "  unit_test_node_tag('P13L2H0', ['A7.NG'] )\n",
        "  unit_test_node_tag('P15L0H0', ['A5.BA', 'A5.BS'] )\n",
        "  unit_test_node_tag('P15L0H3', ['A5.BA', 'A5.BS'] )\n",
        "  unit_test_node_tag('P16L0H3', ['A4.BA.A4', 'A4.BS.A4'] )\n",
        "  unit_test_node_tag('P17L0H1', ['A3.NG'] )\n",
        "  unit_test_node_tag('P17L0H3', ['A3.BA.A3', 'A3.BS.A3'] )\n",
        "  unit_test_node_tag('P18L0H1', ['A2.NG'] )\n",
        "  unit_test_node_tag('P18L0H3', ['A2.BA.A2', 'A2.BS.A2'] )\n",
        "  unit_test_node_tag('P19L0H1', ['A1.NG'] )\n",
        "  unit_test_node_tag('P19L0H3', ['A1.BA.A1', 'A1.BS.A1'] )\n",
        "  unit_test_node_tag('P20L0H0', ['A0.BA', 'A0.BS'] )\n",
        "  unit_test_node_tag('P20L0H3', ['A0.BA', 'A0.BS'] )\n",
        "  unit_test_node_tag('P20L2H1', ['A0.NG'] )\n",
        "\n",
        "if cfg.model_name == 'ins1_mix_d6_l3_h4_t40K':\n",
        "  unit_test_node_tag('P9L0H1', ['D4.TC'] )\n",
        "  unit_test_node_tag('P9L0H3', ['A5.NG', 'OP'] )\n",
        "  unit_test_node_tag('P10L0H1', ['D2.TC'] )\n",
        "  unit_test_node_tag('P12L0H1', ['D3.TC'] )\n",
        "  unit_test_node_tag('P13L2H0', ['A7.NG'] )\n",
        "  unit_test_node_tag('P14L0H0', ['A5.US', 'A6.NG'] )\n",
        "  unit_test_node_tag('P14L0H2', ['A5.MC', 'D5.TC'] )\n",
        "  unit_test_node_tag('P15L0H0', ['A4.MC'] )\n",
        "  unit_test_node_tag('P15L0H1', ['A5.BA', 'A5.BS'] )\n",
        "  unit_test_node_tag('P15L0H2', ['A5.BA', 'A5.BS'] )\n",
        "  unit_test_node_tag('P16L0H0', ['A3.MC'] )\n",
        "  unit_test_node_tag('P16L0H1', ['A4.BA', 'A4.BS'] )\n",
        "  unit_test_node_tag('P16L0H2', ['A4.BA', 'A4.BS'] )\n",
        "  unit_test_node_tag('P16L2H0', ['A4.NG'] )\n",
        "  unit_test_node_tag('P17L0H0', ['A2.MC'] )\n",
        "  unit_test_node_tag('P17L0H1', ['A3.BA', 'A3.BS'] )\n",
        "  unit_test_node_tag('P17L0H2', ['A3.BA', 'A3.BS'] )\n",
        "  unit_test_node_tag('P17L2H0', ['A3.NG'] )\n",
        "  unit_test_node_tag('P18L0H0', ['A1.MC'] )\n",
        "  unit_test_node_tag('P18L0H1', ['A2.BA', 'A2.BS'] )\n",
        "  unit_test_node_tag('P18L0H2', ['A2.BA', 'A2.BS'] )\n",
        "  unit_test_node_tag('P18L2H0', ['A2.NG'] )\n",
        "  unit_test_node_tag('P19L0H0', ['A0.MC'] )\n",
        "  unit_test_node_tag('P19L0H1', ['A1.BA', 'A1.BS'] )\n",
        "  unit_test_node_tag('P19L0H2', ['A1.BA', 'A1.BS'] )\n",
        "  unit_test_node_tag('P19L2H0', ['A1.NG'] )\n",
        "  unit_test_node_tag('P20L0H0', ['A0.NG'] )\n",
        "  unit_test_node_tag('P20L0H1', ['A0.BA', 'A0.BS'] )\n",
        "  unit_test_node_tag('P20L0H2', ['A0.BA', 'A0.BS'] )"
      ]
    }
  ],
  "metadata": {
    "accelerator": "GPU",
    "colab": {
      "collapsed_sections": [
        "uG2gZSoSJD5C",
        "pTd3nmsMJV5T",
        "aQNjIosyX9Y-",
        "F_IIpX2H2tNe",
        "P8RfHXneJw6n",
        "tz6rUaYvjOcE",
        "ZHiJhch4KCej",
        "-KJhCxFtNKfm",
        "I-yFKiDllqEf",
        "D6FwJW0tv4Nf",
        "nXBYdxj-jLZc",
        "fHSY3blNMe7I",
        "Rbiau9foMp3h",
        "jIu3Pr9CMx3l",
        "IVkOJRmPvPms",
        "Fgg43Sqe8oF1",
        "nVyItdhmhIn8",
        "sJo37Qg2ZQpJ",
        "Agw7np7gZmgP",
        "ztfj5n8FjYNt",
        "LQhheXmLTUfc",
        "6vxyIj1FP2Hq"
      ],
      "gpuType": "T4",
      "provenance": []
    },
    "kernelspec": {
      "display_name": "Python 3",
      "name": "python3"
    },
    "language_info": {
      "name": "python"
    },
    "widgets": {
      "application/vnd.jupyter.widget-state+json": {
        "e033890c0e0747d9844973ba80c1e259": {
          "model_module": "@jupyter-widgets/controls",
          "model_name": "HBoxModel",
          "model_module_version": "1.5.0",
          "state": {
            "_dom_classes": [],
            "_model_module": "@jupyter-widgets/controls",
            "_model_module_version": "1.5.0",
            "_model_name": "HBoxModel",
            "_view_count": null,
            "_view_module": "@jupyter-widgets/controls",
            "_view_module_version": "1.5.0",
            "_view_name": "HBoxView",
            "box_style": "",
            "children": [
              "IPY_MODEL_13eef863be314a399805740ab5b75925",
              "IPY_MODEL_7e5bba78b0df45b4974727b81927eca1",
              "IPY_MODEL_f5df73eb116a49b58090655b1584e2fe"
            ],
            "layout": "IPY_MODEL_a74ded83f0bc417cafb611f3549cfb99"
          }
        },
        "13eef863be314a399805740ab5b75925": {
          "model_module": "@jupyter-widgets/controls",
          "model_name": "HTMLModel",
          "model_module_version": "1.5.0",
          "state": {
            "_dom_classes": [],
            "_model_module": "@jupyter-widgets/controls",
            "_model_module_version": "1.5.0",
            "_model_name": "HTMLModel",
            "_view_count": null,
            "_view_module": "@jupyter-widgets/controls",
            "_view_module_version": "1.5.0",
            "_view_name": "HTMLView",
            "description": "",
            "description_tooltip": null,
            "layout": "IPY_MODEL_541de521a19942668c75c0d88fc4ec13",
            "placeholder": "​",
            "style": "IPY_MODEL_56a67172030a4474a377bdf486c00e00",
            "value": "add_d6_l2_h3_t15K_s372001.pth: 100%"
          }
        },
        "7e5bba78b0df45b4974727b81927eca1": {
          "model_module": "@jupyter-widgets/controls",
          "model_name": "FloatProgressModel",
          "model_module_version": "1.5.0",
          "state": {
            "_dom_classes": [],
            "_model_module": "@jupyter-widgets/controls",
            "_model_module_version": "1.5.0",
            "_model_name": "FloatProgressModel",
            "_view_count": null,
            "_view_module": "@jupyter-widgets/controls",
            "_view_module_version": "1.5.0",
            "_view_name": "ProgressView",
            "bar_style": "success",
            "description": "",
            "description_tooltip": null,
            "layout": "IPY_MODEL_0e9e65e0084f4ffeaa9beaccf5abacf4",
            "max": 25150806,
            "min": 0,
            "orientation": "horizontal",
            "style": "IPY_MODEL_e0dddc768a474bd7a6e4f1a66d5205cf",
            "value": 25150806
          }
        },
        "f5df73eb116a49b58090655b1584e2fe": {
          "model_module": "@jupyter-widgets/controls",
          "model_name": "HTMLModel",
          "model_module_version": "1.5.0",
          "state": {
            "_dom_classes": [],
            "_model_module": "@jupyter-widgets/controls",
            "_model_module_version": "1.5.0",
            "_model_name": "HTMLModel",
            "_view_count": null,
            "_view_module": "@jupyter-widgets/controls",
            "_view_module_version": "1.5.0",
            "_view_name": "HTMLView",
            "description": "",
            "description_tooltip": null,
            "layout": "IPY_MODEL_22745fa44d014e2fb82fd0730d7cf169",
            "placeholder": "​",
            "style": "IPY_MODEL_42c66b3d82ab40a38b05b6fe0d10ad13",
            "value": " 25.2M/25.2M [00:00&lt;00:00, 86.3MB/s]"
          }
        },
        "a74ded83f0bc417cafb611f3549cfb99": {
          "model_module": "@jupyter-widgets/base",
          "model_name": "LayoutModel",
          "model_module_version": "1.2.0",
          "state": {
            "_model_module": "@jupyter-widgets/base",
            "_model_module_version": "1.2.0",
            "_model_name": "LayoutModel",
            "_view_count": null,
            "_view_module": "@jupyter-widgets/base",
            "_view_module_version": "1.2.0",
            "_view_name": "LayoutView",
            "align_content": null,
            "align_items": null,
            "align_self": null,
            "border": null,
            "bottom": null,
            "display": null,
            "flex": null,
            "flex_flow": null,
            "grid_area": null,
            "grid_auto_columns": null,
            "grid_auto_flow": null,
            "grid_auto_rows": null,
            "grid_column": null,
            "grid_gap": null,
            "grid_row": null,
            "grid_template_areas": null,
            "grid_template_columns": null,
            "grid_template_rows": null,
            "height": null,
            "justify_content": null,
            "justify_items": null,
            "left": null,
            "margin": null,
            "max_height": null,
            "max_width": null,
            "min_height": null,
            "min_width": null,
            "object_fit": null,
            "object_position": null,
            "order": null,
            "overflow": null,
            "overflow_x": null,
            "overflow_y": null,
            "padding": null,
            "right": null,
            "top": null,
            "visibility": null,
            "width": null
          }
        },
        "541de521a19942668c75c0d88fc4ec13": {
          "model_module": "@jupyter-widgets/base",
          "model_name": "LayoutModel",
          "model_module_version": "1.2.0",
          "state": {
            "_model_module": "@jupyter-widgets/base",
            "_model_module_version": "1.2.0",
            "_model_name": "LayoutModel",
            "_view_count": null,
            "_view_module": "@jupyter-widgets/base",
            "_view_module_version": "1.2.0",
            "_view_name": "LayoutView",
            "align_content": null,
            "align_items": null,
            "align_self": null,
            "border": null,
            "bottom": null,
            "display": null,
            "flex": null,
            "flex_flow": null,
            "grid_area": null,
            "grid_auto_columns": null,
            "grid_auto_flow": null,
            "grid_auto_rows": null,
            "grid_column": null,
            "grid_gap": null,
            "grid_row": null,
            "grid_template_areas": null,
            "grid_template_columns": null,
            "grid_template_rows": null,
            "height": null,
            "justify_content": null,
            "justify_items": null,
            "left": null,
            "margin": null,
            "max_height": null,
            "max_width": null,
            "min_height": null,
            "min_width": null,
            "object_fit": null,
            "object_position": null,
            "order": null,
            "overflow": null,
            "overflow_x": null,
            "overflow_y": null,
            "padding": null,
            "right": null,
            "top": null,
            "visibility": null,
            "width": null
          }
        },
        "56a67172030a4474a377bdf486c00e00": {
          "model_module": "@jupyter-widgets/controls",
          "model_name": "DescriptionStyleModel",
          "model_module_version": "1.5.0",
          "state": {
            "_model_module": "@jupyter-widgets/controls",
            "_model_module_version": "1.5.0",
            "_model_name": "DescriptionStyleModel",
            "_view_count": null,
            "_view_module": "@jupyter-widgets/base",
            "_view_module_version": "1.2.0",
            "_view_name": "StyleView",
            "description_width": ""
          }
        },
        "0e9e65e0084f4ffeaa9beaccf5abacf4": {
          "model_module": "@jupyter-widgets/base",
          "model_name": "LayoutModel",
          "model_module_version": "1.2.0",
          "state": {
            "_model_module": "@jupyter-widgets/base",
            "_model_module_version": "1.2.0",
            "_model_name": "LayoutModel",
            "_view_count": null,
            "_view_module": "@jupyter-widgets/base",
            "_view_module_version": "1.2.0",
            "_view_name": "LayoutView",
            "align_content": null,
            "align_items": null,
            "align_self": null,
            "border": null,
            "bottom": null,
            "display": null,
            "flex": null,
            "flex_flow": null,
            "grid_area": null,
            "grid_auto_columns": null,
            "grid_auto_flow": null,
            "grid_auto_rows": null,
            "grid_column": null,
            "grid_gap": null,
            "grid_row": null,
            "grid_template_areas": null,
            "grid_template_columns": null,
            "grid_template_rows": null,
            "height": null,
            "justify_content": null,
            "justify_items": null,
            "left": null,
            "margin": null,
            "max_height": null,
            "max_width": null,
            "min_height": null,
            "min_width": null,
            "object_fit": null,
            "object_position": null,
            "order": null,
            "overflow": null,
            "overflow_x": null,
            "overflow_y": null,
            "padding": null,
            "right": null,
            "top": null,
            "visibility": null,
            "width": null
          }
        },
        "e0dddc768a474bd7a6e4f1a66d5205cf": {
          "model_module": "@jupyter-widgets/controls",
          "model_name": "ProgressStyleModel",
          "model_module_version": "1.5.0",
          "state": {
            "_model_module": "@jupyter-widgets/controls",
            "_model_module_version": "1.5.0",
            "_model_name": "ProgressStyleModel",
            "_view_count": null,
            "_view_module": "@jupyter-widgets/base",
            "_view_module_version": "1.2.0",
            "_view_name": "StyleView",
            "bar_color": null,
            "description_width": ""
          }
        },
        "22745fa44d014e2fb82fd0730d7cf169": {
          "model_module": "@jupyter-widgets/base",
          "model_name": "LayoutModel",
          "model_module_version": "1.2.0",
          "state": {
            "_model_module": "@jupyter-widgets/base",
            "_model_module_version": "1.2.0",
            "_model_name": "LayoutModel",
            "_view_count": null,
            "_view_module": "@jupyter-widgets/base",
            "_view_module_version": "1.2.0",
            "_view_name": "LayoutView",
            "align_content": null,
            "align_items": null,
            "align_self": null,
            "border": null,
            "bottom": null,
            "display": null,
            "flex": null,
            "flex_flow": null,
            "grid_area": null,
            "grid_auto_columns": null,
            "grid_auto_flow": null,
            "grid_auto_rows": null,
            "grid_column": null,
            "grid_gap": null,
            "grid_row": null,
            "grid_template_areas": null,
            "grid_template_columns": null,
            "grid_template_rows": null,
            "height": null,
            "justify_content": null,
            "justify_items": null,
            "left": null,
            "margin": null,
            "max_height": null,
            "max_width": null,
            "min_height": null,
            "min_width": null,
            "object_fit": null,
            "object_position": null,
            "order": null,
            "overflow": null,
            "overflow_x": null,
            "overflow_y": null,
            "padding": null,
            "right": null,
            "top": null,
            "visibility": null,
            "width": null
          }
        },
        "42c66b3d82ab40a38b05b6fe0d10ad13": {
          "model_module": "@jupyter-widgets/controls",
          "model_name": "DescriptionStyleModel",
          "model_module_version": "1.5.0",
          "state": {
            "_model_module": "@jupyter-widgets/controls",
            "_model_module_version": "1.5.0",
            "_model_name": "DescriptionStyleModel",
            "_view_count": null,
            "_view_module": "@jupyter-widgets/base",
            "_view_module_version": "1.2.0",
            "_view_name": "StyleView",
            "description_width": ""
          }
        }
      }
    }
  },
  "nbformat": 4,
  "nbformat_minor": 0
}