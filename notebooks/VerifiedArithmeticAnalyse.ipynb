{
  "cells": [
    {
      "cell_type": "markdown",
      "metadata": {
        "id": "uG2gZSoSJD5C"
      },
      "source": [
        "# Accurate Integer Mathematics in Transformers - Analyse the Model\n",
        "\n",
        "This CoLab analyses a Transformer model that performs integer addition, subtraction and multiplication e.g. 133357+182243=+0315600, 123450-345670=-0123230 and 000345*000823=+283935. Each digit is a separate token. For 6 digit questions, the model is given 14 \"question\" (input) tokens, and must then predict the corresponding 8 \"answer\" (output) tokens."
      ]
    },
    {
      "cell_type": "markdown",
      "metadata": {
        "id": "FzkGrSqHJKqN"
      },
      "source": [
        "## Tips for using the Colab\n",
        " * You can run and alter the code in this CoLab notebook yourself in Google CoLab ( https://colab.research.google.com/ ).\n",
        " * To run the notebook, in Google CoLab, **you will need to** go to Runtime > Change Runtime Type and select GPU as the hardware accelerator.\n",
        " * Some graphs are interactive!\n",
        " * Use the table of contents pane in the sidebar to navigate.\n",
        " * Collapse irrelevant sections with the dropdown arrows.\n",
        " * Search the page using the search in the sidebar, not CTRL+F."
      ]
    },
    {
      "cell_type": "markdown",
      "metadata": {
        "id": "pTd3nmsMJV5T"
      },
      "source": [
        "# Part 0A: Import libraries\n",
        "Imports standard libraries. Don't bother reading."
      ]
    },
    {
      "cell_type": "code",
      "execution_count": null,
      "metadata": {
        "colab": {
          "base_uri": "https://localhost:8080/"
        },
        "id": "cCdmr6-_Jkzi",
        "outputId": "ac22a793-3378-457b-8662-d24ce410217a"
      },
      "outputs": [
        {
          "output_type": "stream",
          "name": "stdout",
          "text": [
            "Running as a Colab notebook\n",
            "Requirement already satisfied: matplotlib in /usr/local/lib/python3.10/dist-packages (3.7.1)\n",
            "Requirement already satisfied: contourpy>=1.0.1 in /usr/local/lib/python3.10/dist-packages (from matplotlib) (1.2.0)\n",
            "Requirement already satisfied: cycler>=0.10 in /usr/local/lib/python3.10/dist-packages (from matplotlib) (0.12.1)\n",
            "Requirement already satisfied: fonttools>=4.22.0 in /usr/local/lib/python3.10/dist-packages (from matplotlib) (4.49.0)\n",
            "Requirement already satisfied: kiwisolver>=1.0.1 in /usr/local/lib/python3.10/dist-packages (from matplotlib) (1.4.5)\n",
            "Requirement already satisfied: numpy>=1.20 in /usr/local/lib/python3.10/dist-packages (from matplotlib) (1.25.2)\n",
            "Requirement already satisfied: packaging>=20.0 in /usr/local/lib/python3.10/dist-packages (from matplotlib) (24.0)\n",
            "Requirement already satisfied: pillow>=6.2.0 in /usr/local/lib/python3.10/dist-packages (from matplotlib) (9.4.0)\n",
            "Requirement already satisfied: pyparsing>=2.3.1 in /usr/local/lib/python3.10/dist-packages (from matplotlib) (3.1.2)\n",
            "Requirement already satisfied: python-dateutil>=2.7 in /usr/local/lib/python3.10/dist-packages (from matplotlib) (2.8.2)\n",
            "Requirement already satisfied: six>=1.5 in /usr/local/lib/python3.10/dist-packages (from python-dateutil>=2.7->matplotlib) (1.16.0)\n",
            "Collecting kaleido\n",
            "  Downloading kaleido-0.2.1-py2.py3-none-manylinux1_x86_64.whl (79.9 MB)\n",
            "\u001b[2K     \u001b[90m━━━━━━━━━━━━━━━━━━━━━━━━━━━━━━━━━━━━━━━━\u001b[0m \u001b[32m79.9/79.9 MB\u001b[0m \u001b[31m7.0 MB/s\u001b[0m eta \u001b[36m0:00:00\u001b[0m\n",
            "\u001b[?25h"
          ]
        }
      ],
      "source": [
        "DEVELOPMENT_MODE = True\n",
        "try:\n",
        "    import google.colab\n",
        "    IN_COLAB = True\n",
        "    print(\"Running as a Colab notebook\")\n",
        "\n",
        "    !pip install matplotlib\n",
        "\n",
        "    !pip install kaleido\n",
        "    !pip install transformer_lens\n",
        "    !pip install torchtyping\n",
        "    !pip install transformers\n",
        "\n",
        "    !pip install numpy\n",
        "    !pip install scikit-learn\n",
        "\n",
        "except:\n",
        "    IN_COLAB = False\n",
        "    print(\"Running as a Jupyter notebook - intended for development only!\")\n",
        "    from IPython import get_ipython\n",
        "\n",
        "    ipython = get_ipython()\n",
        "    # Code to automatically update the HookedTransformer code as its edited without restarting the kernel\n",
        "    ipython.magic(\"load_ext autoreload\")\n",
        "    ipython.magic(\"autoreload 2\")"
      ]
    },
    {
      "cell_type": "code",
      "execution_count": null,
      "metadata": {
        "id": "Up2QLAZLJnG9"
      },
      "outputs": [],
      "source": [
        "# Plotly needs a different renderer for VSCode/Notebooks vs Colab argh\n",
        "import kaleido\n",
        "import plotly.io as pio\n",
        "\n",
        "if IN_COLAB or not DEVELOPMENT_MODE:\n",
        "    pio.renderers.default = \"colab\"\n",
        "else:\n",
        "    pio.renderers.default = \"notebook_connected\"\n",
        "print(f\"Using renderer: {pio.renderers.default}\")"
      ]
    },
    {
      "cell_type": "code",
      "execution_count": null,
      "metadata": {
        "id": "ve-TndERJoaJ"
      },
      "outputs": [],
      "source": [
        "pio.templates['plotly'].layout.xaxis.title.font.size = 20\n",
        "pio.templates['plotly'].layout.yaxis.title.font.size = 20\n",
        "pio.templates['plotly'].layout.title.font.size = 30"
      ]
    },
    {
      "cell_type": "code",
      "execution_count": null,
      "metadata": {
        "id": "_6zOEFryJqGN"
      },
      "outputs": [],
      "source": [
        "import json\n",
        "import torch\n",
        "import torch.nn.functional as F\n",
        "import numpy as np\n",
        "import random\n",
        "import itertools\n",
        "import re\n",
        "from enum import Enum"
      ]
    },
    {
      "cell_type": "code",
      "execution_count": null,
      "metadata": {
        "id": "d6TE7A9SxySA"
      },
      "outputs": [],
      "source": [
        "import matplotlib.pyplot as plt\n",
        "import matplotlib.colors as mcolors\n",
        "import textwrap"
      ]
    },
    {
      "cell_type": "code",
      "execution_count": null,
      "metadata": {
        "id": "f8VQ4e0QJsIB"
      },
      "outputs": [],
      "source": [
        "import transformer_lens\n",
        "import transformer_lens.utils as utils\n",
        "from transformer_lens.hook_points import (\n",
        "    HookedRootModule,\n",
        "    HookPoint,\n",
        ")  # Hooking utilities\n",
        "from transformer_lens import HookedTransformer, HookedTransformerConfig, FactoredMatrix, ActivationCache\n"
      ]
    },
    {
      "cell_type": "markdown",
      "metadata": {
        "id": "vNpIsCqtETtF"
      },
      "source": [
        "# Part 0B: Import PCA library"
      ]
    },
    {
      "cell_type": "code",
      "execution_count": null,
      "metadata": {
        "id": "gUt2mMzFj7eA"
      },
      "outputs": [],
      "source": [
        "# Import Principal Component Analysis (PCA) library\n",
        "use_pca = True\n",
        "try:\n",
        "  from sklearn.decomposition import PCA\n",
        "except Exception as e:\n",
        "  print(\"pca import failed with exception:\", e)\n",
        "  use_pca = False\n",
        "\n",
        "  # Sometimes version conflicts means the PCA library does not import. This workaround partially fixes the issue\n",
        "  !pip install --upgrade numpy\n",
        "  !pip install --upgrade scikit-learn\n",
        "\n",
        "  # To complete workaround, now select menu option \"Runtime > Restart session and run all\".\n",
        "  stop"
      ]
    },
    {
      "cell_type": "markdown",
      "metadata": {
        "id": "kQlQPB78lJnc"
      },
      "source": [
        "# Part 0C: Import verified_transformers library"
      ]
    },
    {
      "cell_type": "code",
      "execution_count": null,
      "metadata": {
        "id": "_2P3cndolKDM"
      },
      "outputs": [],
      "source": [
        "!pip install --upgrade git+https://github.com/PhilipQuirke/verified_transformers.git\n",
        "from QuantaTools import ModelConfig, token_to_char, tokens_to_string\n",
        "\n",
        "from QuantaTools import UsefulConfig, position_name, position_name_to_int, row_location_name, location_name, NodeLocation, UsefulNode, UsefulNodeList, str_to_node_location, answer_name\n",
        "\n",
        "from QuantaTools import QuantaFilter, QuantaType, MAX_ATTENTION_TAGS, MIN_ATTENTION_PERC, NO_IMPACT_TAG\n",
        "from QuantaTools import FilterNode, FilterAnd, FilterOr, FilterHead, FilterNeuron, FilterContains, FilterPosition, FilterAttention, FilterImpact, FilterPCA, FilterAlgo, filter_nodes\n",
        "from QuantaTools import get_answer_impact, get_question_answer_impact, compact_answer_if_sequential, get_quanta_impact\n",
        "from QuantaTools import calc_quanta_map, get_quanta_fail_perc, get_quanta_attention, get_quanta_binary\n",
        "\n",
        "from QuantaTools import MathsConfig, MathsTokens, MathsTag, AlgoTag, set_maths_vocabulary\n",
        "from QuantaTools import int_to_answer_str, tokens_to_unsigned_int, tokens_to_answer, insert_question_number, make_a_maths_question, sort_unique_digits\n",
        "from QuantaTools import get_maths_question_complexity, maths_data_generator, maths_data_generator_core, make_maths_questions, make_maths_test_questions"
      ]
    },
    {
      "cell_type": "markdown",
      "metadata": {
        "id": "aQNjIosyX9Y-"
      },
      "source": [
        "# Part 1A: Configuration: Detailed"
      ]
    },
    {
      "cell_type": "code",
      "execution_count": null,
      "metadata": {
        "id": "HmjGdFcdJat3"
      },
      "outputs": [],
      "source": [
        "# Main configuration class for main model creation and training.\n",
        "# Derived from MathsConfig > UsefulConfig > ModelConfig\n",
        "class ColabConfig(MathsConfig):\n",
        "\n",
        "  def __init__(self):\n",
        "    super().__init__()\n",
        "\n",
        "    self.main_model = None\n",
        "\n",
        "\n",
        "# Singleton class instance\n",
        "cfg = ColabConfig()"
      ]
    },
    {
      "cell_type": "markdown",
      "metadata": {
        "id": "ldGPkaokJQM5"
      },
      "source": [
        "# Part 1B: Configuration: Summary\n",
        "\n",
        "Which existing model do we want to analyse?\n",
        "\n",
        "The existing model weightings created by the sister Colab [VerifiedArithmeticTrain](https://github.com/PhilipQuirke/transformer-maths/blob/main/assets/VerifiedArithmeticTrain.ipynb) are loaded from HuggingFace."
      ]
    },
    {
      "cell_type": "code",
      "execution_count": null,
      "metadata": {
        "id": "O1DXZQ2E6yAi"
      },
      "outputs": [],
      "source": [
        "# Which existing model do we want to analyse?\n",
        "# cfg.model_name = \"\" # Use configuration specified in Part 1A\n",
        "# cfg.model_name = \"add_d5_l1_h3_t30K\"  # 5 digit addition model. Inaccurate as only has one layer. Can predict S0, S1 and S2 complexity questions\n",
        "# cfg.model_name = \"add_d5_l2_h3_t15K\"  # 5 digit addition model\n",
        "# cfg.model_name = \"add_d6_l2_h3_t15K\"  # 6 digit addition model\n",
        "# cfg.model_name = \"sub_d6_l2_h3_t30K\"  # 6 digit subtraction model\n",
        "# cfg.model_name = \"mix_d6_l3_h4_t40K\"  # 6 digit addition and subtraction model. AvgFinalLoss=8e-09\n",
        "cfg.model_name = \"ins1_mix_d6_l3_h4_t40K\"  # 6 digit addition / subtraction model. Initialise with addition model. Handles 1m Qs for Add and Sub\n",
        "# cfg.model_name = \"ins2_mix_d6_l4_h4_t40K\"  # 6 digit addition / subtraction model. Initialised with addition model. Reset useful heads every 100 epochs. AvgFinalLoss=7e-09. Fails 1m Qs\n",
        "# cfg.model_name = \"ins3_mix_d6_l4_h3_t40K\"  # 6 digit addition / subtraction model. Initialised with addition model. Reset useful heads & MLPs every 100 epochs. AvgFinalLoss=2.6e-06. Fails 1m Qs"
      ]
    },
    {
      "cell_type": "markdown",
      "metadata": {
        "id": "F_IIpX2H2tNe"
      },
      "source": [
        "# Part 1C: Configuration: Input and Output file names\n",
        "\n"
      ]
    },
    {
      "cell_type": "code",
      "execution_count": null,
      "metadata": {
        "id": "B5BiELcf53ms"
      },
      "outputs": [],
      "source": [
        "if cfg.model_name != \"\":\n",
        "  # Update cfg member data n_digits, n_layers, n_heads, n_training_steps from model_name\n",
        "  cfg.parse_model_name()\n",
        "\n",
        "  if cfg.model_name.startswith(\"sub_\") :\n",
        "    cfg.perc_sub = 100\n",
        "\n",
        "  elif cfg.model_name == \"mix_d6_l3_h4_t40K\" :\n",
        "    cfg.batch_size = 256\n",
        "    cfg.perc_sub = 66 # Train on 66% subtraction and 33% addition question batches\n",
        "\n",
        "  elif cfg.model_name == \"ins1_mix_d6_l3_h4_t40K\" :\n",
        "    cfg.batch_size = 256\n",
        "    cfg.perc_sub = 80 # Train on 80% subtraction and 20% addition question batches\n",
        "    # Initialise with add_d6_l2_h3_t15K.pth.\n",
        "\n",
        "  elif cfg.model_name == \"ins2_mix_d6_l4_h4_t40K\" :\n",
        "    cfg.batch_size = 256\n",
        "    cfg.perc_sub = 80 # Train on 80% subtraction and 20% addition question batches\n",
        "    # Initialise with add_d6_l2_h3_t15K.pth. Train & reset useful heads every 100 epochs\n",
        "\n",
        "  elif cfg.model_name == \"ins3_mix_d6_l4_h3_t40K\" :\n",
        "    cfg.batch_size = 256\n",
        "    cfg.perc_sub = 80 # Train on 80% subtraction and 20% addition question batches\n",
        "    # Initialise with add_d6_l2_h3_t15K.pth. Trained & reset useful heads & MLPs every 100 epochs"
      ]
    },
    {
      "cell_type": "code",
      "execution_count": null,
      "metadata": {
        "id": "n0DJkn5l2gq3"
      },
      "outputs": [],
      "source": [
        "main_fname = cfg.file_config_prefix()\n",
        "main_fname_pth = main_fname + '.pth'\n",
        "main_fname_behavior_json = main_fname + '_behavior.json'\n",
        "main_fname_algorithm_json = main_fname + '_algorithm.json'\n",
        "\n",
        "def print_config():\n",
        "  print(\"%Mult=\", cfg.perc_mult, \"%Sub=\", cfg.perc_sub, \"%Add=\", cfg.perc_add(), \"File\", main_fname)\n",
        "\n",
        "print_config()\n",
        "print('Main model will be read from HuggingLab file', main_fname_pth)\n",
        "print('Main model behavior analysis tags will save to Colab temporary file', main_fname_behavior_json)\n",
        "print('Main model algorithm analysis tags will save to Colab temporary file', main_fname_algorithm_json)"
      ]
    },
    {
      "cell_type": "markdown",
      "metadata": {
        "id": "P8RfHXneJw6n"
      },
      "source": [
        "# Part 3A: Set Up: Vocabulary / Embedding / Unembedding\n",
        "\n",
        "Convert from\n",
        "- Human-readable character to numeric token index.\n",
        "- Convert numeric token positions to position \"meanings\"\n",
        "- Convert from number to human-readable stringand vice versa"
      ]
    },
    {
      "cell_type": "code",
      "execution_count": null,
      "metadata": {
        "id": "p9NqtFCe18PI"
      },
      "outputs": [],
      "source": [
        "# Vocabulary dictionary: Mapping from character (key) to token (value)\n",
        "set_maths_vocabulary(cfg)"
      ]
    },
    {
      "cell_type": "code",
      "execution_count": null,
      "metadata": {
        "id": "WeObQk2kzAv7"
      },
      "outputs": [],
      "source": [
        "# Convert D0 to P5, D1 to P4, D2 to P3 in 6 digit addition\n",
        "def dn_to_position_name(n):\n",
        "  return position_name(cfg.n_digits - 1 - n)\n",
        "# Convert D'0 to P10, D'1 to P9, D'2 to P8, etc in 6 digit addition\n",
        "def ddn_to_position_name(n):\n",
        "  return position_name(2 * cfg.n_digits - n)\n",
        "# Convert A0 to P20, A1 to P19, A2 to P18, etc in 6 digit addition\n",
        "def an_to_position_name(n):\n",
        "  #PQR add dependency on ascending and move to library\n",
        "  return position_name(cfg.n_ctx() - 1 - n)\n",
        "# Position of the operator (+, -, * or /)\n",
        "def op_position_name():\n",
        "  return position_name(cfg.n_digits)\n",
        "\n",
        "\n",
        "def set_question_meanings():\n",
        "  # Question and answer token position meanings D5, .., D0, *, D5', .., D0', =, A7, A6, .., A0\n",
        "  q_meanings = []\n",
        "  for i in range(cfg.n_digits):\n",
        "    q_meanings += [\"D\" + str(cfg.n_digits-i-1)]\n",
        "  q_meanings += [\"Op\"] # Stands in for operation +, - or *\n",
        "  for i in range(cfg.n_digits):\n",
        "    q_meanings += [\"D'\" + str(cfg.n_digits-i-1)]\n",
        "  q_meanings += [\"=\"]\n",
        "\n",
        "  cfg.token_position_meanings = q_meanings + cfg.token_position_meanings[-cfg.num_answer_positions:]\n",
        "  print(cfg.token_position_meanings)\n",
        "\n",
        "\n",
        "set_question_meanings()"
      ]
    },
    {
      "cell_type": "markdown",
      "metadata": {
        "id": "tz6rUaYvjOcE"
      },
      "source": [
        "# Part 3B: Set Up: Create model"
      ]
    },
    {
      "cell_type": "code",
      "execution_count": null,
      "metadata": {
        "id": "lA16Nb2PJ7MB"
      },
      "outputs": [],
      "source": [
        "# Transformer creation\n",
        "\n",
        "# Structure is documented at https://neelnanda-io.github.io/TransformerLens/transformer_lens.html#transformer_lens.HookedTransformerConfig.HookedTransformerConfig\n",
        "ht_cfg = HookedTransformerConfig(\n",
        "    n_layers = cfg.n_layers,\n",
        "    n_heads = cfg.n_heads,\n",
        "    d_model = cfg.d_model,\n",
        "    d_head = cfg.d_head,\n",
        "    d_mlp = cfg.d_mlp(),\n",
        "    act_fn = cfg.act_fn,\n",
        "    normalization_type = 'LN',\n",
        "    d_vocab = cfg.d_vocab,\n",
        "    d_vocab_out = cfg.d_vocab,\n",
        "    n_ctx = cfg.n_ctx(),\n",
        "    init_weights = True,\n",
        "    device = \"cuda\",\n",
        "    seed = cfg.training_seed,\n",
        ")\n",
        "\n",
        "cfg.main_model = HookedTransformer(ht_cfg)"
      ]
    },
    {
      "cell_type": "markdown",
      "metadata": {
        "id": "ZHiJhch4KCej"
      },
      "source": [
        "# Part 4: Set Up: Loss Function & Data Generator\n",
        "This section defines the loss function and the training/testing data generator."
      ]
    },
    {
      "cell_type": "code",
      "execution_count": null,
      "metadata": {
        "id": "AJ2iNO-nKDBW"
      },
      "outputs": [],
      "source": [
        "# Loss functions\n",
        "\n",
        "# Calculate the per-token probability by comparing a batch of prediction \"logits\" to answer \"tokens\"\n",
        "def logits_to_tokens_loss(logits, tokens):\n",
        "  # Addition answer can have one extra digit than question. Answer also has a +/- sign\n",
        "  n_answer_digits = cfg.answer_tokens()\n",
        "\n",
        "  # The addition answer digit token probabilities\n",
        "  ans_logits = logits[:, -(n_answer_digits+1):-1]\n",
        "\n",
        "  # Convert raw score (logits) vector into a probability distribution.\n",
        "  # Emphasize the largest scores and suppress the smaller ones, to make them more distinguishable.\n",
        "  ans_probs = F.log_softmax(ans_logits.to(torch.float64), dim=-1)\n",
        "\n",
        "  max_prob_tokens = torch.argmax(ans_probs, dim=-1)\n",
        "\n",
        "  # The addition answer digit tokens\n",
        "  ans_tokens = tokens[:, -(n_answer_digits):]\n",
        "\n",
        "  # Extract values from the ans_probs tensor, based on indices from the ans_tokens tensor\n",
        "  ans_loss = torch.gather(ans_probs, -1, ans_tokens[:, :, None])[..., 0]\n",
        "\n",
        "  return ans_loss, max_prob_tokens\n",
        "\n",
        "\n",
        "# Calculate loss as negative of average per-token mean probability\n",
        "def loss_fn(ans_loss):\n",
        "  return -ans_loss.mean(0)"
      ]
    },
    {
      "cell_type": "code",
      "execution_count": null,
      "metadata": {
        "id": "BqzljhQ4KJU5"
      },
      "outputs": [],
      "source": [
        "# Define \"iterator\" maths \"questions\" data generator function. Invoked using next().\n",
        "ds = maths_data_generator( cfg )"
      ]
    },
    {
      "cell_type": "code",
      "execution_count": null,
      "metadata": {
        "id": "YtmioT1THbJA"
      },
      "outputs": [],
      "source": [
        "# Generate sample data generator (unit test)\n",
        "print(next(ds)[:3,:])"
      ]
    },
    {
      "cell_type": "markdown",
      "metadata": {
        "id": "-KJhCxFtNKfm"
      },
      "source": [
        "# Part 5: Set Up: Load Model from HuggingFace"
      ]
    },
    {
      "cell_type": "code",
      "execution_count": null,
      "metadata": {
        "id": "fRMkB_8GNRc0"
      },
      "outputs": [],
      "source": [
        "main_repo_name=\"PhilipQuirke/VerifiedArithmetic\"\n",
        "print(\"Loading model from HuggingFace\", main_repo_name, main_fname_pth)\n",
        "\n",
        "cfg.main_model.load_state_dict(utils.download_file_from_hf(repo_name=main_repo_name, file_name=main_fname_pth, force_is_torch=True))\n",
        "cfg.main_model.eval()"
      ]
    },
    {
      "cell_type": "markdown",
      "metadata": {
        "id": "7bbeIfUxvLzl"
      },
      "source": [
        "# Part 7A : Set up: Prediction Framework\n"
      ]
    },
    {
      "cell_type": "code",
      "execution_count": null,
      "metadata": {
        "id": "IjhfLpSW9Jsq"
      },
      "outputs": [],
      "source": [
        "class T_Config(NodeLocation):\n",
        "\n",
        "\n",
        "  def __init__(self):\n",
        "    super().__init__(0, 0, True, 0)\n",
        "    self.reset()\n",
        "\n",
        "\n",
        "  def reset(self):\n",
        "    self.threshold = 0.01\n",
        "    self.verbose = False\n",
        "\n",
        "    # How many test questions are in the manually-curated varied_questions test set?\n",
        "    self.num_varied_questions = 0\n",
        "    # How many of the manually-curated varied_questions can the model answer?\n",
        "    self.num_varied_successes = 0\n",
        "\n",
        "    # attn.hook_z is the \"attention head output\" hook point name (at a specified layer)\n",
        "    self.l_attn_hook_z_name = [utils.get_act_name('z', 0, 'a'),utils.get_act_name('z', 1, 'a'),utils.get_act_name('z', 2, 'a'),utils.get_act_name('z', 3, 'a')] # 'blocks.0.attn.hook_z' etc\n",
        "    # hook_resid_pre is the \"pre residual memory update\" hook point name (at a specified layer)\n",
        "    self.l_hook_resid_pre_name = ['blocks.0.hook_resid_pre','blocks.1.hook_resid_pre','blocks.2.hook_resid_pre','blocks.3.hook_resid_pre']\n",
        "    # hook_resid_post is the \"post residual memory update\" hook point name (at a specified layer)\n",
        "    self.l_hook_resid_post_name = ['blocks.0.hook_resid_post','blocks.1.hook_resid_post','blocks.2.hook_resid_post','blocks.3.hook_resid_post']\n",
        "    # mlp.hook_post is the \"MLP layer\" hook point name (at a specified layer)\n",
        "    self.l_mlp_hook_post_name = [utils.get_act_name('post', 0),utils.get_act_name('post', 1),utils.get_act_name('post', 2),utils.get_act_name('post', 3)] # 'blocks.0.mlp.hook_post' etc\n",
        "\n",
        "    # Sample model outputs used in ablation interventions\n",
        "    self.mean_attn_z = []\n",
        "    self.mean_resid_post = []\n",
        "    self.mean_mlp_hook_post = []\n",
        "\n",
        "\n",
        "  def print_prediction_success_rate(self):\n",
        "    bad_predictions = self.num_varied_questions - self.num_varied_successes\n",
        "\n",
        "    if self.num_varied_questions > 0:\n",
        "      print(f\"Varied_questions prediction success rate = {self.num_varied_successes / self.num_varied_questions * 100:.2f}% ({self.num_varied_successes} good, {bad_predictions} bad)\")\n",
        "\n",
        "    if bad_predictions == 0:\n",
        "      # This is evidence not proof because there may be very rare edge cases (say 1 in ten million) that do not exist in the test questions.\n",
        "      # Even if you believe you know all the edge cases, and have enriched the training data to contain them, you may not have thought of all edge cases, so this is not proof.\n",
        "      print(\"Model got all test questions correct. This is a pre-requisite for the model to be fully accurate, but this is NOT proof.\")\n",
        "    else:\n",
        "      print(\"WARNING: Model is not fully accurate as it got\", bad_predictions, \"questions wrong.\")"
      ]
    },
    {
      "cell_type": "code",
      "execution_count": null,
      "metadata": {
        "id": "i8VoNc_ckfrJ"
      },
      "outputs": [],
      "source": [
        "class A_Config(T_Config):\n",
        "\n",
        "\n",
        "  def __init__(self):\n",
        "    super().__init__()\n",
        "    self.reset_hooks()\n",
        "    self.reset_intervention()\n",
        "    self.reset_intervention_totals()\n",
        "    self.show_test_failures = False\n",
        "\n",
        "\n",
        "  def reset_hooks(self):\n",
        "    # A list of NodeLocations\n",
        "    self.node_locations = []\n",
        "\n",
        "    # A list of stored weightings collected from the model.\n",
        "    # Same length as nodes\n",
        "    self.layer_store = [[],[],[]]   # Supports 3 layers\n",
        "\n",
        "    self.questions = []\n",
        "    self.attn_get_hooks = []\n",
        "    self.attn_put_hooks = []\n",
        "\n",
        "    self.reset_node_location()\n",
        "    self.threshold = 0.00001\n",
        "\n",
        "\n",
        "  def reset_intervention(self, expected_answer_int = 0, expected_impact = NO_IMPACT_TAG, operation = MathsTokens.PLUS):\n",
        "    self.operation = operation\n",
        "\n",
        "    # Expected output of an intervention ablation experiment\n",
        "    self.expected_answer = int_to_answer_str(cfg,expected_answer_int)\n",
        "    self.expected_impact = expected_impact if expected_impact != \"\" else NO_IMPACT_TAG\n",
        "\n",
        "    # Actual outputs of an intervention ablation experiment\n",
        "    self.intervened_answer = \"\"\n",
        "    self.intervened_impact = NO_IMPACT_TAG\n",
        "\n",
        "    self.abort = False\n",
        "\n",
        "\n",
        "  def reset_intervention_totals(self):\n",
        "    self.num_tests_run = 0\n",
        "    self.num_tags_added = 0\n",
        "\n",
        "\n",
        "  def node_names(self):\n",
        "    answer = \"\"\n",
        "\n",
        "    for node in self.node_locations:\n",
        "      if answer != \"\":\n",
        "        answer += \", \"\n",
        "      answer += node.name()\n",
        "\n",
        "    return answer\n",
        "\n",
        "\n",
        "acfg = A_Config()"
      ]
    },
    {
      "cell_type": "code",
      "execution_count": null,
      "metadata": {
        "id": "mMdSybNpnU0m"
      },
      "outputs": [],
      "source": [
        "# Get and put attention head value hooks\n",
        "\n",
        "def a_null_attn_z_hook(value, hook):\n",
        "  pass\n",
        "\n",
        "\n",
        "def validate_value(name, value):\n",
        "  if value.shape[0] == 0:\n",
        "    print( \"Aborted\", name, acfg.node_names(), acfg.questions, acfg.operation, acfg.expected_answer, acfg.expected_impact)\n",
        "    acfg.abort = True # TransformerLens returned a [0, 22, 3, 170] tensor. This is bad data. Bug in code? Abort\n",
        "    return False\n",
        "\n",
        "  return True\n",
        "\n",
        "\n",
        "def a_get_l0_attn_z_hook(value, hook):\n",
        "  # print( \"In a_get_l0_attn_z_hook\", value.shape) # Get [1, 22, 3, 170] = ???, cfg.n_ctx, cfg.n_heads, cfg.d_head\n",
        "  if validate_value(\"a_get_l0_attn_z_hook\", value):\n",
        "    acfg.layer_store[0] = value.clone()\n",
        "\n",
        "def a_get_l1_attn_z_hook(value, hook):\n",
        "  if validate_value(\"a_get_l1_attn_z_hook\", value):\n",
        "    acfg.layer_store[1] = value.clone()\n",
        "\n",
        "def a_get_l2_attn_z_hook(value, hook):\n",
        "  if validate_value(\"a_get_l2_attn_z_hook\", value):\n",
        "    acfg.layer_store[2] = value.clone()\n",
        "\n",
        "def a_get_l3_attn_z_hook(value, hook):\n",
        "  if validate_value(\"a_get_l3_attn_z_hook\", value):\n",
        "    acfg.layer_store[3] = value.clone()\n",
        "\n",
        "\n",
        "def a_put_l0_attn_z_hook(value, hook):\n",
        "  # print( \"In a_put_l0_attn_z_hook\", value.shape) # Get [1, 22, 3, 170] = ???, cfg.n_ctx, cfg.n_heads, d_head\n",
        "  for location in acfg.node_locations:\n",
        "    if location.layer == 0:\n",
        "      value[:,location.position,location.num,:] = acfg.layer_store[0][:,location.position,location.num,:].clone()\n",
        "\n",
        "def a_put_l1_attn_z_hook(value, hook):\n",
        "  for location in acfg.node_locations:\n",
        "    if location.layer == 1:\n",
        "      value[:,location.position,location.num,:] = acfg.layer_store[0][:,location.position,location.num,:].clone()\n",
        "\n",
        "def a_put_l2_attn_z_hook(value, hook):\n",
        "  for location in acfg.node_locations:\n",
        "    if location.layer == 2:\n",
        "      value[:,location.position,location.num,:] = acfg.layer_store[0][:,location.position,location.num,:].clone()\n",
        "\n",
        "def a_put_l3_attn_z_hook(value, hook):\n",
        "  for location in acfg.node_locations:\n",
        "    if location.layer == 3:\n",
        "      value[:,location.position,location.num,:] = acfg.layer_store[0][:,location.position,location.num,:].clone()\n",
        "\n",
        "\n",
        "def a_reset(node_locations):\n",
        "  acfg.reset_hooks()\n",
        "  acfg.node_locations = node_locations\n",
        "  acfg.attn_get_hooks = [(acfg.l_attn_hook_z_name[0], a_get_l0_attn_z_hook), (acfg.l_attn_hook_z_name[1], a_get_l1_attn_z_hook), (acfg.l_attn_hook_z_name[2], a_get_l2_attn_z_hook), (acfg.l_attn_hook_z_name[3], a_get_l3_attn_z_hook)][:cfg.n_layers]\n",
        "  acfg.attn_put_hooks = [(acfg.l_attn_hook_z_name[0], a_put_l0_attn_z_hook), (acfg.l_attn_hook_z_name[1], a_put_l1_attn_z_hook), (acfg.l_attn_hook_z_name[2], a_put_l2_attn_z_hook), (acfg.l_attn_hook_z_name[3], a_put_l3_attn_z_hook)][:cfg.n_layers]"
      ]
    },
    {
      "cell_type": "markdown",
      "metadata": {
        "id": "I-yFKiDllqEf"
      },
      "source": [
        "# Part 7B: Set Up: Create sample maths questions\n",
        "\n",
        "Create a batch of manually-curated mathematics test questions"
      ]
    },
    {
      "cell_type": "code",
      "source": [
        "varied_questions = make_maths_test_questions(cfg)"
      ],
      "metadata": {
        "id": "PqyIfplU6I-I"
      },
      "execution_count": null,
      "outputs": []
    },
    {
      "cell_type": "code",
      "execution_count": null,
      "metadata": {
        "id": "4P3GERD_blB-"
      },
      "outputs": [],
      "source": [
        "def calc_mean_values(the_questions):\n",
        "\n",
        "  # Run the sample batch, gather the cache\n",
        "  cfg.main_model.reset_hooks()\n",
        "  cfg.main_model.set_use_attn_result(True)\n",
        "  sample_logits, sample_cache = cfg.main_model.run_with_cache(the_questions.cuda())\n",
        "  print(sample_cache) # Gives names of datasets in the cache\n",
        "  sample_losses_raw, sample_max_prob_tokens = logits_to_tokens_loss(sample_logits, the_questions.cuda())\n",
        "  sample_loss_mean = utils.to_numpy(loss_fn(sample_losses_raw).mean())\n",
        "  print(\"Sample Mean Loss\", sample_loss_mean) # Loss < 0.04 is good\n",
        "\n",
        "\n",
        "  # attn.hook_z is the \"attention head output\" hook point name (at a specified layer)\n",
        "  sample_attn_z_0 = sample_cache[acfg.l_attn_hook_z_name[0]]\n",
        "  print(\"Sample\", acfg.l_attn_hook_z_name[0], sample_attn_z_0.shape) # gives [350, 22, 3, 170] = num_questions, cfg.n_ctx, n_heads, d_head\n",
        "  acfg.mean_attn_z = torch.mean(sample_attn_z_0, dim=0, keepdim=True)\n",
        "  print(\"Mean\", acfg.l_attn_hook_z_name[0], acfg.mean_attn_z.shape) # gives [1, 22, 3, 170] = 1, cfg.n_ctx, n_heads, d_head\n",
        "\n",
        "\n",
        "  # hook_resid_post is the \"post residual memory update\" hook point name (at a specified layer)\n",
        "  sample_resid_post_0 = sample_cache[acfg.l_hook_resid_post_name[0]]\n",
        "  print(\"Sample\", acfg.l_hook_resid_post_name[0], sample_resid_post_0.shape) # gives [350, 22, 510] = num_questions, cfg.n_ctx, d_model\n",
        "  acfg.mean_resid_post = torch.mean(sample_resid_post_0, dim=0, keepdim=True)\n",
        "  print(\"Mean\", acfg.l_hook_resid_post_name[0], acfg.mean_resid_post.shape) # gives [1, 22, 510] = 1, cfg.n_ctx, d_model\n",
        "\n",
        "\n",
        "  # mlp.hook_post is the \"MLP layer\" hook point name (at a specified layer)\n",
        "  sample_mlp_hook_post_0 = sample_cache[acfg.l_mlp_hook_post_name[0]]\n",
        "  print(\"Sample\", acfg.l_mlp_hook_post_name[0], sample_mlp_hook_post_0.shape) # gives [350, 22, 2040] = num_questions, cfg.n_ctx, cfg.d_mlp\n",
        "  acfg.mean_mlp_hook_post = torch.mean(sample_mlp_hook_post_0, dim=0, keepdim=True)\n",
        "  print(\"Mean\", acfg.l_mlp_hook_post_name[0], acfg.mean_mlp_hook_post.shape) # gives [1, 22, 2040] = 1, cfg.n_ctx, cfg.d_mlp"
      ]
    },
    {
      "cell_type": "code",
      "execution_count": null,
      "metadata": {
        "id": "eiK-0P44gvfS"
      },
      "outputs": [],
      "source": [
        "calc_mean_values(varied_questions)"
      ]
    },
    {
      "cell_type": "markdown",
      "metadata": {
        "id": "D6FwJW0tv4Nf"
      },
      "source": [
        "# Part 7C: Results: Predict varied questions\n",
        "\n",
        "Ask the model to predict the varied_questions (without intervention) to see if the model gets them all right. Categorise answers by group"
      ]
    },
    {
      "cell_type": "code",
      "execution_count": null,
      "metadata": {
        "id": "E56siA_QKe0W"
      },
      "outputs": [],
      "source": [
        "def predict_varied_questions():\n",
        "  global varied_questions\n",
        "\n",
        "  num_questions = varied_questions.shape[0]\n",
        "  correct_list = [True] * num_questions\n",
        "\n",
        "  all_logits = cfg.main_model(varied_questions.cuda())\n",
        "  all_losses_raw, all_max_prob_tokens = logits_to_tokens_loss(all_logits, varied_questions.cuda())\n",
        "\n",
        "  # Evaluate and categorize each object\n",
        "  categorization_results = {}\n",
        "  for question_num in range(num_questions):\n",
        "    q = varied_questions[question_num]\n",
        "\n",
        "    losses = loss_fn(all_losses_raw[question_num])\n",
        "    mean_loss = utils.to_numpy(losses.mean())\n",
        "\n",
        "    model_answer_str = tokens_to_string(cfg, all_max_prob_tokens[question_num])\n",
        "    model_answer_num = int(model_answer_str)\n",
        "\n",
        "    major_tag, minor_tag = get_maths_question_complexity(cfg, q)\n",
        "    group_name = major_tag + \".\" + minor_tag\n",
        "\n",
        "    correct = (model_answer_num == tokens_to_answer(cfg, q))\n",
        "    correct_list[question_num] = correct\n",
        "\n",
        "    if group_name not in categorization_results:\n",
        "      categorization_results[group_name] = [0, 0]  # Initialize counts for new group\n",
        "\n",
        "    if correct:\n",
        "      categorization_results[group_name][0] += 1  # Increment good count for this group\n",
        "    else:\n",
        "      categorization_results[group_name][1] += 1  # Increment bad count for this group\n",
        "\n",
        "\n",
        "  # Calculate and print summary success rates per group\n",
        "  acfg.num_varied_questions = 0\n",
        "  acfg.num_varied_successes = 0\n",
        "  for group_name, counts in categorization_results.items():\n",
        "      total = sum(counts)\n",
        "      success_rate = counts[0] / total * 100 if total != 0 else 0\n",
        "      print(f\"Group {group_name}: Success Rate = {success_rate:.2f}% ({counts[0]} good, {counts[1]} bad)\")\n",
        "      acfg.num_varied_questions += total\n",
        "      acfg.num_varied_successes += counts[0]\n",
        "\n",
        "\n",
        "  acfg.print_prediction_success_rate()\n",
        "  if acfg.num_varied_successes < acfg.num_varied_questions:\n",
        "    # Remove the questions that the model failed to answer as they turn up in every cell of the quanta maps\n",
        "    org_size = varied_questions.shape[0]\n",
        "    varied_questions = varied_questions[torch.tensor(correct_list)]\n",
        "    new_size = varied_questions.shape[0]\n",
        "    print(\"RESOLUTION: Understand these failures. Enrich the training data to provide more examples. Retrain the model.\")\n",
        "    print(\"INTERIM: Have reduced 'varied_questions' size from\", org_size, \"to\", new_size, \"so can continue.\")\n",
        "\n",
        "\n",
        "predict_varied_questions()"
      ]
    },
    {
      "cell_type": "markdown",
      "metadata": {
        "id": "nXBYdxj-jLZc"
      },
      "source": [
        "# Part 12A: Set Up: Predict Questions and Evaluate Quanta\n",
        "\n",
        "Get model to predict given question answers, with ablation hook(s), and categorise how many questions fail."
      ]
    },
    {
      "cell_type": "code",
      "execution_count": null,
      "metadata": {
        "id": "w7LdYzkSvZ4c"
      },
      "outputs": [],
      "source": [
        "# Ask the model to predict the question answers (with the hooks either reading data, doing intervetion ablations, or doing nothing )\n",
        "def predict_questions_core(questions, the_hooks):\n",
        "\n",
        "  cfg.main_model.reset_hooks()\n",
        "  cfg.main_model.set_use_attn_result(True)\n",
        "\n",
        "  all_logits = cfg.main_model.run_with_hooks(questions.cuda(), return_type=\"logits\", fwd_hooks=the_hooks)\n",
        "  all_losses_raw, all_max_prob_tokens = logits_to_tokens_loss(all_logits, questions.cuda())\n",
        "\n",
        "  return all_losses_raw, all_max_prob_tokens"
      ]
    },
    {
      "cell_type": "code",
      "execution_count": null,
      "metadata": {
        "id": "03wT2QJL34aP"
      },
      "outputs": [],
      "source": [
        "def c_predict_questions(questions, the_hooks):\n",
        "\n",
        "  all_losses_raw, all_max_prob_tokens = predict_questions_core(questions, the_hooks)\n",
        "\n",
        "  num_fails = 0\n",
        "  for question_num in range(questions.shape[0]):\n",
        "    q = questions[question_num]\n",
        "\n",
        "    the_loss_mean = utils.to_numpy(loss_fn(all_losses_raw[question_num]).mean())\n",
        "\n",
        "    # Only show the question if the loss exceeds the threshold (because of the ablated token position)\n",
        "    if the_loss_mean > acfg.threshold:\n",
        "      answer_str = tokens_to_string(cfg, all_max_prob_tokens[question_num])\n",
        "\n",
        "      # Only count the question if the model got the question wrong\n",
        "      impact_str = get_question_answer_impact(cfg, q, answer_str )\n",
        "      if 'A' in impact_str:\n",
        "        num_fails += 1\n",
        "\n",
        "        if acfg.verbose :\n",
        "          print(tokens_to_string(q), \"Q: ModelAnswer:\", answer_str, \"Impact:\", impact_str, \"Loss:\", the_loss_mean )\n",
        "\n",
        "  return num_fails"
      ]
    },
    {
      "cell_type": "code",
      "execution_count": null,
      "metadata": {
        "id": "CGL57MRBLdUh"
      },
      "outputs": [],
      "source": [
        "def c_set_resid_post_hook(value, hook):\n",
        "  #print( \"In hook\", l_hook_resid_post_name[acfg.layer], acfg.ablate, acfg.position, value.shape) # Get [64, 22, 510] = cfg.batch_size, cfg.n_ctx, d_model\n",
        "\n",
        "  # Copy the mean resid post values in position N to all the batch questions\n",
        "  value[:,acfg.position,:] = acfg.mean_resid_post[0,acfg.position,:].clone()\n",
        "\n",
        "\n",
        "num_failures_list = []\n",
        "if cfg.n_digits >= 5 :\n",
        "  c_fwd_hooks = [(acfg.l_hook_resid_post_name[0], c_set_resid_post_hook),(acfg.l_hook_resid_post_name[1], c_set_resid_post_hook),(acfg.l_hook_resid_post_name[2], c_set_resid_post_hook),(acfg.l_hook_resid_post_name[3], c_set_resid_post_hook)][:cfg.n_layers]\n",
        "\n",
        "  num_questions = varied_questions.shape[0]\n",
        "\n",
        "  for acfg.position in range(cfg.n_ctx()):\n",
        "    num_fails = c_predict_questions(varied_questions, c_fwd_hooks)\n",
        "\n",
        "    num_failures_list += [num_fails] if num_fails > 0 else \".\"\n",
        "\n",
        "    if num_fails > 0:\n",
        "      assert acfg.position < cfg.n_ctx()\n",
        "      cfg.add_useful_position(acfg.position)"
      ]
    },
    {
      "cell_type": "markdown",
      "metadata": {
        "id": "2PjaQvhhayUL"
      },
      "source": [
        "# Part 9 : Results: Can the model do 1 million questions without error?\n",
        "\n",
        "If the model passes this test, this is evidence (not proof) that the model is fully accurate. There may be very rare edge cases (say 1 in ten million) that did not appear in the test questions. Even if you believe you know all the edge cases, and have enriched the training data to contain them, you may not have thought of all edge cases, so this is not proof.\n",
        "\n",
        "If the model fails this test:\n",
        "- Add a few of the failures into the \"test questions\" in part 6C\n",
        "- Understand the \"use case(s)\" driving these failures\n",
        "- Alter the Training CoLab data_generator_core to enrich the training data with examples if these use case(s) and retrain the model.  \n",
        "\n",
        "Takes ~25 mins to run (successfully) for ins_mix_d6_l3_h4_t40K_seed372001"
      ]
    },
    {
      "cell_type": "code",
      "execution_count": null,
      "metadata": {
        "id": "JlLOZMVkeqvm"
      },
      "outputs": [],
      "source": [
        "def null_hook(value, hook):\n",
        "  pass"
      ]
    },
    {
      "cell_type": "code",
      "execution_count": null,
      "metadata": {
        "id": "ZMYZTv5HUp5F"
      },
      "outputs": [],
      "source": [
        "def one_million_questions_core():\n",
        "  global ds\n",
        "\n",
        "  acfg.verbose = False\n",
        "\n",
        "  cfg.analysis_seed = 345621 # Randomly chosen\n",
        "  ds = data_generator() # Re-initialise the data generator\n",
        "\n",
        "  the_successes = 0\n",
        "  the_fails = 0\n",
        "\n",
        "  num_batches = 1000000//cfg.batch_size\n",
        "  for epoch in range(num_batches):\n",
        "      tokens = next(ds)\n",
        "\n",
        "      the_hook = [(acfg.l_attn_hook_z_name[0], null_hook)]\n",
        "      the_fails = c_predict_questions(tokens, the_hook)\n",
        "\n",
        "      if the_fails> 0:\n",
        "        break\n",
        "\n",
        "      the_successes = the_successes + cfg.batch_size\n",
        "\n",
        "      if epoch % 100 == 0:\n",
        "          print(\"Batch\", epoch, \"of\", num_batches, \"#Successes=\", the_successes)\n",
        "\n",
        "  print(\"successes\", the_successes, \"num_fails\", the_fails)\n",
        "  if the_fails > 0:\n",
        "    \"WARNING: Model is not fully accurate. It failed the 1M Q test\""
      ]
    },
    {
      "cell_type": "code",
      "execution_count": null,
      "metadata": {
        "id": "znsauYqjaxok"
      },
      "outputs": [],
      "source": [
        "def one_million_questions():\n",
        "  store_perc_sub = cfg.perc_sub\n",
        "  store_perc_mult = cfg.perc_mult\n",
        "\n",
        "  print_config()\n",
        "  print()\n",
        "\n",
        "  if cfg.perc_add() > 0:\n",
        "    print(\"Addition:\")\n",
        "    cfg.perc_sub = 0\n",
        "    cfg.perc_mult = 0\n",
        "    one_million_questions_core()\n",
        "\n",
        "  if store_perc_sub > 0:\n",
        "    print(\"Subtraction:\")\n",
        "    cfg.perc_sub = 100\n",
        "    cfg.perc_mult = 0\n",
        "    one_million_questions_core()\n",
        "    print()\n",
        "\n",
        "  cfg.perc_sub = store_perc_sub\n",
        "  cfg.perc_mult = store_perc_mult\n",
        "\n",
        "\n",
        "# Takes ~25 minutes to run\n",
        "# one_million_questions()"
      ]
    },
    {
      "cell_type": "markdown",
      "metadata": {
        "id": "ZmsGWUbILYin"
      },
      "source": [
        "# Part 12B: Results: Ablate ALL Heads in EACH token position. What is the impact?\n",
        "\n",
        "Here we ablate all heads in each token position (overriding the model memory aka residual stream) and see if loss increases. If loss increases the token position is used by the algorithm. Unused token positions can be excluded from further analysis. Use \"C_\" prefix"
      ]
    },
    {
      "cell_type": "code",
      "execution_count": null,
      "metadata": {
        "id": "-mIY_13gOiqn"
      },
      "outputs": [],
      "source": [
        "def save_plt_to_file( full_title ):\n",
        "  if cfg.graph_file_suffix > \"\":\n",
        "    filename = cfg.file_config_prefix() + full_title + '.' + cfg.graph_file_suffix\n",
        "    filename = filename.replace(\" \", \"\").replace(\",\", \"\").replace(\":\", \"\").replace(\"-\", \"\")\n",
        "    plt.savefig(filename, bbox_inches='tight', pad_inches=0)"
      ]
    },
    {
      "cell_type": "code",
      "execution_count": null,
      "metadata": {
        "id": "gpRp5YMmLe1y"
      },
      "outputs": [],
      "source": [
        "print_config()\n",
        "print()\n",
        "print(\"Number of failures when ALL Heads in EACH token position are ablated\")\n",
        "print(\"num_questions=\", num_questions, \"min_useful_position=\", cfg.min_useful_position(), \"max_useful_position=\", cfg.max_useful_position() )\n",
        "print()\n",
        "\n",
        "cfg.calc_position_failures_map(num_failures_list, 16)\n",
        "save_plt_to_file(\"Failures When Position Ablated\")\n",
        "plt.show()"
      ]
    },
    {
      "cell_type": "markdown",
      "metadata": {
        "id": "904WBkTOLg_5"
      },
      "source": [
        "# Part 14: Setup: Analysis of quanta per node\n",
        "\n",
        "Evaluate quanta at node (not position) resolution. Uses \"u_\" prefix."
      ]
    },
    {
      "cell_type": "code",
      "execution_count": null,
      "metadata": {
        "id": "iTaSo-UzLlZ_"
      },
      "outputs": [],
      "source": [
        "def u_add_node_tag( the_location, major_tag, minor_tag ):\n",
        "  assert the_location.position >= 0\n",
        "  assert the_location.layer >= 0\n",
        "  assert the_location.num >= 0\n",
        "  assert the_location.position < cfg.n_ctx()\n",
        "  assert the_location.layer < cfg.n_layers\n",
        "  if the_location.is_head:\n",
        "    assert the_location.num < cfg.n_heads\n",
        "  else:\n",
        "    assert the_location.num < cfg.mlp_slices()\n",
        "\n",
        "  cfg.useful_nodes.add_node_tag( the_location, major_tag, minor_tag )"
      ]
    },
    {
      "cell_type": "code",
      "execution_count": null,
      "metadata": {
        "id": "bZG-kUBMph9D"
      },
      "outputs": [],
      "source": [
        "def u_predict_questions(questions, the_hooks):\n",
        "\n",
        "  all_losses_raw, all_max_prob_tokens = predict_questions_core(questions, the_hooks)\n",
        "\n",
        "  num_fails = 0\n",
        "  impact_fails = \"\"\n",
        "  add_complexity_fails = \"\"\n",
        "  sub_complexity_fails = \"\"\n",
        "\n",
        "  for question_num in range(questions.shape[0]):\n",
        "    q = questions[question_num]\n",
        "\n",
        "    the_loss_mean = utils.to_numpy(loss_fn(all_losses_raw[question_num]).mean())\n",
        "\n",
        "    # Only show the question if the loss exceeds the threshold (because of the ablated token position)\n",
        "    if the_loss_mean > acfg.threshold:\n",
        "      answer_str = tokens_to_string(cfg, all_max_prob_tokens[question_num])\n",
        "\n",
        "      impact_str = get_question_answer_impact(cfg, q, answer_str )\n",
        "      # Only count the question if the model got the question wrong\n",
        "      if 'A' in impact_str:\n",
        "        num_fails += 1\n",
        "\n",
        "        impact_fails += impact_str\n",
        "\n",
        "        major_tag, minor_tag = get_maths_question_complexity(cfg, q)\n",
        "        if major_tag == QuantaType.MATH_ADD:\n",
        "          add_complexity_fails += minor_tag\n",
        "        elif major_tag == QuantaType.MATH_SUB:\n",
        "          sub_complexity_fails += minor_tag\n",
        "\n",
        "        if acfg.verbose :\n",
        "          print(tokens_to_string(q), \"U: ModelAnswer:\", answer_str, \"Complexity:\", major_tag, \"Impact:\", impact_str, \"Loss:\", the_loss_mean )\n",
        "\n",
        "\n",
        "  if num_fails > 0:\n",
        "\n",
        "    # Add percentage failure quanta\n",
        "    perc = int( 100.0 * num_fails / len(questions))\n",
        "    u_add_node_tag( acfg, QuantaType.FAIL, str(perc) )\n",
        "\n",
        "    # Add summary of all answer digit impact quanta failures\n",
        "    u_add_node_tag( acfg, QuantaType.IMPACT, \"A\" + sort_unique_digits(impact_fails, True) )\n",
        "\n",
        "    # Add summary of all addition question complexity quanta failures\n",
        "    if add_complexity_fails != \"\":\n",
        "      u_add_node_tag( acfg, QuantaType.MATH_ADD, \"S\" + sort_unique_digits(add_complexity_fails, False) )\n",
        "\n",
        "    # Add summary of all subtraction question complexity quanta failures\n",
        "    if sub_complexity_fails != \"\":\n",
        "      sub_complexity_fails = sort_unique_digits(sub_complexity_fails, False)\n",
        "      if sub_complexity_fails == \"\":\n",
        "        sub_complexity_fails = MathsTag.SUB_NG_TAG\n",
        "      else:\n",
        "        sub_complexity_fails = \"M\" + sub_complexity_fails\n",
        "      u_add_node_tag( acfg, QuantaType.MATH_SUB, sub_complexity_fails )"
      ]
    },
    {
      "cell_type": "code",
      "execution_count": null,
      "metadata": {
        "id": "qOxNc9SAMGRH"
      },
      "outputs": [],
      "source": [
        "def u_mlp_hook_post(value, hook):\n",
        "  # print( \"In u_mlp_hook_post\", value.shape) # Get [1099, 22, 2040] = num_questions, cfg.n_ctx, cfg.d_mlp (# neurons)\n",
        "\n",
        "  # Mean ablate. Copy the mean resid post values in the MLP layer\n",
        "  value[:,acfg.position,:] =  acfg.mean_mlp_hook_post[:,acfg.position,:].clone()\n",
        "  #PQR When we do slices the MLP never fails?? Why??\n",
        "  #slice_size = cfg.d_mlp // cfg.mlp_slices()\n",
        "  #start_index = acfg.num * slice_size\n",
        "  #end_index = start_index + slice_size\n",
        "  #print (\"PQR\", cfg.mlp_slices(), slice_size, start_index, end_index)\n",
        "  #value[:,acfg.position,start_index:end_index] = acfg.mean_mlp_hook_post[:,acfg.position,start_index:end_index].clone()\n",
        "\n",
        "\n",
        "# Ablating the MLP in each layer in each position and seeing if the loss increases shows which layer+MLP are used by the algorithm.\n",
        "def u_mlp_perform_all(questions):\n",
        "  acfg.is_head = False\n",
        "  for acfg.position in cfg.useful_positions:\n",
        "    for acfg.layer in range(cfg.n_layers):\n",
        "      for acfg.num in range(cfg.mlp_slices()):\n",
        "        the_hook = [(acfg.l_mlp_hook_post_name[acfg.layer], u_mlp_hook_post)]\n",
        "        u_predict_questions(questions, the_hook)"
      ]
    },
    {
      "cell_type": "code",
      "execution_count": null,
      "metadata": {
        "id": "C06ZYHaN3zkp"
      },
      "outputs": [],
      "source": [
        "def u_mlp_hook_post(value, hook):\n",
        "  # print( \"In u_mlp_hook_post\", value.shape) # Get [1099, 22, 2040] = num_questions, cfg.n_ctx, cfg.d_mlp (# neurons)\n",
        "\n",
        "  # Mean ablate. Copy the mean resid post values in the MLP layer\n",
        "  value[:,acfg.position,:] =  acfg.mean_mlp_hook_post[:,acfg.position,:].clone()\n",
        "  #PQR When we do slices the MLP never fails?? Why??\n",
        "  #slice_size = cfg.d_mlp // cfg.mlp_slices()\n",
        "  #start_index = acfg.num * slice_size\n",
        "  #end_index = start_index + slice_size\n",
        "  #print (\"PQR\", cfg.mlp_slices(), slice_size, start_index, end_index)\n",
        "  #value[:,acfg.position,start_index:end_index] = acfg.mean_mlp_hook_post[:,acfg.position,start_index:end_index].clone()\n",
        "\n",
        "\n",
        "# Ablating the MLP in each layer in each position and seeing if the loss increases shows which layer+MLP are used by the algorithm.\n",
        "def u_mlp_perform_all(questions):\n",
        "  acfg.is_head = False\n",
        "  for acfg.position in cfg.useful_positions:\n",
        "    for acfg.layer in range(cfg.n_layers):\n",
        "      for acfg.num in range(cfg.mlp_slices()):\n",
        "        the_hook = [(acfg.l_mlp_hook_post_name[acfg.layer], u_mlp_hook_post)]\n",
        "        u_predict_questions(questions, the_hook)"
      ]
    },
    {
      "cell_type": "code",
      "execution_count": null,
      "metadata": {
        "id": "hxc75cZ03yVm"
      },
      "outputs": [],
      "source": [
        "def u_mlp_hook_post(value, hook):\n",
        "  # print( \"In u_mlp_hook_post\", value.shape) # Get [1099, 22, 2040] = num_questions, cfg.n_ctx, cfg.d_mlp (# neurons)\n",
        "\n",
        "  # Mean ablate. Copy the mean resid post values in the MLP layer\n",
        "  value[:,acfg.position,:] =  acfg.mean_mlp_hook_post[:,acfg.position,:].clone()\n",
        "  #PQR When we do slices the MLP never fails?? Why??\n",
        "  #slice_size = cfg.d_mlp // cfg.mlp_slices()\n",
        "  #start_index = acfg.num * slice_size\n",
        "  #end_index = start_index + slice_size\n",
        "  #print (\"PQR\", cfg.mlp_slices(), slice_size, start_index, end_index)\n",
        "  #value[:,acfg.position,start_index:end_index] =  acfg.mean_mlp_hook_post[:,acfg.position,start_index:end_index].clone()\n",
        "\n",
        "\n",
        "# Ablating the MLP in each layer in each position and seeing if the loss increases shows which layer+MLP are used by the algorithm.\n",
        "def u_mlp_perform_all(questions):\n",
        "  acfg.is_head = False\n",
        "  for acfg.position in cfg.useful_positions:\n",
        "    for acfg.layer in range(cfg.n_layers):\n",
        "      for acfg.num in range(cfg.mlp_slices()):\n",
        "        the_hook = [(acfg.l_mlp_hook_post_name[acfg.layer], u_mlp_hook_post)]\n",
        "        u_predict_questions(questions, the_hook)"
      ]
    },
    {
      "cell_type": "code",
      "execution_count": null,
      "metadata": {
        "id": "f2EnisO6MMGQ"
      },
      "outputs": [],
      "source": [
        "def u_head_attn_hook_z(value, hook):\n",
        "  # print( \"In u_head_attn_hook_z\", value.shape) # Get [1, 22, 3, 170] = ???, cfg.n_ctx, cfg.n_heads, cfg.d_head\n",
        "\n",
        "  # Mean ablate. Copy the mean resid post values in position N to all the batch questions\n",
        "  value[:,acfg.position,acfg.num,:] = acfg.mean_attn_z[:,acfg.position,acfg.num,:].clone()\n",
        "\n",
        "\n",
        "# Ablating each head in each layer in each position and seeing if the loss increases shows which position+layer+head are used by the algorithm.\n",
        "def u_head_perform_all(questions):\n",
        "  acfg.is_head = True\n",
        "  for acfg.position in cfg.useful_positions:\n",
        "    for acfg.layer in range(cfg.n_layers):\n",
        "      for acfg.num in range(cfg.n_heads):\n",
        "        the_hook = [(acfg.l_attn_hook_z_name[acfg.layer], u_head_attn_hook_z)]\n",
        "        u_predict_questions(questions, the_hook)"
      ]
    },
    {
      "cell_type": "code",
      "execution_count": null,
      "metadata": {
        "id": "zh3f8Jiahdvq"
      },
      "outputs": [],
      "source": [
        "def u_calculate_attention_tags(questions):\n",
        "  cfg.useful_nodes.reset_node_tags(QuantaType.ATTENTION)\n",
        "\n",
        "  logits, cache = cfg.main_model.run_with_cache(questions)\n",
        "\n",
        "  all_attention_weights = []\n",
        "  for layer in range(cfg.n_layers):\n",
        "    attention_weights = cache[\"pattern\", layer, \"attn\"]\n",
        "    #print(attention_weights.shape) # 512, 4, 22, 22 = cfg.batch_size, cfg.n_heads, cfg.n_ctx, cfg.n_ctx\n",
        "\n",
        "    average_attention_weights = attention_weights.mean(dim=0)\n",
        "    #print(average_attention_weights.shape) # 4, 22, 22 = cfg.n_heads, cfg.n_ctx, cfg.n_ctx\n",
        "\n",
        "    all_attention_weights += [average_attention_weights]\n",
        "\n",
        "\n",
        "  for node in cfg.useful_nodes.nodes:\n",
        "    if node.is_head:\n",
        "\n",
        "      # Get attention weights for this token in this head\n",
        "      layer_weights = all_attention_weights[node.layer]\n",
        "      weights = layer_weights[node.num, node.position, :]\n",
        "\n",
        "      top_tokens = torch.topk(weights, 4)\n",
        "      total_attention = weights.sum()\n",
        "      attention_percentage = top_tokens.values / total_attention * 100\n",
        "\n",
        "      # Add up to 4 tags with percs per head\n",
        "      for idx, token_idx in enumerate(top_tokens.indices):\n",
        "        perc = attention_percentage[idx]\n",
        "        if perc >= 1.0:\n",
        "          u_add_node_tag( node, QuantaType.ATTENTION, f\"P{token_idx}={perc:.0f}\" )"
      ]
    },
    {
      "cell_type": "code",
      "execution_count": null,
      "metadata": {
        "id": "as9ot9RMMTAi"
      },
      "outputs": [],
      "source": [
        "acfg.verbose = False\n",
        "cfg.useful_nodes = UsefulNodeList()\n",
        "u_mlp_perform_all(varied_questions)\n",
        "u_head_perform_all(varied_questions)\n",
        "u_calculate_attention_tags(varied_questions)\n",
        "cfg.useful_nodes.sort_nodes()"
      ]
    },
    {
      "cell_type": "markdown",
      "metadata": {
        "id": "3BmQHiLALp-3"
      },
      "source": [
        " # Part 15A: Set up: Show and save Quanta map\n",
        "\n",
        " Using the UsefulNodes and filtering their tags, show a 2D map of the nodes and the tag minor versions."
      ]
    },
    {
      "cell_type": "code",
      "execution_count": null,
      "metadata": {
        "id": "emcB0_CpYTaJ"
      },
      "outputs": [],
      "source": [
        "def show_quanta_map( title, standard_quanta, shades, filters : FilterNode, major_tag : str, minor_tag : str, get_node_details, base_fontsize = 10, max_width = 10 ):\n",
        "\n",
        "  test_nodes = cfg.useful_nodes if filters == None else filter_nodes(cfg.useful_nodes, filters)\n",
        "\n",
        "  ax1, quanta_results = calc_quanta_map(cfg, standard_quanta, shades, test_nodes, major_tag, minor_tag, get_node_details, base_fontsize, max_width )\n",
        "\n",
        "  if cfg.graph_file_suffix > \"\":\n",
        "    print(\"Saving quanta map:\", title)\n",
        "    save_plt_to_file(title)\n",
        "  else:\n",
        "    ax1.set_title(cfg.file_config_prefix() + ' ' + title + ' ({} nodes)'.format(len(quanta_results)))\n",
        "\n",
        "  # Show plot\n",
        "  plt.show()"
      ]
    },
    {
      "cell_type": "markdown",
      "metadata": {
        "id": "VpkyhHRoMOSw"
      },
      "source": [
        "# Part 16A: Results: Show failure percentage map\n",
        "\n",
        "Show the percentage failure rate (incorrect prediction) when individual Attention Heads and MLPs are ablated.\n",
        "\n",
        "A cell containing \"< 1\" may add some risk to the accuracy of the overall analysis process. Check to see if this represents a new use case. Improve the test data set to contain more instances of this (new or existing) use case."
      ]
    },
    {
      "cell_type": "code",
      "execution_count": null,
      "metadata": {
        "id": "vQ28dx5YLs0P"
      },
      "outputs": [],
      "source": [
        "show_quanta_map( \"Failure Frequency Behavior Per Node\", True, 10, None, QuantaType.FAIL, \"\", get_quanta_fail_perc, 9)"
      ]
    },
    {
      "cell_type": "markdown",
      "metadata": {
        "id": "h-YwdH17-jyt"
      },
      "source": []
    },
    {
      "cell_type": "markdown",
      "metadata": {
        "id": "IifmtnLoTCN5"
      },
      "source": [
        "# Part 16B - Show answer impact behavior map\n",
        "\n",
        "Show the purpose of each useful cell by impact on the answer digits A0 to A5.\n"
      ]
    },
    {
      "cell_type": "code",
      "execution_count": null,
      "metadata": {
        "id": "6K9PyCKYTUzX"
      },
      "outputs": [],
      "source": [
        "show_quanta_map( \"Answer Impact Behavior Per Node\", True, cfg.answer_tokens(), None, QuantaType.IMPACT, \"\", get_quanta_impact, 9, 6)"
      ]
    },
    {
      "cell_type": "markdown",
      "metadata": {
        "id": "avCfaCT1Puhz"
      },
      "source": [
        "# Part 16C: Result: Show attention map\n",
        "\n",
        "Show attention quanta of useful heads"
      ]
    },
    {
      "cell_type": "code",
      "execution_count": null,
      "metadata": {
        "id": "NTGoEWHgvFH6"
      },
      "outputs": [],
      "source": [
        "# Only maps attention heads, not MLP layers\n",
        "show_quanta_map( \"Attention Behavior Per Head\", True, 10, None, QuantaType.ATTENTION, \"\", get_quanta_attention, 10, 6)"
      ]
    },
    {
      "cell_type": "markdown",
      "metadata": {
        "id": "v7-99ZxDOrbF"
      },
      "source": [
        "# Part 16C - Show question complexity map\n",
        "\n",
        "Show the \"minimum\" addition purpose of each useful cell by S0 to S5 quanta.\n",
        "Show the \"minimum\" subtraction purpose of each useful cell by M0 to M5 quanta"
      ]
    },
    {
      "cell_type": "code",
      "execution_count": null,
      "metadata": {
        "id": "0tAJl0eYO96W"
      },
      "outputs": [],
      "source": [
        "def get_quanta_min_complexity(cfg, node, major_tag, minor_tag, shades):\n",
        "  color_index = 0\n",
        "  cell_text = node.min_tag_suffix( major_tag, minor_tag )\n",
        "  if cell_text != \"\" :\n",
        "    cell_text = cell_text[0:2]\n",
        "    color_index = int(cell_text[1]) if len(cell_text) > 1 and cell_text[1].isdigit() else shades-1\n",
        "\n",
        "  return cell_text, color_index"
      ]
    },
    {
      "cell_type": "code",
      "execution_count": null,
      "metadata": {
        "id": "OyoErRoCA-pz"
      },
      "outputs": [],
      "source": [
        "if cfg.perc_add() > 0:\n",
        "  show_quanta_map( \"Addition Min-Complexity Behavior Per Node\", False, 6, None, QuantaType.MATH_ADD, \"\", get_quanta_min_complexity)"
      ]
    },
    {
      "cell_type": "code",
      "execution_count": null,
      "metadata": {
        "id": "CMZzbjxUBQGE"
      },
      "outputs": [],
      "source": [
        "if cfg.perc_sub > 0:\n",
        "  show_quanta_map( \"Subtraction Min-Complexity Behavior Per Node\", False, 4, None, QuantaType.MATH_SUB, \"\", get_quanta_min_complexity)"
      ]
    },
    {
      "cell_type": "markdown",
      "metadata": {
        "id": "fHSY3blNMe7I"
      },
      "source": [
        "#Part 19A: Set Up: Calc and graph PCA decomposition.\n"
      ]
    },
    {
      "cell_type": "code",
      "execution_count": null,
      "metadata": {
        "id": "cCiBsiQAMhS_"
      },
      "outputs": [],
      "source": [
        "tn_questions = 100\n",
        "\n",
        "\n",
        "def make_t_questions(test_digit, test_case, operation):\n",
        "    limit = 10 ** test_digit\n",
        "    questions = []\n",
        "    for i in range(tn_questions):\n",
        "      x_noise = 0\n",
        "      y_noise = 0\n",
        "\n",
        "      if operation == MathsTokens.PLUS:\n",
        "        if test_case == 8:\n",
        "          # These are n_digit addition questions where x and y sum is between 0 to 8\n",
        "          x = random.randint(0, 8)\n",
        "          y = random.randint(0, 8-x)\n",
        "        if test_case == 9:\n",
        "          # These are n_digit addition questions where x and y sum is 9\n",
        "          x = random.randint(0, 9)\n",
        "          y = 9 - x\n",
        "        if test_case == 10:\n",
        "          # These are n_digit addition questions where x and y sum is between 10 to 18\n",
        "          x = random.randint(1, 9)\n",
        "          y = random.randint(10-x, 9)\n",
        "\n",
        "        # Randomise the lower digits - ensuring that x_noise + y_noise dont cause a MakeCarry\n",
        "        x_noise = random.randint(0, limit-1)\n",
        "        y_noise = random.randint(0, limit-1 - x_noise)\n",
        "\n",
        "\n",
        "      if operation == MathsTokens.MINUS:\n",
        "        if test_case == 8:\n",
        "          # These are n_digit subtraction questions where x - y < 0\n",
        "          x = random.randint(0, 8)\n",
        "          y = random.randint(x+1, 9)\n",
        "        if test_case == 9:\n",
        "          # These are n_digit subtraction questions where x - y is 0\n",
        "          x = random.randint(0, 9)\n",
        "          y = x\n",
        "        if test_case == 10:\n",
        "          # These are n_digit subtraction questions where x - y > 0\n",
        "          x = random.randint(1, 9)\n",
        "          y = random.randint(0, x-1)\n",
        "\n",
        "        # Randomise the lower digits - ensuring that x_noise + y_noise dont cause a BorrowOne\n",
        "        x_noise = random.randint(0, limit-1)\n",
        "        y_noise = random.randint(0, x_noise)\n",
        "\n",
        "\n",
        "      x = x * limit + x_noise\n",
        "      y = y * limit + y_noise\n",
        "      questions.append([x, y])\n",
        "\n",
        "    return make_maths_questions(cfg, operation, \"\", \"\", questions)\n",
        "\n",
        "\n",
        "\n",
        "def make_tricase_questions(test_digit, operation):\n",
        "  q1 = make_t_questions(test_digit, 8, operation)\n",
        "  q2 = make_t_questions(test_digit, 9, operation)\n",
        "  q3 = make_t_questions(test_digit, 10, operation)\n",
        "\n",
        "  questions = torch.vstack((q1, q2, q3))\n",
        "\n",
        "  return questions\n",
        "\n",
        "\n",
        "# Cache the sample questions (by answer_digit and operation) for later reuse\n",
        "t_questions_dict = {}\n",
        "for answer_digit in range(cfg.n_digits):\n",
        "    for operation in [MathsTokens.PLUS, MathsTokens.MINUS]:\n",
        "        t_questions = make_tricase_questions(answer_digit, operation)\n",
        "        # Use a tuple of (answer_digit, operation) as the key for indexing\n",
        "        t_questions_dict[(answer_digit, operation)] = t_questions"
      ]
    },
    {
      "cell_type": "code",
      "execution_count": null,
      "metadata": {
        "id": "iKc1kj-ZUeCo"
      },
      "outputs": [],
      "source": [
        "def pca_evr_0_percent(pca):\n",
        "  return int(round(pca.explained_variance_ratio_[0]*100,0))"
      ]
    },
    {
      "cell_type": "code",
      "execution_count": null,
      "metadata": {
        "id": "SWCPgoQZMjgc"
      },
      "outputs": [],
      "source": [
        "# Calculate one Principal Component Analysis\n",
        "def calc_pca_for_an(node_location, operation, answer_digit):\n",
        "  assert node_location.is_head == True\n",
        "\n",
        "  try:\n",
        "    t_questions = t_questions_dict[(answer_digit, operation)]\n",
        "\n",
        "    _, the_cache = cfg.main_model.run_with_cache(t_questions)\n",
        "\n",
        "    # Gather attention patterns for all the (randomly chosen) questions\n",
        "    attention_outputs = []\n",
        "    for i in range(len(t_questions)):\n",
        "\n",
        "      # Output of individual heads, without final bias\n",
        "      attention_cache=the_cache[\"result\", node_location.layer, \"attn\"] # Output of individual heads, without final bias\n",
        "      attention_output=attention_cache[i]  # Shape [n_ctx, n_head, d_model]\n",
        "      attention_outputs.append(attention_output[node_location.position, node_location.num, :])\n",
        "\n",
        "    attn_outputs = torch.stack(attention_outputs, dim=0).cpu()\n",
        "\n",
        "    pca = PCA(n_components=6)\n",
        "    pca.fit(attn_outputs)\n",
        "    pca_attn_outputs = pca.transform(attn_outputs)\n",
        "\n",
        "    title = node_location.name() + ', A'+str(answer_digit) + ', EVR[0]=' + str(pca_evr_0_percent(pca)) + '%'\n",
        "\n",
        "    return pca, pca_attn_outputs, title\n",
        "  except Exception as e:\n",
        "    print( \"calc_pca_for_an Failed:\" + node_location.name() + \" \" + token_to_char(cfg, operation) + \" \" + answer_name(answer_digit), e)\n",
        "    return None, None, None"
      ]
    },
    {
      "cell_type": "code",
      "execution_count": null,
      "metadata": {
        "id": "cZ_f5TUmqYBX"
      },
      "outputs": [],
      "source": [
        "# Plot the PCA of PnLnHn's attention pattern, using T8, T9, T10 questions that differ in the An digit\n",
        "def plot_pca_for_an(ax, pca_attn_outputs, title):\n",
        "  ax.scatter(pca_attn_outputs[:tn_questions, 0], pca_attn_outputs[:tn_questions, 1], color='red', label='T8 (0-8)') # t8 questions\n",
        "  ax.scatter(pca_attn_outputs[tn_questions:2*tn_questions, 0], pca_attn_outputs[tn_questions:2*tn_questions, 1], color='green', label='T9') # t9 questions\n",
        "  ax.scatter(pca_attn_outputs[2*tn_questions:, 0], pca_attn_outputs[2*tn_questions:, 1], color='blue', label='T10 (10-18)') # t10 questions\n",
        "  if title != \"\" :\n",
        "    ax.set_title(title)"
      ]
    },
    {
      "cell_type": "code",
      "execution_count": null,
      "metadata": {
        "id": "NaRu2ZEaSRNW"
      },
      "outputs": [],
      "source": [
        "def pca_op_tag(the_digit, operation, strong):\n",
        "  return answer_name(the_digit)  + \".\" + (MathsTag.PCA_ADD_TAG if operation == MathsTokens.PLUS else MathsTag.PCA_SUB_TAG) + ( \"\" if strong else \".Weak\")"
      ]
    },
    {
      "cell_type": "code",
      "execution_count": null,
      "metadata": {
        "id": "Zk2K3y7pMlQr"
      },
      "outputs": [],
      "source": [
        "def manual_node_pca(ax, position, layer, num, operation, answer_digit):\n",
        "\n",
        "  node_location = NodeLocation(position, layer, True, num)\n",
        "  pca, pca_attn_outputs, title = calc_pca_for_an(node_location, operation, answer_digit)\n",
        "  plot_pca_for_an(ax, pca_attn_outputs, title)\n",
        "\n",
        "  # Add the strong PCA tag to node PCA:A5.TR\n",
        "  u_add_node_tag( node_location, QuantaType.PCA, pca_op_tag(answer_digit, operation, True) )\n",
        "\n",
        "\n",
        "def auto_node_pca(ax, index, node_location, operation, answer_digit, perc_threshold):\n",
        "\n",
        "  pca, pca_attn_outputs, title = calc_pca_for_an(node_location, operation, answer_digit)\n",
        "  if pca is not None:\n",
        "    perc = pca_evr_0_percent(pca)\n",
        "    if perc > perc_threshold:\n",
        "      plot_pca_for_an(ax, pca_attn_outputs, title)\n",
        "\n",
        "      # Add the weak PCA tag to node PCA:A5.TR.Weak\n",
        "      u_add_node_tag( node_location, QuantaType.PCA, pca_op_tag(answer_digit, operation, False) )\n",
        "      return True\n",
        "\n",
        "  return False"
      ]
    },
    {
      "cell_type": "code",
      "execution_count": null,
      "metadata": {
        "id": "sBQ1XWg_oJne"
      },
      "outputs": [],
      "source": [
        "def manual_nodes_pca(op, nodes):\n",
        "  print(\"Manual PCA tags for\", cfg.model_name, \"with operation\", token_to_char(cfg, op))\n",
        "\n",
        "  cols = 4\n",
        "  rows = 1 + (len(nodes)+1) // cols\n",
        "\n",
        "  fig, axs = plt.subplots(rows, cols)\n",
        "  fig.set_figheight(rows*2 + 1)\n",
        "  fig.set_figwidth(10)\n",
        "\n",
        "  index = 0\n",
        "  for node in nodes:\n",
        "    manual_node_pca(axs[index // cols, index % cols], node[0], node[1], node[2], op, node[3])\n",
        "    index += 1\n",
        "\n",
        "  # Remove any graphs we dont need (except last one)\n",
        "  while index < rows * cols - 1:\n",
        "    ax = axs[index // cols, index % cols]\n",
        "    ax.remove()\n",
        "    index += 1\n",
        "\n",
        "  # Replace last graph with the legend\n",
        "  lines_labels = [axs[0,0].get_legend_handles_labels()]\n",
        "  lines, labels = [sum(lol, []) for lol in zip(*lines_labels)]\n",
        "  axs[rows-1, cols-1].legend(lines, labels)\n",
        "  axs[rows-1, cols-1].axis('off') # Now, to hide the last subplot\n",
        "\n",
        "  plt.tight_layout()\n",
        "  save_plt_to_file('Pca Tr')\n",
        "  plt.show()"
      ]
    },
    {
      "cell_type": "markdown",
      "metadata": {
        "id": "Rbiau9foMp3h"
      },
      "source": [
        "#Part 19B: Results: Manual interpretation of PCA results\n",
        "\n",
        "If an attention head and an answer digit An gives an interpretable response (2 or 3 distinct output clusters) on 3 groups of questions aligned to T8, T9 and T10 definitions, then plot the response and add a QuantaType.PCA tag\n",
        "\n"
      ]
    },
    {
      "cell_type": "code",
      "execution_count": null,
      "metadata": {
        "id": "AhTlzqNr6qN5"
      },
      "outputs": [],
      "source": [
        "cfg.useful_nodes.reset_node_tags(QuantaType.PCA)"
      ]
    },
    {
      "cell_type": "code",
      "execution_count": null,
      "metadata": {
        "id": "HQ5fS3XNMs8e"
      },
      "outputs": [],
      "source": [
        "# Plot all attention heads with the clearest An selected\n",
        "if use_pca:\n",
        "\n",
        "  if cfg.model_name == \"add_d5_l1_h3_t30K\" :\n",
        "    manual_nodes_pca(MathsTokens.PLUS,\n",
        "      [[ 12, 0, 0, 4 ],\n",
        "      [ 12, 0, 2, 3 ],\n",
        "      [ 13, 0, 0, 3 ],\n",
        "      [ 13, 0, 2, 2 ],\n",
        "      [ 14, 0, 0, 2 ],\n",
        "      [ 14, 0, 2, 1 ],\n",
        "      [ 15, 0, 0, 1 ],\n",
        "      [ 15, 0, 2, 0 ],\n",
        "      [ 16, 0, 0, 0 ]])\n",
        "\n",
        "  if cfg.model_name == \"add_d5_l2_h3_t15K\" :\n",
        "    manual_nodes_pca(MathsTokens.PLUS,\n",
        "      [[10, 0, 0, 2 ],\n",
        "      [ 12, 0, 0, 3 ],\n",
        "      [ 12, 1, 0, 3 ],\n",
        "      [ 12, 1, 1, 4 ],\n",
        "      [ 12, 1, 2, 4 ],\n",
        "      [ 13, 0, 0, 0 ],\n",
        "      [ 13, 0, 0, 3 ],\n",
        "      [ 13, 1, 2, 2 ],\n",
        "      [ 14, 0, 0, 0 ],\n",
        "      [ 14, 0, 0, 2 ],\n",
        "      [ 14, 1, 2, 2 ],\n",
        "      [ 15, 0, 0, 1 ],\n",
        "      [ 15, 0, 0, 0 ],\n",
        "      [ 15, 1, 1, 1 ],\n",
        "      [ 16, 0, 0, 0 ]])\n",
        "\n",
        "  if cfg.model_name == \"add_d6_l2_h3_t15K\" :\n",
        "    manual_nodes_pca(MathsTokens.PLUS,\n",
        "      [[11, 0, 0, 2 ],\n",
        "      [ 12, 0, 0, 3 ],\n",
        "      [ 13, 0, 0, 1 ],\n",
        "      [ 14, 0, 0, 4 ],\n",
        "      [ 14, 1, 1, 4 ],\n",
        "      [ 15, 0, 0, 4 ],\n",
        "      [ 15, 1, 1, 4 ],\n",
        "      [ 16, 0, 0, 3 ],\n",
        "      [ 16, 1, 1, 3 ],\n",
        "      [ 17, 0, 0, 2 ],\n",
        "      [ 17, 1, 1, 2 ],\n",
        "      [ 18, 0, 0, 0 ],\n",
        "      [ 18, 0, 0, 1 ],\n",
        "      [ 19, 0, 0, 0 ]])\n",
        "\n",
        "  if cfg.model_name == \"sub_d6_l2_h3_t30K\" :\n",
        "    manual_nodes_pca(MathsTokens.MINUS,\n",
        "      [[14, 0, 1, 0 ],\n",
        "      [ 15, 0, 0, 5 ],\n",
        "      [ 15, 1, 1, 0 ],\n",
        "      [ 15, 1, 1, 1 ],\n",
        "      [ 15, 1, 1, 2 ],\n",
        "      [ 15, 1, 1, 3 ],\n",
        "      [ 15, 1, 1, 4 ],\n",
        "      [ 15, 1, 2, 0 ],\n",
        "      [ 15, 1, 2, 1 ],\n",
        "      [ 15, 1, 2, 2 ],\n",
        "      [ 15, 1, 2, 3 ],\n",
        "      [ 16, 0, 0, 0 ],\n",
        "      [ 16, 0, 0, 1 ],\n",
        "      [ 16, 0, 0, 2 ],\n",
        "      [ 16, 0, 0, 3 ],\n",
        "      [ 16, 0, 0, 4 ],\n",
        "      [ 16, 0, 0, 5 ],\n",
        "      [ 16, 1, 0, 4 ],\n",
        "      [ 16, 1, 1, 0 ],\n",
        "      [ 16, 1, 1, 1 ],\n",
        "      [ 16, 1, 1, 2 ],\n",
        "      [ 16, 1, 1, 3 ],\n",
        "      [ 16, 1, 1, 4 ],\n",
        "      [ 16, 1, 2, 0 ],\n",
        "      [ 16, 1, 2, 1 ],\n",
        "      [ 16, 1, 2, 2 ],\n",
        "      [ 16, 1, 2, 3 ],\n",
        "      [ 16, 1, 2, 4 ],\n",
        "      [ 16, 1, 2, 5 ],\n",
        "      [ 17, 0, 0, 0 ],\n",
        "      [ 17, 0, 0, 1 ],\n",
        "      [ 17, 0, 0, 2 ],\n",
        "      [ 17, 0, 0, 3 ],\n",
        "      [ 17, 1, 0, 3 ],\n",
        "      [ 17, 1, 0, 4 ],\n",
        "      [ 17, 1, 2, 0 ],\n",
        "      [ 17, 1, 2, 4 ],\n",
        "      [ 18, 0, 0, 0 ],\n",
        "      [ 18, 0, 0, 1 ],\n",
        "      [ 18, 0, 0, 2 ],\n",
        "      [ 18, 0, 2, 0 ],\n",
        "      [ 18, 1, 2, 3 ],\n",
        "      [ 19, 0, 0, 0 ],\n",
        "      [ 19, 1, 2, 2 ],\n",
        "      [ 20, 0, 0, 0 ],\n",
        "      [ 18, 0, 2, 0 ],\n",
        "\t    [ 18, 0, 2, 0 ]])\n",
        "\n",
        "  if cfg.model_name == \"mix_d6_l3_h4_t40K\" : # TBC\n",
        "    manual_nodes_pca(MathsTokens.PLUS,\n",
        "      [[ 8, 0, 0, 4 ],\n",
        "      [  9, 0, 1, 3 ],\n",
        "      [ 10, 0, 1, 2 ],\n",
        "      [ 10, 0, 1, 3 ],\n",
        "      [ 11, 0, 1, 1 ],\n",
        "      [ 11, 0, 1, 2 ],\n",
        "      [ 12, 0, 0, 0 ],\n",
        "      [ 13, 0, 1, 4 ],\n",
        "      [ 13, 1, 1, 0 ],\n",
        "      [ 13, 1, 1, 1 ],\n",
        "      [ 13, 1, 1, 2 ],\n",
        "      [ 13, 1, 1, 3 ],\n",
        "      [ 13, 1, 2, 3 ],\n",
        "      [ 13, 1, 2, 5 ],\n",
        "      [ 14, 0, 1, 0 ],\n",
        "      [ 15, 0, 0, 0 ],\n",
        "      [ 15, 0, 0, 1 ],\n",
        "      [ 15, 0, 0, 2 ],\n",
        "      [ 15, 0, 0, 3 ],\n",
        "      [ 15, 0, 0, 4 ],\n",
        "      [ 15, 0, 0, 5 ],\n",
        "      [ 15, 1, 0, 0 ],\n",
        "      [ 15, 1, 0, 1 ],\n",
        "      [ 15, 1, 0, 2 ],\n",
        "      [ 15, 1, 0, 3 ],\n",
        "      [ 15, 1, 0, 4 ]])\n",
        "\n",
        "  if cfg.model_name == \"ins1_mix_d6_l3_h4_t40K\" :\n",
        "    manual_nodes_pca(MathsTokens.PLUS,\n",
        "      [[13, 1, 3, 1 ],\n",
        "      [ 14, 1, 2, 0 ],\n",
        "      [ 14, 1, 2, 2 ],\n",
        "      [ 14, 1, 3, 4 ],\n",
        "      [ 15, 0, 3, 5 ],\n",
        "      [ 15, 1, 2, 2 ],\n",
        "      [ 15, 1, 3, 4 ],\n",
        "      [ 16, 0, 3, 4 ],\n",
        "      [ 16, 1, 2, 0 ],\n",
        "      [ 16, 1, 2, 1 ],\n",
        "      [ 16, 1, 2, 2 ],\n",
        "      [ 16, 1, 3, 2 ],\n",
        "      [ 17, 0, 3, 3 ],\n",
        "      [ 17, 1, 2, 2 ],\n",
        "      [ 17, 1, 3, 2 ],\n",
        "      [ 18, 0, 3, 2 ],\n",
        "      [ 18, 1, 3, 1 ],\n",
        "      [ 19, 0, 3, 1 ],\n",
        "      [ 19, 2, 0, 0 ],\n",
        "      [ 19, 2, 1, 0 ],\n",
        "      [ 20, 0, 0, 0 ],\n",
        "      [ 20, 0, 3, 0 ]])\n",
        "\n",
        "else:\n",
        "  print( \"PCA library failed to import. So PCA not done\")"
      ]
    },
    {
      "cell_type": "markdown",
      "metadata": {
        "id": "jIu3Pr9CMx3l"
      },
      "source": [
        "#Part 19C: Results: Automatic interpetation of PCA results\n",
        "\n",
        "Part 19B is manual and selective. This part is automatic. It tests nodes not included in Part 19B, where this first (single) principal component explains 66% or more of the node. It adds a QuantaType.PCA \"weak\" tag"
      ]
    },
    {
      "cell_type": "code",
      "execution_count": null,
      "metadata": {
        "id": "H4FFdqy-79A1"
      },
      "outputs": [],
      "source": [
        "def auto_find_pca_node(node, op, perc_threshold):\n",
        "  fig, axs = plt.subplots(2, 4) # Allow up to 8 graphs\n",
        "  fig.set_figheight(4)\n",
        "  fig.set_figwidth(10)\n",
        "\n",
        "  index = 0\n",
        "  for answer_digit in range(cfg.n_digits+1):\n",
        "    ax = axs[index // 4, index % 4]\n",
        "    if auto_node_pca(ax, index, node, op, answer_digit, perc_threshold):\n",
        "      index += 1\n",
        "\n",
        "  # Remove any graphs we dont need after all\n",
        "  while index < 2 * 4:\n",
        "    ax = axs[index // 4, index % 4]\n",
        "    ax.remove()\n",
        "    index += 1\n",
        "\n",
        "  plt.tight_layout()\n",
        "  plt.show()"
      ]
    },
    {
      "cell_type": "code",
      "execution_count": null,
      "metadata": {
        "id": "vdfpkXmAMzg4"
      },
      "outputs": [],
      "source": [
        "def auto_find_pca(op):\n",
        "  print(\"Automatic (weak) PCA tags for\", cfg.model_name, \"with operation\", token_to_char(cfg, op))\n",
        "  perc_threshold = 75\n",
        "\n",
        "  for node in cfg.useful_nodes.nodes:\n",
        "\n",
        "    # Exclude nodes with a (manual) PCA tag - for any answer digit(s)). Exclude MLP neurons.\n",
        "    minor_tag_prefix = MathsTag.PCA_ADD_TAG if operation == MathsTokens.PLUS else MathsTag.PCA_SUB_TAG\n",
        "    if node.is_head and not node.contains_tag(QuantaType.PCA, minor_tag_prefix):\n",
        "      print( \"Doing PCA on node\", node.name())\n",
        "\n",
        "      auto_find_pca_node(node, op, perc_threshold)\n",
        "\n",
        "\n",
        "if use_pca:\n",
        "  if cfg.perc_add() > 0:\n",
        "    auto_find_pca(MathsTokens.PLUS)\n",
        "  if cfg.perc_sub > 0:\n",
        "    auto_find_pca(MathsTokens.MINUS)"
      ]
    },
    {
      "cell_type": "markdown",
      "metadata": {
        "id": "jFcCpfmKwlAH"
      },
      "source": [
        "# Part 20A: Results: Show useful nodes and behaviour tags"
      ]
    },
    {
      "cell_type": "code",
      "execution_count": null,
      "metadata": {
        "id": "vbzIaqmtwmkH"
      },
      "outputs": [],
      "source": [
        "cfg.useful_nodes.print_node_tags()"
      ]
    },
    {
      "cell_type": "markdown",
      "metadata": {
        "id": "IVkOJRmPvPms"
      },
      "source": [
        "# Part 20B: Results: Save useful nodes and behaviour tags to json file"
      ]
    },
    {
      "cell_type": "code",
      "execution_count": null,
      "metadata": {
        "id": "naD2eCZevOsi"
      },
      "outputs": [],
      "source": [
        "# Serialize and save the useful nodes list to a temporary CoLab file in JSON format\n",
        "print( \"Saving useful node list with behavior tags:\", main_fname_behavior_json)\n",
        "cfg.useful_nodes.save_nodes(main_fname_behavior_json)"
      ]
    },
    {
      "cell_type": "markdown",
      "metadata": {
        "id": "bL9HjPDwSrwD"
      },
      "source": [
        "# Part 21A : Set up: Interchange Interventions\n",
        "\n",
        "Here we prove that model nodes perform specified calculations. If all the calculations in an algorithm hypothesis are found to exist in a model instance, this provides evidence for the hypothesis.   \n",
        "\n",
        "**Automatic searches** for node purposes are preferred, as they applicable to several models, and survive (non-sigificant, node-reordering) changes to the model after training. When a node purpose is detected, this is documented as a tag on the node.\n",
        "\n",
        "**Manually written tests** of node purposes, specific to a single model instance are also supported."
      ]
    },
    {
      "cell_type": "code",
      "execution_count": null,
      "metadata": {
        "id": "Jk0gVCF9Gr5D"
      },
      "outputs": [],
      "source": [
        "def run_intervention_core(node_locations, store_question, clean_question, strong):\n",
        "  assert(store_question[0] < + 10 ** cfg.n_digits)\n",
        "  assert(store_question[1] > - 10 ** cfg.n_digits)\n",
        "  assert(store_question[0] < + 10 ** cfg.n_digits)\n",
        "  assert(store_question[1] > - 10 ** cfg.n_digits)\n",
        "  assert(clean_question[0] < + 10 ** cfg.n_digits)\n",
        "  assert(clean_question[1] > - 10 ** cfg.n_digits)\n",
        "  assert(clean_question[0] < + 10 ** cfg.n_digits)\n",
        "  assert(clean_question[1] > - 10 ** cfg.n_digits)\n",
        "\n",
        "  a_reset(node_locations)\n",
        "  acfg.num_tests_run+= 1\n",
        "\n",
        "  # Calculate the clean (no intervention) test question answer  e.g. \"+006671\"\n",
        "  clean_answer_int = clean_question[0]+clean_question[1] if acfg.operation == MathsTokens.PLUS else clean_question[0]-clean_question[1]\n",
        "  clean_answer = int_to_answer_str(cfg,clean_answer_int)\n",
        "  description = \"Intervening on \" + acfg.node_names() + \", \" + (\"Strong\" if strong else \"Weak\") + \", CleanAnswer: \" + clean_answer + \", ExpectedAnswer/Impact: \" + acfg.expected_answer + \"/\" + acfg.expected_impact\n",
        "  # Predict \"store\" question and store activation values\n",
        "  acfg.questions = make_maths_questions(cfg, acfg.operation, \"\", \"\", [store_question])\n",
        "  predict_questions_core(acfg.questions, acfg.attn_get_hooks)\n",
        "  if acfg.abort:\n",
        "    return description + \" (Aborted on store)\"\n",
        "\n",
        "  # Predict \"test\" question overriding PnLmHp to give a bad answer\n",
        "  acfg.questions = make_maths_questions(cfg, acfg.operation, \"\", \"\", [clean_question])\n",
        "  all_losses_raw, all_max_prob_tokens = predict_questions_core(acfg.questions, acfg.attn_put_hooks)\n",
        "  if acfg.abort:\n",
        "    return description + \" (Aborted on test)\"\n",
        "  if all_losses_raw.shape[0] == 0:\n",
        "    acfg.abort = True\n",
        "    print( \"Bad all_losses_raw\", all_losses_raw.shape, store_question, clean_question, \"Check if a question component exceeds 10 ** n_digits\" )\n",
        "    return description + \" (Aborted on Bad all_losses_raw)\"\n",
        "  loss_max = utils.to_numpy(loss_fn(all_losses_raw[0]).max())\n",
        "  acfg.intervened_answer = tokens_to_string(cfg, all_max_prob_tokens[0])\n",
        "\n",
        "  # Compare the clean test question answer to what the model generated (impacted by the ablation intervention)\n",
        "  acfg.intervened_impact = get_answer_impact( cfg, clean_answer, acfg.intervened_answer )\n",
        "  if acfg.intervened_impact == \"\":\n",
        "    acfg.intervened_impact = NO_IMPACT_TAG\n",
        "\n",
        "  description += \", IntervenedAnswer/Impact: \" + acfg.intervened_answer + \"/\" + acfg.intervened_impact\n",
        "\n",
        "  if loss_max > acfg.threshold:\n",
        "    loss_str = NO_IMPACT_TAG if loss_max < 1e-7 else str(loss_max)\n",
        "    description += \", Loss: \" + loss_str\n",
        "\n",
        "  return description\n",
        "\n",
        "\n",
        "# Run an intervention where we have a precise expectation of the intervention impact\n",
        "def run_strong_intervention(node_locations, store_question, clean_question, operation, expected_impact, expected_answer_int):\n",
        "  acfg.reset_intervention(expected_answer_int, expected_impact, operation)\n",
        "\n",
        "  # These are the actual model prediction outputs (while applying our node-level intervention).\n",
        "  description = run_intervention_core(node_locations, store_question, clean_question, True)\n",
        "\n",
        "  answer_success = (acfg.intervened_answer == acfg.expected_answer)\n",
        "  impact_success = (acfg.intervened_impact == acfg.expected_impact)\n",
        "  success = answer_success and impact_success\n",
        "\n",
        "  if acfg.show_test_failures and not success:\n",
        "    print(\"Failed: \" + description)\n",
        "\n",
        "  return success, answer_success, impact_success\n",
        "\n",
        "\n",
        "# Run an intervention where we expect the intervention to have a non-zero impact and we cant precisely predict the answer\n",
        "def run_weak_intervention(node_locations, store_question, clean_question, operation):\n",
        "\n",
        "  # Calculate the test (clean) question answer e.g. \"+006671\"\n",
        "  expected_answer_int = clean_question[0]+clean_question[1] if operation == MathsTokens.PLUS else clean_question[0]-clean_question[1]\n",
        "  acfg.reset_intervention(expected_answer_int, NO_IMPACT_TAG, operation)\n",
        "\n",
        "  description = run_intervention_core(node_locations, store_question, clean_question, False)\n",
        "\n",
        "  success = not ((acfg.intervened_answer == acfg.expected_answer) or (acfg.intervened_impact == NO_IMPACT_TAG))\n",
        "\n",
        "  if acfg.show_test_failures and not success:\n",
        "    print(\"Failed: Intervention had no impact on the answer\", description)\n",
        "\n",
        "  return success"
      ]
    },
    {
      "cell_type": "code",
      "execution_count": null,
      "metadata": {
        "id": "J3RvmrLcKy0w"
      },
      "outputs": [],
      "source": [
        "def repeat_digit(digit):\n",
        "    return int(str(digit) * cfg.n_digits)\n",
        "\n",
        "\n",
        "# unit test\n",
        "if cfg.n_digits == 6:\n",
        "  assert repeat_digit(4) == 444444"
      ]
    },
    {
      "cell_type": "code",
      "execution_count": null,
      "metadata": {
        "id": "P_ucys_1txG-"
      },
      "outputs": [],
      "source": [
        "def succeed_test(node_locations, alter_digit, strong):\n",
        "  print( \"Test confirmed\", node_locations[0].name(), node_locations[1].name() if len(node_locations)>1 else \"\", \"\" if strong else \"Weak\")\n",
        "  return True"
      ]
    },
    {
      "cell_type": "code",
      "execution_count": null,
      "metadata": {
        "id": "119UX6us5hit"
      },
      "outputs": [],
      "source": [
        "# Search the specified useful node(s), using the test_function, for the expected impact on the_impact_digit\n",
        "def search_and_tag_digit_position( the_impact_digit, the_test_nodes, test_function, strong, the_tag, do_pair_search ):\n",
        "\n",
        "  # Try single nodes first\n",
        "  for node in the_test_nodes.nodes:\n",
        "    if test_function( [node], the_impact_digit, strong):\n",
        "      full_tag = the_tag + (\"\" if strong else \".\" + acfg.intervened_impact)\n",
        "      node.add_tag(QuantaType.ALGO, full_tag)\n",
        "      acfg.num_tags_added += 1\n",
        "      return True\n",
        "\n",
        "  # Try pairs of nodes. Sometimes a task is split across two attention heads (i.e. a virtual attention head)\n",
        "  if do_pair_search:\n",
        "    node_pairs = list(itertools.combinations(the_test_nodes.nodes, 2))\n",
        "    for pair in node_pairs:\n",
        "      # Only if the 2 nodes are in the same layer can they can act in parallel and so \"sum\" to give a virtual attention head\n",
        "      if pair[0].layer == pair[1].layer and pair[0].is_head == pair[1].is_head:\n",
        "        if test_function( [pair[0], pair[1]], the_impact_digit, strong):\n",
        "          full_tag = the_tag + (\"\" if strong else \".\" + acfg.intervened_impact)\n",
        "          pair[0].add_tag(QuantaType.ALGO, full_tag)\n",
        "          pair[1].add_tag(QuantaType.ALGO, full_tag)\n",
        "          acfg.num_tags_added += 2\n",
        "          return True\n",
        "\n",
        "  return False\n",
        "\n",
        "\n",
        "# For each useful position, search the related useful node(s), using the test_function, for the expected impact on the_impact_digit.\n",
        "def search_and_tag_digit( prerequisites_function, the_impact_digit, test_function, tag_function, do_pair_search, do_weak_search, from_position, to_position ):\n",
        "\n",
        "  the_tag = tag_function(the_impact_digit)\n",
        "\n",
        "  if from_position == -1:\n",
        "    from_position = cfg.min_useful_position()\n",
        "  if to_position == -1:\n",
        "    to_position = cfg.max_useful_position()\n",
        "\n",
        "  # In some models, we don't predict the intervened_answer correctly in test_function.\n",
        "  # So we may do a weak second pass and may add say \"A5.BS.A632\" tag to a node.\n",
        "  for strong in [True, False]:\n",
        "    if strong or do_weak_search:\n",
        "\n",
        "      for position in range(from_position, to_position+1):\n",
        "        test_nodes = filter_nodes( cfg.useful_nodes, prerequisites_function(position, the_impact_digit))\n",
        "        if search_and_tag_digit_position( the_impact_digit, test_nodes, test_function, strong, the_tag, do_pair_search ):\n",
        "          return True\n",
        "\n",
        "  return False\n",
        "\n",
        "\n",
        "# For each answer digit, for each useful position, search the related useful node(s), using the test_function, for the expected impact on the_impact_digit. We may do 2 passes.\n",
        "def search_and_tag( prerequisites_function, test_function, tag_function, do_pair_search, do_weak_search, from_position = -1, to_position = -1):\n",
        "  acfg.reset_intervention_totals()\n",
        "\n",
        "  for the_impact_digit in range(cfg.num_answer_positions):\n",
        "    search_and_tag_digit(\n",
        "      prerequisites_function, the_impact_digit, test_function, tag_function,\n",
        "      do_pair_search, do_weak_search, from_position, to_position )\n",
        "\n",
        "  print( f\"Ran {acfg.num_tests_run} intervention test(s). Added {acfg.num_tags_added} tag(s)\")"
      ]
    },
    {
      "cell_type": "code",
      "execution_count": null,
      "metadata": {
        "id": "lyVYckFtV-RV"
      },
      "outputs": [],
      "source": [
        "cfg.useful_nodes.reset_node_tags(QuantaType.ALGO)"
      ]
    },
    {
      "cell_type": "markdown",
      "metadata": {
        "id": "Fgg43Sqe8oF1"
      },
      "source": [
        "# Part 21B: Automated An.US search\n",
        "\n",
        "The addition Use Sum 9 (US) operation is a simple task. Search for An.US tasks."
      ]
    },
    {
      "cell_type": "code",
      "execution_count": null,
      "metadata": {
        "id": "Fq9WJSHHGN0Q"
      },
      "outputs": [],
      "source": [
        "def add_us_tag(impact_digit):\n",
        "  return answer_name(impact_digit-1)  + \".\" + AlgoTag.ADD_US_TAG"
      ]
    },
    {
      "cell_type": "code",
      "execution_count": null,
      "metadata": {
        "id": "5xeffLN6eqIq"
      },
      "outputs": [],
      "source": [
        "# These rules are prerequisites for (not proof of) an Addition UseSum9 node\n",
        "def add_us_prereqs(position, impact_digit):\n",
        "  return FilterAnd(\n",
        "    FilterHead(),\n",
        "    FilterPosition(position_name(position)),\n",
        "    FilterAttention(dn_to_position_name(impact_digit-2)), # Attends to Dn-2\n",
        "    FilterAttention(ddn_to_position_name(impact_digit-2)), # Attends to D'n-2\n",
        "    FilterImpact(answer_name(impact_digit)))"
      ]
    },
    {
      "cell_type": "code",
      "execution_count": null,
      "metadata": {
        "id": "G8y-7JQX8oSP"
      },
      "outputs": [],
      "source": [
        "def add_us_test(node_locations, alter_digit, strong):\n",
        "  if alter_digit < 2 or alter_digit > cfg.n_digits:\n",
        "    acfg.reset_intervention()\n",
        "    return False\n",
        "\n",
        "  intervention_impact = answer_name(alter_digit)\n",
        "\n",
        "  # 25222 + 44444 = 69666. Has no Dn-2.MC but has Dn-1.US so not a US case\n",
        "  store_question = [repeat_digit(2), repeat_digit(4)]\n",
        "  store_question[0] += (5-2) * 10 ** (alter_digit - 1)\n",
        "\n",
        "  # 34633 + 55555 = 90188. Has Dn-2.MC and Dn-1.US so is a US case\n",
        "  clean_question = [repeat_digit(3), repeat_digit(5)]\n",
        "  clean_question[0] += (4-3) * 10 ** (alter_digit - 1)\n",
        "  clean_question[0] += (6-3) * 10 ** (alter_digit - 2)\n",
        "\n",
        "  # When we intervene we expect answer 80188\n",
        "  intervened_answer = clean_question[0] + clean_question[1] - 10 ** (alter_digit)\n",
        "\n",
        "\n",
        "  # Unit test\n",
        "  if cfg.n_digits == 5 and alter_digit == 4:\n",
        "    assert store_question[0] == 25222\n",
        "    assert clean_question[0] == 34633\n",
        "    assert clean_question[0] + clean_question[1] == 90188\n",
        "    assert intervened_answer == 80188\n",
        "\n",
        "\n",
        "  success, _, _ = run_strong_intervention(node_locations, store_question, clean_question, MathsTokens.PLUS, intervention_impact, intervened_answer)\n",
        "\n",
        "  if success:\n",
        "    print( \"Test confirmed\", acfg.node_names(), \"perform D\"+str(alter_digit)+\".US impacting \"+intervention_impact+\" accuracy.\", \"\" if strong else \"Weak\")\n",
        "\n",
        "  return success"
      ]
    },
    {
      "cell_type": "code",
      "execution_count": null,
      "metadata": {
        "id": "nUYf20mk8zls"
      },
      "outputs": [],
      "source": [
        "search_and_tag( add_us_prereqs, add_us_test, add_us_tag, False, False)"
      ]
    },
    {
      "cell_type": "markdown",
      "metadata": {
        "id": "Z5DMV3I_25ST"
      },
      "source": [
        "# Part 21C: Automated An.MC search\n",
        "\n",
        "The addition Make Carry (MC) operation is a simple task. Search for An.MC tasks."
      ]
    },
    {
      "cell_type": "code",
      "execution_count": null,
      "metadata": {
        "id": "YizIdKqven8h"
      },
      "outputs": [],
      "source": [
        "def add_mc_tag(impact_digit):\n",
        "  return answer_name(impact_digit-1)  + \".\" + AlgoTag.ADD_MC_TAG"
      ]
    },
    {
      "cell_type": "code",
      "execution_count": null,
      "metadata": {
        "id": "HXevYPyteXy1"
      },
      "outputs": [],
      "source": [
        "# These rules are prerequisites for (not proof of) an Addition MakeCarry node\n",
        "def add_mc_prereqs(position, impact_digit):\n",
        "  return FilterAnd(\n",
        "    FilterHead(),\n",
        "    FilterPosition(position_name(position)),\n",
        "    FilterAttention(dn_to_position_name(impact_digit-1)), # MC is calculated on the next lower-value digit.\n",
        "    FilterAttention(ddn_to_position_name(impact_digit-1)), # MC is calculated on the next lower-value digit.\n",
        "    FilterImpact(answer_name(impact_digit)))"
      ]
    },
    {
      "cell_type": "code",
      "execution_count": null,
      "metadata": {
        "id": "wJBYT0hF3R_u"
      },
      "outputs": [],
      "source": [
        "def add_mc_test(node_locations, impact_digit, strong):\n",
        "  alter_digit = impact_digit - 1\n",
        "\n",
        "  if alter_digit < 0 or alter_digit >= cfg.n_digits:\n",
        "    acfg.reset_intervention()\n",
        "    return False\n",
        "\n",
        "  intervention_impact = answer_name(impact_digit)\n",
        "\n",
        "  # 222222 + 666966 = 889188. Has Dn.MC\n",
        "  store_question = [repeat_digit(2), repeat_digit(6)]\n",
        "  store_question[1] += (9 - 6) * (10 ** alter_digit)\n",
        "\n",
        "  # 333333 + 555555 = 888888. No Dn.MC\n",
        "  clean_question = [repeat_digit(3), repeat_digit(5)]\n",
        "\n",
        "  # When we intervene we expect answer 889888\n",
        "  intervened_answer = clean_question[0] + clean_question[1] + 10 ** (alter_digit+1)\n",
        "\n",
        "  success, _, _ = run_strong_intervention(node_locations, store_question, clean_question, MathsTokens.PLUS, intervention_impact, intervened_answer)\n",
        "\n",
        "  if success:\n",
        "    print( \"Test confirmed\", acfg.node_names(), \"perform D\"+str(alter_digit)+\".MC impacting \"+intervention_impact+\" accuracy.\", \"\" if strong else \"Weak\")\n",
        "\n",
        "  return success"
      ]
    },
    {
      "cell_type": "code",
      "execution_count": null,
      "metadata": {
        "id": "xvS1eOReZUq1"
      },
      "outputs": [],
      "source": [
        "search_and_tag( add_mc_prereqs, add_mc_test, add_mc_tag, False, False)"
      ]
    },
    {
      "cell_type": "markdown",
      "metadata": {
        "id": "Iosx5zE_macF"
      },
      "source": [
        "# Part 21D: Automated An.BA search\n",
        "\n",
        "The addition Base Add (BA) operation is a simple task. The task may be split/shared over 2 attention heads in the same position. Search for An.BA calculations."
      ]
    },
    {
      "cell_type": "code",
      "execution_count": null,
      "metadata": {
        "id": "Eq_nczrDdxjy"
      },
      "outputs": [],
      "source": [
        "def add_ba_tag(impact_digit):\n",
        "  return answer_name(impact_digit) + \".\" + AlgoTag.ADD_BA_TAG"
      ]
    },
    {
      "cell_type": "code",
      "execution_count": null,
      "metadata": {
        "id": "QLXpgGXpWpPp"
      },
      "outputs": [],
      "source": [
        "# These rules are prerequisites for (not proof of) an Addition BaseAdd node\n",
        "def add_ba_prereqs(position, impact_digit):\n",
        "  return FilterAnd(\n",
        "    FilterHead(),\n",
        "    FilterPosition(position_name(position)),\n",
        "    FilterAttention(dn_to_position_name(impact_digit)), # Attends to Dn\n",
        "    FilterAttention(ddn_to_position_name(impact_digit)), # Attends to D'n\n",
        "    FilterImpact(answer_name(impact_digit)), # Impacts An\n",
        "    FilterAlgo(add_ba_tag(impact_digit), QuantaFilter.NOT)) # Has not already been flagged as a BA task"
      ]
    },
    {
      "cell_type": "code",
      "execution_count": null,
      "metadata": {
        "id": "P-Gs5yglncax"
      },
      "outputs": [],
      "source": [
        "def add_ba_test1(alter_digit):\n",
        "  # 222222 + 111111 = 333333. No Dn.MC\n",
        "  store_question = [repeat_digit(2), repeat_digit(1)]\n",
        "\n",
        "  # 555555 + 444444 = 999999. No Dn.MC\n",
        "  clean_question = [repeat_digit(5), repeat_digit(4)]\n",
        "\n",
        "  # When we intervene we expect answer 999399\n",
        "  intervened_answer = clean_question[0] + clean_question[1] + (3-9) * 10 ** alter_digit\n",
        "\n",
        "  return store_question, clean_question, intervened_answer\n",
        "\n",
        "\n",
        "def add_ba_test2(alter_digit):\n",
        "  # 222222 + 666666 = 888888. No Dn.MC\n",
        "  store_question = [repeat_digit(2), repeat_digit(6)]\n",
        "\n",
        "  # 555555 + 111111 = 666666. No Dn.MC\n",
        "  clean_question = [repeat_digit(5), repeat_digit(1)]\n",
        "\n",
        "  # When we intervene we expect answer 666866\n",
        "  intervened_answer = clean_question[0] + clean_question[1] + (8-6) * 10 ** alter_digit\n",
        "\n",
        "  return store_question, clean_question, intervened_answer\n",
        "\n",
        "\n",
        "def add_ba_test(node_locations, alter_digit, strong):\n",
        "  intervention_impact = answer_name(alter_digit)\n",
        "\n",
        "  store_question, clean_question, intervened_answer = add_ba_test1(alter_digit)\n",
        "  success1, answer_success1, impact_success1 = run_strong_intervention(node_locations, store_question, clean_question, MathsTokens.PLUS, intervention_impact, intervened_answer)\n",
        "\n",
        "  store_question, clean_question, intervened_answer = add_ba_test2(alter_digit)\n",
        "  success2, answer_success2, impact_success2 = run_strong_intervention(node_locations, store_question, clean_question, MathsTokens.PLUS, intervention_impact, intervened_answer)\n",
        "\n",
        "  success = (success1 and success2) if strong else (impact_success1 and impact_success2)\n",
        "\n",
        "  if success:\n",
        "    print( \"Test confirmed:\", acfg.node_names(), \"perform D\"+str(alter_digit)+\".BA = (D\"+str(alter_digit)+\" + D'\"+str(alter_digit)+\") % 10 impacting \"+intervention_impact+\" accuracy.\", \"\" if strong else \"Weak\")\n",
        "\n",
        "  return success"
      ]
    },
    {
      "cell_type": "code",
      "execution_count": null,
      "metadata": {
        "id": "AIktdaRL-BfP"
      },
      "outputs": [],
      "source": [
        "search_and_tag( add_ba_prereqs, add_ba_test, add_ba_tag, True, True, cfg.question_tokens() )"
      ]
    },
    {
      "cell_type": "markdown",
      "metadata": {
        "id": "ThzFD1FxBXg8"
      },
      "source": [
        "# Part 21E: Automated Dn.C search\n",
        "\n",
        "Search for D0.C to D5.C with impact \"A65432\" to \"A65\" in early tokens.\n",
        "\n",
        "A0 and A1 are too simple to need Dn.C values so they are excluded from the answer impact."
      ]
    },
    {
      "cell_type": "code",
      "execution_count": null,
      "metadata": {
        "id": "p0aF8E-bd736"
      },
      "outputs": [],
      "source": [
        "def add_tc_tag(focus_digit):\n",
        "  return \"D\" + str(focus_digit) + \".\" + AlgoTag.ADD_TC_TAG"
      ]
    },
    {
      "cell_type": "code",
      "execution_count": null,
      "metadata": {
        "id": "gV8sqYs7dCcj"
      },
      "outputs": [],
      "source": [
        "# These rules are prerequisites for (not proof of) an Addition Dn.C node\n",
        "def add_tc_prereqs(position, focus_digit):\n",
        "  return FilterAnd(\n",
        "    FilterHead(),\n",
        "    FilterPosition(position_name(position)),\n",
        "    FilterAttention(dn_to_position_name(focus_digit)), # Attends to Dn\n",
        "    FilterAttention(ddn_to_position_name(focus_digit)), # Attends to D'n\n",
        "    FilterPCA(MathsTag.PCA_ADD_TAG, QuantaFilter.CONTAINS)) # Node PCA is interpretable (bigram or trigram output) with respect to T8,T9,T10"
      ]
    },
    {
      "cell_type": "code",
      "execution_count": null,
      "metadata": {
        "id": "N-bcEooQBp2v"
      },
      "outputs": [],
      "source": [
        "def add_tc_test(node_locations, focus_digit, strong):\n",
        "  # 222222 + 777977 = 1000188. Has Dn.MC\n",
        "  store_question = [repeat_digit(2), repeat_digit(7)]\n",
        "  store_question[1] += (9 - 7) * (10 ** focus_digit)\n",
        "\n",
        "  # 333333 + 666666 = 999999. No Dn.MC\n",
        "  clean_question = [repeat_digit(3), repeat_digit(6)]\n",
        "\n",
        "  success = run_weak_intervention(node_locations, store_question, clean_question, MathsTokens.PLUS)\n",
        "\n",
        "  if success:\n",
        "    description = acfg.node_names() + \" perform D\"+str(focus_digit)+\".C = TriCase(D\"+str(focus_digit)+\" + D'\"+str(focus_digit)+\")\"\n",
        "    print(\"Test confirmed\", description, \"Impact:\", acfg.intervened_impact, \"\" if strong else \"Weak\")\n",
        "\n",
        "  return success"
      ]
    },
    {
      "cell_type": "code",
      "execution_count": null,
      "metadata": {
        "id": "wFJV4pfWSwHQ"
      },
      "outputs": [],
      "source": [
        "if cfg.n_layers > 1: # Have not seen this task in 1-layer models.\n",
        "  search_and_tag( add_tc_prereqs, add_tc_test, add_tc_tag,\n",
        "    False, # Have not seen this task split between nodes.\n",
        "    False,\n",
        "    cfg.n_digits, cfg.question_tokens()) # These occur from the first D'n digit to the first answer digit."
      ]
    },
    {
      "cell_type": "markdown",
      "metadata": {
        "id": "3jOBIUDzRrGz"
      },
      "source": [
        "# Part 21F: Automated An.BS search\n",
        "\n",
        "The subtraction Base Subtraction (BS) operation is a simple task. The task may be split/shared over 2 attention heads in the same position. Search for An.BS calculations."
      ]
    },
    {
      "cell_type": "code",
      "execution_count": null,
      "metadata": {
        "id": "IE4icd5UR12w"
      },
      "outputs": [],
      "source": [
        "def sub_bs_tag(impact_digit):\n",
        "  return answer_name(impact_digit) + \".\" + AlgoTag.SUB_BS_TAG"
      ]
    },
    {
      "cell_type": "code",
      "execution_count": null,
      "metadata": {
        "id": "DbeReTw3R8yR"
      },
      "outputs": [],
      "source": [
        "# These rules are prerequisites for (not proof of) a BaseSubtraction node\n",
        "def sub_bs_prereqs(position, impact_digit):\n",
        "  return FilterAnd(\n",
        "    FilterHead(),\n",
        "    FilterPosition(position_name(position)),\n",
        "    FilterAttention(dn_to_position_name(impact_digit)), # Attends to Dn\n",
        "    FilterAttention(ddn_to_position_name(impact_digit)), # Attends to D'n\n",
        "    FilterImpact(answer_name(impact_digit)), # Impacts An\n",
        "    FilterAlgo(sub_bs_tag(impact_digit), QuantaFilter.NOT)) # Has not already been flagged as a BS task"
      ]
    },
    {
      "cell_type": "code",
      "execution_count": null,
      "metadata": {
        "id": "Cxce_IoeSTl4"
      },
      "outputs": [],
      "source": [
        "def sub_bs_test1(alter_digit):\n",
        "  # 333333 - 111111 = 222222. No Dn.BO\n",
        "  store_question = [repeat_digit(3), repeat_digit(1)]\n",
        "\n",
        "  # 999999 - 444444 = 555555. No Dn.BO\n",
        "  clean_question = [repeat_digit(9), repeat_digit(4)]\n",
        "\n",
        "  # When we intervene we expect answer 555255\n",
        "  intervened_answer = clean_question[0] - clean_question[1] + (2-5) * 10 ** alter_digit\n",
        "\n",
        "  return store_question, clean_question, intervened_answer\n",
        "\n",
        "\n",
        "def sub_bs_test2(alter_digit):\n",
        "  # 666666 - 222222 = 444444. No Dn.BO\n",
        "  store_question = [repeat_digit(6), repeat_digit(2)]\n",
        "\n",
        "  # 999999 - 333333 = 666666. No Dn.BO\n",
        "  clean_question = [repeat_digit(9), repeat_digit(3)]\n",
        "\n",
        "  # When we intervene we expect answer 666466\n",
        "  intervened_answer = clean_question[0] - clean_question[1] + (4-6) * 10 ** alter_digit\n",
        "\n",
        "  return store_question, clean_question, intervened_answer\n",
        "\n",
        "\n",
        "def sub_bs_test(node_locations, alter_digit, strong):\n",
        "  intervention_impact = answer_name(alter_digit)\n",
        "\n",
        "  store_question, clean_question, intervened_answer = sub_bs_test1(alter_digit)\n",
        "  success1, answer_success1, impact_success1 = run_strong_intervention(node_locations, store_question, clean_question, MathsTokens.MINUS, intervention_impact, intervened_answer)\n",
        "\n",
        "  store_question, clean_question, intervened_answer = sub_bs_test2(alter_digit)\n",
        "  success2, answer_success2, impact_success2 = run_strong_intervention(node_locations, store_question, clean_question, MathsTokens.MINUS, intervention_impact, intervened_answer)\n",
        "\n",
        "  success = (success1 and success2) if strong else (impact_success1 and impact_success2)\n",
        "\n",
        "  if success:\n",
        "    print( \"Test confirmed:\", acfg.node_names(), \"perform D\"+str(alter_digit)+\".BS = (D\"+str(alter_digit)+\" + D'\"+str(alter_digit)+\") % 10 impacting \"+intervention_impact+\" accuracy.\", \"\" if strong else \"Weak\")\n",
        "\n",
        "  return success"
      ]
    },
    {
      "cell_type": "code",
      "execution_count": null,
      "metadata": {
        "id": "zKag6sUnVS2N"
      },
      "outputs": [],
      "source": [
        "#cfg.useful_nodes.reset_node_tags(QuantaType.ALGO)\n",
        "#acfg.show_test_failures = True\n",
        "search_and_tag( sub_bs_prereqs, sub_bs_test, sub_bs_tag, True, True, cfg.question_tokens() )"
      ]
    },
    {
      "cell_type": "markdown",
      "metadata": {
        "id": "nVyItdhmhIn8"
      },
      "source": [
        "# Part 21G: Automated An.BO search\n",
        "\n",
        "The subtraction Borrow One operation is a simple task. Search for An.BO tasks."
      ]
    },
    {
      "cell_type": "code",
      "execution_count": null,
      "metadata": {
        "id": "6OvVAefqhXVY"
      },
      "outputs": [],
      "source": [
        "def sub_bo_tag(impact_digit):\n",
        "  return answer_name(impact_digit-1)  + \".\" + AlgoTag.SUB_BO_TAG"
      ]
    },
    {
      "cell_type": "code",
      "execution_count": null,
      "metadata": {
        "id": "mSbkA_vzhfAh"
      },
      "outputs": [],
      "source": [
        "# These rules are prerequisites for (not proof of) an subtraction Borrow One node\n",
        "def sub_bo_prereqs(position, impact_digit):\n",
        "  return FilterAnd(\n",
        "    FilterHead(),\n",
        "    FilterPosition(position_name(position)),\n",
        "    FilterAttention(dn_to_position_name(impact_digit-1)), # BO is calculated on the next lower-value digit.\n",
        "    FilterAttention(ddn_to_position_name(impact_digit-1)), # BO is calculated on the next lower-value digit.\n",
        "    FilterImpact(answer_name(impact_digit)))"
      ]
    },
    {
      "cell_type": "code",
      "execution_count": null,
      "metadata": {
        "id": "Jvbz0EF7iEV-"
      },
      "outputs": [],
      "source": [
        "def sub_bo_test(node_locations, impact_digit, strong):\n",
        "  alter_digit = impact_digit - 1\n",
        "\n",
        "  if alter_digit < 0 or alter_digit >= cfg.n_digits:\n",
        "    acfg.reset_intervention()\n",
        "    return False\n",
        "\n",
        "  intervention_impact = answer_name(impact_digit)\n",
        "\n",
        "  # 222222 - 111311 = 110911. Has Dn.BO\n",
        "  store_question = [repeat_digit(2), repeat_digit(1)]\n",
        "  store_question[1] += (3 - 1) * (10 ** alter_digit)\n",
        "\n",
        "  # 777777 - 444444 = 333333. No Dn.BO\n",
        "  clean_question = [repeat_digit(7), repeat_digit(4)]\n",
        "\n",
        "  # When we intervene we expect answer 332333\n",
        "  intervened_answer = clean_question[0] - clean_question[1] - 10 ** (alter_digit+1)\n",
        "\n",
        "  if cfg.n_digits == 6 and impact_digit == 3:\n",
        "    assert store_question[0] == 222222\n",
        "    assert store_question[1] == 111311\n",
        "    assert store_question[0] - store_question[1] == 110911\n",
        "    assert clean_question[0] == 777777\n",
        "    assert clean_question[1] == 444444\n",
        "    assert clean_question[0] - clean_question[1] == 333333\n",
        "    assert intervened_answer == 332333\n",
        "\n",
        "  success, _, _ = run_strong_intervention(node_locations, store_question, clean_question, MathsTokens.MINUS, intervention_impact, intervened_answer)\n",
        "\n",
        "  if success:\n",
        "    print( \"Test confirmed\", acfg.node_names(), \"perform D\"+str(alter_digit)+\".BO impacting \"+intervention_impact+\" accuracy.\", \"\" if strong else \"Weak\")\n",
        "\n",
        "  return success"
      ]
    },
    {
      "cell_type": "code",
      "execution_count": null,
      "metadata": {
        "id": "lzjlFwEui7K9"
      },
      "outputs": [],
      "source": [
        "#cfg.useful_nodes.reset_node_tags(QuantaType.ALGO)\n",
        "#acfg.show_test_failures = True\n",
        "search_and_tag( sub_bo_prereqs, sub_bo_test, sub_bo_tag, False, False)"
      ]
    },
    {
      "cell_type": "markdown",
      "metadata": {
        "id": "sJo37Qg2ZQpJ"
      },
      "source": [
        "# Part 21H: Automated An.NG search\n",
        "\n",
        "Somes useful nodes are only used in subtraction when D < D' in the D - D' question e.g. negative-answer questions. We claim these nodes are associated somehow with converting D - D' to the mathematically equivalent - ( D' - D )\n",
        "\n",
        "To calculate D'>D, model needs to calculate D'6>D6, ..., D'0>D0 and then combine the results in a cascade D'6>D6 else ... else D'0>D0. We expect to see nodes only used in NG questions, with PCA bigram (or trigram) outputs, attending to these input pairs. The \"else cascade\" is tested later."
      ]
    },
    {
      "cell_type": "code",
      "execution_count": null,
      "metadata": {
        "id": "uZAVz_dNaMUR"
      },
      "outputs": [],
      "source": [
        "def sub_ng_tag(impact_digit):\n",
        "  return answer_name(impact_digit)  + \".\" + AlgoTag.SUB_NG_TAG"
      ]
    },
    {
      "cell_type": "code",
      "execution_count": null,
      "metadata": {
        "id": "nScZJkfge-7K"
      },
      "outputs": [],
      "source": [
        "def sub_ng_prereqs(position, impact_digit):\n",
        "  return FilterAnd(\n",
        "    FilterHead(),\n",
        "    FilterPosition(position_name(position)),\n",
        "    FilterImpact(answer_name(impact_digit)), # Impacts An\n",
        "    FilterContains(QuantaType.MATH_SUB, MathsTag.SUB_NG_TAG), # Impacts negative-answer questions\n",
        "    # Does not impact positive-answer subtraction questions (of any complexity)\n",
        "    FilterContains(QuantaType.MATH_SUB, MathsTag.SUB_S0_TAG, QuantaFilter.NOT),\n",
        "    FilterContains(QuantaType.MATH_SUB, MathsTag.SUB_S1_TAG, QuantaFilter.NOT),\n",
        "    FilterContains(QuantaType.MATH_SUB, MathsTag.SUB_S2_TAG, QuantaFilter.NOT),\n",
        "    FilterContains(QuantaType.MATH_SUB, MathsTag.SUB_S3_TAG, QuantaFilter.NOT),\n",
        "    FilterPCA(MathsTag.PCA_SUB_TAG, QuantaFilter.CONTAINS)) # Node PCA is interpretable (bigram or trigram output) with respect to T8,T9,T10"
      ]
    },
    {
      "cell_type": "code",
      "execution_count": null,
      "metadata": {
        "id": "GNgpXD47pNmM"
      },
      "outputs": [],
      "source": [
        "# Test that if we ablate this node then a negative-answer-subtraction question answer swaps to its positive complement\n",
        "def sub_ng_test(node_locations, focus_digit, strong):\n",
        "  if focus_digit >= cfg.n_digits:\n",
        "    acfg.reset_intervention()\n",
        "    return False\n",
        "\n",
        "  # 555555 - 333333 = 222222. Is a positive-answer-subtraction\n",
        "  store_question = [repeat_digit(5), repeat_digit(3)]\n",
        "\n",
        "  # 444444 - 444644 = -200. Is a negative-answer-subtraction question because of focus_digit\n",
        "  clean_question = [repeat_digit(4), repeat_digit(4)]\n",
        "  clean_question[1] += 2 * (10 ** focus_digit)\n",
        "\n",
        "  success = run_weak_intervention(node_locations, store_question, clean_question, MathsTokens.MINUS)\n",
        "\n",
        "  if success:\n",
        "    description = acfg.node_names() + \" perform A\"+str(focus_digit)+\".NG\"\n",
        "    print(\"Test confirmed\", description, \"Impact:\", acfg.intervened_impact, \"\" if strong else \"Weak\")\n",
        "\n",
        "  return success"
      ]
    },
    {
      "cell_type": "code",
      "execution_count": null,
      "metadata": {
        "id": "SOJ4J214g3La"
      },
      "outputs": [],
      "source": [
        "search_and_tag( sub_ng_prereqs, sub_ng_test, sub_ng_tag, False, False )"
      ]
    },
    {
      "cell_type": "markdown",
      "metadata": {
        "id": "Agw7np7gZmgP"
      },
      "source": [
        "# Part 21I: Automated OP search\n",
        "\n",
        "For mixed models that do addition and subtraction the operation token \"+/-\" (in the middle of the question) is key. Find nodes that attend to the question operation."
      ]
    },
    {
      "cell_type": "code",
      "execution_count": null,
      "metadata": {
        "id": "2XjAoHFCaQ0l"
      },
      "outputs": [],
      "source": [
        "def mix_op_tag(impact_digit):\n",
        "  return \"An.\" + AlgoTag.MIX_OP_TAG # Doesnt depend on impact_digit"
      ]
    },
    {
      "cell_type": "code",
      "execution_count": null,
      "metadata": {
        "id": "6totKsJ2hjYa"
      },
      "outputs": [],
      "source": [
        "def mix_op_prereqs(position, impact_digit):\n",
        "  return FilterAnd(\n",
        "    FilterHead(),\n",
        "    FilterPosition(position_name(position)),\n",
        "    FilterAttention(op_position_name()))"
      ]
    },
    {
      "cell_type": "code",
      "execution_count": null,
      "metadata": {
        "id": "d0s2ZTMLimIR"
      },
      "outputs": [],
      "source": [
        "#cfg.useful_nodes.reset_node_tags(QuantaType.ALGO)\n",
        "#acfg.show_test_failures = True\n",
        "search_and_tag( mix_op_prereqs, succeed_test, mix_op_tag, False, False )"
      ]
    },
    {
      "cell_type": "markdown",
      "metadata": {
        "id": "ztfj5n8FjYNt"
      },
      "source": [
        "# Part 21J: Automated SG search\n",
        "\n",
        "For mixed models that do addition and subtraction, and for our subtraction models, the answer sign token \"+/-\" (at the start of the answer) is important. Find nodes that attend to the answer sign token."
      ]
    },
    {
      "cell_type": "code",
      "execution_count": null,
      "metadata": {
        "id": "3TYyojV8j1TQ"
      },
      "outputs": [],
      "source": [
        "def mix_sg_tag(impact_digit):\n",
        "  return \"An.\" + AlgoTag.MIX_SG_TAG # Doesnt depend on impact_digit"
      ]
    },
    {
      "cell_type": "code",
      "execution_count": null,
      "metadata": {
        "id": "OWl-vuYSj6Ff"
      },
      "outputs": [],
      "source": [
        "def mix_sg_prereqs(position, impact_digit):\n",
        "  return FilterAnd(\n",
        "    FilterHead(),\n",
        "    FilterPosition(position_name(position)),\n",
        "    FilterAttention(an_to_position_name(cfg.n_digits+1)))"
      ]
    },
    {
      "cell_type": "code",
      "execution_count": null,
      "metadata": {
        "id": "8smeZ3vBkIQ3"
      },
      "outputs": [],
      "source": [
        "#cfg.useful_nodes.reset_node_tags(QuantaType.ALGO)\n",
        "#acfg.show_test_failures = True\n",
        "search_and_tag( mix_sg_prereqs, succeed_test, mix_sg_tag, False, False )"
      ]
    },
    {
      "cell_type": "markdown",
      "metadata": {
        "id": "uQLfkdlbVAl_"
      },
      "source": [
        "# Part 22: Show algorithm quanta map\n",
        "\n",
        "Plot the \"algorithm\" tags generated in previous steps as a quanta map. This is an automatically generated partail explanation of the model algorithm."
      ]
    },
    {
      "cell_type": "code",
      "execution_count": null,
      "metadata": {
        "id": "l9VDbjTAVGrP"
      },
      "outputs": [],
      "source": [
        "show_quanta_map( \"Algorithm Purpose Per Node\", False, 2, None, QuantaType.ALGO, \"\", get_quanta_binary, 9)"
      ]
    },
    {
      "cell_type": "markdown",
      "metadata": {
        "id": "LQhheXmLTUfc"
      },
      "source": [
        "# Part 23: Save useful nodes with behaviour and algorithm tags to JSON file\n",
        "\n",
        "Show a list of the nodes that have proved useful in calculations, together with data on the nodes behavior and algorithmic purposes.\n",
        "Save the data to a Colab temporary JSON file.\n",
        "\n"
      ]
    },
    {
      "cell_type": "code",
      "execution_count": null,
      "metadata": {
        "id": "TRW6tiM8hDOB"
      },
      "outputs": [],
      "source": [
        "cfg.useful_nodes.print_node_tags(QuantaType.ALGO, False)"
      ]
    },
    {
      "cell_type": "code",
      "execution_count": null,
      "metadata": {
        "id": "_ktlEftAOyEd"
      },
      "outputs": [],
      "source": [
        "# Serialize and save the useful nodes list with algorithm tags to a temporary CoLab file in JSON format\n",
        "print( \"Saving useful node list with algorithm tags:\", main_fname_algorithm_json)\n",
        "cfg.useful_nodes.save_nodes(main_fname_algorithm_json)"
      ]
    },
    {
      "cell_type": "markdown",
      "metadata": {
        "id": "C__lVcEJlp1r"
      },
      "source": [
        "# Part 25A: Setup: Test Algorithm utilities"
      ]
    },
    {
      "cell_type": "code",
      "source": [
        "num_algo_valid_clauses = 0\n",
        "num_algo_invalid_clauses = 0"
      ],
      "metadata": {
        "id": "rhGVGqlCTZUJ"
      },
      "execution_count": null,
      "outputs": []
    },
    {
      "cell_type": "code",
      "source": [
        "def start_algorithm_test():\n",
        "  global num_algo_invalid_clauses\n",
        "  global num_algo_valid_clauses\n",
        "\n",
        "  num_algo_valid_clauses = 0\n",
        "  num_algo_invalid_clauses = 0\n",
        "\n",
        "  acfg.print_prediction_success_rate()\n",
        "  print()\n",
        "\n",
        "  # Get the model nodes with a known algorithmic purpose\n",
        "  return filter_nodes( cfg.useful_nodes, FilterAlgo(\"\", QuantaFilter.MUST))"
      ],
      "metadata": {
        "id": "DUXrjjIzS3cF"
      },
      "execution_count": null,
      "outputs": []
    },
    {
      "cell_type": "code",
      "execution_count": null,
      "metadata": {
        "id": "rMVzWGdMuz_c"
      },
      "outputs": [],
      "source": [
        "# Does a useful node exist matching the filters? If so, return the position\n",
        "def test_algo_clause(node_list, the_filters):\n",
        "  global num_algo_invalid_clauses\n",
        "  global num_algo_valid_clauses\n",
        "\n",
        "  answer_position = -1\n",
        "  matching_nodes = filter_nodes(node_list, the_filters)\n",
        "  num_nodes = len(matching_nodes.nodes)\n",
        "\n",
        "  if num_nodes > 0:\n",
        "    print( \"Clause valid:\", matching_nodes.get_node_names(), \" match\", the_filters.describe())\n",
        "    num_algo_valid_clauses += 1\n",
        "    answer_position = matching_nodes.nodes[0].position\n",
        "  else:\n",
        "    print( \"Clause invalid: No nodes match\", the_filters.describe())\n",
        "    num_algo_invalid_clauses += 1\n",
        "\n",
        "  return answer_position"
      ]
    },
    {
      "cell_type": "code",
      "execution_count": null,
      "metadata": {
        "id": "i1t7-nf1eQjJ"
      },
      "outputs": [],
      "source": [
        "def test_algo_logic(clause_name, clause_valid):\n",
        "  global num_algo_invalid_clauses\n",
        "  global num_algo_valid_clauses\n",
        "\n",
        "  if clause_valid:\n",
        "    print( \"Clause valid:\", clause_name)\n",
        "    num_algo_valid_clauses += 1\n",
        "  else:\n",
        "    print( \"Clause invalid:\", clause_name)\n",
        "    num_algo_invalid_clauses += 1"
      ]
    },
    {
      "cell_type": "code",
      "execution_count": null,
      "metadata": {
        "id": "cHtXMSg-aW7Q"
      },
      "outputs": [],
      "source": [
        "# Show the fraction of hypothesis clauses that were valid\n",
        "def print_algo_clause_results():\n",
        "  global num_algo_invalid_clauses\n",
        "  global num_algo_valid_clauses\n",
        "\n",
        "  print( \"Overall\", num_algo_valid_clauses, \"out of\", num_algo_valid_clauses + num_algo_invalid_clauses, \"algorithm clauses succeeded\")"
      ]
    },
    {
      "cell_type": "code",
      "source": [
        "# Show the fraction of useful nodes that have an assigned algorithmic purpose\n",
        "def print_algo_purpose_results(algo_nodes):\n",
        "  num_heads = cfg.useful_nodes.num_heads()\n",
        "  num_neurons = cfg.useful_nodes.num_neurons()\n",
        "\n",
        "  num_heads_with_purpose = algo_nodes.num_heads()\n",
        "  num_neurons_with_purpose = algo_nodes.num_neurons()\n",
        "\n",
        "  print()\n",
        "  print( f\"{num_heads_with_purpose} of {num_heads} useful attention heads ({num_heads_with_purpose / num_heads * 100:.2f}%) have an algorithmic purpose assigned.\" )\n",
        "  print( f\"{num_neurons_with_purpose} of {num_neurons} useful MLP neurons ({num_neurons_with_purpose / num_neurons * 100:.2f}%) have an algorithmic purpose assigned.\" )"
      ],
      "metadata": {
        "id": "9SQPaxwsspfO"
      },
      "execution_count": null,
      "outputs": []
    },
    {
      "cell_type": "markdown",
      "metadata": {
        "id": "D74GWTY3aKhm"
      },
      "source": [
        "# Part 25B: Results: Test Algorithm - Addition"
      ]
    },
    {
      "cell_type": "markdown",
      "source": [
        "## Part25B.1 Model add_d5_l1_h3_t30K. Tasks An.BA, An.MC, An.US\n",
        "\n",
        "This 1-layer model cant do all addition questions. This hypothesis mirrors Paper 1. 14/15 heads have purpose assigned. 0/6 neurons have purpose assigned."
      ],
      "metadata": {
        "id": "IxGMji2snxax"
      }
    },
    {
      "cell_type": "code",
      "source": [
        "# For answer digits (excluding Amax), An.BA and An.MC nodes are needed before the answer digit is revealed\n",
        "def test_algo_ba_mc(algo_nodes):\n",
        "  for impact_digit in range(cfg.n_digits):\n",
        "    test_algo_clause(algo_nodes, FilterAnd(FilterAlgo(add_ba_tag(impact_digit)), FilterPosition(an_to_position_name(impact_digit+1), QuantaFilter.MUST_BY)))\n",
        "\n",
        "    test_algo_clause(algo_nodes, FilterAnd(FilterAlgo(add_mc_tag(impact_digit)), FilterPosition(an_to_position_name(impact_digit+1), QuantaFilter.MUST_BY)))\n",
        "\n",
        "\n",
        "# For answer digits (excluding Amax), An.US nodes are needed before the answer digit is revealed\n",
        "def test_algo_us(algo_nodes):\n",
        "  for impact_digit in range(cfg.n_digits):\n",
        "      test_algo_clause(algo_nodes, FilterAnd(FilterAlgo(add_us_tag(impact_digit)), FilterPosition(an_to_position_name(impact_digit+1), QuantaFilter.MUST_BY)))"
      ],
      "metadata": {
        "id": "OYHKHxh-pHUd"
      },
      "execution_count": null,
      "outputs": []
    },
    {
      "cell_type": "code",
      "source": [
        "if cfg.model_name == \"add_d5_l1_h3_t30K\":\n",
        "\n",
        "  algo_nodes = start_algorithm_test()\n",
        "\n",
        "  test_algo_ba_mc(algo_nodes)\n",
        "  test_algo_us(algo_nodes)\n",
        "  print_algo_clause_results()\n",
        "\n",
        "  print_algo_purpose_results(algo_nodes)"
      ],
      "metadata": {
        "id": "MC4oY_HNn5_L"
      },
      "execution_count": null,
      "outputs": []
    },
    {
      "cell_type": "markdown",
      "source": [
        "## Part25B.2 Models add_d5/d6_l2_h3_t15K. Tasks An.BA, An.MC, An.US, Dn.C\n",
        "\n",
        "These 2-layer models can do addition accurately. This hypothesis mirrors Paper 2."
      ],
      "metadata": {
        "id": "dZk-BAE2n5kZ"
      }
    },
    {
      "cell_type": "code",
      "source": [
        "# Before Amax is revealed (as a 0 or 1), there must be a Dn.C node for every digit pair\n",
        "# For each digit (except A0) there must be either an An.US or an Dn.C\n",
        "def test_algo_tc_us(model_nodes):\n",
        "  for impact_digit in range(cfg.n_digits):\n",
        "    early_dnc = FilterAnd(FilterAlgo(add_tc_tag(impact_digit)), FilterPosition(an_to_position_name(cfg.n_digits+1), QuantaFilter.MUST_BY))\n",
        "    late_dnc = FilterAnd(FilterAlgo(add_tc_tag(impact_digit)), FilterPosition(an_to_position_name(impact_digit+1), QuantaFilter.MUST_BY))\n",
        "    any_dnus = FilterAnd(FilterAlgo(add_us_tag(impact_digit)), FilterPosition(an_to_position_name(impact_digit+1), QuantaFilter.MUST_BY))\n",
        "\n",
        "    if cfg.n_layers == 1:\n",
        "      # There must be a Dn.US node for every answer digit except A0\n",
        "      if impact_digit > 0:\n",
        "        test_algo_clause(model_nodes, any_dnus)\n",
        "    else:\n",
        "      # There must be a Dn.US node or a Dn.C node for every digit except A0\n",
        "      if impact_digit > 0:\n",
        "        test_algo_clause(model_nodes, FilterOr(any_dnus, late_dnc))\n",
        "\n",
        "      # There must a Dn.C node for every digit before the first 1 or 0 digit is calculated\n",
        "      test_algo_clause(model_nodes, early_dnc)"
      ],
      "metadata": {
        "id": "SsmPe8rNzzvy"
      },
      "execution_count": null,
      "outputs": []
    },
    {
      "cell_type": "code",
      "execution_count": null,
      "metadata": {
        "id": "1cmjOymxluQe"
      },
      "outputs": [],
      "source": [
        "if cfg.model_name == \"add_d5_l2_h3_t15K\" or cfg.model_name == \"add_d6_l2_h3_t15K\":\n",
        "\n",
        "  algo_nodes = start_algorithm_test()\n",
        "\n",
        "  test_algo_ba_mc(algo_nodes)\n",
        "  test_algo_tc_us(algo_nodes)\n",
        "  print_algo_clause_results()\n",
        "\n",
        "  print_algo_purpose_results()"
      ]
    },
    {
      "cell_type": "markdown",
      "source": [
        "# Part 25C: Results: Test Algorithm - Subtraction"
      ],
      "metadata": {
        "id": "PQxhIPzs5K6u"
      }
    },
    {
      "cell_type": "markdown",
      "source": [
        "## Part 2C.1: Model XXX. Tasks BS, BO, SZ\n",
        "\n",
        "This 2-layer model can do subtraction accurately. TBC"
      ],
      "metadata": {
        "id": "ig0eUEDN5XmG"
      }
    },
    {
      "cell_type": "code",
      "source": [
        "# For answer digits (excluding Amax), An.BS and An.BO nodes are needed before the answer digit is revealed\n",
        "def test_algo_bs_bo(algo_nodes):\n",
        "  for impact_digit in range(cfg.n_digits):\n",
        "    test_algo_clause(algo_nodes, FilterAnd(FilterAlgo(sub_bs_tag(impact_digit)), FilterPosition(an_to_position_name(impact_digit+1), QuantaFilter.MUST_BY)))\n",
        "\n",
        "    test_algo_clause(algo_nodes, FilterAnd(FilterAlgo(sub_bo_tag(impact_digit)), FilterPosition(an_to_position_name(impact_digit+1), QuantaFilter.MUST_BY)))\n",
        "\n",
        "\n",
        "# For answer digits (excluding Amax), An.SZ nodes are needed before the answer digit is revealed\n",
        "def test_algo_sz(algo_nodes):\n",
        "  for impact_digit in range(cfg.n_digits):\n",
        "      pass\n",
        "      #test_algo_clause(algo_nodes, FilterAnd(FilterAlgo(sub_sz_tag(impact_digit)), FilterPosition(an_to_position_name(impact_digit+1), QuantaFilter.MUST_BY)))"
      ],
      "metadata": {
        "id": "_51OgGF3QURv"
      },
      "execution_count": null,
      "outputs": []
    },
    {
      "cell_type": "code",
      "source": [
        "if cfg.model_name == \"sub_d6_l2_h3_t30K\":\n",
        "\n",
        "  algo_nodes = start_algorithm_test()\n",
        "\n",
        "  test_algo_bs_bo(algo_nodes)\n",
        "  test_algo_sz(algo_nodes)\n",
        "  print_algo_clause_results()\n",
        "\n",
        "  print_algo_purpose_results(algo_nodes)"
      ],
      "metadata": {
        "id": "Axer3RNi6RSG"
      },
      "execution_count": null,
      "outputs": []
    },
    {
      "cell_type": "markdown",
      "metadata": {
        "id": "nVicHUsAZqTk"
      },
      "source": [
        "## Part 2C.2: Test Algorithm - Subtraction - Negative Answer\n",
        "\n",
        "We claim the model converts subtraction questions D - D' to the mathematically equivalent - ( D' - D ) when D' > D. To do this the model needs to know when D' > D (or equivalently when D' > D).\n",
        "\n",
        "To calculate D'>D, model needs to calculate D'6>D6 else D'5>D5 else D'4>D4 else D'3>D3 else D'2>D2 else D'1>D1 else D'1>D1. We expect to see nodes only used in NG questions, with PCA bigram (or trigram) outputs, attending to these input pairs, evaluated in this order.\n"
      ]
    },
    {
      "cell_type": "code",
      "source": [
        "# For answer digits (excluding Amax), An.NG is needed before the answer digit is revealed\n",
        "def test_algo_ng(algo_nodes):\n",
        "  ng_locations = {}\n",
        "\n",
        "  for impact_digit in range(cfg.n_digits):\n",
        "    # For answer digits (excluding the +/- sign and 0 or 1 Amax), An.NG is calculated before the answer digit is revealed\n",
        "    position = test_algo_clause(algo_nodes, FilterAnd(FilterAlgo(sub_ng_tag(impact_digit)), FilterPosition(an_to_position_name(impact_digit), QuantaFilter.MUST_BY)))\n",
        "    ng_locations[impact_digit] = position\n",
        "\n",
        "  # Check that ng_locations[6] < ng_locations[5] < ng_locations[4] < etc\n",
        "  for impact_digit in range(cfg.n_digits):\n",
        "    if impact_digit > 0:\n",
        "      test_algo_logic(\"NG Ordering for A\" + str(impact_digit), ng_locations[impact_digit] < ng_locations[impact_digit-1])"
      ],
      "metadata": {
        "id": "CDYRKkEwTrN0"
      },
      "execution_count": null,
      "outputs": []
    },
    {
      "cell_type": "code",
      "execution_count": null,
      "metadata": {
        "id": "KsDJC1wsa9kr"
      },
      "outputs": [],
      "source": [
        "if cfg.model_name == \"sub_d6_l2_h3_t30K\":\n",
        "\n",
        "  algo_nodes = start_algorithm_test()\n",
        "\n",
        "  test_algo_ng(algo_nodes)\n",
        "  print_algo_clause_results()\n",
        "\n",
        "  print_algo_purpose_results(algo_nodes)"
      ]
    },
    {
      "cell_type": "markdown",
      "source": [
        "# Part 26: Test Algorithm - Mixed Addition and Subtraction model\n",
        "\n",
        "Our working assumption for models ins1_mix_d6_l3_h4_t40K, ins2_mix_d6_l4_h4_t40K and ins3_mix_d6_l4_h3_t40K is that the model's algorithm is:\n",
        "\n",
        "* H1: Pays attention to the +\\- question operator (using OP task)\n",
        "* If operator is \"+\" then  \n",
        "  * H2: Does addition using BA, MC, US & TC tasks\n",
        "* Else\n",
        "  * H3: Calculates whether D > D' (using NG tasks)\n",
        "  * If D > D' then\n",
        "    * H4: Amax is \"+\"\n",
        "    * H4: Does subtraction using BS, BO, SZ & T?? tasks\n",
        "  * Else\n",
        "    * H5: Applys D - D' = - (D' - D) transform\n",
        "    * H6: Amax is =-\"\n",
        "    * H4: Does subtraction using BS, BO, SZ & T?? tasks\n",
        "    * H5: Applys D - D' = - (D' - D) transform a second time\n",
        "\n",
        "Each of the algorithm sub-tasks H1 to H5 will be validated separately.\n",
        "\n",
        "\n",
        "\n",
        "\n",
        "\n",
        "\n",
        "\n",
        "\n",
        "\n",
        "\n"
      ],
      "metadata": {
        "id": "iCkA6qYCq4iS"
      }
    },
    {
      "cell_type": "code",
      "source": [
        "mixed_model = cfg.model_name == \"ins1_mix_d6_l3_h4_t40K\" or cfg.model_name == \"ins2_mix_d6_l4_h4_t40K\" or cfg.model_name == \"ins3_mix_d6_l4_h3_t40K\""
      ],
      "metadata": {
        "id": "Qu6zX8VCMMs4"
      },
      "execution_count": null,
      "outputs": []
    },
    {
      "cell_type": "markdown",
      "source": [
        "## Part 26.H3 Calculate whether D > D' (using NG tasks)"
      ],
      "metadata": {
        "id": "kgasUyOYMG9E"
      }
    },
    {
      "cell_type": "code",
      "source": [
        "# Only display nodes with the SUB_NG_TAG tag.\n",
        "filters = FilterContains(QuantaType.MATH_SUB, MathsTag.SUB_NG_TAG)\n",
        "show_quanta_map( \"Subtraction Behavior NG Nodes\", False, 2, filters, QuantaType.MATH_SUB, \"\", get_quanta_min_complexity)\n",
        "show_quanta_map( \"Attention Behavior Per (NG) Head\", True, 10, filters, QuantaType.ATTENTION, \"\", get_quanta_attention, 10, 6)\n",
        "show_quanta_map( \"Algorithm Purpose Per (NG) Node\", False, 2, filters, QuantaType.ALGO, \"\", get_quanta_binary, 9, 10)"
      ],
      "metadata": {
        "id": "ClNYGvE6Q5T8"
      },
      "execution_count": null,
      "outputs": []
    },
    {
      "cell_type": "code",
      "source": [
        "if mixed_model:\n",
        "  algo_nodes = start_algorithm_test()\n",
        "\n",
        "  test_algo_ng(algo_nodes)\n",
        "  print_algo_clause_results()\n",
        "\n",
        "  print_algo_purpose_results(algo_nodes)"
      ],
      "metadata": {
        "id": "2mC4guryMA2k"
      },
      "execution_count": null,
      "outputs": []
    },
    {
      "cell_type": "markdown",
      "metadata": {
        "id": "6vxyIj1FP2Hq"
      },
      "source": [
        "# Part 30: Unit Test automated searches"
      ]
    },
    {
      "cell_type": "code",
      "execution_count": null,
      "metadata": {
        "id": "f6g2-mZ5UeJZ"
      },
      "outputs": [],
      "source": [
        "def unit_test_node_tag(node_location_as_str, the_tags ):\n",
        "  node_location = str_to_node_location(node_location_as_str)\n",
        "  node = cfg.useful_nodes.get_node(node_location)\n",
        "  assert node is not None\n",
        "\n",
        "  for the_tag in the_tags:\n",
        "    if not node.contains_tag( QuantaType.ALGO, the_tag):\n",
        "      print( \"Unit test failure: Node\", node.name(), \"does not have expected tag\", the_tag)"
      ]
    },
    {
      "cell_type": "code",
      "execution_count": null,
      "metadata": {
        "id": "Vr5SN-tuP1yO"
      },
      "outputs": [],
      "source": [
        "print(cfg.model_name)\n",
        "\n",
        "if cfg.model_name == 'add_d6_l2_h3_t15K':\n",
        "  unit_test_node_tag('P11L0H0', ['D2.TC'] )\n",
        "  unit_test_node_tag('P12L0H0', ['D3.TC'] )\n",
        "  unit_test_node_tag('P14L0H0', ['A5.US', 'D4.TC'] )\n",
        "  unit_test_node_tag('P14L0H2', ['A5.MC', 'D5.TC'] )\n",
        "  unit_test_node_tag('P14L1H1', ['OP'] )\n",
        "  unit_test_node_tag('P15L0H0', ['A4.MC'] )\n",
        "  unit_test_node_tag('P15L0H1', ['A5.BA'] )\n",
        "  unit_test_node_tag('P15L0H2', ['A5.BA'] )\n",
        "  unit_test_node_tag('P16L0H0', ['A3.MC'] )\n",
        "  unit_test_node_tag('P16L0H1', ['A4.BA'] )\n",
        "  unit_test_node_tag('P16L0H2', ['A4.BA'] )\n",
        "  unit_test_node_tag('P17L0H0', ['A2.MC'] )\n",
        "  unit_test_node_tag('P17L0H1', ['A3.BA'] )\n",
        "  unit_test_node_tag('P17L0H2', ['A3.BA'] )\n",
        "  unit_test_node_tag('P18L0H0', ['A1.MC'] )\n",
        "  unit_test_node_tag('P18L0H1', ['A2.BA'] )\n",
        "  unit_test_node_tag('P18L0H2', ['A2.BA'] )\n",
        "  unit_test_node_tag('P19L0H0', ['A0.MC'] )\n",
        "  unit_test_node_tag('P19L0H1', ['A1.BA'] )\n",
        "  unit_test_node_tag('P19L0H2', ['A1.BA'] )\n",
        "  unit_test_node_tag('P20L0H1', ['A0.BA'] )\n",
        "  unit_test_node_tag('P20L0H2', ['A0.BA'] )\n",
        "\n",
        "if cfg.model_name == 'mix_d6_l3_h4_t40K':\n",
        "  unit_test_node_tag('P8L0H1', ['OP'] )\n",
        "  unit_test_node_tag('P13L2H0', ['A7.NG'] )\n",
        "  unit_test_node_tag('P15L0H0', ['A5.BA', 'A5.BS'] )\n",
        "  unit_test_node_tag('P15L0H3', ['A5.BA', 'A5.BS'] )\n",
        "  unit_test_node_tag('P16L0H3', ['A4.BA.A4', 'A4.BS.A4'] )\n",
        "  unit_test_node_tag('P17L0H1', ['A3.NG'] )\n",
        "  unit_test_node_tag('P17L0H3', ['A3.BA.A3', 'A3.BS.A3'] )\n",
        "  unit_test_node_tag('P18L0H1', ['A2.NG'] )\n",
        "  unit_test_node_tag('P18L0H3', ['A2.BA.A2', 'A2.BS.A2'] )\n",
        "  unit_test_node_tag('P19L0H1', ['A1.NG'] )\n",
        "  unit_test_node_tag('P19L0H3', ['A1.BA.A1', 'A1.BS.A1'] )\n",
        "  unit_test_node_tag('P20L0H0', ['A0.BA', 'A0.BS'] )\n",
        "  unit_test_node_tag('P20L0H3', ['A0.BA', 'A0.BS'] )\n",
        "  unit_test_node_tag('P20L2H1', ['A0.NG'] )\n",
        "\n",
        "if cfg.model_name == 'ins1_mix_d6_l3_h4_t40K':\n",
        "  unit_test_node_tag('P9L0H1', ['D4.TC'] )\n",
        "  unit_test_node_tag('P9L0H3', ['A5.NG', 'OP'] )\n",
        "  unit_test_node_tag('P10L0H1', ['D2.TC'] )\n",
        "  unit_test_node_tag('P12L0H1', ['D3.TC'] )\n",
        "  unit_test_node_tag('P13L2H0', ['A7.NG'] )\n",
        "  unit_test_node_tag('P14L0H0', ['A5.US', 'A6.NG'] )\n",
        "  unit_test_node_tag('P14L0H2', ['A5.MC', 'D5.TC'] )\n",
        "  unit_test_node_tag('P15L0H0', ['A4.MC'] )\n",
        "  unit_test_node_tag('P15L0H1', ['A5.BA', 'A5.BS'] )\n",
        "  unit_test_node_tag('P15L0H2', ['A5.BA', 'A5.BS'] )\n",
        "  unit_test_node_tag('P16L0H0', ['A3.MC'] )\n",
        "  unit_test_node_tag('P16L0H1', ['A4.BA', 'A4.BS'] )\n",
        "  unit_test_node_tag('P16L0H2', ['A4.BA', 'A4.BS'] )\n",
        "  unit_test_node_tag('P16L2H0', ['A4.NG'] )\n",
        "  unit_test_node_tag('P17L0H0', ['A2.MC'] )\n",
        "  unit_test_node_tag('P17L0H1', ['A3.BA', 'A3.BS'] )\n",
        "  unit_test_node_tag('P17L0H2', ['A3.BA', 'A3.BS'] )\n",
        "  unit_test_node_tag('P17L2H0', ['A3.NG'] )\n",
        "  unit_test_node_tag('P18L0H0', ['A1.MC'] )\n",
        "  unit_test_node_tag('P18L0H1', ['A2.BA', 'A2.BS'] )\n",
        "  unit_test_node_tag('P18L0H2', ['A2.BA', 'A2.BS'] )\n",
        "  unit_test_node_tag('P18L2H0', ['A2.NG'] )\n",
        "  unit_test_node_tag('P19L0H0', ['A0.MC'] )\n",
        "  unit_test_node_tag('P19L0H1', ['A1.BA', 'A1.BS'] )\n",
        "  unit_test_node_tag('P19L0H2', ['A1.BA', 'A1.BS'] )\n",
        "  unit_test_node_tag('P19L2H0', ['A1.NG'] )\n",
        "  unit_test_node_tag('P20L0H0', ['A0.NG'] )\n",
        "  unit_test_node_tag('P20L0H1', ['A0.BA', 'A0.BS'] )\n",
        "  unit_test_node_tag('P20L0H2', ['A0.BA', 'A0.BS'] )"
      ]
    }
  ],
  "metadata": {
    "accelerator": "GPU",
    "colab": {
      "collapsed_sections": [
        "uG2gZSoSJD5C",
        "pTd3nmsMJV5T",
        "vNpIsCqtETtF",
        "kQlQPB78lJnc",
        "aQNjIosyX9Y-",
        "F_IIpX2H2tNe",
        "nXBYdxj-jLZc",
        "2PjaQvhhayUL",
        "3BmQHiLALp-3",
        "fHSY3blNMe7I",
        "IxGMji2snxax",
        "dZk-BAE2n5kZ",
        "ig0eUEDN5XmG",
        "nVicHUsAZqTk"
      ],
      "gpuType": "T4",
      "provenance": []
    },
    "kernelspec": {
      "display_name": "Python 3",
      "name": "python3"
    },
    "language_info": {
      "name": "python"
    }
  },
  "nbformat": 4,
  "nbformat_minor": 0
}