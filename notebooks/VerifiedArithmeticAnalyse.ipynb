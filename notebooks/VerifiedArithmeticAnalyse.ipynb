{
  "cells": [
    {
      "cell_type": "markdown",
      "metadata": {
        "id": "uG2gZSoSJD5C"
      },
      "source": [
        "# Verified Integer Mathematics in Transformers - Analyse the Model\n",
        "\n",
        "This CoLab analyses a Transformer model that performs integer addition, subtraction and multiplication e.g. 133357+182243=+0315600, 123450-345670=-0123230 and 000345*000823=+283935. Each digit is a separate token. For 6 digit questions, the model is given 14 \"question\" (input) tokens, and must then predict the corresponding 8 \"answer\" (output) tokens."
      ]
    },
    {
      "cell_type": "markdown",
      "metadata": {
        "id": "FzkGrSqHJKqN"
      },
      "source": [
        "## Tips for using the Colab\n",
        " * You can run and alter the code in this CoLab notebook yourself in Google CoLab ( https://colab.research.google.com/ ).\n",
        " * To run the notebook, in Google CoLab, **you will need to** go to Runtime > Change Runtime Type and select GPU as the hardware accelerator.\n",
        " * Some graphs are interactive!\n",
        " * Use the table of contents pane in the sidebar to navigate.\n",
        " * Collapse irrelevant sections with the dropdown arrows.\n",
        " * Search the page using the search in the sidebar, not CTRL+F."
      ]
    },
    {
      "cell_type": "markdown",
      "metadata": {
        "id": "pTd3nmsMJV5T"
      },
      "source": [
        "# Part 0: Import libraries\n",
        "Imports standard libraries.\n",
        "\n",
        "Imports \"verified_transformer\" public library as \"qt\". This library is specific to this CoLab's \"QuantaTool\" approach to transformer analysis. Refer https://github.com/PhilipQuirke/verified_transformers/blob/main/README.md for more detail."
      ]
    },
    {
      "cell_type": "code",
      "execution_count": null,
      "metadata": {
        "colab": {
          "base_uri": "https://localhost:8080/"
        },
        "id": "cCdmr6-_Jkzi",
        "outputId": "67033f4c-83ef-4910-ffb7-d03e842267b7"
      },
      "outputs": [
        {
          "output_type": "stream",
          "name": "stdout",
          "text": [
            "Running as a Colab notebook\n",
            "Requirement already satisfied: matplotlib in /usr/local/lib/python3.10/dist-packages (3.7.1)\n",
            "Requirement already satisfied: contourpy>=1.0.1 in /usr/local/lib/python3.10/dist-packages (from matplotlib) (1.2.0)\n",
            "Requirement already satisfied: cycler>=0.10 in /usr/local/lib/python3.10/dist-packages (from matplotlib) (0.12.1)\n",
            "Requirement already satisfied: fonttools>=4.22.0 in /usr/local/lib/python3.10/dist-packages (from matplotlib) (4.50.0)\n",
            "Requirement already satisfied: kiwisolver>=1.0.1 in /usr/local/lib/python3.10/dist-packages (from matplotlib) (1.4.5)\n",
            "Requirement already satisfied: numpy>=1.20 in /usr/local/lib/python3.10/dist-packages (from matplotlib) (1.25.2)\n",
            "Requirement already satisfied: packaging>=20.0 in /usr/local/lib/python3.10/dist-packages (from matplotlib) (24.0)\n",
            "Requirement already satisfied: pillow>=6.2.0 in /usr/local/lib/python3.10/dist-packages (from matplotlib) (9.4.0)\n",
            "Requirement already satisfied: pyparsing>=2.3.1 in /usr/local/lib/python3.10/dist-packages (from matplotlib) (3.1.2)\n",
            "Requirement already satisfied: python-dateutil>=2.7 in /usr/local/lib/python3.10/dist-packages (from matplotlib) (2.8.2)\n",
            "Requirement already satisfied: six>=1.5 in /usr/local/lib/python3.10/dist-packages (from python-dateutil>=2.7->matplotlib) (1.16.0)\n"
          ]
        }
      ],
      "source": [
        "DEVELOPMENT_MODE = True\n",
        "try:\n",
        "    import google.colab\n",
        "    IN_COLAB = True\n",
        "    print(\"Running as a Colab notebook\")\n",
        "\n",
        "    !pip install matplotlib\n",
        "\n",
        "    !pip install kaleido\n",
        "    !pip install transformer_lens\n",
        "    !pip install torchtyping\n",
        "    !pip install transformers\n",
        "\n",
        "    !pip install numpy\n",
        "    !pip install scikit-learn\n",
        "\n",
        "except:\n",
        "    IN_COLAB = False\n",
        "    print(\"Running as a Jupyter notebook - intended for development only!\")\n",
        "    from IPython import get_ipython\n",
        "\n",
        "    ipython = get_ipython()\n",
        "    # Code to automatically update the HookedTransformer code as its edited without restarting the kernel\n",
        "    ipython.magic(\"load_ext autoreload\")\n",
        "    ipython.magic(\"autoreload 2\")"
      ]
    },
    {
      "cell_type": "code",
      "execution_count": null,
      "metadata": {
        "id": "Up2QLAZLJnG9"
      },
      "outputs": [],
      "source": [
        "# Plotly needs a different renderer for VSCode/Notebooks vs Colab argh\n",
        "import kaleido\n",
        "import plotly.io as pio\n",
        "\n",
        "if IN_COLAB or not DEVELOPMENT_MODE:\n",
        "    pio.renderers.default = \"colab\"\n",
        "else:\n",
        "    pio.renderers.default = \"notebook_connected\"\n",
        "print(f\"Using renderer: {pio.renderers.default}\")"
      ]
    },
    {
      "cell_type": "code",
      "execution_count": null,
      "metadata": {
        "id": "ve-TndERJoaJ"
      },
      "outputs": [],
      "source": [
        "pio.templates['plotly'].layout.xaxis.title.font.size = 20\n",
        "pio.templates['plotly'].layout.yaxis.title.font.size = 20\n",
        "pio.templates['plotly'].layout.title.font.size = 30"
      ]
    },
    {
      "cell_type": "code",
      "execution_count": null,
      "metadata": {
        "id": "_6zOEFryJqGN"
      },
      "outputs": [],
      "source": [
        "import json\n",
        "import torch\n",
        "import torch.nn.functional as F\n",
        "import numpy as np\n",
        "import random\n",
        "import itertools\n",
        "import re\n",
        "from enum import Enum"
      ]
    },
    {
      "cell_type": "code",
      "execution_count": null,
      "metadata": {
        "id": "d6TE7A9SxySA"
      },
      "outputs": [],
      "source": [
        "import matplotlib.pyplot as plt\n",
        "import matplotlib.colors as mcolors\n",
        "import textwrap"
      ]
    },
    {
      "cell_type": "code",
      "execution_count": null,
      "metadata": {
        "id": "f8VQ4e0QJsIB"
      },
      "outputs": [],
      "source": [
        "import transformer_lens\n",
        "import transformer_lens.utils as utils\n",
        "from transformer_lens.hook_points import (\n",
        "    HookedRootModule,\n",
        "    HookPoint,\n",
        ")  # Hooking utilities\n",
        "from transformer_lens import HookedTransformer, HookedTransformerConfig, FactoredMatrix, ActivationCache\n"
      ]
    },
    {
      "cell_type": "code",
      "execution_count": null,
      "metadata": {
        "id": "gUt2mMzFj7eA"
      },
      "outputs": [],
      "source": [
        "# Import Principal Component Analysis (PCA) library\n",
        "use_pca = True\n",
        "try:\n",
        "  from sklearn.decomposition import PCA\n",
        "except Exception as e:\n",
        "  print(\"pca import failed with exception:\", e)\n",
        "  use_pca = False\n",
        "\n",
        "  # Sometimes version conflicts means the PCA library does not import. This workaround partially fixes the issue\n",
        "  !pip install --upgrade numpy\n",
        "  !pip install --upgrade scikit-learn\n",
        "\n",
        "  # To complete workaround, now select menu option \"Runtime > Restart session and Run all\".\n",
        "  stop"
      ]
    },
    {
      "cell_type": "code",
      "execution_count": null,
      "metadata": {
        "id": "_2P3cndolKDM"
      },
      "outputs": [],
      "source": [
        "# Refer https://github.com/PhilipQuirke/verified_transformers/blob/main/README.md\n",
        "!pip install --upgrade git+https://github.com/PhilipQuirke/verified_transformers.git\n",
        "import QuantaTools as qt"
      ]
    },
    {
      "cell_type": "markdown",
      "metadata": {
        "id": "ldGPkaokJQM5"
      },
      "source": [
        "# Part 1A: Configuration\n",
        "\n",
        "Which existing model do we want to analyse?\n",
        "\n",
        "The existing model weightings created by the sister Colab [VerifiedArithmeticTrain](https://github.com/PhilipQuirke/transformer-maths/blob/main/assets/VerifiedArithmeticTrain.ipynb) are loaded from HuggingFace. Refer https://github.com/PhilipQuirke/verified_transformers/blob/main/README.md for more detail."
      ]
    },
    {
      "cell_type": "code",
      "execution_count": null,
      "metadata": {
        "id": "HmjGdFcdJat3"
      },
      "outputs": [],
      "source": [
        "# Singleton QuantaTool configuration class. MathsConfig is derived from AlgoConfig > UsefulConfig > ModelConfig\n",
        "cfg = qt.MathsConfig()\n",
        "\n",
        "# Singleton QuantaTool ablation intervention configuration class\n",
        "acfg = qt.acfg"
      ]
    },
    {
      "cell_type": "code",
      "execution_count": null,
      "metadata": {
        "id": "O1DXZQ2E6yAi"
      },
      "outputs": [],
      "source": [
        "# Which existing model do we want to analyse?\n",
        "# cfg.model_name = \"\" # Use configuration specified in Part 1A\n",
        "# cfg.model_name = \"add_d5_l1_h3_t30K\"  # 5 digit addition model. Inaccurate as only has one layer. Can predict S0, S1 and S2 complexity questions\n",
        "# cfg.model_name = \"add_d5_l2_h3_t15K\"  # 5 digit addition model\n",
        "# cfg.model_name = \"add_d6_l2_h3_t15K\"  # 6 digit addition model\n",
        "# cfg.model_name = \"sub_d6_l2_h3_t30K\"  # 6 digit subtraction model\n",
        "# cfg.model_name = \"mix_d6_l3_h4_t40K\"  # 6 digit addition and subtraction model. AvgFinalLoss=8e-09\n",
        "cfg.model_name = \"ins1_mix_d6_l3_h4_t40K\"  # 6 digit addition / subtraction model. Initialise with addition model. Handles 1m Qs for Add and Sub\n",
        "# cfg.model_name = \"ins2_mix_d6_l4_h4_t40K\"  # 6 digit addition / subtraction model. Initialised with addition model. Reset useful heads every 100 epochs. AvgFinalLoss=7e-09. Fails 1m Qs\n",
        "# cfg.model_name = \"ins3_mix_d6_l4_h3_t40K\"  # 6 digit addition / subtraction model. Initialised with addition model. Reset useful heads & MLPs every 100 epochs. AvgFinalLoss=2.6e-06. Fails 1m Qs"
      ]
    },
    {
      "cell_type": "markdown",
      "metadata": {
        "id": "F_IIpX2H2tNe"
      },
      "source": [
        "# Part 1B: Configuration: Input and Output file names\n",
        "\n"
      ]
    },
    {
      "cell_type": "code",
      "execution_count": null,
      "metadata": {
        "id": "B5BiELcf53ms"
      },
      "outputs": [],
      "source": [
        "# Needed when user changes model_name and reruns this Colab a second time\n",
        "cfg.reset_useful()\n",
        "cfg.reset_algo()\n",
        "cfg.initialize_maths_token_positions()\n",
        "acfg.reset_ablate()\n",
        "\n",
        "if cfg.model_name != \"\":\n",
        "  # Update cfg member data n_digits, n_layers, n_heads, n_training_steps from model_name\n",
        "  cfg.parse_model_name()\n",
        "\n",
        "  cfg.perc_sub = 0\n",
        "  if cfg.model_name.startswith(\"sub_\") :\n",
        "    cfg.perc_sub = 100\n",
        "\n",
        "  elif cfg.model_name == \"mix_d6_l3_h4_t40K\" :\n",
        "    cfg.batch_size = 256\n",
        "    cfg.perc_sub = 66 # Train on 66% subtraction and 33% addition question batches\n",
        "\n",
        "  elif cfg.model_name == \"ins1_mix_d6_l3_h4_t40K\" :\n",
        "    cfg.batch_size = 256\n",
        "    cfg.perc_sub = 80 # Train on 80% subtraction and 20% addition question batches\n",
        "    # Initialise with add_d6_l2_h3_t15K.pth.\n",
        "\n",
        "  elif cfg.model_name == \"ins2_mix_d6_l4_h4_t40K\" :\n",
        "    cfg.batch_size = 256\n",
        "    cfg.perc_sub = 80 # Train on 80% subtraction and 20% addition question batches\n",
        "    # Initialise with add_d6_l2_h3_t15K.pth. Train & reset useful heads every 100 epochs\n",
        "\n",
        "  elif cfg.model_name == \"ins3_mix_d6_l4_h3_t40K\" :\n",
        "    cfg.batch_size = 256\n",
        "    cfg.perc_sub = 80 # Train on 80% subtraction and 20% addition question batches\n",
        "    # Initialise with add_d6_l2_h3_t15K.pth. Trained & reset useful heads & MLPs every 100 epochs"
      ]
    },
    {
      "cell_type": "code",
      "execution_count": null,
      "metadata": {
        "id": "n0DJkn5l2gq3"
      },
      "outputs": [],
      "source": [
        "main_fname = cfg.file_config_prefix()\n",
        "main_fname_pth = main_fname + '.pth'\n",
        "main_fname_behavior_json = main_fname + '_behavior.json'\n",
        "main_fname_algorithm_json = main_fname + '_algorithm.json'\n",
        "\n",
        "def print_config():\n",
        "  print(\"%Mult=\", cfg.perc_mult, \"%Sub=\", cfg.perc_sub, \"%Add=\", cfg.perc_add(), \"File\", main_fname)\n",
        "\n",
        "print_config()\n",
        "print('Main model will be read from HuggingLab file', main_fname_pth)\n",
        "print('Main model behavior analysis tags will save to Colab temporary file', main_fname_behavior_json)\n",
        "print('Main model algorithm analysis tags will save to Colab temporary file', main_fname_algorithm_json)"
      ]
    },
    {
      "cell_type": "markdown",
      "metadata": {
        "id": "P8RfHXneJw6n"
      },
      "source": [
        "# Part 3A: Set Up: Vocabulary / Embedding / Unembedding\n",
        "\n",
        "  "
      ]
    },
    {
      "cell_type": "code",
      "execution_count": null,
      "metadata": {
        "id": "WeObQk2kzAv7"
      },
      "outputs": [],
      "source": [
        "qt.set_maths_vocabulary(cfg)\n",
        "qt.set_maths_question_meanings(cfg)\n",
        "print(cfg.token_position_meanings)"
      ]
    },
    {
      "cell_type": "markdown",
      "metadata": {
        "id": "tz6rUaYvjOcE"
      },
      "source": [
        "# Part 3B: Set Up: Create model"
      ]
    },
    {
      "cell_type": "code",
      "execution_count": null,
      "metadata": {
        "id": "lA16Nb2PJ7MB"
      },
      "outputs": [],
      "source": [
        "# Transformer creation\n",
        "\n",
        "# Structure is documented at https://neelnanda-io.github.io/TransformerLens/transformer_lens.html#transformer_lens.HookedTransformerConfig.HookedTransformerConfig\n",
        "ht_cfg = HookedTransformerConfig(\n",
        "    n_layers = cfg.n_layers,\n",
        "    n_heads = cfg.n_heads,\n",
        "    d_model = cfg.d_model,\n",
        "    d_head = cfg.d_head,\n",
        "    d_mlp = cfg.d_mlp(),\n",
        "    act_fn = cfg.act_fn,\n",
        "    normalization_type = 'LN',\n",
        "    d_vocab = cfg.d_vocab,\n",
        "    d_vocab_out = cfg.d_vocab,\n",
        "    n_ctx = cfg.n_ctx(),\n",
        "    init_weights = True,\n",
        "    device = \"cuda\",\n",
        "    seed = cfg.training_seed,\n",
        ")\n",
        "\n",
        "cfg.main_model = HookedTransformer(ht_cfg)"
      ]
    },
    {
      "cell_type": "markdown",
      "metadata": {
        "id": "ZHiJhch4KCej"
      },
      "source": [
        "# Part 4: Set Up: Loss Function & Data Generator\n",
        "This maths loss function and data generator are imported from QuantaTools as logits_to_tokens_loss, loss_fn, maths_data_generator_core and maths_data_generator."
      ]
    },
    {
      "cell_type": "code",
      "execution_count": null,
      "metadata": {
        "id": "BqzljhQ4KJU5"
      },
      "outputs": [],
      "source": [
        "# Define \"iterator\" maths \"questions\" data generator function. Invoked using next().\n",
        "ds = qt.maths_data_generator( cfg )"
      ]
    },
    {
      "cell_type": "code",
      "execution_count": null,
      "metadata": {
        "id": "YtmioT1THbJA"
      },
      "outputs": [],
      "source": [
        "# Generate sample data generator (unit test)\n",
        "print(next(ds)[:3,:])"
      ]
    },
    {
      "cell_type": "markdown",
      "metadata": {
        "id": "-KJhCxFtNKfm"
      },
      "source": [
        "# Part 5: Set Up: Load Model from HuggingFace"
      ]
    },
    {
      "cell_type": "code",
      "execution_count": null,
      "metadata": {
        "id": "fRMkB_8GNRc0"
      },
      "outputs": [],
      "source": [
        "main_repo_name=\"PhilipQuirke/VerifiedArithmetic\"\n",
        "print(\"Loading model from HuggingFace\", main_repo_name, main_fname_pth)\n",
        "\n",
        "cfg.main_model.load_state_dict(utils.download_file_from_hf(repo_name=main_repo_name, file_name=main_fname_pth, force_is_torch=True))\n",
        "cfg.main_model.eval()"
      ]
    },
    {
      "cell_type": "markdown",
      "metadata": {
        "id": "I-yFKiDllqEf"
      },
      "source": [
        "# Part 7A: Set Up: Create sample maths questions\n",
        "\n",
        "Create a batch of manually-curated mathematics test questions, and cache some sample model prediction outputs."
      ]
    },
    {
      "cell_type": "code",
      "execution_count": null,
      "metadata": {
        "id": "eiK-0P44gvfS"
      },
      "outputs": [],
      "source": [
        "varied_questions = qt.make_maths_test_questions_and_answers(cfg)\n",
        "num_varied_questions = varied_questions.shape[0]\n",
        "\n",
        "qt.a_set_ablate_hooks(cfg)\n",
        "qt.a_calc_mean_values(cfg, varied_questions)"
      ]
    },
    {
      "cell_type": "code",
      "source": [
        "print(\"Num questions:\", num_varied_questions, \"Question length:\", len(varied_questions[0]))"
      ],
      "metadata": {
        "id": "5clJnASWCPVN"
      },
      "execution_count": null,
      "outputs": []
    },
    {
      "cell_type": "markdown",
      "metadata": {
        "id": "D6FwJW0tv4Nf"
      },
      "source": [
        "# Part 7B: Results: Can the model correctly predict sample questions?\n",
        "\n",
        "Ask the model to predict the varied_questions (without intervention) to see if the model gets them all right. Categorise answers by complexity"
      ]
    },
    {
      "cell_type": "code",
      "execution_count": null,
      "metadata": {
        "id": "E56siA_QKe0W"
      },
      "outputs": [],
      "source": [
        "# Test maths question prediction accuracy on the sample questions provided.\n",
        "# Does NOT use acfg.* or UsefulInfo.* information\n",
        "# Used to estimate the accuracy of the model's predictions.\n",
        "# Returns a reduced set of questions - removing questions that the model failed to answer.\n",
        "print_config()\n",
        "#acfg.show_test_failures = True\n",
        "varied_questions = qt.test_maths_questions_by_complexity(cfg, acfg, varied_questions)\n",
        "num_varied_questions = varied_questions.shape[0]"
      ]
    },
    {
      "cell_type": "markdown",
      "metadata": {
        "id": "2PjaQvhhayUL"
      },
      "source": [
        "# Part 9 : Results: Can the model do 1 million questions without error?\n",
        "\n",
        "If the model passes this test, this is evidence (not proof) that the model is fully accurate. There may be very rare edge cases (say 1 in ten million) that did not appear in the test questions. Even if you believe you know all the edge cases, and have enriched the training data to contain them, you may not have thought of all edge cases, so this is not proof.\n",
        "\n",
        "If the model fails this test:\n",
        "- Add a few of the failures into the \"test questions\" in part 6C\n",
        "- Understand the \"use case(s)\" driving these failures\n",
        "- Alter the Training CoLab data_generator_core to enrich the training data with examples if these use case(s) and retrain the model.  \n",
        "\n",
        "Takes ~25 mins to run (successfully) for ins_mix_d6_l3_h4_t40K_s372001"
      ]
    },
    {
      "cell_type": "code",
      "execution_count": null,
      "metadata": {
        "id": "ZMYZTv5HUp5F"
      },
      "outputs": [],
      "source": [
        "def one_million_questions_core():\n",
        "  global ds\n",
        "\n",
        "  acfg.verbose = False\n",
        "\n",
        "  cfg.analysis_seed = 345621 # Randomly chosen\n",
        "  ds = qt.maths_data_generator() # Re-initialise the data generator\n",
        "\n",
        "  the_successes = 0\n",
        "  the_fails = 0\n",
        "\n",
        "  num_batches = 1000000//cfg.batch_size\n",
        "  for epoch in range(num_batches):\n",
        "      tokens = next(ds)\n",
        "\n",
        "      the_fails = qt.test_maths_questions_by_impact(cfg, acfg, tokens, 0, False)\n",
        "\n",
        "      if the_fails> 0:\n",
        "        break\n",
        "\n",
        "      the_successes = the_successes + cfg.batch_size\n",
        "\n",
        "      if epoch % 100 == 0:\n",
        "          print(\"Batch\", epoch, \"of\", num_batches, \"#Successes=\", the_successes)\n",
        "\n",
        "  print(\"successes\", the_successes, \"num_fails\", the_fails)\n",
        "  if the_fails > 0:\n",
        "    \"WARNING: Model is not fully accurate. It failed the 1M Q test\""
      ]
    },
    {
      "cell_type": "code",
      "execution_count": null,
      "metadata": {
        "id": "znsauYqjaxok"
      },
      "outputs": [],
      "source": [
        "def one_million_questions():\n",
        "  store_perc_sub = cfg.perc_sub\n",
        "  store_perc_mult = cfg.perc_mult\n",
        "\n",
        "  print_config()\n",
        "  print()\n",
        "\n",
        "  if cfg.perc_add() > 0:\n",
        "    print(\"Addition:\")\n",
        "    cfg.perc_sub = 0\n",
        "    cfg.perc_mult = 0\n",
        "    one_million_questions_core()\n",
        "\n",
        "  if store_perc_sub > 0:\n",
        "    print(\"Subtraction:\")\n",
        "    cfg.perc_sub = 100\n",
        "    cfg.perc_mult = 0\n",
        "    one_million_questions_core()\n",
        "    print()\n",
        "\n",
        "  cfg.perc_sub = store_perc_sub\n",
        "  cfg.perc_mult = store_perc_mult\n",
        "\n",
        "\n",
        "# Takes ~25 minutes to run\n",
        "# one_million_questions()"
      ]
    },
    {
      "cell_type": "markdown",
      "metadata": {
        "id": "nXBYdxj-jLZc"
      },
      "source": [
        "# Part 10: Set Up: Which token positions are used by the model?\n",
        "\n",
        "Ablate all nodes in each (question and answer) token position (by overriding the model memory aka residual stream). If the model's prediction loss increases, the token position is useful to the algorithm. Unused token positions are excluded from further analysis. Used to populate the UsefulInfo.useful_positions data. This is token **position level** information.  "
      ]
    },
    {
      "cell_type": "code",
      "execution_count": null,
      "metadata": {
        "id": "CGL57MRBLdUh"
      },
      "outputs": [],
      "source": [
        "num_failures_list = []\n",
        "\n",
        "for position in range(cfg.n_ctx()):\n",
        "  # Test accuracy of model in predicting question answers. Ablates all nodes at acfg.ablate_position. Does NOT use UsefulInfo.* information.\n",
        "  num_fails = qt.test_maths_questions_by_impact(cfg, acfg, varied_questions, position, True)\n",
        "\n",
        "  if num_fails > 0:\n",
        "    # Add position to UsefulInfo.useful_positions\n",
        "    cfg.add_useful_position(position)\n",
        "    num_failures_list += [num_fails]\n",
        "  else:\n",
        "    num_failures_list += \".\""
      ]
    },
    {
      "cell_type": "code",
      "execution_count": null,
      "metadata": {
        "id": "-mIY_13gOiqn"
      },
      "outputs": [],
      "source": [
        "def save_plt_to_file( full_title ):\n",
        "  if cfg.graph_file_suffix > \"\":\n",
        "    filename = cfg.file_config_prefix() + full_title + '.' + cfg.graph_file_suffix\n",
        "    filename = filename.replace(\" \", \"\").replace(\",\", \"\").replace(\":\", \"\").replace(\"-\", \"\")\n",
        "    plt.savefig(filename, bbox_inches='tight', pad_inches=0)"
      ]
    },
    {
      "cell_type": "markdown",
      "metadata": {
        "id": "ZmsGWUbILYin"
      },
      "source": [
        "# Part 11: Results: Which token positions are used by the model?\n",
        "\n",
        "Which token positions are is used in the model's predictions? Unused token positions are excluded from further analysis.\n",
        "\n",
        "\n"
      ]
    },
    {
      "cell_type": "code",
      "execution_count": null,
      "metadata": {
        "id": "gpRp5YMmLe1y"
      },
      "outputs": [],
      "source": [
        "print_config()\n",
        "print(\"num_questions=\", num_varied_questions)\n",
        "print(\"useful_positions=\", cfg.useful_positions )\n",
        "print()\n",
        "\n",
        "cfg.calc_position_failures_map(num_failures_list)\n",
        "save_plt_to_file(\"Failures When Position Ablated\")\n",
        "plt.show()"
      ]
    },
    {
      "cell_type": "markdown",
      "metadata": {
        "id": "904WBkTOLg_5"
      },
      "source": [
        "# Part 12A: Set Up: Which nodes are used by the model?\n",
        "\n",
        "Here we ablate each (attention head and MLP neuron) node in each (question and answer) token position see if the model's prediction loss increases. If loss increases then the \"node + token position\" is used by the algorithm. Used to calculate the UsefulInfo.useful_node_location. This is **position+node level** information.\n"
      ]
    },
    {
      "cell_type": "code",
      "execution_count": null,
      "metadata": {
        "id": "as9ot9RMMTAi"
      },
      "outputs": [],
      "source": [
        "cfg.useful_nodes = qt.UsefulNodeList()\n",
        "\n",
        "acfg.verbose = False\n",
        "qt.ablate_mlp_and_add_useful_node_tags(cfg, varied_questions, qt.test_maths_questions_and_add_useful_node_tags)\n",
        "qt.ablate_head_and_add_useful_node_tags(cfg, varied_questions, qt.test_maths_questions_and_add_useful_node_tags)\n",
        "qt.add_node_attention_tags(cfg, varied_questions)\n",
        "\n",
        "cfg.useful_nodes.sort_nodes()"
      ]
    },
    {
      "cell_type": "markdown",
      "source": [
        "# Part 12B: Results: Which nodes are used by the model?\n",
        "\n",
        "Here are the (attention head and MLP neuron) node in each (question and answer) token position used by the model during predictions."
      ],
      "metadata": {
        "id": "Rw-Wteh-JBd6"
      }
    },
    {
      "cell_type": "code",
      "source": [
        "cfg.useful_nodes.print_node_tags()"
      ],
      "metadata": {
        "id": "yhEWUt7yJBuh"
      },
      "execution_count": null,
      "outputs": []
    },
    {
      "cell_type": "markdown",
      "metadata": {
        "id": "3BmQHiLALp-3"
      },
      "source": [
        " # Part 13: Set up: Show and save Quanta map\n",
        "\n",
        " Using the UsefulNodes and filtering their tags, show a 2D map of the nodes and the tag minor versions."
      ]
    },
    {
      "cell_type": "code",
      "execution_count": null,
      "metadata": {
        "id": "emcB0_CpYTaJ"
      },
      "outputs": [],
      "source": [
        "def show_quanta_map( title, standard_quanta, shades, filters : qt.FilterNode, major_tag : qt.QType, minor_tag : str, get_node_details, base_fontsize = 10, max_width = 10 ):\n",
        "\n",
        "  test_nodes = cfg.useful_nodes if filters == None else qt.filter_nodes(cfg.useful_nodes, filters)\n",
        "\n",
        "  ax1, quanta_results, num_results = qt.calc_quanta_map(cfg, standard_quanta, shades, test_nodes, major_tag.value, minor_tag, get_node_details, base_fontsize, max_width )\n",
        "\n",
        "  if cfg.graph_file_suffix > \"\":\n",
        "    print(\"Saving quanta map:\", title)\n",
        "    save_plt_to_file(title)\n",
        "  else:\n",
        "    ax1.set_title(cfg.file_config_prefix() + ' ' + title + ' ({} nodes)'.format(len(quanta_results)))\n",
        "\n",
        "  # Show plot\n",
        "  plt.show()\n",
        "\n",
        "  return num_results"
      ]
    },
    {
      "cell_type": "markdown",
      "metadata": {
        "id": "VpkyhHRoMOSw"
      },
      "source": [
        "# Part 16A: Results: Show failure percentage map\n",
        "\n",
        "Show the percentage failure rate (incorrect prediction) when individual Attention Heads and MLPs are ablated.\n",
        "\n",
        "A cell containing \"< 1\" may add some risk to the accuracy of the overall analysis process. Check to see if this represents a new use case. Improve the test data set to contain more instances of this (new or existing) use case."
      ]
    },
    {
      "cell_type": "code",
      "execution_count": null,
      "metadata": {
        "id": "vQ28dx5YLs0P"
      },
      "outputs": [],
      "source": [
        "show_quanta_map( \"Failure Frequency Behavior Per Node\", True, qt.FAIL_SHADES, None, qt.QType.FAIL, \"\", qt.get_quanta_fail_perc, 9)"
      ]
    },
    {
      "cell_type": "markdown",
      "metadata": {
        "id": "IifmtnLoTCN5"
      },
      "source": [
        "# Part 16B - Show answer impact behavior map\n",
        "\n",
        "Show the purpose of each useful cell by impact on the answer digits A0 to Amax.\n"
      ]
    },
    {
      "cell_type": "code",
      "execution_count": null,
      "metadata": {
        "id": "6K9PyCKYTUzX"
      },
      "outputs": [],
      "source": [
        "show_quanta_map( \"Answer Impact Behavior Per Node\", True, cfg.num_answer_positions, None, qt.QType.IMPACT, \"\", qt.get_quanta_impact, 9, 6)"
      ]
    },
    {
      "cell_type": "markdown",
      "metadata": {
        "id": "avCfaCT1Puhz"
      },
      "source": [
        "# Part 16C: Result: Show attention map\n",
        "\n",
        "Show attention quanta of useful heads"
      ]
    },
    {
      "cell_type": "code",
      "execution_count": null,
      "metadata": {
        "id": "NTGoEWHgvFH6"
      },
      "outputs": [],
      "source": [
        "# Only maps attention heads, not MLP layers\n",
        "show_quanta_map( \"Attention Behavior Per Head\", True, qt.ATTN_SHADES, None, qt.QType.ATTN, \"\", qt.get_quanta_attention, 10, 6)"
      ]
    },
    {
      "cell_type": "markdown",
      "metadata": {
        "id": "v7-99ZxDOrbF"
      },
      "source": [
        "# Part 16C - Show question complexity map\n",
        "\n",
        "Show the \"minimum\" addition purpose of each useful cell by S0 to S5 quanta.\n",
        "Show the \"minimum\" subtraction purpose of each useful cell by M0 to M5 quanta"
      ]
    },
    {
      "cell_type": "code",
      "execution_count": null,
      "metadata": {
        "id": "OyoErRoCA-pz"
      },
      "outputs": [],
      "source": [
        "if cfg.perc_add() > 0:\n",
        "  show_quanta_map( \"Addition Min-Complexity Behavior Per Node\", False, qt.MATH_ADD_SHADES, None, qt.QType.MATH_ADD, \"\", qt.get_maths_min_complexity)"
      ]
    },
    {
      "cell_type": "code",
      "execution_count": null,
      "metadata": {
        "id": "CMZzbjxUBQGE"
      },
      "outputs": [],
      "source": [
        "if cfg.perc_sub > 0:\n",
        "  show_quanta_map( \"Subtraction Min-Complexity Behavior Per Node\", False, qt.MATH_SUB_SHADES, None, qt.QType.MATH_SUB, \"\", qt.get_maths_min_complexity)"
      ]
    },
    {
      "cell_type": "markdown",
      "metadata": {
        "id": "fHSY3blNMe7I"
      },
      "source": [
        "#Part 19A: Set Up: Calc and graph PCA decomposition.\n"
      ]
    },
    {
      "cell_type": "code",
      "execution_count": null,
      "metadata": {
        "id": "iKc1kj-ZUeCo"
      },
      "outputs": [],
      "source": [
        "# Create a cache of sample maths questions based on the T8, T9, T10 categorisation in cfg.tricase_questions_dict\n",
        "qt.make_maths_tricase_questions(cfg)\n",
        "\n",
        "def pca_evr_0_percent(pca):\n",
        "  return int(round(pca.explained_variance_ratio_[0]*100,0))"
      ]
    },
    {
      "cell_type": "code",
      "execution_count": null,
      "metadata": {
        "id": "SWCPgoQZMjgc"
      },
      "outputs": [],
      "source": [
        "# Calculate one Principal Component Analysis\n",
        "def calc_pca_for_an(node_location, operation, answer_digit):\n",
        "  assert node_location.is_head == True\n",
        "\n",
        "  try:\n",
        "    t_questions = cfg.tricase_questions_dict[(answer_digit, operation)]\n",
        "\n",
        "    _, the_cache = cfg.main_model.run_with_cache(t_questions)\n",
        "\n",
        "    # Gather attention patterns for all the (randomly chosen) questions\n",
        "    attention_outputs = []\n",
        "    for i in range(len(t_questions)):\n",
        "\n",
        "      # Output of individual heads, without final bias\n",
        "      attention_cache=the_cache[\"result\", node_location.layer, \"attn\"] # Output of individual heads, without final bias\n",
        "      attention_output=attention_cache[i]  # Shape [n_ctx, n_head, d_model]\n",
        "      attention_outputs.append(attention_output[node_location.position, node_location.num, :])\n",
        "\n",
        "    attn_outputs = torch.stack(attention_outputs, dim=0).cpu()\n",
        "\n",
        "    pca = PCA(n_components=6)\n",
        "    pca.fit(attn_outputs)\n",
        "    pca_attn_outputs = pca.transform(attn_outputs)\n",
        "\n",
        "    title = node_location.name() + ', A'+str(answer_digit) + ', EVR[0]=' + str(pca_evr_0_percent(pca)) + '%'\n",
        "\n",
        "    return pca, pca_attn_outputs, title\n",
        "  except Exception as e:\n",
        "    print( \"calc_pca_for_an Failed:\" + node_location.name() + \" \" + qt.token_to_char(cfg, operation) + \" \" + qt.answer_name(answer_digit), e)\n",
        "    return None, None, None"
      ]
    },
    {
      "cell_type": "code",
      "execution_count": null,
      "metadata": {
        "id": "cZ_f5TUmqYBX"
      },
      "outputs": [],
      "source": [
        "# Plot the PCA of PnLnHn's attention pattern, using T8, T9, T10 questions that differ in the An digit\n",
        "def plot_pca_for_an(ax, pca_attn_outputs, title):\n",
        "  ax.scatter(pca_attn_outputs[:qt.TRICASE_QUESTIONS, 0], pca_attn_outputs[:qt.TRICASE_QUESTIONS, 1], color='red', label='T8 (0-8)') # t8 questions\n",
        "  ax.scatter(pca_attn_outputs[qt.TRICASE_QUESTIONS:2*qt.TRICASE_QUESTIONS, 0], pca_attn_outputs[qt.TRICASE_QUESTIONS:2*qt.TRICASE_QUESTIONS, 1], color='green', label='T9') # t9 questions\n",
        "  ax.scatter(pca_attn_outputs[2*qt.TRICASE_QUESTIONS:, 0], pca_attn_outputs[2*qt.TRICASE_QUESTIONS:, 1], color='blue', label='T10 (10-18)') # t10 questions\n",
        "  if title != \"\" :\n",
        "    ax.set_title(title)"
      ]
    },
    {
      "cell_type": "code",
      "execution_count": null,
      "metadata": {
        "id": "NaRu2ZEaSRNW"
      },
      "outputs": [],
      "source": [
        "def pca_op_tag(the_digit, operation, strong):\n",
        "  return qt.answer_name(the_digit)  + \".\" + (qt.MathsBehavior.PCA_ADD_TAG.value if operation == qt.MathsToken.PLUS else qt.MathsBehavior.PCA_SUB_TAG.value) + ( \"\" if strong else \".Weak\")"
      ]
    },
    {
      "cell_type": "code",
      "execution_count": null,
      "metadata": {
        "id": "Zk2K3y7pMlQr"
      },
      "outputs": [],
      "source": [
        "def manual_node_pca(ax, position, layer, num, operation, answer_digit):\n",
        "\n",
        "  node_location = qt.NodeLocation(position, layer, True, num)\n",
        "  pca, pca_attn_outputs, title = calc_pca_for_an(node_location, operation, answer_digit)\n",
        "  plot_pca_for_an(ax, pca_attn_outputs, title)\n",
        "\n",
        "  # Add the strong PCA tag to node PCA:A5.TR\n",
        "  cfg.add_useful_node_tag( node_location, qt.QType.PCA, pca_op_tag(answer_digit, operation, True) )\n",
        "\n",
        "\n",
        "def auto_node_pca(ax, index, node_location, operation, answer_digit, perc_threshold):\n",
        "\n",
        "  pca, pca_attn_outputs, title = calc_pca_for_an(node_location, operation, answer_digit)\n",
        "  if pca is not None:\n",
        "    perc = pca_evr_0_percent(pca)\n",
        "    if perc > perc_threshold:\n",
        "      plot_pca_for_an(ax, pca_attn_outputs, title)\n",
        "\n",
        "      # Add the weak PCA tag to node PCA:A5.TR.Weak\n",
        "      cfg.add_useful_node_tag( node_location, qt.QType.PCA, pca_op_tag(answer_digit, operation, False) )\n",
        "      return True\n",
        "\n",
        "  return False"
      ]
    },
    {
      "cell_type": "code",
      "execution_count": null,
      "metadata": {
        "id": "sBQ1XWg_oJne"
      },
      "outputs": [],
      "source": [
        "def manual_nodes_pca(op, nodes):\n",
        "  print(\"Manual PCA tags for\", cfg.model_name, \"with operation\", qt.token_to_char(cfg, op))\n",
        "\n",
        "  cols = 4\n",
        "  rows = 1 + (len(nodes)+1) // cols\n",
        "\n",
        "  fig, axs = plt.subplots(rows, cols)\n",
        "  fig.set_figheight(rows*2 + 1)\n",
        "  fig.set_figwidth(10)\n",
        "\n",
        "  index = 0\n",
        "  for node in nodes:\n",
        "    manual_node_pca(axs[index // cols, index % cols], node[0], node[1], node[2], op, node[3])\n",
        "    index += 1\n",
        "\n",
        "  # Remove any graphs we dont need (except last one)\n",
        "  while index < rows * cols - 1:\n",
        "    ax = axs[index // cols, index % cols]\n",
        "    ax.remove()\n",
        "    index += 1\n",
        "\n",
        "  # Replace last graph with the legend\n",
        "  lines_labels = [axs[0,0].get_legend_handles_labels()]\n",
        "  lines, labels = [sum(lol, []) for lol in zip(*lines_labels)]\n",
        "  axs[rows-1, cols-1].legend(lines, labels)\n",
        "  axs[rows-1, cols-1].axis('off') # Now, to hide the last subplot\n",
        "\n",
        "  plt.tight_layout()\n",
        "  save_plt_to_file('Pca Tr')\n",
        "  plt.show()"
      ]
    },
    {
      "cell_type": "markdown",
      "metadata": {
        "id": "Rbiau9foMp3h"
      },
      "source": [
        "#Part 19B: Results: Manual interpretation of PCA results\n",
        "\n",
        "If an attention head and an answer digit An gives an interpretable response (2 or 3 distinct output clusters) on 3 groups of questions aligned to T8, T9 and T10 definitions, then plot the response and add a QType.PCA tag\n",
        "\n"
      ]
    },
    {
      "cell_type": "code",
      "execution_count": null,
      "metadata": {
        "id": "AhTlzqNr6qN5"
      },
      "outputs": [],
      "source": [
        "cfg.useful_nodes.reset_node_tags(qt.QType.PCA)"
      ]
    },
    {
      "cell_type": "code",
      "execution_count": null,
      "metadata": {
        "id": "HQ5fS3XNMs8e"
      },
      "outputs": [],
      "source": [
        "# Plot all attention heads with the clearest An selected\n",
        "if use_pca:\n",
        "\n",
        "  if cfg.model_name == \"add_d5_l1_h3_t30K\" :\n",
        "    manual_nodes_pca(qt.MathsToken.PLUS,\n",
        "      [[ 12, 0, 0, 4 ],\n",
        "      [ 12, 0, 2, 3 ],\n",
        "      [ 13, 0, 0, 3 ],\n",
        "      [ 13, 0, 2, 2 ],\n",
        "      [ 14, 0, 0, 2 ],\n",
        "      [ 14, 0, 2, 1 ],\n",
        "      [ 15, 0, 0, 1 ],\n",
        "      [ 15, 0, 2, 0 ],\n",
        "      [ 16, 0, 0, 0 ]])\n",
        "\n",
        "  if cfg.model_name == \"add_d5_l2_h3_t15K\" :\n",
        "    manual_nodes_pca(qt.MathsToken.PLUS,\n",
        "      [[10, 0, 0, 2 ],\n",
        "      [ 12, 0, 0, 3 ],\n",
        "      [ 12, 1, 0, 3 ],\n",
        "      [ 12, 1, 1, 4 ],\n",
        "      [ 12, 1, 2, 4 ],\n",
        "      [ 13, 0, 0, 0 ],\n",
        "      [ 13, 0, 0, 3 ],\n",
        "      [ 13, 1, 2, 2 ],\n",
        "      [ 14, 0, 0, 0 ],\n",
        "      [ 14, 0, 0, 2 ],\n",
        "      [ 14, 1, 2, 2 ],\n",
        "      [ 15, 0, 0, 1 ],\n",
        "      [ 15, 0, 0, 0 ],\n",
        "      [ 15, 1, 1, 1 ],\n",
        "      [ 16, 0, 0, 0 ]])\n",
        "\n",
        "  if cfg.model_name == \"add_d6_l2_h3_t15K\" :\n",
        "    manual_nodes_pca(qt.MathsToken.PLUS,\n",
        "      [[11, 0, 0, 2 ],\n",
        "      [ 12, 0, 0, 3 ],\n",
        "      [ 13, 0, 0, 1 ],\n",
        "      [ 14, 0, 0, 4 ],\n",
        "      [ 14, 1, 1, 4 ],\n",
        "      [ 15, 0, 0, 4 ],\n",
        "      [ 15, 1, 1, 4 ],\n",
        "      [ 16, 0, 0, 3 ],\n",
        "      [ 16, 1, 1, 3 ],\n",
        "      [ 17, 0, 0, 2 ],\n",
        "      [ 17, 1, 1, 2 ],\n",
        "      [ 18, 0, 0, 0 ],\n",
        "      [ 18, 0, 0, 1 ],\n",
        "      [ 19, 0, 0, 0 ]])\n",
        "\n",
        "  if cfg.model_name == \"sub_d6_l2_h3_t30K\" :\n",
        "    manual_nodes_pca(qt.MathsToken.MINUS,\n",
        "      [[14, 0, 1, 0 ],\n",
        "      [ 15, 0, 0, 5 ],\n",
        "      [ 15, 1, 1, 0 ],\n",
        "      [ 15, 1, 1, 1 ],\n",
        "      [ 15, 1, 1, 2 ],\n",
        "      [ 15, 1, 1, 3 ],\n",
        "      [ 15, 1, 1, 4 ],\n",
        "      [ 15, 1, 2, 0 ],\n",
        "      [ 15, 1, 2, 1 ],\n",
        "      [ 15, 1, 2, 2 ],\n",
        "      [ 15, 1, 2, 3 ],\n",
        "      [ 16, 0, 0, 0 ],\n",
        "      [ 16, 0, 0, 1 ],\n",
        "      [ 16, 0, 0, 2 ],\n",
        "      [ 16, 0, 0, 3 ],\n",
        "      [ 16, 0, 0, 4 ],\n",
        "      [ 16, 0, 0, 5 ],\n",
        "      [ 16, 1, 0, 4 ],\n",
        "      [ 16, 1, 1, 0 ],\n",
        "      [ 16, 1, 1, 1 ],\n",
        "      [ 16, 1, 1, 2 ],\n",
        "      [ 16, 1, 1, 3 ],\n",
        "      [ 16, 1, 1, 4 ],\n",
        "      [ 16, 1, 2, 0 ],\n",
        "      [ 16, 1, 2, 1 ],\n",
        "      [ 16, 1, 2, 2 ],\n",
        "      [ 16, 1, 2, 3 ],\n",
        "      [ 16, 1, 2, 4 ],\n",
        "      [ 16, 1, 2, 5 ],\n",
        "      [ 17, 0, 0, 0 ],\n",
        "      [ 17, 0, 0, 1 ],\n",
        "      [ 17, 0, 0, 2 ],\n",
        "      [ 17, 0, 0, 3 ],\n",
        "      [ 17, 1, 0, 3 ],\n",
        "      [ 17, 1, 0, 4 ],\n",
        "      [ 17, 1, 2, 0 ],\n",
        "      [ 17, 1, 2, 4 ],\n",
        "      [ 18, 0, 0, 0 ],\n",
        "      [ 18, 0, 0, 1 ],\n",
        "      [ 18, 0, 0, 2 ],\n",
        "      [ 18, 0, 2, 0 ],\n",
        "      [ 18, 1, 2, 3 ],\n",
        "      [ 19, 0, 0, 0 ],\n",
        "      [ 19, 1, 2, 2 ],\n",
        "      [ 20, 0, 0, 0 ],\n",
        "      [ 18, 0, 2, 0 ],\n",
        "\t    [ 18, 0, 2, 0 ]])\n",
        "\n",
        "  if cfg.model_name == \"mix_d6_l3_h4_t40K\" : # TBC\n",
        "    manual_nodes_pca(qt.MathsToken.PLUS,\n",
        "      [[ 8, 0, 0, 4 ],\n",
        "      [  9, 0, 1, 3 ],\n",
        "      [ 10, 0, 1, 2 ],\n",
        "      [ 10, 0, 1, 3 ],\n",
        "      [ 11, 0, 1, 1 ],\n",
        "      [ 11, 0, 1, 2 ],\n",
        "      [ 12, 0, 0, 0 ],\n",
        "      [ 13, 0, 1, 4 ],\n",
        "      [ 13, 1, 1, 0 ],\n",
        "      [ 13, 1, 1, 1 ],\n",
        "      [ 13, 1, 1, 2 ],\n",
        "      [ 13, 1, 1, 3 ],\n",
        "      [ 13, 1, 2, 3 ],\n",
        "      [ 13, 1, 2, 5 ],\n",
        "      [ 14, 0, 1, 0 ],\n",
        "      [ 15, 0, 0, 0 ],\n",
        "      [ 15, 0, 0, 1 ],\n",
        "      [ 15, 0, 0, 2 ],\n",
        "      [ 15, 0, 0, 3 ],\n",
        "      [ 15, 0, 0, 4 ],\n",
        "      [ 15, 0, 0, 5 ],\n",
        "      [ 15, 1, 0, 0 ],\n",
        "      [ 15, 1, 0, 1 ],\n",
        "      [ 15, 1, 0, 2 ],\n",
        "      [ 15, 1, 0, 3 ],\n",
        "      [ 15, 1, 0, 4 ]])\n",
        "\n",
        "  if cfg.model_name == \"ins1_mix_d6_l3_h4_t40K\" :\n",
        "    manual_nodes_pca(qt.MathsToken.PLUS,\n",
        "      [[13, 1, 3, 1 ],\n",
        "      [ 14, 1, 2, 0 ],\n",
        "      [ 14, 1, 2, 2 ],\n",
        "      [ 14, 1, 3, 4 ],\n",
        "      [ 15, 0, 3, 5 ],\n",
        "      [ 15, 1, 2, 2 ],\n",
        "      [ 15, 1, 3, 4 ],\n",
        "      [ 16, 0, 3, 4 ],\n",
        "      [ 16, 1, 2, 0 ],\n",
        "      [ 16, 1, 2, 1 ],\n",
        "      [ 16, 1, 2, 2 ],\n",
        "      [ 16, 1, 3, 2 ],\n",
        "      [ 17, 0, 3, 3 ],\n",
        "      [ 17, 1, 2, 2 ],\n",
        "      [ 17, 1, 3, 2 ],\n",
        "      [ 18, 0, 3, 2 ],\n",
        "      [ 18, 1, 3, 1 ],\n",
        "      [ 19, 0, 3, 1 ],\n",
        "      [ 19, 2, 0, 0 ],\n",
        "      [ 19, 2, 1, 0 ],\n",
        "      [ 20, 0, 0, 0 ],\n",
        "      [ 20, 0, 3, 0 ]])\n",
        "\n",
        "else:\n",
        "  print( \"PCA library failed to import. So PCA not done\")"
      ]
    },
    {
      "cell_type": "markdown",
      "metadata": {
        "id": "jIu3Pr9CMx3l"
      },
      "source": [
        "#Part 19C: Results: Automatic interpetation of PCA results\n",
        "\n",
        "Part 19B is manual and selective. This part is automatic. It tests nodes not included in Part 19B, where this first (single) principal component explains 66% or more of the node. It adds a QType.PCA \"weak\" tag"
      ]
    },
    {
      "cell_type": "code",
      "execution_count": null,
      "metadata": {
        "id": "H4FFdqy-79A1"
      },
      "outputs": [],
      "source": [
        "def auto_find_pca_node(node, op, perc_threshold):\n",
        "  fig, axs = plt.subplots(2, 4) # Allow up to 8 graphs\n",
        "  fig.set_figheight(4)\n",
        "  fig.set_figwidth(10)\n",
        "\n",
        "  index = 0\n",
        "  for answer_digit in range(cfg.n_digits+1):\n",
        "    ax = axs[index // 4, index % 4]\n",
        "    if auto_node_pca(ax, index, node, op, answer_digit, perc_threshold):\n",
        "      index += 1\n",
        "\n",
        "  # Remove any graphs we dont need after all\n",
        "  while index < 2 * 4:\n",
        "    ax = axs[index // 4, index % 4]\n",
        "    ax.remove()\n",
        "    index += 1\n",
        "\n",
        "  plt.tight_layout()\n",
        "  plt.show()"
      ]
    },
    {
      "cell_type": "code",
      "execution_count": null,
      "metadata": {
        "id": "vdfpkXmAMzg4"
      },
      "outputs": [],
      "source": [
        "def auto_find_pca(op):\n",
        "  print(\"Automatic (weak) PCA tags for\", cfg.model_name, \"with operation\", qt.token_to_char(cfg, op))\n",
        "  perc_threshold = 75\n",
        "\n",
        "  for node in cfg.useful_nodes.nodes:\n",
        "\n",
        "    # Exclude nodes with a (manual) PCA tag - for any answer digit(s)). Exclude MLP neurons.\n",
        "    minor_tag_prefix = qt.MathsBehavior.PCA_ADD_TAG if op == qt.MathsToken.PLUS else qt.MathsBehavior.PCA_SUB_TAG\n",
        "    if node.is_head and not node.contains_tag(qt.QType.PCA.value, minor_tag_prefix):\n",
        "      print( \"Doing PCA on node\", node.name())\n",
        "\n",
        "      auto_find_pca_node(node, op, perc_threshold)\n",
        "\n",
        "\n",
        "if use_pca:\n",
        "  if cfg.perc_add() > 0:\n",
        "    auto_find_pca(qt.MathsToken.PLUS)\n",
        "  if cfg.perc_sub > 0:\n",
        "    auto_find_pca(qt.MathsToken.MINUS)"
      ]
    },
    {
      "cell_type": "markdown",
      "metadata": {
        "id": "jFcCpfmKwlAH"
      },
      "source": [
        "# Part 20A: Results: Show useful nodes and behaviour tags"
      ]
    },
    {
      "cell_type": "code",
      "execution_count": null,
      "metadata": {
        "id": "vbzIaqmtwmkH"
      },
      "outputs": [],
      "source": [
        "cfg.useful_nodes.sort_nodes()\n",
        "cfg.useful_nodes.print_node_tags()"
      ]
    },
    {
      "cell_type": "markdown",
      "metadata": {
        "id": "IVkOJRmPvPms"
      },
      "source": [
        "# Part 20B: Results: Save useful nodes and behaviour tags to json file"
      ]
    },
    {
      "cell_type": "code",
      "execution_count": null,
      "metadata": {
        "id": "naD2eCZevOsi"
      },
      "outputs": [],
      "source": [
        "# Serialize and save the useful nodes list to a temporary CoLab file in JSON format\n",
        "print( \"Saving useful node list with behavior tags:\", main_fname_behavior_json)\n",
        "cfg.useful_nodes.save_nodes(main_fname_behavior_json)"
      ]
    },
    {
      "cell_type": "markdown",
      "metadata": {
        "id": "bL9HjPDwSrwD"
      },
      "source": [
        "# Part 21 : Set up: Interchange Interventions\n",
        "\n",
        "Set up a framework to run the model with two questions:\n",
        "- The first \"store\" question is run without hooks\n",
        "- The second \"clean\" question is run with hooks interjecting some data from the \"store\" run. This run gives, not a \"clean\" answer, but an \"intervened\" answer, which mixes the \"store\" answer and the \"clean\" answer.\n"
      ]
    },
    {
      "cell_type": "code",
      "execution_count": null,
      "metadata": {
        "id": "Jk0gVCF9Gr5D"
      },
      "outputs": [],
      "source": [
        "def run_intervention_core(node_locations, store_question, clean_question, operation, expected_answer_impact, expected_answer_int, strong):\n",
        "  assert(len(node_locations) > 0)\n",
        "  assert(store_question[0] < + 10 ** cfg.n_digits)\n",
        "  assert(store_question[1] > - 10 ** cfg.n_digits)\n",
        "  assert(store_question[0] < + 10 ** cfg.n_digits)\n",
        "  assert(store_question[1] > - 10 ** cfg.n_digits)\n",
        "  assert(clean_question[0] < + 10 ** cfg.n_digits)\n",
        "  assert(clean_question[1] > - 10 ** cfg.n_digits)\n",
        "  assert(clean_question[0] < + 10 ** cfg.n_digits)\n",
        "  assert(clean_question[1] > - 10 ** cfg.n_digits)\n",
        "\n",
        "  # Calculate the test (clean) question answer e.g. \"+006671\"\n",
        "  clean_answer_int = clean_question[0]+clean_question[1] if operation == qt.MathsToken.PLUS else clean_question[0]-clean_question[1]\n",
        "  clean_answer_str = qt.int_to_answer_str(cfg, clean_answer_int)\n",
        "  expected_answer_str = qt.int_to_answer_str(cfg, expected_answer_int)\n",
        "\n",
        "  # Matrices of tokens\n",
        "  store_question_and_answer = qt.make_maths_questions_and_answers(cfg, acfg.operation, qt.QType.UNKNOWN, qt.MathsBehavior.UNKNOWN, [store_question])\n",
        "  clean_question_and_answer = qt.make_maths_questions_and_answers(cfg, acfg.operation, qt.QType.UNKNOWN, qt.MathsBehavior.UNKNOWN, [clean_question])\n",
        "\n",
        "  acfg.reset_intervention(expected_answer_str, expected_answer_impact, operation)\n",
        "  acfg.ablate_node_locations = node_locations\n",
        "\n",
        "  run_description = qt.a_run_attention_intervention(cfg, store_question_and_answer, clean_question_and_answer, clean_answer_str)\n",
        "\n",
        "  return \"Intervening on \" + acfg.node_names() + \", \" + (\"Strong\" if strong else \"Weak\") + \", Node[0]=\" + acfg.ablate_node_locations[0].name() + \", \" + run_description\n",
        "\n",
        "\n",
        "# Run an intervention where we have a precise expectation of the intervention impact\n",
        "def run_strong_intervention(node_locations, store_question, clean_question, operation, expected_answer_impact, expected_answer_int):\n",
        "\n",
        "  # These are the actual model prediction outputs (while applying our node-level intervention).\n",
        "  description = run_intervention_core(node_locations, store_question, clean_question, operation, expected_answer_impact, expected_answer_int, True)\n",
        "\n",
        "  answer_success = (acfg.intervened_answer == acfg.expected_answer)\n",
        "  impact_success = (acfg.intervened_impact == acfg.expected_impact)\n",
        "  success = answer_success and impact_success\n",
        "\n",
        "  if acfg.show_test_failures and not success:\n",
        "    print(\"Failed: \" + description)\n",
        "\n",
        "  return success, answer_success, impact_success\n",
        "\n",
        "\n",
        "# Run an intervention where we expect the intervention to have a non-zero impact and we cant precisely predict the answer\n",
        "def run_weak_intervention(node_locations, store_question, clean_question, operation):\n",
        "\n",
        "  # Calculate the test (clean) question answer e.g. \"+006671\"\n",
        "  expected_answer_int = clean_question[0]+clean_question[1] if operation == qt.MathsToken.PLUS else clean_question[0]-clean_question[1]\n",
        "\n",
        "  description = run_intervention_core(node_locations, store_question, clean_question, operation, qt.NO_IMPACT_TAG, expected_answer_int, False)\n",
        "\n",
        "  success = not ((acfg.intervened_answer == acfg.expected_answer) or (acfg.intervened_impact == qt.NO_IMPACT_TAG))\n",
        "\n",
        "  if acfg.show_test_failures and not success:\n",
        "    print(\"Failed: Intervention had no impact on the answer\", description)\n",
        "\n",
        "  return success"
      ]
    },
    {
      "cell_type": "code",
      "execution_count": null,
      "metadata": {
        "id": "J3RvmrLcKy0w"
      },
      "outputs": [],
      "source": [
        "def repeat_digit(digit):\n",
        "    return int(str(digit) * cfg.n_digits)\n",
        "\n",
        "\n",
        "# unit test\n",
        "if cfg.n_digits == 6:\n",
        "  assert repeat_digit(4) == 444444"
      ]
    },
    {
      "cell_type": "code",
      "execution_count": null,
      "metadata": {
        "id": "P_ucys_1txG-"
      },
      "outputs": [],
      "source": [
        "def succeed_test(node_locations, alter_digit, strong):\n",
        "  print( \"Test confirmed\", node_locations[0].name(), node_locations[1].name() if len(node_locations)>1 else \"\", \"\" if strong else \"Weak\")\n",
        "  return True"
      ]
    },
    {
      "cell_type": "code",
      "execution_count": null,
      "metadata": {
        "id": "lyVYckFtV-RV"
      },
      "outputs": [],
      "source": [
        "cfg.useful_nodes.reset_node_tags(qt.QType.ALGO.value)"
      ]
    },
    {
      "cell_type": "markdown",
      "source": [
        "# Part 22A : Results: Search for model operations\n",
        "\n",
        "Here we find which model nodes perform which specific operations. (The resulting \"nodes doing operations\" data will be used later to test an algorithm hypothesis.)  \n",
        "\n",
        "**Automatic searches** for node purposes are preferred, as they applicable to several models, and survive (non-sigificant, node-reordering) changes to the model after training. When a node purpose is detected, this is documented as a tag on the node.\n",
        "\n",
        "**Manually written tests** of node purposes, specific to a single model instance are also supported."
      ],
      "metadata": {
        "id": "XAXc9bD2q0zC"
      }
    },
    {
      "cell_type": "markdown",
      "metadata": {
        "id": "Fgg43Sqe8oF1"
      },
      "source": [
        "# Part 22B: Automated An.US search\n",
        "\n",
        "The addition Use Sum 9 (US) operation is a simple task. Search for An.US tasks."
      ]
    },
    {
      "cell_type": "code",
      "execution_count": null,
      "metadata": {
        "id": "Fq9WJSHHGN0Q"
      },
      "outputs": [],
      "source": [
        "def add_us_tag(impact_digit):\n",
        "  return qt.answer_name(impact_digit-1)  + \".\" + qt.MathsAlgorithm.ADD_US_TAG.value"
      ]
    },
    {
      "cell_type": "code",
      "execution_count": null,
      "metadata": {
        "id": "5xeffLN6eqIq"
      },
      "outputs": [],
      "source": [
        "# These rules are prerequisites for (not proof of) an Addition UseSum9 node\n",
        "def add_us_prereqs(position, impact_digit):\n",
        "  return qt.FilterAnd(\n",
        "    qt.FilterHead(),\n",
        "    qt.FilterPosition(qt.position_name(position)),\n",
        "    qt.FilterAttention(cfg.dn_to_position_name(impact_digit-2)), # Attends to Dn-2\n",
        "    qt.FilterAttention(cfg.ddn_to_position_name(impact_digit-2)), # Attends to D'n-2\n",
        "    qt.FilterImpact(qt.answer_name(impact_digit)))"
      ]
    },
    {
      "cell_type": "code",
      "execution_count": null,
      "metadata": {
        "id": "G8y-7JQX8oSP"
      },
      "outputs": [],
      "source": [
        "def add_us_test(node_locations, alter_digit, strong):\n",
        "  if alter_digit < 2 or alter_digit > cfg.n_digits:\n",
        "    acfg.reset_intervention()\n",
        "    return False\n",
        "\n",
        "  intervention_impact = qt.answer_name(alter_digit)\n",
        "\n",
        "  # 25222 + 44444 = 69666. Has no Dn-2.MC but has Dn-1.US so not a US case\n",
        "  store_question = [repeat_digit(2), repeat_digit(4)]\n",
        "  store_question[0] += (5-2) * 10 ** (alter_digit - 1)\n",
        "\n",
        "  # 34633 + 55555 = 90188. Has Dn-2.MC and Dn-1.US so is a US case\n",
        "  clean_question = [repeat_digit(3), repeat_digit(5)]\n",
        "  clean_question[0] += (4-3) * 10 ** (alter_digit - 1)\n",
        "  clean_question[0] += (6-3) * 10 ** (alter_digit - 2)\n",
        "\n",
        "  # When we intervene we expect answer 80188\n",
        "  intervened_answer = clean_question[0] + clean_question[1] - 10 ** (alter_digit)\n",
        "\n",
        "\n",
        "  # Unit test\n",
        "  if cfg.n_digits == 5 and alter_digit == 4:\n",
        "    assert store_question[0] == 25222\n",
        "    assert clean_question[0] == 34633\n",
        "    assert clean_question[0] + clean_question[1] == 90188\n",
        "    assert intervened_answer == 80188\n",
        "\n",
        "\n",
        "  success, _, _ = run_strong_intervention(node_locations, store_question, clean_question, qt.MathsToken.PLUS, intervention_impact, intervened_answer)\n",
        "\n",
        "  if success:\n",
        "    print( \"Test confirmed\", acfg.node_names(), \"perform D\"+str(alter_digit)+\".US impacting \"+intervention_impact+\" accuracy.\", \"\" if strong else \"Weak\")\n",
        "\n",
        "  return success"
      ]
    },
    {
      "cell_type": "code",
      "execution_count": null,
      "metadata": {
        "id": "nUYf20mk8zls"
      },
      "outputs": [],
      "source": [
        "qt.search_and_tag( cfg, acfg, add_us_prereqs, add_us_test, add_us_tag, False, False)"
      ]
    },
    {
      "cell_type": "markdown",
      "metadata": {
        "id": "Z5DMV3I_25ST"
      },
      "source": [
        "# Part 22C: Automated An.MC search\n",
        "\n",
        "The addition Make Carry (MC) operation is a simple task. Search for An.MC tasks."
      ]
    },
    {
      "cell_type": "code",
      "execution_count": null,
      "metadata": {
        "id": "YizIdKqven8h"
      },
      "outputs": [],
      "source": [
        "def add_mc_tag(impact_digit):\n",
        "  return qt.answer_name(impact_digit-1)  + \".\" + qt.MathsAlgorithm.ADD_MC_TAG.value"
      ]
    },
    {
      "cell_type": "code",
      "execution_count": null,
      "metadata": {
        "id": "HXevYPyteXy1"
      },
      "outputs": [],
      "source": [
        "# These rules are prerequisites for (not proof of) an Addition MakeCarry node\n",
        "def add_mc_prereqs(position, impact_digit):\n",
        "  return qt.FilterAnd(\n",
        "    qt.FilterHead(),\n",
        "    qt.FilterPosition(qt.position_name(position)),\n",
        "    qt.FilterAttention(cfg.dn_to_position_name(impact_digit-1)), # MC is calculated on the next lower-value digit.\n",
        "    qt.FilterAttention(cfg.ddn_to_position_name(impact_digit-1)), # MC is calculated on the next lower-value digit.\n",
        "    qt.FilterImpact(qt.answer_name(impact_digit)))"
      ]
    },
    {
      "cell_type": "code",
      "execution_count": null,
      "metadata": {
        "id": "wJBYT0hF3R_u"
      },
      "outputs": [],
      "source": [
        "def add_mc_test(node_locations, impact_digit, strong):\n",
        "  alter_digit = impact_digit - 1\n",
        "\n",
        "  if alter_digit < 0 or alter_digit >= cfg.n_digits:\n",
        "    acfg.reset_intervention()\n",
        "    return False\n",
        "\n",
        "  intervention_impact = qt.answer_name(impact_digit)\n",
        "\n",
        "  # 222222 + 666966 = 889188. Has Dn.MC\n",
        "  store_question = [repeat_digit(2), repeat_digit(6)]\n",
        "  store_question[1] += (9 - 6) * (10 ** alter_digit)\n",
        "\n",
        "  # 333333 + 555555 = 888888. No Dn.MC\n",
        "  clean_question = [repeat_digit(3), repeat_digit(5)]\n",
        "\n",
        "  # When we intervene we expect answer 889888\n",
        "  intervened_answer = clean_question[0] + clean_question[1] + 10 ** (alter_digit+1)\n",
        "\n",
        "  success, _, _ = run_strong_intervention(node_locations, store_question, clean_question, qt.MathsToken.PLUS, intervention_impact, intervened_answer)\n",
        "\n",
        "  if success:\n",
        "    print( \"Test confirmed\", acfg.node_names(), \"perform D\"+str(alter_digit)+\".MC impacting \"+intervention_impact+\" accuracy.\", \"\" if strong else \"Weak\")\n",
        "\n",
        "  return success"
      ]
    },
    {
      "cell_type": "code",
      "execution_count": null,
      "metadata": {
        "id": "xvS1eOReZUq1"
      },
      "outputs": [],
      "source": [
        "qt.search_and_tag( cfg, acfg, add_mc_prereqs, add_mc_test, add_mc_tag, False, False)"
      ]
    },
    {
      "cell_type": "markdown",
      "metadata": {
        "id": "Iosx5zE_macF"
      },
      "source": [
        "# Part 22D: Automated An.BA search\n",
        "\n",
        "The addition Base Add (BA) operation is a simple task. The task may be split/shared over 2 attention heads in the same position. Search for An.BA calculations.\n",
        "\n",
        "(Note: BS and BA give same result in edge case when D'=0 or D=D'=5. Avoid tests that use these cases)"
      ]
    },
    {
      "cell_type": "code",
      "execution_count": null,
      "metadata": {
        "id": "Eq_nczrDdxjy"
      },
      "outputs": [],
      "source": [
        "def add_ba_tag(impact_digit):\n",
        "  return qt.answer_name(impact_digit) + \".\" + qt.MathsAlgorithm.ADD_BA_TAG.value"
      ]
    },
    {
      "cell_type": "code",
      "execution_count": null,
      "metadata": {
        "id": "QLXpgGXpWpPp"
      },
      "outputs": [],
      "source": [
        "# These rules are prerequisites for (not proof of) an Addition BaseAdd node\n",
        "def add_ba_prereqs(position, impact_digit):\n",
        "  return qt.FilterAnd(\n",
        "    qt.FilterHead(),\n",
        "    qt.FilterPosition(qt.position_name(position)),\n",
        "    qt.FilterAttention(cfg.dn_to_position_name(impact_digit)), # Attends to Dn\n",
        "    qt.FilterAttention(cfg.ddn_to_position_name(impact_digit)), # Attends to D'n\n",
        "    qt.FilterImpact(qt.answer_name(impact_digit)), # Impacts An\n",
        "    qt.FilterAlgo(add_ba_tag(impact_digit), qt.QCondition.NOT)) # Has not already been flagged as a BA task"
      ]
    },
    {
      "cell_type": "code",
      "execution_count": null,
      "metadata": {
        "id": "P-Gs5yglncax"
      },
      "outputs": [],
      "source": [
        "def add_ba_test1(alter_digit):\n",
        "  # 222222 + 111111 = 333333. No Dn.MC\n",
        "  store_question = [repeat_digit(2), repeat_digit(1)]\n",
        "\n",
        "  # 555555 + 444444 = 999999. No Dn.MC\n",
        "  clean_question = [repeat_digit(5), repeat_digit(4)]\n",
        "\n",
        "  # When we intervene we expect answer 999399\n",
        "  intervened_answer = clean_question[0] + clean_question[1] + (3-9) * 10 ** alter_digit\n",
        "\n",
        "  return store_question, clean_question, intervened_answer\n",
        "\n",
        "\n",
        "def add_ba_test2(alter_digit):\n",
        "  # 222222 + 666666 = 888888. No Dn.MC\n",
        "  store_question = [repeat_digit(2), repeat_digit(6)]\n",
        "\n",
        "  # 555555 + 111111 = 666666. No Dn.MC\n",
        "  clean_question = [repeat_digit(5), repeat_digit(1)]\n",
        "\n",
        "  # When we intervene we expect answer 666866\n",
        "  intervened_answer = clean_question[0] + clean_question[1] + (8-6) * 10 ** alter_digit\n",
        "\n",
        "  return store_question, clean_question, intervened_answer\n",
        "\n",
        "\n",
        "def add_ba_test(node_locations, alter_digit, strong):\n",
        "  intervention_impact = qt.answer_name(alter_digit)\n",
        "\n",
        "  store_question, clean_question, intervened_answer = add_ba_test1(alter_digit)\n",
        "  success1, answer_success1, impact_success1 = run_strong_intervention(node_locations, store_question, clean_question, qt.MathsToken.PLUS, intervention_impact, intervened_answer)\n",
        "\n",
        "  store_question, clean_question, intervened_answer = add_ba_test2(alter_digit)\n",
        "  success2, answer_success2, impact_success2 = run_strong_intervention(node_locations, store_question, clean_question, qt.MathsToken.PLUS, intervention_impact, intervened_answer)\n",
        "\n",
        "  success = (success1 and success2) if strong else (impact_success1 and impact_success2)\n",
        "\n",
        "  if success:\n",
        "    print( \"Test confirmed:\", acfg.node_names(), \"perform D\"+str(alter_digit)+\".BA = (D\"+str(alter_digit)+\" + D'\"+str(alter_digit)+\") % 10 impacting \"+intervention_impact+\" accuracy.\", \"\" if strong else \"Weak\", acfg.intervened_answer)\n",
        "\n",
        "  return success"
      ]
    },
    {
      "cell_type": "code",
      "execution_count": null,
      "metadata": {
        "id": "AIktdaRL-BfP"
      },
      "outputs": [],
      "source": [
        "#cfg.useful_nodes.reset_node_tags(QType.ALGO)\n",
        "#acfg.show_test_failures = True\n",
        "qt.search_and_tag( cfg, acfg, add_ba_prereqs, add_ba_test, add_ba_tag, True, True )"
      ]
    },
    {
      "cell_type": "markdown",
      "metadata": {
        "id": "ThzFD1FxBXg8"
      },
      "source": [
        "# Part 22E: Automated Dn.C search\n",
        "\n",
        "Search for D0.C to D5.C with impact \"A65432\" to \"A65\" in early tokens.\n",
        "\n",
        "A0 and A1 are too simple to need Dn.C values so they are excluded from the answer impact."
      ]
    },
    {
      "cell_type": "code",
      "execution_count": null,
      "metadata": {
        "id": "p0aF8E-bd736"
      },
      "outputs": [],
      "source": [
        "def add_tc_tag(focus_digit):\n",
        "  return \"D\" + str(focus_digit) + \".\" + qt.MathsAlgorithm.ADD_TC_TAG.value"
      ]
    },
    {
      "cell_type": "code",
      "execution_count": null,
      "metadata": {
        "id": "gV8sqYs7dCcj"
      },
      "outputs": [],
      "source": [
        "# These rules are prerequisites for (not proof of) an Addition Dn.C node\n",
        "def add_tc_prereqs(position, focus_digit):\n",
        "  return qt.FilterAnd(\n",
        "    qt.FilterHead(),\n",
        "    qt.FilterPosition(qt.position_name(position)),\n",
        "    qt.FilterAttention(cfg.dn_to_position_name(focus_digit)), # Attends to Dn\n",
        "    qt.FilterAttention(cfg.ddn_to_position_name(focus_digit)), # Attends to D'n\n",
        "    qt.FilterPCA(qt.MathsBehavior.PCA_ADD_TAG.value, qt.QCondition.CONTAINS)) # Node PCA is interpretable (bigram or trigram output) with respect to T8,T9,T10"
      ]
    },
    {
      "cell_type": "code",
      "execution_count": null,
      "metadata": {
        "id": "N-bcEooQBp2v"
      },
      "outputs": [],
      "source": [
        "def add_tc_test(node_locations, focus_digit, strong):\n",
        "  # 222222 + 777977 = 1000188. Has Dn.MC\n",
        "  store_question = [repeat_digit(2), repeat_digit(7)]\n",
        "  store_question[1] += (9 - 7) * (10 ** focus_digit)\n",
        "\n",
        "  # 333333 + 666666 = 999999. No Dn.MC\n",
        "  clean_question = [repeat_digit(3), repeat_digit(6)]\n",
        "\n",
        "  success = run_weak_intervention(node_locations, store_question, clean_question, qt.MathsToken.PLUS)\n",
        "\n",
        "  if success:\n",
        "    description = acfg.node_names() + \" perform D\"+str(focus_digit)+\".C = TriCase(D\"+str(focus_digit)+\" + D'\"+str(focus_digit)+\")\"\n",
        "    print(\"Test confirmed\", description, \"Impact:\", acfg.intervened_impact, \"\" if strong else \"Weak\")\n",
        "\n",
        "  return success"
      ]
    },
    {
      "cell_type": "code",
      "execution_count": null,
      "metadata": {
        "id": "wFJV4pfWSwHQ"
      },
      "outputs": [],
      "source": [
        "if cfg.n_layers > 1: # Have not seen this task in 1-layer models.\n",
        "  qt.search_and_tag( cfg, acfg, add_tc_prereqs, add_tc_test, add_tc_tag,\n",
        "    False, # Have not seen this task split between nodes.\n",
        "    False,\n",
        "    cfg.n_digits, cfg.num_question_positions) # These occur from the first D'n digit to the first answer digit."
      ]
    },
    {
      "cell_type": "markdown",
      "metadata": {
        "id": "3jOBIUDzRrGz"
      },
      "source": [
        "# Part 22F: Automated An.BS search\n",
        "\n",
        "The subtraction Base Subtraction (BS) operation is a simple task. The task may be split/shared over 2 attention heads in the same position. Search for An.BS calculations.\n",
        "\n",
        "(Note: BS and BA give same result in edge case when D'=0 or D=D'=5. Avoid tests that use these cases)"
      ]
    },
    {
      "cell_type": "code",
      "execution_count": null,
      "metadata": {
        "id": "IE4icd5UR12w"
      },
      "outputs": [],
      "source": [
        "def sub_bs_tag(impact_digit):\n",
        "  return qt.answer_name(impact_digit) + \".\" + qt.MathsAlgorithm.SUB_BS_TAG.value"
      ]
    },
    {
      "cell_type": "code",
      "execution_count": null,
      "metadata": {
        "id": "DbeReTw3R8yR"
      },
      "outputs": [],
      "source": [
        "# These rules are prerequisites for (not proof of) a BaseSubtraction node\n",
        "def sub_bs_prereqs(position, impact_digit):\n",
        "  return qt.FilterAnd(\n",
        "    qt.FilterHead(),\n",
        "    qt.FilterPosition(qt.position_name(position)),\n",
        "    qt.FilterAttention(cfg.dn_to_position_name(impact_digit)), # Attends to Dn\n",
        "    qt.FilterAttention(cfg.ddn_to_position_name(impact_digit)), # Attends to D'n\n",
        "    qt.FilterImpact(qt.answer_name(impact_digit)), # Impacts An\n",
        "    qt.FilterAlgo(sub_bs_tag(impact_digit), qt.QCondition.NOT)) # Has not already been flagged as a BS task"
      ]
    },
    {
      "cell_type": "code",
      "execution_count": null,
      "metadata": {
        "id": "Cxce_IoeSTl4"
      },
      "outputs": [],
      "source": [
        "def sub_bs_test1(alter_digit):\n",
        "  # 333333 - 111111 = 222222. No Dn.BO\n",
        "  store_question = [repeat_digit(3), repeat_digit(1)]\n",
        "\n",
        "  # 999999 - 444444 = 555555. No Dn.BO\n",
        "  clean_question = [repeat_digit(9), repeat_digit(4)]\n",
        "\n",
        "  # When we intervene we expect answer 555255\n",
        "  intervened_answer = clean_question[0] - clean_question[1] + (2-5) * 10 ** alter_digit\n",
        "\n",
        "  return store_question, clean_question, intervened_answer\n",
        "\n",
        "\n",
        "def sub_bs_test2(alter_digit):\n",
        "  # 666666 - 222222 = 444444. No Dn.BO\n",
        "  store_question = [repeat_digit(6), repeat_digit(2)]\n",
        "\n",
        "  # 999999 - 333333 = 666666. No Dn.BO\n",
        "  clean_question = [repeat_digit(9), repeat_digit(3)]\n",
        "\n",
        "  # When we intervene we expect answer 666466\n",
        "  intervened_answer = clean_question[0] - clean_question[1] + (4-6) * 10 ** alter_digit\n",
        "\n",
        "  return store_question, clean_question, intervened_answer\n",
        "\n",
        "\n",
        "def sub_bs_test(node_locations, alter_digit, strong):\n",
        "  intervention_impact = qt.answer_name(alter_digit)\n",
        "\n",
        "  store_question, clean_question, intervened_answer = sub_bs_test1(alter_digit)\n",
        "  success1, answer_success1, impact_success1 = run_strong_intervention(node_locations, store_question, clean_question, qt.MathsToken.MINUS, intervention_impact, intervened_answer)\n",
        "\n",
        "  store_question, clean_question, intervened_answer = sub_bs_test2(alter_digit)\n",
        "  success2, answer_success2, impact_success2 = run_strong_intervention(node_locations, store_question, clean_question, qt.MathsToken.MINUS, intervention_impact, intervened_answer)\n",
        "\n",
        "  success = (success1 and success2) if strong else (impact_success1 and impact_success2)\n",
        "\n",
        "  if success:\n",
        "    print( \"Test confirmed:\", acfg.node_names(), \"perform D\"+str(alter_digit)+\".BS = (D\"+str(alter_digit)+\" + D'\"+str(alter_digit)+\") % 10 impacting \"+intervention_impact+\" accuracy.\", \"\" if strong else \"Weak\")\n",
        "\n",
        "  return success"
      ]
    },
    {
      "cell_type": "code",
      "execution_count": null,
      "metadata": {
        "id": "zKag6sUnVS2N"
      },
      "outputs": [],
      "source": [
        "#cfg.useful_nodes.reset_node_tags(QType.ALGO)\n",
        "#acfg.show_test_failures = True\n",
        "qt.search_and_tag( cfg, acfg, sub_bs_prereqs, sub_bs_test, sub_bs_tag, True, True, cfg.num_question_positions )"
      ]
    },
    {
      "cell_type": "markdown",
      "metadata": {
        "id": "nVyItdhmhIn8"
      },
      "source": [
        "# Part 22G: Automated An.BO search\n",
        "\n",
        "The subtraction Borrow One operation is a simple task. Search for An.BO tasks."
      ]
    },
    {
      "cell_type": "code",
      "execution_count": null,
      "metadata": {
        "id": "6OvVAefqhXVY"
      },
      "outputs": [],
      "source": [
        "def sub_bo_tag(impact_digit):\n",
        "  return qt.answer_name(impact_digit-1)  + \".\" + qt.MathsAlgorithm.SUB_BO_TAG.value"
      ]
    },
    {
      "cell_type": "code",
      "execution_count": null,
      "metadata": {
        "id": "mSbkA_vzhfAh"
      },
      "outputs": [],
      "source": [
        "# These rules are prerequisites for (not proof of) an subtraction Borrow One node\n",
        "def sub_bo_prereqs(position, impact_digit):\n",
        "  return qt.FilterAnd(\n",
        "    qt.FilterHead(),\n",
        "    qt.FilterPosition(qt.position_name(position)),\n",
        "    qt.FilterAttention(cfg.dn_to_position_name(impact_digit-1)), # BO is calculated on the next lower-value digit.\n",
        "    qt.FilterAttention(cfg.ddn_to_position_name(impact_digit-1)), # BO is calculated on the next lower-value digit.\n",
        "    qt.FilterImpact(qt.answer_name(impact_digit)))"
      ]
    },
    {
      "cell_type": "code",
      "execution_count": null,
      "metadata": {
        "id": "Jvbz0EF7iEV-"
      },
      "outputs": [],
      "source": [
        "def sub_bo_test(node_locations, impact_digit, strong):\n",
        "  alter_digit = impact_digit - 1\n",
        "\n",
        "  if alter_digit < 0 or alter_digit >= cfg.n_digits:\n",
        "    acfg.reset_intervention()\n",
        "    return False\n",
        "\n",
        "  intervention_impact = qt.answer_name(impact_digit)\n",
        "\n",
        "  # 222222 - 111311 = +0110911. Has Dn.BO\n",
        "  store_question = [repeat_digit(2), repeat_digit(1)]\n",
        "  store_question[1] += (3 - 1) * (10 ** alter_digit)\n",
        "\n",
        "  # 777777 - 444444 = +0333333. No Dn.BO\n",
        "  clean_question = [repeat_digit(7), repeat_digit(4)]\n",
        "\n",
        "\n",
        "  # When we intervene we expect answer +0332333\n",
        "  intervened_answer = clean_question[0] - clean_question[1] - 10 ** (alter_digit+1)\n",
        "\n",
        "  success, _, _ = run_strong_intervention(node_locations, store_question, clean_question, qt.MathsToken.MINUS, intervention_impact, intervened_answer)\n",
        "\n",
        "  if success:\n",
        "    print( \"Test confirmed\", acfg.node_names(), \"perform D\"+str(alter_digit)+\".BO impacting \"+intervention_impact+\" accuracy.\", \"\" if strong else \"Weak\")\n",
        "\n",
        "  return success"
      ]
    },
    {
      "cell_type": "code",
      "execution_count": null,
      "metadata": {
        "id": "lzjlFwEui7K9"
      },
      "outputs": [],
      "source": [
        "#cfg.useful_nodes.reset_node_tags(qt.QType.ALGO)\n",
        "#acfg.show_test_failures = True\n",
        "qt.search_and_tag( cfg, acfg, sub_bo_prereqs, sub_bo_test, sub_bo_tag, True, True)"
      ]
    },
    {
      "cell_type": "markdown",
      "metadata": {
        "id": "sJo37Qg2ZQpJ"
      },
      "source": [
        "# Part 22H: Automated An.NG search\n",
        "\n",
        "Somes useful nodes are only used in subtraction when D < D' in the D - D' question e.g. negative-answer questions. We claim these nodes are associated somehow with converting D - D' to the mathematically equivalent - ( D' - D )\n",
        "\n",
        "To calculate D'>D, model needs to calculate D'6>D6, ..., D'0>D0 and then combine the results in a cascade D'6>D6 else ... else D'0>D0. We expect to see nodes only used in NG questions, with PCA bigram (or trigram) outputs, attending to these input pairs. The \"else cascade\" is tested later."
      ]
    },
    {
      "cell_type": "code",
      "execution_count": null,
      "metadata": {
        "id": "uZAVz_dNaMUR"
      },
      "outputs": [],
      "source": [
        "def sub_ng_tag(impact_digit):\n",
        "  return qt.answer_name(impact_digit)  + \".\" + qt.MathsAlgorithm.SUB_NG_TAG.value"
      ]
    },
    {
      "cell_type": "code",
      "execution_count": null,
      "metadata": {
        "id": "nScZJkfge-7K"
      },
      "outputs": [],
      "source": [
        "def sub_ng_prereqs(position, impact_digit):\n",
        "  return qt.FilterAnd(\n",
        "    qt.FilterHead(),\n",
        "    qt.FilterPosition(qt.position_name(position)),\n",
        "    qt.FilterImpact(qt.answer_name(impact_digit)), # Impacts An\n",
        "    qt.FilterContains(qt.QType.MATH_SUB, qt.MathsBehavior.SUB_NG_TAG.value)) # Impacts negative-answer questions"
      ]
    },
    {
      "cell_type": "code",
      "execution_count": null,
      "metadata": {
        "id": "GNgpXD47pNmM"
      },
      "outputs": [],
      "source": [
        "# Test that if we ablate this node then a negative-answer-subtraction question answer swaps to its positive complement\n",
        "def sub_ng_test(node_locations, focus_digit, strong):\n",
        "  global store0\n",
        "  global store1\n",
        "  global clean0\n",
        "\n",
        "  if focus_digit >= cfg.n_digits:\n",
        "    acfg.reset_intervention()\n",
        "    return False\n",
        "\n",
        "  # 555555 - 000000 = +0555555. Is a positive-answer-subtraction\n",
        "  store_question = [repeat_digit(5), repeat_digit(0)]\n",
        "\n",
        "  # 222222 - 222422 = -0000200. Is a negative-answer-subtraction question because of focus_digit\n",
        "  clean_question = [repeat_digit(2), repeat_digit(2)]\n",
        "  clean_question[1] += 2 * (10 ** focus_digit)\n",
        "\n",
        "  success = run_weak_intervention(node_locations, store_question, clean_question, qt.MathsToken.MINUS)\n",
        "\n",
        "  if success:\n",
        "    description = acfg.node_names() + \" perform A\"+str(focus_digit)+\".NG\"\n",
        "    print(\"Test confirmed\", description, \"Impact:\", acfg.intervened_impact, \"\" if strong else \"Weak\")\n",
        "\n",
        "  return success"
      ]
    },
    {
      "cell_type": "code",
      "execution_count": null,
      "metadata": {
        "id": "SOJ4J214g3La"
      },
      "outputs": [],
      "source": [
        "#acfg.show_test_failures = True\n",
        "qt.search_and_tag( cfg, acfg, sub_ng_prereqs, sub_ng_test, sub_ng_tag, False, False )\n",
        "#acfg.show_test_failures = False"
      ]
    },
    {
      "cell_type": "markdown",
      "metadata": {
        "id": "Agw7np7gZmgP"
      },
      "source": [
        "# Part 22I: Automated OP search\n",
        "\n",
        "For mixed models that do addition and subtraction the operation token \"+/-\" (in the middle of the question) is key. Find nodes that attend to the question operation."
      ]
    },
    {
      "cell_type": "code",
      "execution_count": null,
      "metadata": {
        "id": "2XjAoHFCaQ0l"
      },
      "outputs": [],
      "source": [
        "def mix_op_tag(impact_digit):\n",
        "  return \"An.\" + qt.MathsAlgorithm.MIX_OP_TAG.value # Doesnt depend on impact_digit"
      ]
    },
    {
      "cell_type": "code",
      "execution_count": null,
      "metadata": {
        "id": "6totKsJ2hjYa"
      },
      "outputs": [],
      "source": [
        "def mix_op_prereqs(position, impact_digit):\n",
        "  return qt.FilterAnd(\n",
        "    qt.FilterHead(),\n",
        "    qt.FilterPosition(qt.position_name(position)),\n",
        "    qt.FilterAttention(cfg.op_position_name()))"
      ]
    },
    {
      "cell_type": "code",
      "execution_count": null,
      "metadata": {
        "id": "d0s2ZTMLimIR"
      },
      "outputs": [],
      "source": [
        "#cfg.useful_nodes.reset_node_tags(QType.ALGO)\n",
        "#acfg.show_test_failures = True\n",
        "qt.search_and_tag( cfg, acfg, mix_op_prereqs, succeed_test, mix_op_tag, False, False )"
      ]
    },
    {
      "cell_type": "markdown",
      "metadata": {
        "id": "ztfj5n8FjYNt"
      },
      "source": [
        "# Part 22J: Automated SG search\n",
        "\n",
        "For mixed models that do addition and subtraction, and for our subtraction models, the answer sign token \"+/-\" (at the start of the answer) is important. Find nodes that attend to the answer sign token."
      ]
    },
    {
      "cell_type": "code",
      "execution_count": null,
      "metadata": {
        "id": "3TYyojV8j1TQ"
      },
      "outputs": [],
      "source": [
        "def mix_sg_tag(impact_digit):\n",
        "  return \"An.\" + qt.MathsAlgorithm.MIX_SG_TAG.value # Doesnt depend on impact_digit"
      ]
    },
    {
      "cell_type": "code",
      "execution_count": null,
      "metadata": {
        "id": "OWl-vuYSj6Ff"
      },
      "outputs": [],
      "source": [
        "def mix_sg_prereqs(position, impact_digit):\n",
        "  return qt.FilterAnd(\n",
        "    qt.FilterHead(),\n",
        "    qt.FilterPosition(qt.position_name(position)),\n",
        "    qt.FilterAttention(cfg.an_to_position_name(cfg.n_digits+1)))"
      ]
    },
    {
      "cell_type": "code",
      "execution_count": null,
      "metadata": {
        "id": "8smeZ3vBkIQ3"
      },
      "outputs": [],
      "source": [
        "#cfg.useful_nodes.reset_node_tags(QType.ALGO)\n",
        "#acfg.show_test_failures = True\n",
        "qt.search_and_tag( cfg, acfg, mix_sg_prereqs, succeed_test, mix_sg_tag, False, False )"
      ]
    },
    {
      "cell_type": "markdown",
      "metadata": {
        "id": "uQLfkdlbVAl_"
      },
      "source": [
        "# Part 23A: Show algorithm quanta map\n",
        "\n",
        "Plot the \"algorithm\" tags generated in previous steps as a quanta map. This is an automatically generated partial explanation of the model algorithm.\n",
        "\n",
        "Nodes with multiple tags were tagged (found) by more than one of the above task searches"
      ]
    },
    {
      "cell_type": "code",
      "execution_count": null,
      "metadata": {
        "id": "l9VDbjTAVGrP"
      },
      "outputs": [],
      "source": [
        "num_results = show_quanta_map( \"Algorithm Purpose Per Node\", False, 2, None, qt.QType.ALGO, \"\", qt.get_quanta_binary, 9)\n",
        "\n",
        "print( num_results, \"of\", len(cfg.useful_nodes.nodes), \"useful nodes have an algorithm purpose assigned.\")"
      ]
    },
    {
      "cell_type": "markdown",
      "source": [
        "# Part 23B: Show known quanta per answer digit\n",
        "\n",
        "Each of the late positions are soley focused on calculating one answer digit. Show the data have we collected on late answer digit.  \n",
        "\n"
      ],
      "metadata": {
        "id": "5_m3qiWYrjRJ"
      }
    },
    {
      "cell_type": "code",
      "source": [
        "for position in range(cfg.num_question_positions + 1, cfg.n_ctx() - 1):\n",
        "  print(\"Position:\", position)\n",
        "\n",
        "  # Calculate a table of the known quanta for the specified position for each late token position\n",
        "  qt.calc_maths_quanta_for_position_nodes(cfg, position)\n",
        "\n",
        "  save_plt_to_file(\"Quanta At \"+ qt.position_name(position))\n",
        "\n",
        "  plt.show()"
      ],
      "metadata": {
        "id": "IT8zKdHz1-fZ"
      },
      "execution_count": null,
      "outputs": []
    },
    {
      "cell_type": "markdown",
      "metadata": {
        "id": "LQhheXmLTUfc"
      },
      "source": [
        "# Part 24: Save useful nodes with behaviour and algorithm tags to JSON file\n",
        "\n",
        "Show a list of the nodes that have proved useful in calculations, together with data on the nodes behavior and algorithmic purposes.\n",
        "Save the data to a Colab temporary JSON file.\n",
        "\n"
      ]
    },
    {
      "cell_type": "code",
      "execution_count": null,
      "metadata": {
        "id": "TRW6tiM8hDOB"
      },
      "outputs": [],
      "source": [
        "cfg.useful_nodes.print_node_tags(qt.QType.ALGO.value, \"\", False)"
      ]
    },
    {
      "cell_type": "code",
      "execution_count": null,
      "metadata": {
        "id": "_ktlEftAOyEd"
      },
      "outputs": [],
      "source": [
        "# Serialize and save the useful nodes list with algorithm tags to a temporary CoLab file in JSON format\n",
        "print( \"Saving useful node list with algorithm tags:\", main_fname_algorithm_json)\n",
        "cfg.useful_nodes.save_nodes(main_fname_algorithm_json)"
      ]
    },
    {
      "cell_type": "code",
      "source": [
        "mixed_model = cfg.model_name == \"ins1_mix_d6_l3_h4_t40K\" or cfg.model_name == \"ins2_mix_d6_l4_h4_t40K\" or cfg.model_name == \"ins3_mix_d6_l4_h3_t40K\""
      ],
      "metadata": {
        "id": "QbvzBDwPvoHw"
      },
      "execution_count": null,
      "outputs": []
    },
    {
      "cell_type": "markdown",
      "metadata": {
        "id": "D74GWTY3aKhm"
      },
      "source": [
        "# Part 25 : Results: Test Algorithm - Addition"
      ]
    },
    {
      "cell_type": "markdown",
      "source": [
        "## Part25A : Model add_d5_l1_h3_t30K. Tasks An.BA, An.MC, An.US\n",
        "\n",
        "This 1-layer model cant do all addition questions. This hypothesis mirrors Paper 1. 14/15 heads have purpose assigned. 0/6 neurons have purpose assigned."
      ],
      "metadata": {
        "id": "IxGMji2snxax"
      }
    },
    {
      "cell_type": "code",
      "source": [
        "# For answer digits (excluding Amax), a An.BA node is needed before the answer digit is revealed\n",
        "def test_algo_ba(algo_nodes):\n",
        "  for impact_digit in range(cfg.n_digits):\n",
        "    cfg.test_algo_clause(algo_nodes, qt.FilterAnd(qt.FilterAlgo(add_ba_tag(impact_digit)), qt.FilterPosition(cfg.an_to_position_name(impact_digit+1), qt.QCondition.MUST_BY)))\n",
        "\n",
        "# For answer digits (excluding Amax and A0), a An.MC node is needed before the answer digit is revealed\n",
        "def test_algo_mc(algo_nodes):\n",
        "  for impact_digit in range(cfg.n_digits):\n",
        "    if impact_digit > 0:\n",
        "      cfg.test_algo_clause(algo_nodes, qt.FilterAnd(qt.FilterAlgo(add_mc_tag(impact_digit)), qt.FilterPosition(cfg.an_to_position_name(impact_digit+1), qt.QCondition.MUST_BY)))\n",
        "\n",
        "# For answer digits (excluding Amax, A1 and A0), a An.US node is needed before the answer digit is revealed\n",
        "def test_algo_us(algo_nodes):\n",
        "  for impact_digit in range(cfg.n_digits):\n",
        "    if impact_digit > 1:\n",
        "      cfg.test_algo_clause(algo_nodes, qt.FilterAnd(qt.FilterAlgo(add_us_tag(impact_digit)), qt.FilterPosition(cfg.an_to_position_name(impact_digit+1), qt.QCondition.MUST_BY)))"
      ],
      "metadata": {
        "id": "OYHKHxh-pHUd"
      },
      "execution_count": null,
      "outputs": []
    },
    {
      "cell_type": "code",
      "source": [
        "if cfg.model_name == \"add_d5_l1_h3_t30K\":\n",
        "\n",
        "  algo_nodes = cfg.start_algorithm_test(acfg)\n",
        "\n",
        "  test_algo_ba(algo_nodes)\n",
        "  test_algo_mc(algo_nodes)\n",
        "  test_algo_us(algo_nodes)\n",
        "  cfg.print_algo_clause_results()\n",
        "\n",
        "  cfg.print_algo_purpose_results(algo_nodes)"
      ],
      "metadata": {
        "id": "MC4oY_HNn5_L"
      },
      "execution_count": null,
      "outputs": []
    },
    {
      "cell_type": "markdown",
      "source": [
        "## Part25B : Models add_d5/d6_l2_h3_t15K. Tasks An.BA, An.MC, An.US, Dn.C\n",
        "\n",
        "These 2-layer models can do addition accurately. This hypothesis mirrors Paper 2."
      ],
      "metadata": {
        "id": "dZk-BAE2n5kZ"
      }
    },
    {
      "cell_type": "code",
      "source": [
        "# Before Amax is revealed (as a 0 or 1), there must be a Dn.C node for every digit pair\n",
        "# For each digit (except A0) there must be either an An.US or an Dn.C\n",
        "def test_algo_tc_or_us(model_nodes):\n",
        "  for impact_digit in range(cfg.n_digits):\n",
        "    early_dnc = qt.FilterAnd(qt.FilterAlgo(add_tc_tag(impact_digit)), qt.FilterPosition(cfg.an_to_position_name(cfg.n_digits+1), qt.QCondition.MUST_BY))\n",
        "    late_dnc = qt.FilterAnd(qt.FilterAlgo(add_tc_tag(impact_digit)), qt.FilterPosition(cfg.an_to_position_name(impact_digit+1), qt.QCondition.MUST_BY))\n",
        "    any_dnus = qt.FilterAnd(qt.FilterAlgo(add_us_tag(impact_digit)), qt.FilterPosition(cfg.an_to_position_name(impact_digit+1), qt.QCondition.MUST_BY))\n",
        "\n",
        "    if cfg.n_layers == 1:\n",
        "      # There must be a Dn.US node for every answer digit except A0\n",
        "      if impact_digit > 0:\n",
        "        cfg.test_algo_clause(model_nodes, any_dnus)\n",
        "    else:\n",
        "      # There must be a Dn.US node or a Dn.C node for every digit except A0\n",
        "      if impact_digit > 0:\n",
        "        cfg.test_algo_clause(model_nodes, qt.FilterOr(any_dnus, late_dnc))\n",
        "\n",
        "      # There must a Dn.C node for every digit before the first 1 or 0 digit is calculated\n",
        "      cfg.test_algo_clause(model_nodes, early_dnc)"
      ],
      "metadata": {
        "id": "SsmPe8rNzzvy"
      },
      "execution_count": null,
      "outputs": []
    },
    {
      "cell_type": "code",
      "execution_count": null,
      "metadata": {
        "id": "1cmjOymxluQe"
      },
      "outputs": [],
      "source": [
        "if cfg.model_name == \"add_d5_l2_h3_t15K\" or cfg.model_name == \"add_d6_l2_h3_t15K\":\n",
        "\n",
        "  algo_nodes = cfg.start_algorithm_test(acfg)\n",
        "\n",
        "  test_algo_ba(algo_nodes)\n",
        "  test_algo_mc(algo_nodes)\n",
        "  test_algo_tc_or_us(algo_nodes)\n",
        "  cfg.print_algo_clause_results()\n",
        "\n",
        "  cfg.print_algo_purpose_results(algo_nodes)"
      ]
    },
    {
      "cell_type": "markdown",
      "source": [
        "# Part 26: Results: Test Algorithm - Subtraction"
      ],
      "metadata": {
        "id": "PQxhIPzs5K6u"
      }
    },
    {
      "cell_type": "markdown",
      "source": [
        "## Part 26A : Model sub_d6_l2_h3_t30K. Tasks BS, BO, SZ\n",
        "\n",
        "This 2-layer model can do subtraction accurately. TBC"
      ],
      "metadata": {
        "id": "ig0eUEDN5XmG"
      }
    },
    {
      "cell_type": "code",
      "source": [
        "# For answer digits (excluding Amax), An.BS and An.BO nodes are needed before the answer digit is revealed\n",
        "def test_algo_bs_bo(algo_nodes):\n",
        "  for impact_digit in range(cfg.n_digits):\n",
        "    cfg.test_algo_clause(algo_nodes, qt.FilterAnd(qt.FilterAlgo(sub_bs_tag(impact_digit)), qt.FilterPosition(cfg.an_to_position_name(impact_digit+1), qt.QCondition.MUST_BY)))\n",
        "\n",
        "    cfg.test_algo_clause(algo_nodes, qt.FilterAnd(qt.FilterAlgo(sub_bo_tag(impact_digit)), qt.FilterPosition(cfg.an_to_position_name(impact_digit+1), qt.QCondition.MUST_BY)))\n",
        "\n",
        "\n",
        "# For answer digits (excluding Amax), An.SZ nodes are needed before the answer digit is revealed\n",
        "def test_algo_sz(algo_nodes):\n",
        "  for impact_digit in range(cfg.n_digits):\n",
        "      pass\n",
        "      #cfg.test_algo_clause(algo_nodes, qt.FilterAnd(qt.FilterAlgo(sub_sz_tag(impact_digit)), qt.FilterPosition(cfg.an_to_position_name(impact_digit+1), qt.QCondition.MUST_BY)))"
      ],
      "metadata": {
        "id": "_51OgGF3QURv"
      },
      "execution_count": null,
      "outputs": []
    },
    {
      "cell_type": "code",
      "source": [
        "if cfg.model_name == \"sub_d6_l2_h3_t30K\":\n",
        "\n",
        "  algo_nodes = cfg.start_algorithm_test(acfg)\n",
        "\n",
        "  test_algo_bs_bo(algo_nodes)\n",
        "  test_algo_sz(algo_nodes)\n",
        "  cfg.print_algo_clause_results()\n",
        "\n",
        "  cfg.print_algo_purpose_results(algo_nodes)"
      ],
      "metadata": {
        "id": "Axer3RNi6RSG"
      },
      "execution_count": null,
      "outputs": []
    },
    {
      "cell_type": "markdown",
      "source": [
        "## Part 26B: Test Algorithm - Subtraction - Negative Answer\n",
        "\n",
        "We claim the model converts subtraction questions D - D' to the mathematically equivalent - ( D' - D ) when D' > D. To do this the model needs to know when D' > D (or equivalently when D' > D).\n",
        "\n",
        "To calculate D'>D, model needs to calculate D'6>D6 else D'5>D5 else D'4>D4 else D'3>D3 else D'2>D2 else D'1>D1 else D'1>D1. We expect to see nodes only used in NG questions, with PCA bigram (or trigram) outputs, attending to these input pairs, evaluated in this order."
      ],
      "metadata": {
        "id": "2aero_LUu3RX"
      }
    },
    {
      "cell_type": "code",
      "source": [
        "# For answer digits (excluding Amax), An.NG is needed before the answer digit is revealed\n",
        "def test_algo_ng(algo_nodes):\n",
        "  ng_locations = {}\n",
        "\n",
        "  for impact_digit in range(cfg.n_digits):\n",
        "    # For answer digits (excluding the +/- sign and 0 or 1 Amax), An.NG is calculated before the answer digit is revealed\n",
        "    position = cfg.test_algo_clause(algo_nodes, qt.FilterAnd(qt.FilterAlgo(sub_ng_tag(impact_digit)), qt.FilterPosition(cfg.an_to_position_name(impact_digit), qt.QCondition.MUST_BY)))\n",
        "    ng_locations[impact_digit] = position\n",
        "\n",
        "  # Check that ng_locations[6] < ng_locations[5] < ng_locations[4] < etc\n",
        "  for impact_digit in range(cfg.n_digits):\n",
        "    if impact_digit > 0:\n",
        "      cfg.test_algo_logic(\"NG Ordering for A\" + str(impact_digit), ng_locations[impact_digit] < ng_locations[impact_digit-1])"
      ],
      "metadata": {
        "id": "KMth-ecxu6NF"
      },
      "execution_count": null,
      "outputs": []
    },
    {
      "cell_type": "code",
      "source": [
        "if cfg.model_name == \"sub_d6_l2_h3_t30K\":\n",
        "\n",
        "  algo_nodes = cfg.start_algorithm_test(acfg)\n",
        "\n",
        "  test_algo_ng(algo_nodes)\n",
        "  cfg.print_algo_clause_results()\n",
        "\n",
        "  cfg.print_algo_purpose_results(algo_nodes)"
      ],
      "metadata": {
        "id": "_yrAg4sQu9g4"
      },
      "execution_count": null,
      "outputs": []
    },
    {
      "cell_type": "markdown",
      "source": [
        "# Part 27: Test Algorithm - Mixed Addition and Subtraction model\n",
        "\n",
        "What algorithm do mixed models use to perform both addition and subtraction? Our working hypothesis is in https://github.com/PhilipQuirke/verified_transformers/blob/main/mixed_readme.md\n",
        "\n",
        "\n",
        "\n"
      ],
      "metadata": {
        "id": "iCkA6qYCq4iS"
      }
    },
    {
      "cell_type": "markdown",
      "source": [
        "## Consider position A3 calculating answer digit A2\n",
        "\n",
        "The below graph uses the same (behavior and algorithm) data as the quanta maps. Notes:\n",
        "- Some attention heads are used in both Add and Sub (e.g. to do BA or BS, MC or BO).\n",
        "- Two attention heads are specific to Add (e.g. P18L1H2, P18L1H3).\n",
        "- Four attention heads are specific to Sub (e.g. P18L0H3, P18L1H0, P18L1H1, P18L2H0).\n",
        "  - One attention heads P18L2H0 is only used in NG questions.  \n",
        "- One attention heads (P18L0H3) attend to the Op (+/-) token.\n",
        "- Four attention heads attend to the = token, which is when the sign (A7 being + or -) is calculated.\n",
        "- Three nodes attend to the A7 token, which is when the A6 (0 or 1) answer digit is calculated.\n",
        "    \n"
      ],
      "metadata": {
        "id": "bFvLmWLf2JA3"
      }
    },
    {
      "cell_type": "code",
      "source": [
        "qt.calc_maths_quanta_for_position_nodes(cfg, 18)\n",
        "plt.show()"
      ],
      "metadata": {
        "id": "a1TQpYbs2JcZ"
      },
      "execution_count": null,
      "outputs": []
    },
    {
      "cell_type": "markdown",
      "source": [
        "## Part 27.H3 Calculate whether D > D' (using NG tasks)"
      ],
      "metadata": {
        "id": "kgasUyOYMG9E"
      }
    },
    {
      "cell_type": "code",
      "source": [
        "# Only display nodes with the SUB_NG_TAG tag.\n",
        "filters = qt.FilterContains(qt.QType.MATH_SUB, qt.MathsBehavior.SUB_NG_TAG.value)\n",
        "\n",
        "print(\"NG tagged nodes:\", qt.filter_nodes( cfg.useful_nodes, filters ).get_node_names())\n",
        "\n",
        "show_quanta_map( \"Subtraction Behavior NG Nodes\", False, 2, filters, qt.QType.MATH_SUB, \"\", qt.get_maths_min_complexity)\n",
        "show_quanta_map( \"Attention Behavior Per NG Head\", True, 10, filters, qt.QType.ATTN, \"\", qt.get_quanta_attention, 10, 6)\n",
        "show_quanta_map( \"Algorithm Purpose Per NG Node\", False, 2, filters, qt.QType.ALGO, \"\", qt.get_quanta_binary, 9, 10)"
      ],
      "metadata": {
        "id": "ClNYGvE6Q5T8"
      },
      "execution_count": null,
      "outputs": []
    },
    {
      "cell_type": "code",
      "source": [
        "if mixed_model:\n",
        "  algo_nodes = cfg.start_algorithm_test(acfg)\n",
        "\n",
        "  test_algo_ng(algo_nodes)\n",
        "  cfg.print_algo_clause_results()\n",
        "\n",
        "  cfg.print_algo_purpose_results(algo_nodes)"
      ],
      "metadata": {
        "id": "2mC4guryMA2k"
      },
      "execution_count": null,
      "outputs": []
    },
    {
      "cell_type": "markdown",
      "metadata": {
        "id": "6vxyIj1FP2Hq"
      },
      "source": [
        "# Part 30: Unit Test automated searches"
      ]
    },
    {
      "cell_type": "code",
      "execution_count": null,
      "metadata": {
        "id": "f6g2-mZ5UeJZ"
      },
      "outputs": [],
      "source": [
        "def unit_test_node_tag(node_location_as_str, the_tags ):\n",
        "  node_location = qt.str_to_node_location(node_location_as_str)\n",
        "  node = cfg.useful_nodes.get_node(node_location)\n",
        "  assert node is not None\n",
        "\n",
        "  for the_tag in the_tags:\n",
        "    if not node.contains_tag( qt.QType.ALGO, the_tag):\n",
        "      print( \"Unit test failure: Node\", node.name(), \"does not have expected tag\", the_tag)"
      ]
    },
    {
      "cell_type": "code",
      "execution_count": null,
      "metadata": {
        "id": "Vr5SN-tuP1yO"
      },
      "outputs": [],
      "source": [
        "print(cfg.model_name)\n",
        "\n",
        "if cfg.model_name == 'add_d6_l2_h3_t15K':\n",
        "  unit_test_node_tag('P11L0H0', ['D2.TC'] )\n",
        "  unit_test_node_tag('P12L0H0', ['D3.TC'] )\n",
        "  unit_test_node_tag('P14L0H0', ['A5.US', 'D4.TC'] )\n",
        "  unit_test_node_tag('P14L0H2', ['A5.MC', 'D5.TC'] )\n",
        "  unit_test_node_tag('P14L1H1', ['OP'] )\n",
        "  unit_test_node_tag('P15L0H0', ['A4.MC'] )\n",
        "  unit_test_node_tag('P15L0H1', ['A5.BA'] )\n",
        "  unit_test_node_tag('P15L0H2', ['A5.BA'] )\n",
        "  unit_test_node_tag('P16L0H0', ['A3.MC'] )\n",
        "  unit_test_node_tag('P16L0H1', ['A4.BA'] )\n",
        "  unit_test_node_tag('P16L0H2', ['A4.BA'] )\n",
        "  unit_test_node_tag('P17L0H0', ['A2.MC'] )\n",
        "  unit_test_node_tag('P17L0H1', ['A3.BA'] )\n",
        "  unit_test_node_tag('P17L0H2', ['A3.BA'] )\n",
        "  unit_test_node_tag('P18L0H0', ['A1.MC'] )\n",
        "  unit_test_node_tag('P18L0H1', ['A2.BA'] )\n",
        "  unit_test_node_tag('P18L0H2', ['A2.BA'] )\n",
        "  unit_test_node_tag('P19L0H0', ['A0.MC'] )\n",
        "  unit_test_node_tag('P19L0H1', ['A1.BA'] )\n",
        "  unit_test_node_tag('P19L0H2', ['A1.BA'] )\n",
        "  unit_test_node_tag('P20L0H1', ['A0.BA'] )\n",
        "  unit_test_node_tag('P20L0H2', ['A0.BA'] )\n",
        "\n",
        "if cfg.model_name == 'mix_d6_l3_h4_t40K':\n",
        "  unit_test_node_tag('P8L0H1', ['OP'] )\n",
        "  unit_test_node_tag('P13L2H0', ['A7.NG'] )\n",
        "  unit_test_node_tag('P15L0H0', ['A5.BA', 'A5.BS'] )\n",
        "  unit_test_node_tag('P15L0H3', ['A5.BA', 'A5.BS'] )\n",
        "  unit_test_node_tag('P16L0H3', ['A4.BA.A4', 'A4.BS.A4'] )\n",
        "  unit_test_node_tag('P17L0H1', ['A3.NG'] )\n",
        "  unit_test_node_tag('P17L0H3', ['A3.BA.A3', 'A3.BS.A3'] )\n",
        "  unit_test_node_tag('P18L0H1', ['A2.NG'] )\n",
        "  unit_test_node_tag('P18L0H3', ['A2.BA.A2', 'A2.BS.A2'] )\n",
        "  unit_test_node_tag('P19L0H1', ['A1.NG'] )\n",
        "  unit_test_node_tag('P19L0H3', ['A1.BA.A1', 'A1.BS.A1'] )\n",
        "  unit_test_node_tag('P20L0H0', ['A0.BA', 'A0.BS'] )\n",
        "  unit_test_node_tag('P20L0H3', ['A0.BA', 'A0.BS'] )\n",
        "  unit_test_node_tag('P20L2H1', ['A0.NG'] )\n",
        "\n",
        "if cfg.model_name == 'ins1_mix_d6_l3_h4_t40K':\n",
        "  unit_test_node_tag('P9L0H1', ['D4.TC'] )\n",
        "  unit_test_node_tag('P9L0H3', ['A5.NG', 'OP'] )\n",
        "  unit_test_node_tag('P10L0H1', ['D2.TC'] )\n",
        "  unit_test_node_tag('P12L0H1', ['D3.TC'] )\n",
        "  unit_test_node_tag('P13L2H0', ['A7.NG'] )\n",
        "  unit_test_node_tag('P14L0H0', ['A5.US', 'A6.NG'] )\n",
        "  unit_test_node_tag('P14L0H2', ['A5.MC', 'D5.TC'] )\n",
        "  unit_test_node_tag('P15L0H0', ['A4.MC'] )\n",
        "  unit_test_node_tag('P15L0H1', ['A5.BA', 'A5.BS'] )\n",
        "  unit_test_node_tag('P15L0H2', ['A5.BA', 'A5.BS'] )\n",
        "  unit_test_node_tag('P16L0H0', ['A3.MC'] )\n",
        "  unit_test_node_tag('P16L0H1', ['A4.BA', 'A4.BS'] )\n",
        "  unit_test_node_tag('P16L0H2', ['A4.BA', 'A4.BS'] )\n",
        "  unit_test_node_tag('P16L2H0', ['A4.NG'] )\n",
        "  unit_test_node_tag('P17L0H0', ['A2.MC'] )\n",
        "  unit_test_node_tag('P17L0H1', ['A3.BA', 'A3.BS'] )\n",
        "  unit_test_node_tag('P17L0H2', ['A3.BA', 'A3.BS'] )\n",
        "  unit_test_node_tag('P17L2H0', ['A3.NG'] )\n",
        "  unit_test_node_tag('P18L0H0', ['A1.MC'] )\n",
        "  unit_test_node_tag('P18L0H1', ['A2.BA', 'A2.BS'] )\n",
        "  unit_test_node_tag('P18L0H2', ['A2.BA', 'A2.BS'] )\n",
        "  unit_test_node_tag('P18L2H0', ['A2.NG'] )\n",
        "  unit_test_node_tag('P19L0H0', ['A0.MC'] )\n",
        "  unit_test_node_tag('P19L0H1', ['A1.BA', 'A1.BS'] )\n",
        "  unit_test_node_tag('P19L0H2', ['A1.BA', 'A1.BS'] )\n",
        "  unit_test_node_tag('P19L2H0', ['A1.NG'] )\n",
        "  unit_test_node_tag('P20L0H0', ['A0.NG'] )\n",
        "  unit_test_node_tag('P20L0H1', ['A0.BA', 'A0.BS'] )\n",
        "  unit_test_node_tag('P20L0H2', ['A0.BA', 'A0.BS'] )"
      ]
    }
  ],
  "metadata": {
    "accelerator": "GPU",
    "colab": {
      "collapsed_sections": [
        "uG2gZSoSJD5C",
        "pTd3nmsMJV5T",
        "F_IIpX2H2tNe",
        "P8RfHXneJw6n",
        "tz6rUaYvjOcE",
        "ZHiJhch4KCej",
        "-KJhCxFtNKfm",
        "2PjaQvhhayUL",
        "nXBYdxj-jLZc",
        "904WBkTOLg_5",
        "Rbiau9foMp3h",
        "jIu3Pr9CMx3l",
        "jFcCpfmKwlAH",
        "bL9HjPDwSrwD",
        "Z5DMV3I_25ST",
        "ThzFD1FxBXg8",
        "3jOBIUDzRrGz",
        "nVyItdhmhIn8",
        "sJo37Qg2ZQpJ",
        "Agw7np7gZmgP",
        "ztfj5n8FjYNt",
        "dZk-BAE2n5kZ",
        "ig0eUEDN5XmG",
        "2aero_LUu3RX"
      ],
      "gpuType": "T4",
      "provenance": []
    },
    "kernelspec": {
      "display_name": "Python 3",
      "name": "python3"
    },
    "language_info": {
      "name": "python"
    }
  },
  "nbformat": 4,
  "nbformat_minor": 0
}